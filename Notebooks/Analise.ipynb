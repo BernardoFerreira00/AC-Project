{
 "cells": [
  {
   "cell_type": "markdown",
   "id": "36e94a22",
   "metadata": {},
   "source": [
    "# Import Data"
   ]
  },
  {
   "cell_type": "code",
   "execution_count": 47,
   "id": "44c3730b",
   "metadata": {},
   "outputs": [],
   "source": [
    "import pandas as pd\n",
    "from sklearn import tree\n",
    "from sklearn.tree import DecisionTreeClassifier\n",
    "from sklearn.ensemble import RandomForestClassifier \n",
    "from sklearn.linear_model import LogisticRegression\n",
    "from sklearn.model_selection import train_test_split, StratifiedKFold\n",
    "from sklearn import metrics\n",
    "import matplotlib.pyplot as plt\n",
    "import sys\n",
    "from sqlalchemy import create_engine\n",
    "from sklearn.metrics import confusion_matrix\n",
    "import matplotlib.pyplot as plt\n",
    "\n",
    "\n",
    "train_df = pd.read_csv('../Notebooks/kaggle/training_data.csv')\n",
    "test_df = pd.read_csv('../Notebooks/kaggle/testing_data.csv')"
   ]
  },
  {
   "cell_type": "markdown",
   "id": "4889b501",
   "metadata": {},
   "source": [
    "# Split Data"
   ]
  },
  {
   "cell_type": "code",
   "execution_count": 48,
   "id": "682d9c68",
   "metadata": {},
   "outputs": [],
   "source": [
    "\n",
    "def split_data(X, y, test_size):\n",
    "    \n",
    "    return train_test_split(X, y, test_size=0.3, random_state=42, shuffle=False)"
   ]
  },
  {
   "cell_type": "markdown",
   "id": "febdb626",
   "metadata": {},
   "source": [
    "# Fit and Predict"
   ]
  },
  {
   "cell_type": "code",
   "execution_count": 49,
   "id": "1181e28e",
   "metadata": {},
   "outputs": [],
   "source": [
    "def fit_and_predict(model, X_train, y_train, X_test):\n",
    "    model = model.fit(X_train, y_train)\n",
    "    prediction = model.predict(X_test)\n",
    "\n",
    "    return prediction"
   ]
  },
  {
   "cell_type": "markdown",
   "id": "da86368f",
   "metadata": {},
   "source": [
    "# Calculate Statistics"
   ]
  },
  {
   "cell_type": "code",
   "execution_count": 50,
   "id": "77b26a87",
   "metadata": {},
   "outputs": [],
   "source": [
    "def calculate_statistics(y_test, pred):\n",
    "    acurancy = metrics.accuracy_score(y_test, pred)\n",
    "    precision = metrics.precision_score(y_test, pred)\n",
    "    recall = metrics.recall_score(y_test, pred)\n",
    "    f1_score1 = metrics.f1_score(y_test, pred)\n",
    "    aoc = metrics.roc_auc_score(y_test, pred)\n",
    "    log_loss = metrics.log_loss(y_test, pred)\n",
    "    \n",
    "    print(f\"Acurancy: {acurancy}\")\n",
    "    print(f\"Precision: {precision}\")\n",
    "    print(f\"Recall: {recall}\")\n",
    "    print(f\"F1 Score: {f1_score1}\")\n",
    "    print(f\"AOC: {aoc}\")\n",
    "    print(f\"Log Loss: {log_loss}\")"
   ]
  },
  {
   "cell_type": "markdown",
   "id": "06753f35",
   "metadata": {},
   "source": [
    "# Confusion Matrix"
   ]
  },
  {
   "cell_type": "code",
   "execution_count": 51,
   "id": "306d6989",
   "metadata": {},
   "outputs": [],
   "source": [
    "def display_conf_matrix_graph(y_test, pred):\n",
    "    conf_matrix = confusion_matrix(y_test, pred)\n",
    "    \n",
    "    cm_display = metrics.ConfusionMatrixDisplay(confusion_matrix = conf_matrix, display_labels = [\"Not Paid\", \"Paid\"])\n",
    "    cm_display.plot()"
   ]
  },
  {
   "cell_type": "markdown",
   "id": "fcc49785",
   "metadata": {},
   "source": [
    "# Decision Tree"
   ]
  },
  {
   "cell_type": "code",
   "execution_count": 52,
   "id": "4e001312",
   "metadata": {},
   "outputs": [],
   "source": [
    "features = [x for x in train_df.columns if x not in ['loan_status']]\n",
    "X = train_df[features]\n",
    "y = train_df['loan_status']\n",
    "\n",
    "X_train, X_test, y_train, y_test = split_data(X, y, 0.3)\n",
    "\n",
    "dTree = DecisionTreeClassifier()\n",
    "dTree_pred = fit_and_predict(dTree, X_train, y_train, X_test)\n",
    "\n",
    "calculate_statistics(y_test, dTree_pred)\n",
    "display_conf_matrix_graph(y_test, dTree_pred)"
   ]
  },
  {
   "cell_type": "markdown",
   "id": "ab35e63c",
   "metadata": {},
   "source": []
  },
  {
   "cell_type": "markdown",
   "id": "8550f7b7",
   "metadata": {},
   "source": [
    "# Aplication of a model (Decision Tree)"
   ]
  },
  {
   "cell_type": "code",
   "execution_count": 53,
   "id": "fb7da822",
   "metadata": {},
   "outputs": [],
   "source": [
    "from sklearn.ensemble import RandomForestClassifier \n",
    "from sklearn.model_selection import train_test_split\n",
    "\n",
    "import pandas as pd\n",
    "import numpy as np\n",
    "\n",
    "def random_forest():\n",
    "    #train_df = pd.read_csv('../Notebooks/kaggle/final_data.csv')\n",
    "    #test_df = pd.read_csv('../Notebooks/kaggle/final_data_kaggle.csv')\n",
    "    #train_df.drop(columns=['loan_date','client_birth_number','client_gender','account_date','account_frequency','region'], inplace=True)\n",
    "    #test_df.drop(columns=['loan_date','client_birth_number','client_gender','account_date','account_frequency','region'], inplace=True)\n",
    "    \n",
    "    #nan_rows = test_df[test_df.isnull().T.any()]\n",
    "    features = [x for x in train_df.columns if x != 'loan_status']\n",
    "    dev_X = train_df[features]\n",
    "    dev_Y = train_df['loan_status']\n",
    "\n",
    "    comp_X = test_df[features]\n",
    "    loan_ids = test_df[['loan_id']]\n",
    "\n",
    "    X_train,X_test,y_train,y_test=train_test_split(dev_X,dev_Y,test_size=0.2,random_state=100)\n",
    "\n",
    "    #clf=RandomForestClassifier(n_estimators=100)\n",
    "\n",
    "    clf = LogisticRegression()\n",
    "\n",
    "    #clf = DecisionTreeClassifier()\n",
    "\n",
    "    clf.fit(X_train,y_train)\n",
    "\n",
    "    calculate_statistics(y_test, clf.predict(X_test))\n",
    "\n",
    "    test_predict_probs = pd.DataFrame(clf.predict_proba(comp_X))\n",
    "    loan_ids = loan_ids.assign(Predicted=test_predict_probs[0])\n",
    "    loan_ids = loan_ids.rename(columns={'loan_id': 'Id'})\n",
    "    #print(loan_ids)\n",
    "    loan_ids.to_csv('results.csv', columns=['Id', 'Predicted'], index=False)\n",
    "#random_forest()"
   ]
  },
  {
   "cell_type": "code",
   "execution_count": null,
   "id": "00f054dd",
   "metadata": {},
   "outputs": [],
   "source": []
  }
 ],
 "metadata": {
  "kernelspec": {
   "display_name": "Python 3.10.8 64-bit (microsoft store)",
   "language": "python",
   "name": "python3"
  },
  "language_info": {
   "codemirror_mode": {
    "name": "ipython",
    "version": 3
   },
   "file_extension": ".py",
   "mimetype": "text/x-python",
   "name": "python",
   "nbconvert_exporter": "python",
   "pygments_lexer": "ipython3",
   "version": "3.10.8"
  },
  "vscode": {
   "interpreter": {
    "hash": "531f7760fc3fb2af9a7ee52cdb146e778872e2da5b0dba11fe47a024b8426de3"
   }
  }
 },
 "nbformat": 4,
 "nbformat_minor": 5
}
