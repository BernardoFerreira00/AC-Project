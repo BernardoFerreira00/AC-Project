{
 "cells": [
  {
   "cell_type": "markdown",
   "metadata": {},
   "source": [
    "## Data client understanding"
   ]
  },
  {
   "cell_type": "code",
   "execution_count": 1,
   "metadata": {},
   "outputs": [
    {
     "data": {
      "text/html": [
       "<div>\n",
       "<style scoped>\n",
       "    .dataframe tbody tr th:only-of-type {\n",
       "        vertical-align: middle;\n",
       "    }\n",
       "\n",
       "    .dataframe tbody tr th {\n",
       "        vertical-align: top;\n",
       "    }\n",
       "\n",
       "    .dataframe thead th {\n",
       "        text-align: right;\n",
       "    }\n",
       "</style>\n",
       "<table border=\"1\" class=\"dataframe\">\n",
       "  <thead>\n",
       "    <tr style=\"text-align: right;\">\n",
       "      <th></th>\n",
       "      <th>client_id</th>\n",
       "      <th>birth_number</th>\n",
       "      <th>district_id</th>\n",
       "    </tr>\n",
       "  </thead>\n",
       "  <tbody>\n",
       "    <tr>\n",
       "      <th>0</th>\n",
       "      <td>1</td>\n",
       "      <td>706213</td>\n",
       "      <td>18</td>\n",
       "    </tr>\n",
       "    <tr>\n",
       "      <th>1</th>\n",
       "      <td>2</td>\n",
       "      <td>450204</td>\n",
       "      <td>1</td>\n",
       "    </tr>\n",
       "    <tr>\n",
       "      <th>2</th>\n",
       "      <td>3</td>\n",
       "      <td>406009</td>\n",
       "      <td>1</td>\n",
       "    </tr>\n",
       "    <tr>\n",
       "      <th>3</th>\n",
       "      <td>4</td>\n",
       "      <td>561201</td>\n",
       "      <td>5</td>\n",
       "    </tr>\n",
       "    <tr>\n",
       "      <th>4</th>\n",
       "      <td>5</td>\n",
       "      <td>605703</td>\n",
       "      <td>5</td>\n",
       "    </tr>\n",
       "    <tr>\n",
       "      <th>...</th>\n",
       "      <td>...</td>\n",
       "      <td>...</td>\n",
       "      <td>...</td>\n",
       "    </tr>\n",
       "    <tr>\n",
       "      <th>5364</th>\n",
       "      <td>13955</td>\n",
       "      <td>456030</td>\n",
       "      <td>1</td>\n",
       "    </tr>\n",
       "    <tr>\n",
       "      <th>5365</th>\n",
       "      <td>13956</td>\n",
       "      <td>430406</td>\n",
       "      <td>1</td>\n",
       "    </tr>\n",
       "    <tr>\n",
       "      <th>5366</th>\n",
       "      <td>13968</td>\n",
       "      <td>680413</td>\n",
       "      <td>61</td>\n",
       "    </tr>\n",
       "    <tr>\n",
       "      <th>5367</th>\n",
       "      <td>13971</td>\n",
       "      <td>626019</td>\n",
       "      <td>67</td>\n",
       "    </tr>\n",
       "    <tr>\n",
       "      <th>5368</th>\n",
       "      <td>13998</td>\n",
       "      <td>535812</td>\n",
       "      <td>74</td>\n",
       "    </tr>\n",
       "  </tbody>\n",
       "</table>\n",
       "<p>5369 rows × 3 columns</p>\n",
       "</div>"
      ],
      "text/plain": [
       "      client_id  birth_number  district_id\n",
       "0             1        706213           18\n",
       "1             2        450204            1\n",
       "2             3        406009            1\n",
       "3             4        561201            5\n",
       "4             5        605703            5\n",
       "...         ...           ...          ...\n",
       "5364      13955        456030            1\n",
       "5365      13956        430406            1\n",
       "5366      13968        680413           61\n",
       "5367      13971        626019           67\n",
       "5368      13998        535812           74\n",
       "\n",
       "[5369 rows x 3 columns]"
      ]
     },
     "execution_count": 1,
     "metadata": {},
     "output_type": "execute_result"
    }
   ],
   "source": [
    "import pandas as pd\n",
    "import matplotlib.pyplot as plt\n",
    "import plotly.express as px\n",
    "import seaborn as sns\n",
    "import scipy\n",
    "import numpy as np\n",
    "import data_understanding_utils as du\n",
    "from IPython.core.interactiveshell import InteractiveShell\n",
    "InteractiveShell.ast_node_interactivity = \"all\"\n",
    "\n",
    "%matplotlib inline\n",
    "# not cut columns\n",
    "pd.set_option('display.max_columns',None)\n",
    "\n",
    "path= \"./data/\"\n",
    "client = pd.read_csv(path+\"client.csv\", sep=';')\n",
    "\n",
    "client"
   ]
  },
  {
   "cell_type": "markdown",
   "metadata": {},
   "source": [
    "### 2.2 Describe data\n",
    "\n"
   ]
  },
  {
   "cell_type": "markdown",
   "metadata": {},
   "source": [
    "#### Dimensions of the dataset "
   ]
  },
  {
   "cell_type": "code",
   "execution_count": 2,
   "metadata": {},
   "outputs": [
    {
     "name": "stdout",
     "output_type": "stream",
     "text": [
      "(5369, 3)\n",
      "\n",
      "   client_id  birth_number  district_id\n",
      "0          1        706213           18\n",
      "1          2        450204            1\n",
      "2          3        406009            1\n",
      "3          4        561201            5\n",
      "4          5        605703            5\n",
      "\n"
     ]
    }
   ],
   "source": [
    "du.info_data(client,\"shape\",\"\")\n",
    "du.info_data(client,\"head\",\"\")"
   ]
  },
  {
   "cell_type": "markdown",
   "metadata": {},
   "source": [
    "#### Info about the dataset"
   ]
  },
  {
   "cell_type": "code",
   "execution_count": 3,
   "metadata": {},
   "outputs": [
    {
     "name": "stdout",
     "output_type": "stream",
     "text": [
      "<class 'pandas.core.frame.DataFrame'>\n",
      "RangeIndex: 5369 entries, 0 to 5368\n",
      "Data columns (total 3 columns):\n",
      " #   Column        Non-Null Count  Dtype\n",
      "---  ------        --------------  -----\n",
      " 0   client_id     5369 non-null   int64\n",
      " 1   birth_number  5369 non-null   int64\n",
      " 2   district_id   5369 non-null   int64\n",
      "dtypes: int64(3)\n",
      "memory usage: 126.0 KB\n",
      "None\n",
      "\n"
     ]
    }
   ],
   "source": [
    "du.info_data(client,\"info\",\"\")"
   ]
  },
  {
   "cell_type": "code",
   "execution_count": 4,
   "metadata": {},
   "outputs": [
    {
     "name": "stdout",
     "output_type": "stream",
     "text": [
      "Number of null values client_id       0\n",
      "birth_number    0\n",
      "district_id     0\n",
      "dtype: int64\n",
      "\n"
     ]
    }
   ],
   "source": [
    "du.info_data(client,\"isnull\",\"\")"
   ]
  },
  {
   "cell_type": "markdown",
   "metadata": {},
   "source": [
    "#### Statistical Summary"
   ]
  },
  {
   "cell_type": "code",
   "execution_count": 5,
   "metadata": {},
   "outputs": [
    {
     "name": "stdout",
     "output_type": "stream",
     "text": [
      "          client_id   birth_number  district_id\n",
      "count   5369.000000    5369.000000  5369.000000\n",
      "mean    3359.011920  535114.970013    37.310114\n",
      "std     2832.911984  172895.618429    25.043690\n",
      "min        1.000000  110820.000000     1.000000\n",
      "25%     1418.000000  406009.000000    14.000000\n",
      "50%     2839.000000  540829.000000    38.000000\n",
      "75%     4257.000000  681013.000000    60.000000\n",
      "max    13998.000000  875927.000000    77.000000\n",
      "\n"
     ]
    }
   ],
   "source": [
    "du.info_data(client,\"describe\",\"\")\n",
    "statistical_summary = client.describe()"
   ]
  },
  {
   "cell_type": "markdown",
   "metadata": {},
   "source": [
    "Check for invalid birth dates, genres, and other data quality issues"
   ]
  },
  {
   "cell_type": "markdown",
   "metadata": {},
   "source": [
    "### Data Summarization"
   ]
  },
  {
   "cell_type": "markdown",
   "metadata": {},
   "source": [
    "The dataset client, by himself, dont have usefull information to our business goal, but when merged with other datasets, we can have a better understanding of the data. Also, we will need to check for errors, missing values and get information about sex, age, that in a first approach, is not very clear.\n",
    "We will use the merge of disp.csv and loan.csv to get a better understanding of the data tha relates to the clients."
   ]
  },
  {
   "cell_type": "code",
   "execution_count": 6,
   "metadata": {},
   "outputs": [],
   "source": [
    "loans = pd.read_csv (path+\"loan_dev.csv\", sep=';')\n",
    "disp = pd.read_csv(path+\"disp.csv\", sep=';')\n"
   ]
  },
  {
   "cell_type": "markdown",
   "metadata": {},
   "source": [
    "#### Search for persons with more than 1 account on disp.csv"
   ]
  },
  {
   "cell_type": "code",
   "execution_count": 7,
   "metadata": {},
   "outputs": [
    {
     "name": "stdout",
     "output_type": "stream",
     "text": [
      "Duplicated rows on Disp: \n",
      "      disp_id  client_id  account_id       type\n",
      "2           3          3           2  DISPONENT\n",
      "4           5          5           3  DISPONENT\n",
      "10         11         11           8  DISPONENT\n",
      "15         16         16          12  DISPONENT\n",
      "17         18         18          13  DISPONENT\n",
      "...       ...        ...         ...        ...\n",
      "5329    13140      13448       10940  DISPONENT\n",
      "5332    13161      13469       10954  DISPONENT\n",
      "5346    13350      13658       11111  DISPONENT\n",
      "5352    13443      13751       11186  DISPONENT\n",
      "5365    13648      13956       11349  DISPONENT\n",
      "\n",
      "[869 rows x 4 columns]\n",
      "Number of repeated values in Disp : 1    869\n",
      "dtype: int64\n"
     ]
    }
   ],
   "source": [
    "\n",
    "\n",
    "res_duplicate = du.check_duplicates(disp,\"Disp\",[\"account_id\"])"
   ]
  },
  {
   "cell_type": "markdown",
   "metadata": {},
   "source": [
    "#### Search for accounts with more than one loan on loan_dev.csv"
   ]
  },
  {
   "cell_type": "code",
   "execution_count": 8,
   "metadata": {},
   "outputs": [
    {
     "name": "stdout",
     "output_type": "stream",
     "text": [
      "Duplicated rows on Loan: \n",
      "Empty DataFrame\n",
      "Columns: [loan_id, account_id, date, amount, duration, payments, status]\n",
      "Index: []\n",
      "Number of repeated values in Loan : Series([], dtype: int64)\n"
     ]
    }
   ],
   "source": [
    "res_duplicate = du.check_duplicates(loans,\"Loan\",[\"account_id\",\"loan_id\"])"
   ]
  },
  {
   "cell_type": "markdown",
   "metadata": {},
   "source": [
    "We can see that we can have an account that belongs to more then one person .\n",
    "Also, we dont have more then one loan for for an account."
   ]
  },
  {
   "cell_type": "markdown",
   "metadata": {},
   "source": [
    "#### Merge client.csv with with loan_dev.csv"
   ]
  },
  {
   "cell_type": "code",
   "execution_count": 11,
   "metadata": {},
   "outputs": [
    {
     "data": {
      "text/html": [
       "<div>\n",
       "<style scoped>\n",
       "    .dataframe tbody tr th:only-of-type {\n",
       "        vertical-align: middle;\n",
       "    }\n",
       "\n",
       "    .dataframe tbody tr th {\n",
       "        vertical-align: top;\n",
       "    }\n",
       "\n",
       "    .dataframe thead th {\n",
       "        text-align: right;\n",
       "    }\n",
       "</style>\n",
       "<table border=\"1\" class=\"dataframe\">\n",
       "  <thead>\n",
       "    <tr style=\"text-align: right;\">\n",
       "      <th></th>\n",
       "      <th>client_id</th>\n",
       "      <th>birth_number</th>\n",
       "      <th>district_id</th>\n",
       "      <th>disp_id</th>\n",
       "      <th>account_id</th>\n",
       "      <th>type</th>\n",
       "      <th>loan_id</th>\n",
       "      <th>date</th>\n",
       "      <th>amount</th>\n",
       "      <th>duration</th>\n",
       "      <th>payments</th>\n",
       "      <th>status</th>\n",
       "    </tr>\n",
       "  </thead>\n",
       "  <tbody>\n",
       "    <tr>\n",
       "      <th>0</th>\n",
       "      <td>2</td>\n",
       "      <td>450204</td>\n",
       "      <td>1</td>\n",
       "      <td>2</td>\n",
       "      <td>2</td>\n",
       "      <td>OWNER</td>\n",
       "      <td>4959</td>\n",
       "      <td>940105</td>\n",
       "      <td>80952</td>\n",
       "      <td>24</td>\n",
       "      <td>3373</td>\n",
       "      <td>1</td>\n",
       "    </tr>\n",
       "    <tr>\n",
       "      <th>1</th>\n",
       "      <td>3</td>\n",
       "      <td>406009</td>\n",
       "      <td>1</td>\n",
       "      <td>3</td>\n",
       "      <td>2</td>\n",
       "      <td>DISPONENT</td>\n",
       "      <td>4959</td>\n",
       "      <td>940105</td>\n",
       "      <td>80952</td>\n",
       "      <td>24</td>\n",
       "      <td>3373</td>\n",
       "      <td>1</td>\n",
       "    </tr>\n",
       "    <tr>\n",
       "      <th>2</th>\n",
       "      <td>25</td>\n",
       "      <td>395423</td>\n",
       "      <td>21</td>\n",
       "      <td>25</td>\n",
       "      <td>19</td>\n",
       "      <td>OWNER</td>\n",
       "      <td>4961</td>\n",
       "      <td>960429</td>\n",
       "      <td>30276</td>\n",
       "      <td>12</td>\n",
       "      <td>2523</td>\n",
       "      <td>-1</td>\n",
       "    </tr>\n",
       "    <tr>\n",
       "      <th>3</th>\n",
       "      <td>78</td>\n",
       "      <td>445613</td>\n",
       "      <td>16</td>\n",
       "      <td>78</td>\n",
       "      <td>67</td>\n",
       "      <td>OWNER</td>\n",
       "      <td>4973</td>\n",
       "      <td>960502</td>\n",
       "      <td>165960</td>\n",
       "      <td>24</td>\n",
       "      <td>6915</td>\n",
       "      <td>1</td>\n",
       "    </tr>\n",
       "    <tr>\n",
       "      <th>4</th>\n",
       "      <td>158</td>\n",
       "      <td>455703</td>\n",
       "      <td>40</td>\n",
       "      <td>158</td>\n",
       "      <td>132</td>\n",
       "      <td>OWNER</td>\n",
       "      <td>4996</td>\n",
       "      <td>961106</td>\n",
       "      <td>88440</td>\n",
       "      <td>12</td>\n",
       "      <td>7370</td>\n",
       "      <td>1</td>\n",
       "    </tr>\n",
       "    <tr>\n",
       "      <th>...</th>\n",
       "      <td>...</td>\n",
       "      <td>...</td>\n",
       "      <td>...</td>\n",
       "      <td>...</td>\n",
       "      <td>...</td>\n",
       "      <td>...</td>\n",
       "      <td>...</td>\n",
       "      <td>...</td>\n",
       "      <td>...</td>\n",
       "      <td>...</td>\n",
       "      <td>...</td>\n",
       "      <td>...</td>\n",
       "    </tr>\n",
       "    <tr>\n",
       "      <th>398</th>\n",
       "      <td>13845</td>\n",
       "      <td>730216</td>\n",
       "      <td>15</td>\n",
       "      <td>13537</td>\n",
       "      <td>11265</td>\n",
       "      <td>OWNER</td>\n",
       "      <td>7284</td>\n",
       "      <td>930915</td>\n",
       "      <td>52788</td>\n",
       "      <td>12</td>\n",
       "      <td>4399</td>\n",
       "      <td>1</td>\n",
       "    </tr>\n",
       "    <tr>\n",
       "      <th>399</th>\n",
       "      <td>13955</td>\n",
       "      <td>456030</td>\n",
       "      <td>1</td>\n",
       "      <td>13647</td>\n",
       "      <td>11349</td>\n",
       "      <td>OWNER</td>\n",
       "      <td>7304</td>\n",
       "      <td>951029</td>\n",
       "      <td>419880</td>\n",
       "      <td>60</td>\n",
       "      <td>6998</td>\n",
       "      <td>1</td>\n",
       "    </tr>\n",
       "    <tr>\n",
       "      <th>400</th>\n",
       "      <td>13956</td>\n",
       "      <td>430406</td>\n",
       "      <td>1</td>\n",
       "      <td>13648</td>\n",
       "      <td>11349</td>\n",
       "      <td>DISPONENT</td>\n",
       "      <td>7304</td>\n",
       "      <td>951029</td>\n",
       "      <td>419880</td>\n",
       "      <td>60</td>\n",
       "      <td>6998</td>\n",
       "      <td>1</td>\n",
       "    </tr>\n",
       "    <tr>\n",
       "      <th>401</th>\n",
       "      <td>13968</td>\n",
       "      <td>680413</td>\n",
       "      <td>61</td>\n",
       "      <td>13660</td>\n",
       "      <td>11359</td>\n",
       "      <td>OWNER</td>\n",
       "      <td>7305</td>\n",
       "      <td>960806</td>\n",
       "      <td>54024</td>\n",
       "      <td>12</td>\n",
       "      <td>4502</td>\n",
       "      <td>1</td>\n",
       "    </tr>\n",
       "    <tr>\n",
       "      <th>402</th>\n",
       "      <td>13971</td>\n",
       "      <td>626019</td>\n",
       "      <td>67</td>\n",
       "      <td>13663</td>\n",
       "      <td>11362</td>\n",
       "      <td>OWNER</td>\n",
       "      <td>7308</td>\n",
       "      <td>961227</td>\n",
       "      <td>129408</td>\n",
       "      <td>24</td>\n",
       "      <td>5392</td>\n",
       "      <td>1</td>\n",
       "    </tr>\n",
       "  </tbody>\n",
       "</table>\n",
       "<p>403 rows × 12 columns</p>\n",
       "</div>"
      ],
      "text/plain": [
       "     client_id  birth_number  district_id  disp_id  account_id       type  \\\n",
       "0            2        450204            1        2           2      OWNER   \n",
       "1            3        406009            1        3           2  DISPONENT   \n",
       "2           25        395423           21       25          19      OWNER   \n",
       "3           78        445613           16       78          67      OWNER   \n",
       "4          158        455703           40      158         132      OWNER   \n",
       "..         ...           ...          ...      ...         ...        ...   \n",
       "398      13845        730216           15    13537       11265      OWNER   \n",
       "399      13955        456030            1    13647       11349      OWNER   \n",
       "400      13956        430406            1    13648       11349  DISPONENT   \n",
       "401      13968        680413           61    13660       11359      OWNER   \n",
       "402      13971        626019           67    13663       11362      OWNER   \n",
       "\n",
       "     loan_id    date  amount  duration  payments  status  \n",
       "0       4959  940105   80952        24      3373       1  \n",
       "1       4959  940105   80952        24      3373       1  \n",
       "2       4961  960429   30276        12      2523      -1  \n",
       "3       4973  960502  165960        24      6915       1  \n",
       "4       4996  961106   88440        12      7370       1  \n",
       "..       ...     ...     ...       ...       ...     ...  \n",
       "398     7284  930915   52788        12      4399       1  \n",
       "399     7304  951029  419880        60      6998       1  \n",
       "400     7304  951029  419880        60      6998       1  \n",
       "401     7305  960806   54024        12      4502       1  \n",
       "402     7308  961227  129408        24      5392       1  \n",
       "\n",
       "[403 rows x 12 columns]"
      ]
     },
     "execution_count": 11,
     "metadata": {},
     "output_type": "execute_result"
    }
   ],
   "source": [
    "client_disp = pd.merge(client, disp,how=\"left\" ,on='client_id')\n",
    "client_loan = pd.merge(client_disp, loans ,on='account_id')\n",
    "client_loan"
   ]
  },
  {
   "cell_type": "markdown",
   "metadata": {},
   "source": [
    "We can see that for example, one account can have more than one client (owner or disponent) at same time with the same loan."
   ]
  },
  {
   "cell_type": "markdown",
   "metadata": {},
   "source": [
    "Check for null values on the merged dataset"
   ]
  },
  {
   "cell_type": "code",
   "execution_count": 14,
   "metadata": {},
   "outputs": [
    {
     "name": "stdout",
     "output_type": "stream",
     "text": [
      "Number of null values client_id       0\n",
      "birth_number    0\n",
      "district_id     0\n",
      "disp_id         0\n",
      "account_id      0\n",
      "type            0\n",
      "loan_id         0\n",
      "date            0\n",
      "amount          0\n",
      "duration        0\n",
      "payments        0\n",
      "status          0\n",
      "dtype: int64\n",
      "\n"
     ]
    }
   ],
   "source": [
    "du.info_data(client_loan,\"isnull\",\"\")\n"
   ]
  },
  {
   "cell_type": "markdown",
   "metadata": {},
   "source": [
    "#### Search for loans with more than one associated client with the same account"
   ]
  },
  {
   "cell_type": "code",
   "execution_count": 17,
   "metadata": {},
   "outputs": [
    {
     "name": "stdout",
     "output_type": "stream",
     "text": [
      "Duplicated rows on Client_loan: \n",
      "     client_id  birth_number  district_id  disp_id  account_id       type  \\\n",
      "1            3        406009            1        3           2  DISPONENT   \n",
      "5          159        380910           40      159         132  DISPONENT   \n",
      "7          211        455628           66      211         173  DISPONENT   \n",
      "15         945        775110           39      945         789  DISPONENT   \n",
      "25        1134        591001           37     1134         940  DISPONENT   \n",
      "..         ...           ...          ...      ...         ...        ...   \n",
      "367      12755        596101           55    12447       10364  DISPONENT   \n",
      "383      13448        680708           13    13140       10940  DISPONENT   \n",
      "393      13658        570423           59    13350       11111  DISPONENT   \n",
      "397      13751        790720           12    13443       11186  DISPONENT   \n",
      "400      13956        430406            1    13648       11349  DISPONENT   \n",
      "\n",
      "     loan_id    date  amount  duration  payments  status  \n",
      "1       4959  940105   80952        24      3373       1  \n",
      "5       4996  961106   88440        12      7370       1  \n",
      "7       5002  940531  104808        12      8734       1  \n",
      "15      5125  951123   73056        48      1522       1  \n",
      "25      5148  960529  284280        60      4738       1  \n",
      "..       ...     ...     ...       ...       ...     ...  \n",
      "367     7121  931110   21924        36       609       1  \n",
      "383     7226  940223  197748        36      5493       1  \n",
      "393     7259  940131  108144        36      3004       1  \n",
      "397     7271  961002  392460        60      6541       1  \n",
      "400     7304  951029  419880        60      6998       1  \n",
      "\n",
      "[75 rows x 12 columns]\n",
      "Number of repeated values in Client_loan : 1    75\n",
      "dtype: int64\n"
     ]
    },
    {
     "data": {
      "text/plain": [
       "1    75\n",
       "dtype: int64"
      ]
     },
     "execution_count": 17,
     "metadata": {},
     "output_type": "execute_result"
    }
   ],
   "source": [
    "du.check_duplicates(client_loan,\"Client_loan\",[\"account_id\",\"loan_id\"])"
   ]
  },
  {
   "cell_type": "code",
   "execution_count": 18,
   "metadata": {},
   "outputs": [
    {
     "name": "stdout",
     "output_type": "stream",
     "text": [
      "          client_id   birth_number  district_id       disp_id    account_id  \\\n",
      "count    403.000000     403.000000   403.000000    403.000000    403.000000   \n",
      "mean    7399.508685  593840.868486    38.200993   7269.583127   6047.535980   \n",
      "std     3938.580561  128934.718703    24.717243   3809.520678   3181.852656   \n",
      "min        2.000000  346119.000000     1.000000      2.000000      2.000000   \n",
      "25%     3798.500000  490161.500000    15.000000   3798.500000   3140.500000   \n",
      "50%     7422.000000  595717.000000    40.000000   7422.000000   6148.000000   \n",
      "75%    10559.000000  705214.500000    61.000000  10251.000000   8561.000000   \n",
      "max    13971.000000  851019.000000    77.000000  13663.000000  11362.000000   \n",
      "\n",
      "           loan_id           date         amount    duration     payments  \\\n",
      "count   403.000000     403.000000     403.000000  403.000000   403.000000   \n",
      "mean   6219.419355  950147.595533  147453.558313   36.148883  4190.367246   \n",
      "std     661.346448    9421.810940  106720.070532   16.768178  2215.606456   \n",
      "min    4959.000000  930705.000000    4980.000000   12.000000   319.000000   \n",
      "25%    5617.500000  940817.000000   71460.000000   24.000000  2468.000000   \n",
      "50%    6253.000000  950613.000000  113796.000000   36.000000  3900.000000   \n",
      "75%    6736.500000  960603.000000  200328.000000   48.000000  6003.000000   \n",
      "max    7308.000000  961227.000000  538500.000000   60.000000  9689.000000   \n",
      "\n",
      "           status  \n",
      "count  403.000000  \n",
      "mean     0.771712  \n",
      "std      0.636762  \n",
      "min     -1.000000  \n",
      "25%      1.000000  \n",
      "50%      1.000000  \n",
      "75%      1.000000  \n",
      "max      1.000000  \n"
     ]
    }
   ],
   "source": [
    "statistical_summary = client_loan.describe()\n",
    "print(statistical_summary)"
   ]
  },
  {
   "cell_type": "markdown",
   "metadata": {},
   "source": [
    "TODO: Check if loan that have more than one client associated get to pay the loans more often\n",
    "Check by gender"
   ]
  },
  {
   "cell_type": "markdown",
   "metadata": {},
   "source": []
  },
  {
   "cell_type": "code",
   "execution_count": 19,
   "metadata": {},
   "outputs": [
    {
     "name": "stderr",
     "output_type": "stream",
     "text": [
      "/home/wolfcuanhamarws/Desktop/Faculdade/2023/AC/Project/AC-Project/Notebooks/data_understanding_utils.py:54: FutureWarning: The default value of numeric_only in DataFrame.corr is deprecated. In a future version, it will default to False. Select only valid columns or specify the value of numeric_only to silence this warning.\n",
      "  pyplot.show()\n"
     ]
    },
    {
     "data": {
      "image/png": "[encoded data removed]",
      "text/plain": [
       "<Figure size 1000x1000 with 2 Axes>"
      ]
     },
     "metadata": {},
     "output_type": "display_data"
    }
   ],
   "source": [
    "du.data_summarization(client_loan,\"correlation\")"
   ]
  }
 ],
 "metadata": {
  "kernelspec": {
   "display_name": "Python 3.10.6 64-bit",
   "language": "python",
   "name": "python3"
  },
  "language_info": {
   "codemirror_mode": {
    "name": "ipython",
    "version": 3
   },
   "file_extension": ".py",
   "mimetype": "text/x-python",
   "name": "python",
   "nbconvert_exporter": "python",
   "pygments_lexer": "ipython3",
   "version": "3.10.6"
  },
  "orig_nbformat": 4,
  "vscode": {
   "interpreter": {
    "hash": "916dbcbb3f70747c44a77c7bcd40155683ae19c65e1c03b4aa3499c5328201f1"
   }
  }
 },
 "nbformat": 4,
 "nbformat_minor": 2
}
