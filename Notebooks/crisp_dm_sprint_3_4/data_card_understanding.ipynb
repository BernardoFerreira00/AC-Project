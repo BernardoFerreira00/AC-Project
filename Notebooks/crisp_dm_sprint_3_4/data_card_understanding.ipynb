{
 "cells": [
  {
   "cell_type": "markdown",
   "metadata": {},
   "source": [
    "## Data card understanding"
   ]
  },
  {
   "cell_type": "code",
   "execution_count": 7,
   "metadata": {},
   "outputs": [
    {
     "data": {
      "text/html": [
       "<div>\n",
       "<style scoped>\n",
       "    .dataframe tbody tr th:only-of-type {\n",
       "        vertical-align: middle;\n",
       "    }\n",
       "\n",
       "    .dataframe tbody tr th {\n",
       "        vertical-align: top;\n",
       "    }\n",
       "\n",
       "    .dataframe thead th {\n",
       "        text-align: right;\n",
       "    }\n",
       "</style>\n",
       "<table border=\"1\" class=\"dataframe\">\n",
       "  <thead>\n",
       "    <tr style=\"text-align: right;\">\n",
       "      <th></th>\n",
       "      <th>card_id</th>\n",
       "      <th>disp_id</th>\n",
       "      <th>type</th>\n",
       "      <th>issued</th>\n",
       "    </tr>\n",
       "  </thead>\n",
       "  <tbody>\n",
       "    <tr>\n",
       "      <th>0</th>\n",
       "      <td>1005</td>\n",
       "      <td>9285</td>\n",
       "      <td>classic</td>\n",
       "      <td>931107</td>\n",
       "    </tr>\n",
       "    <tr>\n",
       "      <th>1</th>\n",
       "      <td>104</td>\n",
       "      <td>588</td>\n",
       "      <td>classic</td>\n",
       "      <td>940119</td>\n",
       "    </tr>\n",
       "    <tr>\n",
       "      <th>2</th>\n",
       "      <td>747</td>\n",
       "      <td>4915</td>\n",
       "      <td>classic</td>\n",
       "      <td>940205</td>\n",
       "    </tr>\n",
       "    <tr>\n",
       "      <th>3</th>\n",
       "      <td>70</td>\n",
       "      <td>439</td>\n",
       "      <td>classic</td>\n",
       "      <td>940208</td>\n",
       "    </tr>\n",
       "    <tr>\n",
       "      <th>4</th>\n",
       "      <td>577</td>\n",
       "      <td>3687</td>\n",
       "      <td>classic</td>\n",
       "      <td>940215</td>\n",
       "    </tr>\n",
       "    <tr>\n",
       "      <th>...</th>\n",
       "      <td>...</td>\n",
       "      <td>...</td>\n",
       "      <td>...</td>\n",
       "      <td>...</td>\n",
       "    </tr>\n",
       "    <tr>\n",
       "      <th>172</th>\n",
       "      <td>243</td>\n",
       "      <td>1478</td>\n",
       "      <td>classic</td>\n",
       "      <td>961213</td>\n",
       "    </tr>\n",
       "    <tr>\n",
       "      <th>173</th>\n",
       "      <td>162</td>\n",
       "      <td>967</td>\n",
       "      <td>junior</td>\n",
       "      <td>961223</td>\n",
       "    </tr>\n",
       "    <tr>\n",
       "      <th>174</th>\n",
       "      <td>594</td>\n",
       "      <td>3794</td>\n",
       "      <td>junior</td>\n",
       "      <td>961227</td>\n",
       "    </tr>\n",
       "    <tr>\n",
       "      <th>175</th>\n",
       "      <td>609</td>\n",
       "      <td>3893</td>\n",
       "      <td>classic</td>\n",
       "      <td>961229</td>\n",
       "    </tr>\n",
       "    <tr>\n",
       "      <th>176</th>\n",
       "      <td>786</td>\n",
       "      <td>5478</td>\n",
       "      <td>classic</td>\n",
       "      <td>961231</td>\n",
       "    </tr>\n",
       "  </tbody>\n",
       "</table>\n",
       "<p>177 rows × 4 columns</p>\n",
       "</div>"
      ],
      "text/plain": [
       "     card_id  disp_id     type  issued\n",
       "0       1005     9285  classic  931107\n",
       "1        104      588  classic  940119\n",
       "2        747     4915  classic  940205\n",
       "3         70      439  classic  940208\n",
       "4        577     3687  classic  940215\n",
       "..       ...      ...      ...     ...\n",
       "172      243     1478  classic  961213\n",
       "173      162      967   junior  961223\n",
       "174      594     3794   junior  961227\n",
       "175      609     3893  classic  961229\n",
       "176      786     5478  classic  961231\n",
       "\n",
       "[177 rows x 4 columns]"
      ]
     },
     "execution_count": 7,
     "metadata": {},
     "output_type": "execute_result"
    }
   ],
   "source": [
    "import pandas as pd\n",
    "import matplotlib.pyplot as plt\n",
    "import plotly.express as px\n",
    "import seaborn as sns\n",
    "import scipy\n",
    "import numpy as np\n",
    "import data_understanding_utils as du\n",
    "from IPython.core.interactiveshell import InteractiveShell\n",
    "InteractiveShell.ast_node_interactivity = \"all\"\n",
    "\n",
    "%matplotlib inline\n",
    "# not cut columns\n",
    "pd.set_option('display.max_columns',None)\n",
    "\n",
    "path= \"./data/\"\n",
    "card_data = pd.read_csv(path+\"card_dev.csv\", sep=';')\n",
    "\n",
    "card_data"
   ]
  },
  {
   "cell_type": "markdown",
   "metadata": {},
   "source": [
    "### 2.2 Describe data\n",
    "\n"
   ]
  },
  {
   "cell_type": "markdown",
   "metadata": {},
   "source": [
    "#### Dimensions of the dataset "
   ]
  },
  {
   "cell_type": "code",
   "execution_count": 8,
   "metadata": {},
   "outputs": [
    {
     "name": "stdout",
     "output_type": "stream",
     "text": [
      "(177, 4)\n",
      "\n",
      "   card_id  disp_id     type  issued\n",
      "0     1005     9285  classic  931107\n",
      "1      104      588  classic  940119\n",
      "2      747     4915  classic  940205\n",
      "3       70      439  classic  940208\n",
      "4      577     3687  classic  940215\n",
      "\n"
     ]
    }
   ],
   "source": [
    "du.info_data(card_data,\"shape\",\"\")\n",
    "du.info_data(card_data,\"head\",\"\")\n"
   ]
  },
  {
   "cell_type": "markdown",
   "metadata": {},
   "source": [
    "#### Info about the dataset"
   ]
  },
  {
   "cell_type": "code",
   "execution_count": 9,
   "metadata": {},
   "outputs": [
    {
     "name": "stdout",
     "output_type": "stream",
     "text": [
      "<class 'pandas.core.frame.DataFrame'>\n",
      "RangeIndex: 177 entries, 0 to 176\n",
      "Data columns (total 4 columns):\n",
      " #   Column   Non-Null Count  Dtype \n",
      "---  ------   --------------  ----- \n",
      " 0   card_id  177 non-null    int64 \n",
      " 1   disp_id  177 non-null    int64 \n",
      " 2   type     177 non-null    object\n",
      " 3   issued   177 non-null    int64 \n",
      "dtypes: int64(3), object(1)\n",
      "memory usage: 5.7+ KB\n",
      "None\n",
      "\n"
     ]
    }
   ],
   "source": [
    "du.info_data(card_data,\"info\",\"\")"
   ]
  },
  {
   "cell_type": "markdown",
   "metadata": {},
   "source": [
    "#### Statistical Summary"
   ]
  },
  {
   "cell_type": "code",
   "execution_count": 10,
   "metadata": {},
   "outputs": [
    {
     "name": "stdout",
     "output_type": "stream",
     "text": [
      "           card_id       disp_id         issued\n",
      "count   177.000000    177.000000     177.000000\n",
      "mean    433.576271   3031.723164  954971.259887\n",
      "std     290.507562   2632.338944    7217.974691\n",
      "min       3.000000     41.000000  931107.000000\n",
      "25%     183.000000   1080.000000  950616.000000\n",
      "50%     397.000000   2513.000000  960221.000000\n",
      "75%     661.000000   4270.000000  960831.000000\n",
      "max    1247.000000  13660.000000  961231.000000\n",
      "\n"
     ]
    }
   ],
   "source": [
    "du.info_data(card_data,\"describe\",\"\")\n",
    "statistical_summary = card_data.describe()"
   ]
  },
  {
   "cell_type": "markdown",
   "metadata": {},
   "source": [
    "#### Class Distribution by type class"
   ]
  },
  {
   "cell_type": "code",
   "execution_count": 15,
   "metadata": {},
   "outputs": [
    {
     "data": {
      "text/plain": [
       "type\n",
       "classic    127\n",
       "gold         9\n",
       "junior      41\n",
       "dtype: int64"
      ]
     },
     "execution_count": 15,
     "metadata": {},
     "output_type": "execute_result"
    },
    {
     "name": "stdout",
     "output_type": "stream",
     "text": [
      "Card count:  177\n"
     ]
    }
   ],
   "source": [
    "du.info_data(card_data,\"\",\"card_type\")\n",
    "card_data.groupby(\"type\").size()\n",
    "print(\"Card count: \",len(card_data))"
   ]
  },
  {
   "cell_type": "markdown",
   "metadata": {},
   "source": [
    "Few persons cards , why? old dataset?"
   ]
  },
  {
   "cell_type": "markdown",
   "metadata": {},
   "source": [
    "### Data Summarization"
   ]
  },
  {
   "cell_type": "markdown",
   "metadata": {},
   "source": []
  },
  {
   "cell_type": "markdown",
   "metadata": {},
   "source": [
    "To better understand the dataset from card_dev.csv, we can will merge the dataset with the dataset from loan_dev.csv, and for that we need to also use the dataset from disp_dev.csv to get account_id"
   ]
  },
  {
   "cell_type": "code",
   "execution_count": 38,
   "metadata": {},
   "outputs": [],
   "source": [
    "loans = pd.read_csv (path+\"loan_dev.csv\", sep=';')\n",
    "disp = pd.read_csv(path+\"disp.csv\", sep=';')\n",
    "card_disp = pd.merge(card_data, disp,how=\"left\" ,on='disp_id')\n",
    "loan_cards = pd.merge(loans, card_disp ,on='account_id')\n",
    "\n"
   ]
  },
  {
   "cell_type": "markdown",
   "metadata": {},
   "source": [
    "#### Merge card_dev.csv with disp_dev.csv"
   ]
  },
  {
   "cell_type": "code",
   "execution_count": 36,
   "metadata": {},
   "outputs": [
    {
     "data": {
      "text/html": [
       "<div>\n",
       "<style scoped>\n",
       "    .dataframe tbody tr th:only-of-type {\n",
       "        vertical-align: middle;\n",
       "    }\n",
       "\n",
       "    .dataframe tbody tr th {\n",
       "        vertical-align: top;\n",
       "    }\n",
       "\n",
       "    .dataframe thead th {\n",
       "        text-align: right;\n",
       "    }\n",
       "</style>\n",
       "<table border=\"1\" class=\"dataframe\">\n",
       "  <thead>\n",
       "    <tr style=\"text-align: right;\">\n",
       "      <th></th>\n",
       "      <th>card_id</th>\n",
       "      <th>disp_id</th>\n",
       "      <th>type_x</th>\n",
       "      <th>issued</th>\n",
       "      <th>client_id</th>\n",
       "      <th>account_id</th>\n",
       "      <th>type_y</th>\n",
       "    </tr>\n",
       "  </thead>\n",
       "  <tbody>\n",
       "    <tr>\n",
       "      <th>0</th>\n",
       "      <td>1005</td>\n",
       "      <td>9285</td>\n",
       "      <td>classic</td>\n",
       "      <td>931107</td>\n",
       "      <td>9593</td>\n",
       "      <td>7753</td>\n",
       "      <td>OWNER</td>\n",
       "    </tr>\n",
       "    <tr>\n",
       "      <th>1</th>\n",
       "      <td>104</td>\n",
       "      <td>588</td>\n",
       "      <td>classic</td>\n",
       "      <td>940119</td>\n",
       "      <td>588</td>\n",
       "      <td>489</td>\n",
       "      <td>OWNER</td>\n",
       "    </tr>\n",
       "    <tr>\n",
       "      <th>2</th>\n",
       "      <td>747</td>\n",
       "      <td>4915</td>\n",
       "      <td>classic</td>\n",
       "      <td>940205</td>\n",
       "      <td>4915</td>\n",
       "      <td>4078</td>\n",
       "      <td>OWNER</td>\n",
       "    </tr>\n",
       "    <tr>\n",
       "      <th>3</th>\n",
       "      <td>70</td>\n",
       "      <td>439</td>\n",
       "      <td>classic</td>\n",
       "      <td>940208</td>\n",
       "      <td>439</td>\n",
       "      <td>361</td>\n",
       "      <td>OWNER</td>\n",
       "    </tr>\n",
       "    <tr>\n",
       "      <th>4</th>\n",
       "      <td>577</td>\n",
       "      <td>3687</td>\n",
       "      <td>classic</td>\n",
       "      <td>940215</td>\n",
       "      <td>3687</td>\n",
       "      <td>3050</td>\n",
       "      <td>OWNER</td>\n",
       "    </tr>\n",
       "    <tr>\n",
       "      <th>...</th>\n",
       "      <td>...</td>\n",
       "      <td>...</td>\n",
       "      <td>...</td>\n",
       "      <td>...</td>\n",
       "      <td>...</td>\n",
       "      <td>...</td>\n",
       "      <td>...</td>\n",
       "    </tr>\n",
       "    <tr>\n",
       "      <th>172</th>\n",
       "      <td>243</td>\n",
       "      <td>1478</td>\n",
       "      <td>classic</td>\n",
       "      <td>961213</td>\n",
       "      <td>1478</td>\n",
       "      <td>1225</td>\n",
       "      <td>OWNER</td>\n",
       "    </tr>\n",
       "    <tr>\n",
       "      <th>173</th>\n",
       "      <td>162</td>\n",
       "      <td>967</td>\n",
       "      <td>junior</td>\n",
       "      <td>961223</td>\n",
       "      <td>967</td>\n",
       "      <td>807</td>\n",
       "      <td>OWNER</td>\n",
       "    </tr>\n",
       "    <tr>\n",
       "      <th>174</th>\n",
       "      <td>594</td>\n",
       "      <td>3794</td>\n",
       "      <td>junior</td>\n",
       "      <td>961227</td>\n",
       "      <td>3794</td>\n",
       "      <td>3138</td>\n",
       "      <td>OWNER</td>\n",
       "    </tr>\n",
       "    <tr>\n",
       "      <th>175</th>\n",
       "      <td>609</td>\n",
       "      <td>3893</td>\n",
       "      <td>classic</td>\n",
       "      <td>961229</td>\n",
       "      <td>3893</td>\n",
       "      <td>3219</td>\n",
       "      <td>OWNER</td>\n",
       "    </tr>\n",
       "    <tr>\n",
       "      <th>176</th>\n",
       "      <td>786</td>\n",
       "      <td>5478</td>\n",
       "      <td>classic</td>\n",
       "      <td>961231</td>\n",
       "      <td>5478</td>\n",
       "      <td>4543</td>\n",
       "      <td>OWNER</td>\n",
       "    </tr>\n",
       "  </tbody>\n",
       "</table>\n",
       "<p>177 rows × 7 columns</p>\n",
       "</div>"
      ],
      "text/plain": [
       "     card_id  disp_id   type_x  issued  client_id  account_id type_y\n",
       "0       1005     9285  classic  931107       9593        7753  OWNER\n",
       "1        104      588  classic  940119        588         489  OWNER\n",
       "2        747     4915  classic  940205       4915        4078  OWNER\n",
       "3         70      439  classic  940208        439         361  OWNER\n",
       "4        577     3687  classic  940215       3687        3050  OWNER\n",
       "..       ...      ...      ...     ...        ...         ...    ...\n",
       "172      243     1478  classic  961213       1478        1225  OWNER\n",
       "173      162      967   junior  961223        967         807  OWNER\n",
       "174      594     3794   junior  961227       3794        3138  OWNER\n",
       "175      609     3893  classic  961229       3893        3219  OWNER\n",
       "176      786     5478  classic  961231       5478        4543  OWNER\n",
       "\n",
       "[177 rows x 7 columns]"
      ]
     },
     "execution_count": 36,
     "metadata": {},
     "output_type": "execute_result"
    }
   ],
   "source": [
    "card_disp"
   ]
  },
  {
   "cell_type": "markdown",
   "metadata": {},
   "source": [
    "#### Merge the result above with loan_dev.csv"
   ]
  },
  {
   "cell_type": "code",
   "execution_count": 39,
   "metadata": {},
   "outputs": [
    {
     "data": {
      "text/html": [
       "<div>\n",
       "<style scoped>\n",
       "    .dataframe tbody tr th:only-of-type {\n",
       "        vertical-align: middle;\n",
       "    }\n",
       "\n",
       "    .dataframe tbody tr th {\n",
       "        vertical-align: top;\n",
       "    }\n",
       "\n",
       "    .dataframe thead th {\n",
       "        text-align: right;\n",
       "    }\n",
       "</style>\n",
       "<table border=\"1\" class=\"dataframe\">\n",
       "  <thead>\n",
       "    <tr style=\"text-align: right;\">\n",
       "      <th></th>\n",
       "      <th>loan_id</th>\n",
       "      <th>account_id</th>\n",
       "      <th>date</th>\n",
       "      <th>amount</th>\n",
       "      <th>duration</th>\n",
       "      <th>payments</th>\n",
       "      <th>status</th>\n",
       "      <th>card_id</th>\n",
       "      <th>disp_id</th>\n",
       "      <th>type_x</th>\n",
       "      <th>issued</th>\n",
       "      <th>client_id</th>\n",
       "      <th>type_y</th>\n",
       "    </tr>\n",
       "  </thead>\n",
       "  <tbody>\n",
       "    <tr>\n",
       "      <th>0</th>\n",
       "      <td>6577</td>\n",
       "      <td>7753</td>\n",
       "      <td>940311</td>\n",
       "      <td>51696</td>\n",
       "      <td>24</td>\n",
       "      <td>2154</td>\n",
       "      <td>1</td>\n",
       "      <td>1005</td>\n",
       "      <td>9285</td>\n",
       "      <td>classic</td>\n",
       "      <td>931107</td>\n",
       "      <td>9593</td>\n",
       "      <td>OWNER</td>\n",
       "    </tr>\n",
       "    <tr>\n",
       "      <th>1</th>\n",
       "      <td>5595</td>\n",
       "      <td>3050</td>\n",
       "      <td>940902</td>\n",
       "      <td>82896</td>\n",
       "      <td>12</td>\n",
       "      <td>6908</td>\n",
       "      <td>1</td>\n",
       "      <td>577</td>\n",
       "      <td>3687</td>\n",
       "      <td>classic</td>\n",
       "      <td>940215</td>\n",
       "      <td>3687</td>\n",
       "      <td>OWNER</td>\n",
       "    </tr>\n",
       "    <tr>\n",
       "      <th>2</th>\n",
       "      <td>7243</td>\n",
       "      <td>11042</td>\n",
       "      <td>951204</td>\n",
       "      <td>217152</td>\n",
       "      <td>36</td>\n",
       "      <td>6032</td>\n",
       "      <td>1</td>\n",
       "      <td>1225</td>\n",
       "      <td>13268</td>\n",
       "      <td>classic</td>\n",
       "      <td>951122</td>\n",
       "      <td>13576</td>\n",
       "      <td>OWNER</td>\n",
       "    </tr>\n",
       "    <tr>\n",
       "      <th>3</th>\n",
       "      <td>5900</td>\n",
       "      <td>4503</td>\n",
       "      <td>960101</td>\n",
       "      <td>135360</td>\n",
       "      <td>48</td>\n",
       "      <td>2820</td>\n",
       "      <td>1</td>\n",
       "      <td>783</td>\n",
       "      <td>5433</td>\n",
       "      <td>junior</td>\n",
       "      <td>951024</td>\n",
       "      <td>5433</td>\n",
       "      <td>OWNER</td>\n",
       "    </tr>\n",
       "    <tr>\n",
       "      <th>4</th>\n",
       "      <td>6550</td>\n",
       "      <td>7614</td>\n",
       "      <td>960518</td>\n",
       "      <td>320592</td>\n",
       "      <td>48</td>\n",
       "      <td>6679</td>\n",
       "      <td>1</td>\n",
       "      <td>989</td>\n",
       "      <td>9119</td>\n",
       "      <td>classic</td>\n",
       "      <td>960221</td>\n",
       "      <td>9427</td>\n",
       "      <td>OWNER</td>\n",
       "    </tr>\n",
       "    <tr>\n",
       "      <th>5</th>\n",
       "      <td>5311</td>\n",
       "      <td>1766</td>\n",
       "      <td>960615</td>\n",
       "      <td>30060</td>\n",
       "      <td>60</td>\n",
       "      <td>501</td>\n",
       "      <td>1</td>\n",
       "      <td>337</td>\n",
       "      <td>2141</td>\n",
       "      <td>classic</td>\n",
       "      <td>960101</td>\n",
       "      <td>2141</td>\n",
       "      <td>OWNER</td>\n",
       "    </tr>\n",
       "    <tr>\n",
       "      <th>6</th>\n",
       "      <td>6992</td>\n",
       "      <td>9790</td>\n",
       "      <td>960727</td>\n",
       "      <td>133968</td>\n",
       "      <td>48</td>\n",
       "      <td>2791</td>\n",
       "      <td>1</td>\n",
       "      <td>1134</td>\n",
       "      <td>11742</td>\n",
       "      <td>classic</td>\n",
       "      <td>960531</td>\n",
       "      <td>12050</td>\n",
       "      <td>OWNER</td>\n",
       "    </tr>\n",
       "    <tr>\n",
       "      <th>7</th>\n",
       "      <td>7305</td>\n",
       "      <td>11359</td>\n",
       "      <td>960806</td>\n",
       "      <td>54024</td>\n",
       "      <td>12</td>\n",
       "      <td>4502</td>\n",
       "      <td>1</td>\n",
       "      <td>1247</td>\n",
       "      <td>13660</td>\n",
       "      <td>classic</td>\n",
       "      <td>950613</td>\n",
       "      <td>13968</td>\n",
       "      <td>OWNER</td>\n",
       "    </tr>\n",
       "    <tr>\n",
       "      <th>8</th>\n",
       "      <td>5088</td>\n",
       "      <td>544</td>\n",
       "      <td>960822</td>\n",
       "      <td>91152</td>\n",
       "      <td>24</td>\n",
       "      <td>3798</td>\n",
       "      <td>1</td>\n",
       "      <td>119</td>\n",
       "      <td>655</td>\n",
       "      <td>classic</td>\n",
       "      <td>960808</td>\n",
       "      <td>655</td>\n",
       "      <td>OWNER</td>\n",
       "    </tr>\n",
       "    <tr>\n",
       "      <th>9</th>\n",
       "      <td>7154</td>\n",
       "      <td>10520</td>\n",
       "      <td>961205</td>\n",
       "      <td>417600</td>\n",
       "      <td>60</td>\n",
       "      <td>6960</td>\n",
       "      <td>1</td>\n",
       "      <td>1187</td>\n",
       "      <td>12635</td>\n",
       "      <td>gold</td>\n",
       "      <td>960717</td>\n",
       "      <td>12943</td>\n",
       "      <td>OWNER</td>\n",
       "    </tr>\n",
       "    <tr>\n",
       "      <th>10</th>\n",
       "      <td>7130</td>\n",
       "      <td>10411</td>\n",
       "      <td>961211</td>\n",
       "      <td>123408</td>\n",
       "      <td>24</td>\n",
       "      <td>5142</td>\n",
       "      <td>1</td>\n",
       "      <td>1176</td>\n",
       "      <td>12502</td>\n",
       "      <td>gold</td>\n",
       "      <td>960703</td>\n",
       "      <td>12810</td>\n",
       "      <td>OWNER</td>\n",
       "    </tr>\n",
       "  </tbody>\n",
       "</table>\n",
       "</div>"
      ],
      "text/plain": [
       "    loan_id  account_id    date  amount  duration  payments  status  card_id  \\\n",
       "0      6577        7753  940311   51696        24      2154       1     1005   \n",
       "1      5595        3050  940902   82896        12      6908       1      577   \n",
       "2      7243       11042  951204  217152        36      6032       1     1225   \n",
       "3      5900        4503  960101  135360        48      2820       1      783   \n",
       "4      6550        7614  960518  320592        48      6679       1      989   \n",
       "5      5311        1766  960615   30060        60       501       1      337   \n",
       "6      6992        9790  960727  133968        48      2791       1     1134   \n",
       "7      7305       11359  960806   54024        12      4502       1     1247   \n",
       "8      5088         544  960822   91152        24      3798       1      119   \n",
       "9      7154       10520  961205  417600        60      6960       1     1187   \n",
       "10     7130       10411  961211  123408        24      5142       1     1176   \n",
       "\n",
       "    disp_id   type_x  issued  client_id type_y  \n",
       "0      9285  classic  931107       9593  OWNER  \n",
       "1      3687  classic  940215       3687  OWNER  \n",
       "2     13268  classic  951122      13576  OWNER  \n",
       "3      5433   junior  951024       5433  OWNER  \n",
       "4      9119  classic  960221       9427  OWNER  \n",
       "5      2141  classic  960101       2141  OWNER  \n",
       "6     11742  classic  960531      12050  OWNER  \n",
       "7     13660  classic  950613      13968  OWNER  \n",
       "8       655  classic  960808        655  OWNER  \n",
       "9     12635     gold  960717      12943  OWNER  \n",
       "10    12502     gold  960703      12810  OWNER  "
      ]
     },
     "execution_count": 39,
     "metadata": {},
     "output_type": "execute_result"
    }
   ],
   "source": [
    "loan_cards.head(40)"
   ]
  },
  {
   "cell_type": "code",
   "execution_count": 40,
   "metadata": {},
   "outputs": [
    {
     "data": {
      "text/plain": [
       "status\n",
       "1    11\n",
       "dtype: int64"
      ]
     },
     "execution_count": 40,
     "metadata": {},
     "output_type": "execute_result"
    },
    {
     "name": "stdout",
     "output_type": "stream",
     "text": [
      "status count:  11\n"
     ]
    }
   ],
   "source": [
    "loan_cards.groupby(\"status\").size()\n",
    "print(\"status count: \",len(loan_cards))"
   ]
  },
  {
   "cell_type": "markdown",
   "metadata": {},
   "source": [
    "We can see that in the data preparation, will be usefull to change names of some columns, for example, we can change column \"type\" to \"card_type\" to avoid confusion with account type. Also, after a more detailed analysis, maybe we will need to change the type or sacle of some atributes, for example, the column \"issued\" is a date, and we can change the to other scale, or change the type of some categorical atribute to numerical, for example, the column \"type\" (from card_dev.csv) can be changed to numerical, because it is a categorical atribute, and maybe we can use it in the model. For that, we can use a binary count, where 0 to one of the 3 types of cards means account is not that type of card, and 1 means it is that type of card.\n",
    "Sort the dataset by loan date will be usefull to later analysis, for example, to see the evolution of the loan amount over time or to create dataset training and test that are more representative of the real world.\n",
    "Because few clients have cards, when we merge card_dev.csv we get a lot of NAN values, so we will need to fill them with some value, for example, we can fill with 0, because if the client does not have a card, the value junior, classic or gold is 0."
   ]
  },
  {
   "cell_type": "markdown",
   "metadata": {},
   "source": [
    "#### Data visualization"
   ]
  },
  {
   "cell_type": "code",
   "execution_count": 44,
   "metadata": {},
   "outputs": [
    {
     "data": {
      "text/plain": [
       "<Figure size 1000x1000 with 0 Axes>"
      ]
     },
     "execution_count": 44,
     "metadata": {},
     "output_type": "execute_result"
    },
    {
     "name": "stderr",
     "output_type": "stream",
     "text": [
      "/tmp/ipykernel_17758/3360934903.py:2: FutureWarning: The default value of numeric_only in DataFrame.corr is deprecated. In a future version, it will default to False. Select only valid columns or specify the value of numeric_only to silence this warning.\n",
      "  sns.heatmap(loan_cards.corr(), annot=True, cbar=True, cmap='coolwarm')\n"
     ]
    },
    {
     "data": {
      "text/plain": [
       "<AxesSubplot: >"
      ]
     },
     "execution_count": 44,
     "metadata": {},
     "output_type": "execute_result"
    },
    {
     "data": {
      "image/png": "[encoded data removed]",
      "text/plain": [
       "<Figure size 1000x1000 with 2 Axes>"
      ]
     },
     "metadata": {},
     "output_type": "display_data"
    }
   ],
   "source": [
    "plt.figure(figsize=(10, 10))\n",
    "sns.heatmap(loan_cards.corr(), annot=True, cbar=True, cmap='coolwarm')"
   ]
  },
  {
   "cell_type": "markdown",
   "metadata": {},
   "source": [
    "More data visualization ?"
   ]
  },
  {
   "cell_type": "code",
   "execution_count": null,
   "metadata": {},
   "outputs": [],
   "source": []
  }
 ],
 "metadata": {
  "kernelspec": {
   "display_name": "Python 3.10.6 64-bit",
   "language": "python",
   "name": "python3"
  },
  "language_info": {
   "codemirror_mode": {
    "name": "ipython",
    "version": 3
   },
   "file_extension": ".py",
   "mimetype": "text/x-python",
   "name": "python",
   "nbconvert_exporter": "python",
   "pygments_lexer": "ipython3",
   "version": "3.10.6"
  },
  "orig_nbformat": 4,
  "vscode": {
   "interpreter": {
    "hash": "916dbcbb3f70747c44a77c7bcd40155683ae19c65e1c03b4aa3499c5328201f1"
   }
  }
 },
 "nbformat": 4,
 "nbformat_minor": 2
}
