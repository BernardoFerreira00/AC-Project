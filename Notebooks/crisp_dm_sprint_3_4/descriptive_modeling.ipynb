{
 "cells": [
  {
   "cell_type": "markdown",
   "metadata": {},
   "source": [
    "## Similarity Measures"
   ]
  },
  {
   "cell_type": "markdown",
   "metadata": {},
   "source": [
    "Maye we need to transform the data: some categorical, scales, etc.\n",
    "Calculation of : Heterogeneous Distance Functions, General Coefficient of Similarity, and others that we find plausible.\n",
    "How to use categorical ( strings/names/description of something or event) data on similarity measures? And after this on models ?"
   ]
  },
  {
   "cell_type": "code",
   "execution_count": null,
   "metadata": {},
   "outputs": [],
   "source": []
  },
  {
   "cell_type": "markdown",
   "metadata": {},
   "source": [
    "Todo/check and see:\n",
    "- Similarity measure : Euclidean distance, Manhattan distance, Minkowski distance, Cosine similarity, Jaccard similarity, Hamming distance, Levenshtein distance, Jaro-Winkler distance, Sorensen-Dice coefficient, and others. Also: Heterogeneous Distance Functions, General Coefficient of Similarity, and others that we find plausible.\n",
    "- Dissimilarity measure\n",
    "\n"
   ]
  },
  {
   "cell_type": "markdown",
   "metadata": {},
   "source": [
    "## Clustering"
   ]
  },
  {
   "cell_type": "markdown",
   "metadata": {},
   "source": [
    "Common techniques: K-means, Hierarchical clustering, DBSCAN, Gaussian mixture models, and others. Also: Spectral clustering, Affinity propagation, Mean-shift, and others that we find plausible.\n",
    "- Partional\n",
    "    - Cluster compactness\n",
    "    - Cluster separation\n",
    "    - A clustering solution assigns all the objects to a cluster\n",
    "        • hard clustering: an object belongs to a single cluster\n",
    "        • fuzzy clustering: each object has a probability associated to belong to each cluster\n",
    "    - K-means\n",
    "     - pg28: best k \n",
    "        \n",
    "- Clustering Validation\n",
    "    - Supervised\n",
    "    - Unsupervised\n",
    "    • Cohesion coefficients - determine how compacts/cohesive are the\n",
    "    members of a group\n",
    "    • Separation coefficients - determine how different are the members of different groups\n",
    "    Silhouette Coefficient\n",
    "     - elbow method for the k\n",
    "     - PAM (Partitioning Around Medoids)\n",
    "     - CLARA (Clustering Large Applications)\n",
    "     - DBSCAN (Density-Based Spatial Clustering of Applications with Noise)\n",
    "     - OPTICS (Ordering Points To Identify the Clustering Structure)\n",
    "- Hierarchical : see pg 39 to 51\n",
    "    - Agglomerative Methods - bottom-up\n",
    "    - Divisive Methods - top-down\n",
    "    - Density-based\n",
    "\n",
    "Todo: at least 2 clustering methods, and 2 validation methods of every type (supervised and unsupervised) and Partional and Hierarchical. Choose the best ones and explain why.\n"
   ]
  },
  {
   "cell_type": "markdown",
   "metadata": {},
   "source": [
    "### Get merged data"
   ]
  },
  {
   "cell_type": "code",
   "execution_count": 5,
   "metadata": {},
   "outputs": [],
   "source": [
    "import sys\n",
    "\n",
    "import matplotlib.pyplot as plt\n",
    "import pandas as pd\n",
    "\n",
    "from sklearn import metrics, tree\n",
    "from sklearn.metrics import confusion_matrix\n",
    "from sklearn.model_selection import StratifiedKFold, train_test_split\n",
    "from sklearn.tree import DecisionTreeClassifier\n",
    "from sqlalchemy import create_engine\n",
    "\n",
    "merged_data = pd.read_csv('refined/final_data.csv')"
   ]
  },
  {
   "cell_type": "markdown",
   "metadata": {},
   "source": [
    "### Partitional Clustering"
   ]
  },
  {
   "cell_type": "code",
   "execution_count": null,
   "metadata": {},
   "outputs": [],
   "source": []
  },
  {
   "cell_type": "markdown",
   "metadata": {},
   "source": [
    "### Hierarchical Clustering"
   ]
  }
 ],
 "metadata": {
  "kernelspec": {
   "display_name": "Python 3.10.6 64-bit",
   "language": "python",
   "name": "python3"
  },
  "language_info": {
   "codemirror_mode": {
    "name": "ipython",
    "version": 3
   },
   "file_extension": ".py",
   "mimetype": "text/x-python",
   "name": "python",
   "nbconvert_exporter": "python",
   "pygments_lexer": "ipython3",
   "version": "3.10.6"
  },
  "orig_nbformat": 4,
  "vscode": {
   "interpreter": {
    "hash": "916dbcbb3f70747c44a77c7bcd40155683ae19c65e1c03b4aa3499c5328201f1"
   }
  }
 },
 "nbformat": 4,
 "nbformat_minor": 2
}
