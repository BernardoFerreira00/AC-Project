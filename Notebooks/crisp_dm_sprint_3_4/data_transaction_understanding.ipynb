{
 "cells": [
  {
   "cell_type": "markdown",
   "metadata": {},
   "source": [
    "# Data understanding transaction after"
   ]
  },
  {
   "cell_type": "code",
   "execution_count": 14,
   "metadata": {},
   "outputs": [
    {
     "data": {
      "text/html": [
       "<div>\n",
       "<style scoped>\n",
       "    .dataframe tbody tr th:only-of-type {\n",
       "        vertical-align: middle;\n",
       "    }\n",
       "\n",
       "    .dataframe tbody tr th {\n",
       "        vertical-align: top;\n",
       "    }\n",
       "\n",
       "    .dataframe thead th {\n",
       "        text-align: right;\n",
       "    }\n",
       "</style>\n",
       "<table border=\"1\" class=\"dataframe\">\n",
       "  <thead>\n",
       "    <tr style=\"text-align: right;\">\n",
       "      <th></th>\n",
       "      <th>trans_id</th>\n",
       "      <th>account_id</th>\n",
       "      <th>trans_date</th>\n",
       "      <th>trans_type</th>\n",
       "      <th>trans_operation</th>\n",
       "      <th>trans_amount</th>\n",
       "      <th>trans_balance</th>\n",
       "      <th>trans_k_symbol</th>\n",
       "      <th>trans_year</th>\n",
       "    </tr>\n",
       "  </thead>\n",
       "  <tbody>\n",
       "    <tr>\n",
       "      <th>0</th>\n",
       "      <td>1548749</td>\n",
       "      <td>5270</td>\n",
       "      <td>1993-01-13</td>\n",
       "      <td>credit</td>\n",
       "      <td>credit in cash</td>\n",
       "      <td>800.0</td>\n",
       "      <td>800.0</td>\n",
       "      <td>NaN</td>\n",
       "      <td>1993</td>\n",
       "    </tr>\n",
       "    <tr>\n",
       "      <th>1</th>\n",
       "      <td>1548750</td>\n",
       "      <td>5270</td>\n",
       "      <td>1993-01-14</td>\n",
       "      <td>credit</td>\n",
       "      <td>collection from another bank</td>\n",
       "      <td>44749.0</td>\n",
       "      <td>45549.0</td>\n",
       "      <td>NaN</td>\n",
       "      <td>1993</td>\n",
       "    </tr>\n",
       "    <tr>\n",
       "      <th>2</th>\n",
       "      <td>3393738</td>\n",
       "      <td>11265</td>\n",
       "      <td>1993-01-14</td>\n",
       "      <td>credit</td>\n",
       "      <td>credit in cash</td>\n",
       "      <td>1000.0</td>\n",
       "      <td>1000.0</td>\n",
       "      <td>NaN</td>\n",
       "      <td>1993</td>\n",
       "    </tr>\n",
       "    <tr>\n",
       "      <th>3</th>\n",
       "      <td>3122924</td>\n",
       "      <td>10364</td>\n",
       "      <td>1993-01-17</td>\n",
       "      <td>credit</td>\n",
       "      <td>credit in cash</td>\n",
       "      <td>1100.0</td>\n",
       "      <td>1100.0</td>\n",
       "      <td>NaN</td>\n",
       "      <td>1993</td>\n",
       "    </tr>\n",
       "    <tr>\n",
       "      <th>4</th>\n",
       "      <td>1121963</td>\n",
       "      <td>3834</td>\n",
       "      <td>1993-01-19</td>\n",
       "      <td>credit</td>\n",
       "      <td>credit in cash</td>\n",
       "      <td>700.0</td>\n",
       "      <td>700.0</td>\n",
       "      <td>NaN</td>\n",
       "      <td>1993</td>\n",
       "    </tr>\n",
       "    <tr>\n",
       "      <th>...</th>\n",
       "      <td>...</td>\n",
       "      <td>...</td>\n",
       "      <td>...</td>\n",
       "      <td>...</td>\n",
       "      <td>...</td>\n",
       "      <td>...</td>\n",
       "      <td>...</td>\n",
       "      <td>...</td>\n",
       "      <td>...</td>\n",
       "    </tr>\n",
       "    <tr>\n",
       "      <th>396680</th>\n",
       "      <td>515914</td>\n",
       "      <td>1763</td>\n",
       "      <td>1996-12-31</td>\n",
       "      <td>withdrawal</td>\n",
       "      <td>withdrawal in cash</td>\n",
       "      <td>-14.6</td>\n",
       "      <td>67769.5</td>\n",
       "      <td>payment for statement</td>\n",
       "      <td>1996</td>\n",
       "    </tr>\n",
       "    <tr>\n",
       "      <th>396681</th>\n",
       "      <td>516262</td>\n",
       "      <td>1765</td>\n",
       "      <td>1996-12-31</td>\n",
       "      <td>withdrawal</td>\n",
       "      <td>withdrawal in cash</td>\n",
       "      <td>-14.6</td>\n",
       "      <td>19708.1</td>\n",
       "      <td>payment for statement</td>\n",
       "      <td>1996</td>\n",
       "    </tr>\n",
       "    <tr>\n",
       "      <th>396682</th>\n",
       "      <td>520019</td>\n",
       "      <td>1775</td>\n",
       "      <td>1996-12-31</td>\n",
       "      <td>withdrawal</td>\n",
       "      <td>withdrawal in cash</td>\n",
       "      <td>-14.6</td>\n",
       "      <td>15944.5</td>\n",
       "      <td>payment for statement</td>\n",
       "      <td>1996</td>\n",
       "    </tr>\n",
       "    <tr>\n",
       "      <th>396683</th>\n",
       "      <td>517894</td>\n",
       "      <td>1769</td>\n",
       "      <td>1996-12-31</td>\n",
       "      <td>withdrawal</td>\n",
       "      <td>withdrawal in cash</td>\n",
       "      <td>-14.6</td>\n",
       "      <td>34679.4</td>\n",
       "      <td>payment for statement</td>\n",
       "      <td>1996</td>\n",
       "    </tr>\n",
       "    <tr>\n",
       "      <th>396684</th>\n",
       "      <td>518239</td>\n",
       "      <td>1770</td>\n",
       "      <td>1996-12-31</td>\n",
       "      <td>withdrawal</td>\n",
       "      <td>withdrawal in cash</td>\n",
       "      <td>-14.6</td>\n",
       "      <td>68162.9</td>\n",
       "      <td>payment for statement</td>\n",
       "      <td>1996</td>\n",
       "    </tr>\n",
       "  </tbody>\n",
       "</table>\n",
       "<p>396685 rows × 9 columns</p>\n",
       "</div>"
      ],
      "text/plain": [
       "        trans_id  account_id  trans_date  trans_type  \\\n",
       "0        1548749        5270  1993-01-13      credit   \n",
       "1        1548750        5270  1993-01-14      credit   \n",
       "2        3393738       11265  1993-01-14      credit   \n",
       "3        3122924       10364  1993-01-17      credit   \n",
       "4        1121963        3834  1993-01-19      credit   \n",
       "...          ...         ...         ...         ...   \n",
       "396680    515914        1763  1996-12-31  withdrawal   \n",
       "396681    516262        1765  1996-12-31  withdrawal   \n",
       "396682    520019        1775  1996-12-31  withdrawal   \n",
       "396683    517894        1769  1996-12-31  withdrawal   \n",
       "396684    518239        1770  1996-12-31  withdrawal   \n",
       "\n",
       "                     trans_operation  trans_amount  trans_balance  \\\n",
       "0                     credit in cash         800.0          800.0   \n",
       "1       collection from another bank       44749.0        45549.0   \n",
       "2                     credit in cash        1000.0         1000.0   \n",
       "3                     credit in cash        1100.0         1100.0   \n",
       "4                     credit in cash         700.0          700.0   \n",
       "...                              ...           ...            ...   \n",
       "396680            withdrawal in cash         -14.6        67769.5   \n",
       "396681            withdrawal in cash         -14.6        19708.1   \n",
       "396682            withdrawal in cash         -14.6        15944.5   \n",
       "396683            withdrawal in cash         -14.6        34679.4   \n",
       "396684            withdrawal in cash         -14.6        68162.9   \n",
       "\n",
       "               trans_k_symbol  trans_year  \n",
       "0                         NaN        1993  \n",
       "1                         NaN        1993  \n",
       "2                         NaN        1993  \n",
       "3                         NaN        1993  \n",
       "4                         NaN        1993  \n",
       "...                       ...         ...  \n",
       "396680  payment for statement        1996  \n",
       "396681  payment for statement        1996  \n",
       "396682  payment for statement        1996  \n",
       "396683  payment for statement        1996  \n",
       "396684  payment for statement        1996  \n",
       "\n",
       "[396685 rows x 9 columns]"
      ]
     },
     "execution_count": 14,
     "metadata": {},
     "output_type": "execute_result"
    }
   ],
   "source": [
    "import pandas as pd\n",
    "import matplotlib.pyplot as plt\n",
    "import plotly.express as px\n",
    "import seaborn as sns\n",
    "import scipy\n",
    "import numpy as np\n",
    "import data_understanding_utils as du\n",
    "from IPython.core.interactiveshell import InteractiveShell\n",
    "InteractiveShell.ast_node_interactivity = \"all\"\n",
    "\n",
    "%matplotlib inline\n",
    "# not cut columns\n",
    "pd.set_option('display.max_columns',None)\n",
    "\n",
    "path= \"./refined/\"\n",
    "transacation_data = pd.read_csv(path+\"transaction.csv\", sep=';')\n",
    "\n",
    "transacation_data"
   ]
  },
  {
   "cell_type": "markdown",
   "metadata": {},
   "source": [
    "### 2.2 Describe data\n",
    "\n"
   ]
  },
  {
   "cell_type": "code",
   "execution_count": 15,
   "metadata": {},
   "outputs": [
    {
     "name": "stdout",
     "output_type": "stream",
     "text": [
      "(396685, 9)\n",
      "\n",
      "   trans_id  account_id  trans_date trans_type               trans_operation  \\\n",
      "0   1548749        5270  1993-01-13     credit                credit in cash   \n",
      "1   1548750        5270  1993-01-14     credit  collection from another bank   \n",
      "2   3393738       11265  1993-01-14     credit                credit in cash   \n",
      "3   3122924       10364  1993-01-17     credit                credit in cash   \n",
      "4   1121963        3834  1993-01-19     credit                credit in cash   \n",
      "\n",
      "   trans_amount  trans_balance trans_k_symbol  trans_year  \n",
      "0         800.0          800.0            NaN        1993  \n",
      "1       44749.0        45549.0            NaN        1993  \n",
      "2        1000.0         1000.0            NaN        1993  \n",
      "3        1100.0         1100.0            NaN        1993  \n",
      "4         700.0          700.0            NaN        1993  \n",
      "\n"
     ]
    }
   ],
   "source": [
    "du.info_data(transacation_data,\"shape\",\"\")\n",
    "du.info_data(transacation_data,\"head\",\"\")"
   ]
  },
  {
   "cell_type": "markdown",
   "metadata": {},
   "source": [
    "#### Info about the dataset"
   ]
  },
  {
   "cell_type": "code",
   "execution_count": 16,
   "metadata": {},
   "outputs": [
    {
     "name": "stdout",
     "output_type": "stream",
     "text": [
      "<class 'pandas.core.frame.DataFrame'>\n",
      "RangeIndex: 396685 entries, 0 to 396684\n",
      "Data columns (total 9 columns):\n",
      " #   Column           Non-Null Count   Dtype  \n",
      "---  ------           --------------   -----  \n",
      " 0   trans_id         396685 non-null  int64  \n",
      " 1   account_id       396685 non-null  int64  \n",
      " 2   trans_date       396685 non-null  object \n",
      " 3   trans_type       396685 non-null  object \n",
      " 4   trans_operation  396685 non-null  object \n",
      " 5   trans_amount     396685 non-null  float64\n",
      " 6   trans_balance    396685 non-null  float64\n",
      " 7   trans_k_symbol   211441 non-null  object \n",
      " 8   trans_year       396685 non-null  int64  \n",
      "dtypes: float64(2), int64(3), object(4)\n",
      "memory usage: 27.2+ MB\n",
      "None\n",
      "\n"
     ]
    }
   ],
   "source": [
    "du.info_data(transacation_data,\"info\",\"\")"
   ]
  },
  {
   "cell_type": "code",
   "execution_count": 17,
   "metadata": {},
   "outputs": [
    {
     "name": "stdout",
     "output_type": "stream",
     "text": [
      "Number of null values: \n",
      " trans_id                0\n",
      "account_id              0\n",
      "trans_date              0\n",
      "trans_type              0\n",
      "trans_operation         0\n",
      "trans_amount            0\n",
      "trans_balance           0\n",
      "trans_k_symbol     185244\n",
      "trans_year              0\n",
      "dtype: int64\n",
      "\n"
     ]
    }
   ],
   "source": [
    "du.info_data(transacation_data,\"isnull\",\"\")"
   ]
  },
  {
   "cell_type": "markdown",
   "metadata": {},
   "source": [
    "We already drop bank and account attributes, in crisp_dm sprints 1 and 2, because they have a lot of missing values andit is easily seen that they are not relevant to the analysis. \n",
    "\n",
    "The trans_k_symbol ( before K_symbol) it is not so easy to check if it is relevant to the analysis, however it has more than 50% missing values. Therefore, it will be difficult to make estimates without introducing bias. \n",
    "In the next sprints we will try to treat this attribute carefully and in the best possible way.\n",
    "\n",
    "We can see that trans_k_symbol attribute has a lot of null values, so we can drop it or if plausible (it might introduce bias in data and affect the results) make estimates for the missing values like:\n",
    "- most common value of the attribute (e.g. mean, mode);\n",
    "- based on other(s) attribute(s);\n",
    "- more sophisticated methods"
   ]
  },
  {
   "cell_type": "code",
   "execution_count": 22,
   "metadata": {},
   "outputs": [
    {
     "name": "stdout",
     "output_type": "stream",
     "text": [
      "No duplicates found in the data\n"
     ]
    }
   ],
   "source": [
    "res_duplicate = du.check_duplicates(transacation_data,\"transaction\",[\"trans_id\"])"
   ]
  },
  {
   "cell_type": "markdown",
   "metadata": {},
   "source": [
    "In the data preparation step, we need to create new features from the existing ones. For example to have the account age, maybe change how frequency atribute is represented and other usefull informations."
   ]
  },
  {
   "cell_type": "markdown",
   "metadata": {},
   "source": [
    "#### Statistical Summary"
   ]
  },
  {
   "cell_type": "code",
   "execution_count": 19,
   "metadata": {},
   "outputs": [
    {
     "name": "stdout",
     "output_type": "stream",
     "text": [
      "           trans_id     account_id   trans_amount  trans_balance  \\\n",
      "count  3.966850e+05  396685.000000  396685.000000  396685.000000   \n",
      "mean   1.239338e+06    2508.434796     299.980242   35804.792507   \n",
      "std    1.213288e+06    2020.928889   10798.494973   19692.148243   \n",
      "min    1.000000e+00       1.000000  -86400.000000  -13588.700000   \n",
      "25%    3.918330e+05    1092.000000   -2700.000000   22424.300000   \n",
      "50%    7.882580e+05    2220.000000     -14.600000   30959.600000   \n",
      "75%    1.273700e+06    3357.000000     210.600000   44661.000000   \n",
      "max    3.682934e+06   11382.000000   74812.000000  193909.900000   \n",
      "\n",
      "          trans_year  \n",
      "count  396685.000000  \n",
      "mean     1995.061089  \n",
      "std         0.953892  \n",
      "min      1993.000000  \n",
      "25%      1994.000000  \n",
      "50%      1995.000000  \n",
      "75%      1996.000000  \n",
      "max      1996.000000  \n",
      "\n"
     ]
    }
   ],
   "source": [
    "du.info_data(transacation_data,\"describe\",\"\")\n",
    "\n"
   ]
  },
  {
   "cell_type": "markdown",
   "metadata": {},
   "source": [
    "TODO: We need to do the transaction understanding with the \"raw data\" so we can justify the data preparation steps about drop account and bank attributes !!! And also justify already drop bank and account attributes on sprint 1 and 2!"
   ]
  }
 ],
 "metadata": {
  "kernelspec": {
   "display_name": "Python 3.10.6 64-bit",
   "language": "python",
   "name": "python3"
  },
  "language_info": {
   "codemirror_mode": {
    "name": "ipython",
    "version": 3
   },
   "file_extension": ".py",
   "mimetype": "text/x-python",
   "name": "python",
   "nbconvert_exporter": "python",
   "pygments_lexer": "ipython3",
   "version": "3.10.6"
  },
  "orig_nbformat": 4,
  "vscode": {
   "interpreter": {
    "hash": "916dbcbb3f70747c44a77c7bcd40155683ae19c65e1c03b4aa3499c5328201f1"
   }
  }
 },
 "nbformat": 4,
 "nbformat_minor": 2
}
