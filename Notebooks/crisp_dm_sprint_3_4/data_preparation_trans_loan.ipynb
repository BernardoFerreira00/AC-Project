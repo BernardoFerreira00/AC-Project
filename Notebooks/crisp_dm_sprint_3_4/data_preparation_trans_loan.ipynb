{
 "cells": [
  {
   "cell_type": "markdown",
   "metadata": {},
   "source": [
    "# Data preparation: Transactions and loans"
   ]
  },
  {
   "cell_type": "code",
   "execution_count": 7,
   "metadata": {},
   "outputs": [],
   "source": [
    "import pandas as pd\n",
    "import matplotlib as mpl\n",
    "import matplotlib.pyplot as plt\n",
    "import seaborn as sns\n",
    "from datetime import datetime\n",
    "from sklearn import preprocessing\n",
    "\n",
    "\n",
    "trans_df = pd.read_csv(\"data/trans_dev.csv\",sep=\";\", low_memory=False)\n",
    "loan_df = pd.read_csv('data/loan_dev.csv', sep=';')"
   ]
  },
  {
   "cell_type": "markdown",
   "metadata": {},
   "source": [
    "## Transaction preparation\n",
    "\n"
   ]
  },
  {
   "cell_type": "markdown",
   "metadata": {},
   "source": [
    "### Data quality issues"
   ]
  },
  {
   "cell_type": "code",
   "execution_count": 8,
   "metadata": {},
   "outputs": [],
   "source": [
    "#### Data cleaning, transformation and data quality changes\n",
    "trans_df.rename(columns={'date' : 'trans_date'}, inplace=True)\n",
    "trans_df.rename(columns={'type' : 'trans_type'}, inplace=True)\n",
    "trans_df.rename(columns={'operation' : 'trans_operation'}, inplace=True)\n",
    "trans_df.rename(columns={'amount' : 'trans_amount'}, inplace=True)\n",
    "trans_df.rename(columns={'balance' : 'trans_balance'}, inplace=True)\n",
    "trans_df.rename(columns={'k_symbol' : 'trans_k_symbol'}, inplace=True)\n",
    "trans_df.rename(columns={'bank' : 'trans_bank'}, inplace=True)\n",
    "trans_df.rename(columns={'account': 'trans_account'}, inplace=True)\n"
   ]
  },
  {
   "cell_type": "markdown",
   "metadata": {},
   "source": [
    "#### Noise"
   ]
  },
  {
   "cell_type": "code",
   "execution_count": null,
   "metadata": {},
   "outputs": [],
   "source": []
  },
  {
   "cell_type": "markdown",
   "metadata": {},
   "source": [
    "Nothing to report os improvements to be made."
   ]
  },
  {
   "cell_type": "markdown",
   "metadata": {},
   "source": [
    "### Outliers"
   ]
  },
  {
   "cell_type": "code",
   "execution_count": null,
   "metadata": {},
   "outputs": [],
   "source": []
  },
  {
   "cell_type": "markdown",
   "metadata": {},
   "source": [
    "Nothing to report os improvements to do know, but we will check the outliers in the next sprints with more detail and attention."
   ]
  },
  {
   "cell_type": "markdown",
   "metadata": {},
   "source": [
    "#### Inconsistent, incorrect data or improving data quality"
   ]
  },
  {
   "cell_type": "code",
   "execution_count": 9,
   "metadata": {},
   "outputs": [],
   "source": [
    "\n",
    "trans_df['trans_date'] = pd.to_datetime(trans_df['trans_date'], format='%y%m%d')\n",
    "#withdrawal in cash para withdrawal\n",
    "trans_df.loc[trans_df[\"trans_type\"]==\"withdrawal in cash\",\"trans_type\"] = \"withdrawal\" \n",
    "\n",
    "trans_date_year = []\n",
    "for i in trans_df.index:\n",
    "    trans_date_year.append(trans_df['trans_date'][i].year)\n",
    "\n",
    "trans_df['trans_year'] = trans_date_year\n",
    "\n",
    "\n",
    "#trans_operation without name, change to other_types\n",
    "trans_df.loc[trans_df[\"trans_operation\"].isnull(),\"trans_operation\"] = \"other_types\"\n",
    "#se for withdrawal, o ammount é negativo\n",
    "trans_df.loc[trans_df[\"trans_type\"]==\"withdrawal\",\"trans_amount\"] *= -1\n"
   ]
  },
  {
   "cell_type": "markdown",
   "metadata": {},
   "source": [
    "### Missing values"
   ]
  },
  {
   "cell_type": "code",
   "execution_count": null,
   "metadata": {},
   "outputs": [],
   "source": [
    "\n",
    "\n"
   ]
  },
  {
   "cell_type": "markdown",
   "metadata": {},
   "source": [
    "We decide to drop the columns account bank and k_symbol( now renamed to trans_account, trans_bank and trans_k_symbol) , due to the high number of missing values and more importantly, because nothing is being discovered that points they are relevant to the analysis. \n",
    "\n",
    "Todo: check if the missing values are relevant to the analysis.\n",
    "\n",
    "However, for the trans_k_symbol attribute we will now drop the column, but as mentioned in the data_understanding phase later on we will treat it more carefully and make sure if we can, for example, replace with the values in some way that would not introduce bias."
   ]
  },
  {
   "cell_type": "markdown",
   "metadata": {},
   "source": [
    "#### Duplicates"
   ]
  },
  {
   "cell_type": "code",
   "execution_count": null,
   "metadata": {},
   "outputs": [],
   "source": []
  },
  {
   "cell_type": "markdown",
   "metadata": {},
   "source": [
    "No duplicates were found in the data understanding phase. Nothing to report."
   ]
  },
  {
   "cell_type": "markdown",
   "metadata": {},
   "source": [
    "#### Inconsistent or Incorrect Data"
   ]
  },
  {
   "cell_type": "markdown",
   "metadata": {},
   "source": [
    "Todo: \n",
    "\n",
    "Maybe we can try to search or try to reach some professional about technique/specific information about banks and accounts, but we will not do it now.\n",
    "\n"
   ]
  },
  {
   "cell_type": "markdown",
   "metadata": {},
   "source": [
    "### Data pre-processing"
   ]
  },
  {
   "cell_type": "markdown",
   "metadata": {},
   "source": [
    "#### Feature Extraction"
   ]
  },
  {
   "cell_type": "code",
   "execution_count": null,
   "metadata": {},
   "outputs": [],
   "source": []
  },
  {
   "cell_type": "markdown",
   "metadata": {},
   "source": []
  },
  {
   "cell_type": "markdown",
   "metadata": {},
   "source": [
    "#### Data cleaning"
   ]
  },
  {
   "cell_type": "code",
   "execution_count": null,
   "metadata": {},
   "outputs": [],
   "source": [
    "#as colunas bank e account não são necessárias, têm muitos valores nulos\n",
    "trans_df.drop(['trans_bank', 'trans_account','trans_k_symbol' ], axis=1, inplace=True)\n",
    "print(trans_df.head())\n",
    "\n",
    "\n",
    "trans_df.to_csv('refined/transaction.csv',sep=';',index=False)"
   ]
  },
  {
   "cell_type": "markdown",
   "metadata": {},
   "source": [
    "Todo: \n",
    "- Handling Missing Values\n",
    "- Handling Duplicates\n",
    "- Handling Inconsistent or Incorrect Data\n",
    "    - statistical-based methods to detect outliers\n",
    "    - Domain knowledge\n",
    "    - • Inconsistency detection\n",
    "\n",
    "\n",
    "We decide to drop the columns account bank and k_symbol( now renamed to trans_account, trans_bank and trans_k_symbol) , due to the high number of missing values and more importantly, because nothing is being discovered that points they are relevant to the analysis. \n",
    "\n",
    "Todo: check if the missing values are relevant to the analysis.\n",
    "\n",
    "However, for the trans_k_symbol attribute we will now drop the column, but as mentioned in the data_understanding phase later on we will treat it more carefully and make sure if we can, for example, replace with the values in some way that would not introduce bias.\n"
   ]
  },
  {
   "cell_type": "markdown",
   "metadata": {},
   "source": [
    "#### Data transformation"
   ]
  },
  {
   "cell_type": "markdown",
   "metadata": {},
   "source": [
    "##### One-Hot Enconding"
   ]
  },
  {
   "cell_type": "code",
   "execution_count": null,
   "metadata": {},
   "outputs": [],
   "source": [
    "from sklearn import preprocessing\n",
    "label_encoder = preprocessing.LabelEncoder()\n",
    "trans_df['trans_operation']= label_encoder.fit_transform(trans_df['trans_operation'])\n",
    "\n"
   ]
  },
  {
   "cell_type": "markdown",
   "metadata": {},
   "source": [
    "##### Inconsistent, incorrect data or improving data quality"
   ]
  },
  {
   "cell_type": "code",
   "execution_count": null,
   "metadata": {},
   "outputs": [],
   "source": [
    "trans_df['trans_date'] = pd.to_datetime(trans_df['trans_date'], format='%y%m%d')\n",
    "\n",
    "trans_date_year = []\n",
    "trans_date_month = []\n",
    "\n",
    "for i in trans_df.index:\n",
    "    trans_date_year.append(trans_df['trans_date'][i].year)\n",
    "    trans_date_month.append(trans_df[\"trans_date\"][i].month)\n",
    "\n",
    "trans_df['trans_year'] = trans_date_year\n",
    "trans_df['trans_month'] = trans_date_month\n",
    "trans_df.drop[\"trans_date\"]\n",
    "\n",
    "trans_df.loc[trans_df[\"trans_type\"]==\"withdrawal in cash\",\"trans_type\"] = \"withdrawal\" \n",
    "trans_df.loc[trans_df[\"trans_type\"]==\"withdrawal\",\"trans_amount\"] *= -1\n",
    "trans_df.head()"
   ]
  },
  {
   "cell_type": "markdown",
   "metadata": {},
   "source": [
    "A lot to do here:\n",
    "\n",
    "Some common strategies:\n",
    "- Normalization\n",
    "- Binarization / One-Hot Enconding\n",
    "- Discretization\n",
    "\n",
    "What we have done:\n",
    "- One-hot encoding on categorical nominal attribute trans_operation \n",
    "- Change values withdrawal in cash to withdrawal on trans_type attribute\n",
    "- change the values on trans_ammount attribute to be negative when trans_type attribute values are withdrawal\n",
    "- change trans_date attribute to datetime type :year-month-day\n",
    "- add trans_year attribute to the dataset getting information from trans_date\n",
    "- add trans_month attribute to the dataset getting information from trans_date\n",
    "- drop trans_date collumn \n"
   ]
  },
  {
   "cell_type": "markdown",
   "metadata": {},
   "source": [
    "#### Feature engineering"
   ]
  },
  {
   "cell_type": "code",
   "execution_count": null,
   "metadata": {},
   "outputs": [],
   "source": []
  },
  {
   "cell_type": "markdown",
   "metadata": {},
   "source": []
  },
  {
   "cell_type": "code",
   "execution_count": null,
   "metadata": {},
   "outputs": [],
   "source": []
  },
  {
   "cell_type": "markdown",
   "metadata": {},
   "source": [
    "#### Data and Dimensionality Reduction"
   ]
  },
  {
   "cell_type": "markdown",
   "metadata": {},
   "source": []
  },
  {
   "cell_type": "code",
   "execution_count": null,
   "metadata": {},
   "outputs": [],
   "source": []
  },
  {
   "cell_type": "markdown",
   "metadata": {},
   "source": []
  },
  {
   "cell_type": "markdown",
   "metadata": {},
   "source": [
    "### Export new transaction data to csv file"
   ]
  },
  {
   "cell_type": "code",
   "execution_count": null,
   "metadata": {},
   "outputs": [],
   "source": [
    "trans_df.to_csv('refined/transaction.csv')"
   ]
  }
 ],
 "metadata": {
  "kernelspec": {
   "display_name": "Python 3.10.6 64-bit",
   "language": "python",
   "name": "python3"
  },
  "language_info": {
   "codemirror_mode": {
    "name": "ipython",
    "version": 3
   },
   "file_extension": ".py",
   "mimetype": "text/x-python",
   "name": "python",
   "nbconvert_exporter": "python",
   "pygments_lexer": "ipython3",
   "version": "3.10.6"
  },
  "orig_nbformat": 4,
  "vscode": {
   "interpreter": {
    "hash": "916dbcbb3f70747c44a77c7bcd40155683ae19c65e1c03b4aa3499c5328201f1"
   }
  }
 },
 "nbformat": 4,
 "nbformat_minor": 2
}
