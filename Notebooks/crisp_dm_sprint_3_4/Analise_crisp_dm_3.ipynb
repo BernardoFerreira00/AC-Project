{
 "cells": [
  {
   "cell_type": "markdown",
   "id": "36e94a22",
   "metadata": {},
   "source": [
    "# Import Data"
   ]
  },
  {
   "cell_type": "code",
   "execution_count": 98,
   "id": "44c3730b",
   "metadata": {},
   "outputs": [
    {
     "name": "stdout",
     "output_type": "stream",
     "text": [
      "(30373, 29)\n"
     ]
    }
   ],
   "source": [
    "import pandas as pd\n",
    "from sklearn import tree\n",
    "from sklearn.tree import DecisionTreeClassifier\n",
    "from sklearn.linear_model import LogisticRegression\n",
    "\n",
    "from imblearn.over_sampling import SMOTE\n",
    "\n",
    "from sklearn.model_selection import train_test_split, StratifiedKFold\n",
    "from sklearn import metrics\n",
    "import matplotlib.pyplot as plt\n",
    "import sys\n",
    "from sqlalchemy import create_engine\n",
    "from sklearn.metrics import confusion_matrix\n",
    "import matplotlib.pyplot as plt\n",
    "\n",
    "import numpy as np \n",
    "\n",
    "\n",
    "account = pd.read_csv(\"data/account.csv\", sep=\";\")\n",
    "card = pd.read_csv(\"data/card_dev.csv\", sep=\";\")\n",
    "client = pd.read_csv(\"data/client.csv\", sep=\";\")\n",
    "disposition = pd.read_csv(\"data/disp.csv\", sep=\";\")\n",
    "demograph = pd.read_csv(\"data/district.csv\",sep=\";\")\n",
    "loan = pd.read_csv(\"data/loan_dev.csv\", sep=\";\")\n",
    "transactions = pd.read_csv(\"data/trans_dev.csv\",sep=\";\", low_memory=False)\n",
    "merged_data = pd.read_csv(\"refined/final_data.csv\", sep=\";\")\n",
    "\n",
    "print(merged_data.shape)"
   ]
  },
  {
   "cell_type": "markdown",
   "id": "4889b501",
   "metadata": {},
   "source": [
    "# Split Data"
   ]
  },
  {
   "cell_type": "code",
   "execution_count": 99,
   "id": "682d9c68",
   "metadata": {},
   "outputs": [],
   "source": [
    "def split_data(X, y, test_size):\n",
    "    return train_test_split(X, y, test_size=0.3, random_state=42, shuffle=False)"
   ]
  },
  {
   "cell_type": "markdown",
   "id": "514d0714",
   "metadata": {},
   "source": [
    "# Sampling"
   ]
  },
  {
   "cell_type": "code",
   "execution_count": 100,
   "id": "8c93c364",
   "metadata": {},
   "outputs": [],
   "source": [
    "def smote_sampling(X_train, y_train):\n",
    "    sm = SMOTE(random_state=42)\n",
    "    return sm.fit_resample(X_train, y_train)"
   ]
  },
  {
   "cell_type": "markdown",
   "id": "febdb626",
   "metadata": {},
   "source": [
    "# Fit and Predict"
   ]
  },
  {
   "cell_type": "code",
   "execution_count": 101,
   "id": "1181e28e",
   "metadata": {},
   "outputs": [],
   "source": [
    "def fit_and_predict(model, X_train, y_train, X_test):\n",
    "    model = model.fit(X_train, y_train)\n",
    "    prediction = model.predict(X_test)\n",
    "\n",
    "    return prediction"
   ]
  },
  {
   "cell_type": "markdown",
   "id": "da86368f",
   "metadata": {},
   "source": [
    "# Calculate Statistics"
   ]
  },
  {
   "cell_type": "code",
   "execution_count": 102,
   "id": "77b26a87",
   "metadata": {},
   "outputs": [],
   "source": [
    "def calculate_statistics(y_test, pred):\n",
    "    accuracy = metrics.accuracy_score(y_test, pred)\n",
    "    precision = metrics.precision_score(y_test, pred)\n",
    "    recall = metrics.recall_score(y_test, pred)\n",
    "    f1_score1 = metrics.f1_score(y_test, pred)\n",
    "    \n",
    "    \n",
    "    print(f\"Accuracy: {accuracy}\")\n",
    "    print(f\"Precision: {precision}\")\n",
    "    print(f\"Recall: {recall}\")\n",
    "    print(f\"F1-Score: {f1_score1}\")"
   ]
  },
  {
   "cell_type": "markdown",
   "id": "06753f35",
   "metadata": {},
   "source": [
    "# Confusion Matrix"
   ]
  },
  {
   "cell_type": "code",
   "execution_count": 103,
   "id": "306d6989",
   "metadata": {},
   "outputs": [],
   "source": [
    "def display_conf_matrix_graph(y_test, pred):\n",
    "    conf_matrix = confusion_matrix(y_test, pred)\n",
    "    \n",
    "    cm_display = metrics.ConfusionMatrixDisplay(confusion_matrix = conf_matrix, display_labels = [\"Not Paid\", \"Paid\"])\n",
    "    cm_display.plot()"
   ]
  },
  {
   "cell_type": "markdown",
   "id": "ab35e63c",
   "metadata": {},
   "source": []
  },
  {
   "cell_type": "markdown",
   "id": "8550f7b7",
   "metadata": {},
   "source": [
    "# Aplication of a models"
   ]
  },
  {
   "cell_type": "markdown",
   "id": "ef4093a4",
   "metadata": {},
   "source": [
    "## Decision Tree"
   ]
  },
  {
   "cell_type": "markdown",
   "id": "13835c69",
   "metadata": {},
   "source": [
    "### Features : amount, duration and payments\n"
   ]
  },
  {
   "cell_type": "code",
   "execution_count": 104,
   "id": "fb7da822",
   "metadata": {},
   "outputs": [
    {
     "name": "stdout",
     "output_type": "stream",
     "text": [
      "Accuracy: 0.7070707070707071\n",
      "Precision: 0.9027777777777778\n",
      "Recall: 0.7471264367816092\n",
      "F1-Score: 0.8176100628930817\n"
     ]
    },
    {
     "data": {
      "image/png": "[encoded data removed]",
      "text/plain": [
       "<Figure size 640x480 with 2 Axes>"
      ]
     },
     "metadata": {},
     "output_type": "display_data"
    }
   ],
   "source": [
    "\n",
    "features = ['amount', 'duration', 'payments']\n",
    "X = loan[features]\n",
    "y = loan[\"status\"]\n",
    "\n",
    "X_train, X_test, y_train, y_test = split_data(X, y, 0.3)\n",
    "\n",
    "X_train, y_train = smote_sampling(X_train, y_train)\n",
    "\n",
    "dTree = DecisionTreeClassifier()\n",
    "prediction = fit_and_predict(dTree, X_train, y_train, X_test)\n",
    "\n",
    "calculate_statistics(y_test, prediction)\n",
    "display_conf_matrix_graph(y_test, prediction)"
   ]
  },
  {
   "cell_type": "markdown",
   "id": "450681d8",
   "metadata": {},
   "source": [
    "### Features : merged data collumns names without string collumns that are not numerical"
   ]
  },
  {
   "cell_type": "markdown",
   "id": "3a8e1437",
   "metadata": {},
   "source": [
    "#### Merged Data"
   ]
  },
  {
   "cell_type": "code",
   "execution_count": 105,
   "id": "643b86e5",
   "metadata": {},
   "outputs": [
    {
     "name": "stdout",
     "output_type": "stream",
     "text": [
      "['loan_id', 'loan_amount', 'loan_duration', 'loan_payments', 'loan_year', 'client_id', 'birth_year', 'client_age', 'client_gender', 'account_frequency', 'account_year', 'region', 'ratio of urban inhabitants ', 'average salary ', 'criminal growth', 'unemploymant growth', 'enterpreuners ratio', 'trans_amount', 'trans_balance', 'trans_year', 'trans_month', 'trans_day', 'age on loan', 'account age at loan']\n"
     ]
    }
   ],
   "source": [
    "\n",
    "# exclude non-numeric columns\n",
    "merged_data = merged_data.select_dtypes(exclude=['object'])\n",
    "get_collumns_names = list(merged_data)\n",
    "# drop loan_status \n",
    "for index in range(len(get_collumns_names)):\n",
    "    if(get_collumns_names[index] == 'loan_status'):\n",
    "        del get_collumns_names[index]\n",
    "        break\n",
    "print(get_collumns_names)\n",
    "merged_data\n",
    "save_loan_status = merged_data['loan_status']"
   ]
  },
  {
   "cell_type": "code",
   "execution_count": 106,
   "id": "b8f6bc31",
   "metadata": {},
   "outputs": [
    {
     "name": "stdout",
     "output_type": "stream",
     "text": [
      "Features:  ['loan_id', 'loan_amount', 'loan_duration', 'loan_payments', 'loan_year', 'client_id', 'birth_year', 'client_age', 'client_gender', 'account_frequency', 'account_year', 'region', 'ratio of urban inhabitants ', 'average salary ', 'criminal growth', 'unemploymant growth', 'enterpreuners ratio', 'trans_amount', 'trans_balance', 'trans_year', 'trans_month', 'trans_day', 'age on loan', 'account age at loan']\n",
      "Accuracy: 0.676251097453907\n",
      "Precision: 0.9308610936517914\n",
      "Recall: 0.7023950675835903\n",
      "F1-Score: 0.8006487363157183\n"
     ]
    },
    {
     "data": {
      "image/png": "[encoded data removed]",
      "text/plain": [
       "<Figure size 640x480 with 2 Axes>"
      ]
     },
     "metadata": {},
     "output_type": "display_data"
    }
   ],
   "source": [
    "\n",
    "y = merged_data[\"loan_status\"]\n",
    "# drop loan_status from features ( obviously )\n",
    "merged_data.drop(columns=[\"loan_status\"], axis=1, inplace=True)\n",
    "\n",
    "features = get_collumns_names\n",
    "print(\"Features: \", features)\n",
    "X = merged_data[features]\n",
    "\n",
    "X_train, X_test, y_train, y_test = split_data(X, y, 0.3)\n",
    "\n",
    "X_train, y_train = smote_sampling(X_train, y_train)\n",
    "\n",
    "dTree = DecisionTreeClassifier()\n",
    "prediction = fit_and_predict(dTree, X_train, y_train, X_test)\n",
    "\n",
    "calculate_statistics(y_test, prediction)\n",
    "display_conf_matrix_graph(y_test, prediction)"
   ]
  },
  {
   "cell_type": "markdown",
   "id": "7032a8ba",
   "metadata": {},
   "source": [
    "We need to separate date birth day in 3 columns: day, month and year. \n",
    "We need to transform the categorical data in numerical data ( all ?!?)\n",
    "Do this on data preparation and use refined data on data understanding.\n",
    "The merged data, need to be sorted by date of loan ascending order. ( See this )"
   ]
  },
  {
   "cell_type": "markdown",
   "id": "bdb7b511",
   "metadata": {},
   "source": [
    "### Features : ft_feature_matrix_enc_md_2 from preparation phase"
   ]
  },
  {
   "cell_type": "code",
   "execution_count": 127,
   "id": "9f1cad9b",
   "metadata": {},
   "outputs": [
    {
     "name": "stdout",
     "output_type": "stream",
     "text": [
      "0      0.0\n",
      "1      1.0\n",
      "2      1.0\n",
      "3      1.0\n",
      "4      1.0\n",
      "      ... \n",
      "323    1.0\n",
      "324    0.0\n",
      "325    1.0\n",
      "326    1.0\n",
      "327    1.0\n",
      "Name: loan_status, Length: 328, dtype: float64\n",
      "     loan_amount  loan_duration  loan_payments  loan_year  \\\n",
      "0       0.171345           0.00       0.823266        0.0   \n",
      "1       0.301732           0.50       0.457951        0.0   \n",
      "2       0.228857           1.00       0.191996        0.0   \n",
      "3       0.188979           0.50       0.279616        0.0   \n",
      "4       0.505623           1.00       0.454642        0.0   \n",
      "..           ...            ...            ...        ...   \n",
      "323     0.282344           0.75       0.311953        1.0   \n",
      "324     0.407108           1.00       0.361153        1.0   \n",
      "325     0.075056           0.75       0.066062        1.0   \n",
      "326     0.207737           0.50       0.309285        1.0   \n",
      "327     0.233221           0.25       0.541409        1.0   \n",
      "\n",
      "     account.account_frequency  account.account_year  account.COUNT(disp)  \\\n",
      "0                          1.0              0.000000                  0.0   \n",
      "1                          0.5              0.000000                  0.0   \n",
      "2                          0.5              0.000000                  0.0   \n",
      "3                          0.5              0.000000                  0.0   \n",
      "4                          1.0              0.000000                  0.0   \n",
      "..                         ...                   ...                  ...   \n",
      "323                        0.5              0.666667                  1.0   \n",
      "324                        0.5              0.666667                  0.0   \n",
      "325                        0.5              1.000000                  0.0   \n",
      "326                        0.5              0.666667                  0.0   \n",
      "327                        0.5              0.666667                  0.0   \n",
      "\n",
      "     account.NUM_UNIQUE(disp.type)  account.COUNT(loan)  \\\n",
      "0                              0.0                  0.0   \n",
      "1                              0.0                  0.0   \n",
      "2                              0.0                  0.0   \n",
      "3                              0.0                  0.0   \n",
      "4                              0.0                  0.0   \n",
      "..                             ...                  ...   \n",
      "323                            1.0                  0.0   \n",
      "324                            0.0                  0.0   \n",
      "325                            0.0                  0.0   \n",
      "326                            0.0                  0.0   \n",
      "327                            0.0                  0.0   \n",
      "\n",
      "     account.MAX(loan.loan_amount)  ...  \\\n",
      "0                         0.171345  ...   \n",
      "1                         0.301732  ...   \n",
      "2                         0.228857  ...   \n",
      "3                         0.188979  ...   \n",
      "4                         0.505623  ...   \n",
      "..                             ...  ...   \n",
      "323                       0.282344  ...   \n",
      "324                       0.407108  ...   \n",
      "325                       0.075056  ...   \n",
      "326                       0.207737  ...   \n",
      "327                       0.233221  ...   \n",
      "\n",
      "     account.MODE(disp.client.district.MODE(loan.WEEKDAY(loan_date))) = 3  \\\n",
      "0                                                  0.0                      \n",
      "1                                                  0.0                      \n",
      "2                                                  0.0                      \n",
      "3                                                  1.0                      \n",
      "4                                                  0.0                      \n",
      "..                                                 ...                      \n",
      "323                                                0.0                      \n",
      "324                                                1.0                      \n",
      "325                                                0.0                      \n",
      "326                                                0.0                      \n",
      "327                                                0.0                      \n",
      "\n",
      "     account.MODE(disp.client.district.MODE(loan.WEEKDAY(loan_date))) = 6  \\\n",
      "0                                                  0.0                      \n",
      "1                                                  1.0                      \n",
      "2                                                  0.0                      \n",
      "3                                                  0.0                      \n",
      "4                                                  0.0                      \n",
      "..                                                 ...                      \n",
      "323                                                0.0                      \n",
      "324                                                0.0                      \n",
      "325                                                0.0                      \n",
      "326                                                0.0                      \n",
      "327                                                0.0                      \n",
      "\n",
      "     account.MODE(disp.client.district.MODE(loan.WEEKDAY(loan_date))) = 5  \\\n",
      "0                                                  0.0                      \n",
      "1                                                  0.0                      \n",
      "2                                                  0.0                      \n",
      "3                                                  0.0                      \n",
      "4                                                  0.0                      \n",
      "..                                                 ...                      \n",
      "323                                                0.0                      \n",
      "324                                                0.0                      \n",
      "325                                                0.0                      \n",
      "326                                                0.0                      \n",
      "327                                                0.0                      \n",
      "\n",
      "     account.MODE(disp.client.district.MODE(loan.WEEKDAY(loan_date))) = 4  \\\n",
      "0                                                  0.0                      \n",
      "1                                                  0.0                      \n",
      "2                                                  0.0                      \n",
      "3                                                  0.0                      \n",
      "4                                                  0.0                      \n",
      "..                                                 ...                      \n",
      "323                                                0.0                      \n",
      "324                                                0.0                      \n",
      "325                                                0.0                      \n",
      "326                                                0.0                      \n",
      "327                                                0.0                      \n",
      "\n",
      "     account.MODE(disp.client.district.MODE(loan.WEEKDAY(loan_date))) is unknown  \\\n",
      "0                                                  0.0                             \n",
      "1                                                  0.0                             \n",
      "2                                                  0.0                             \n",
      "3                                                  0.0                             \n",
      "4                                                  0.0                             \n",
      "..                                                 ...                             \n",
      "323                                                0.0                             \n",
      "324                                                0.0                             \n",
      "325                                                0.0                             \n",
      "326                                                0.0                             \n",
      "327                                                0.0                             \n",
      "\n",
      "     account.MODE(disp.client.district.MODE(loan.YEAR(loan_date))) = 1994  \\\n",
      "0                                                  0.0                      \n",
      "1                                                  0.0                      \n",
      "2                                                  1.0                      \n",
      "3                                                  0.0                      \n",
      "4                                                  0.0                      \n",
      "..                                                 ...                      \n",
      "323                                                0.0                      \n",
      "324                                                0.0                      \n",
      "325                                                0.0                      \n",
      "326                                                0.0                      \n",
      "327                                                1.0                      \n",
      "\n",
      "     account.MODE(disp.client.district.MODE(loan.YEAR(loan_date))) = 1996  \\\n",
      "0                                                  0.0                      \n",
      "1                                                  0.0                      \n",
      "2                                                  0.0                      \n",
      "3                                                  1.0                      \n",
      "4                                                  0.0                      \n",
      "..                                                 ...                      \n",
      "323                                                0.0                      \n",
      "324                                                0.0                      \n",
      "325                                                1.0                      \n",
      "326                                                1.0                      \n",
      "327                                                0.0                      \n",
      "\n",
      "     account.MODE(disp.client.district.MODE(loan.YEAR(loan_date))) = 1995  \\\n",
      "0                                                  0.0                      \n",
      "1                                                  0.0                      \n",
      "2                                                  0.0                      \n",
      "3                                                  0.0                      \n",
      "4                                                  0.0                      \n",
      "..                                                 ...                      \n",
      "323                                                1.0                      \n",
      "324                                                1.0                      \n",
      "325                                                0.0                      \n",
      "326                                                0.0                      \n",
      "327                                                0.0                      \n",
      "\n",
      "     account.MODE(disp.client.district.MODE(loan.YEAR(loan_date))) = 1993  \\\n",
      "0                                                  1.0                      \n",
      "1                                                  1.0                      \n",
      "2                                                  0.0                      \n",
      "3                                                  0.0                      \n",
      "4                                                  1.0                      \n",
      "..                                                 ...                      \n",
      "323                                                0.0                      \n",
      "324                                                0.0                      \n",
      "325                                                0.0                      \n",
      "326                                                0.0                      \n",
      "327                                                0.0                      \n",
      "\n",
      "     account.MODE(disp.client.district.MODE(loan.YEAR(loan_date))) is unknown  \n",
      "0                                                  0.0                         \n",
      "1                                                  0.0                         \n",
      "2                                                  0.0                         \n",
      "3                                                  0.0                         \n",
      "4                                                  0.0                         \n",
      "..                                                 ...                         \n",
      "323                                                0.0                         \n",
      "324                                                0.0                         \n",
      "325                                                0.0                         \n",
      "326                                                0.0                         \n",
      "327                                                0.0                         \n",
      "\n",
      "[328 rows x 881 columns]\n",
      "Accuracy: 1.0\n",
      "Precision: 1.0\n",
      "Recall: 1.0\n",
      "F1-Score: 1.0\n"
     ]
    },
    {
     "data": {
      "image/png": "[encoded data removed]",
      "text/plain": [
       "<Figure size 640x480 with 2 Axes>"
      ]
     },
     "metadata": {},
     "output_type": "display_data"
    }
   ],
   "source": [
    "\n",
    "from sklearn.model_selection import train_test_split\n",
    "from sklearn.ensemble import AdaBoostClassifier\n",
    "ft_feature_matrix_enc_md_2 = pd.read_csv(\"refined/ft_df_mms_md_2.csv\", sep=\";\", low_memory=False)\n",
    "# drop loan_status from features ( obviously )\n",
    "ft_feature_matrix_enc_md_2 = ft_feature_matrix_enc_md_2.dropna(axis=\"columns\", how=\"any\")\n",
    "\n",
    "features = ft_feature_matrix_enc_md_2.columns\n",
    "features = features.dropna()\n",
    "\n",
    "y=ft_feature_matrix_enc_md_2[\"loan_status\"].copy()\n",
    "print(y)\n",
    "X = ft_feature_matrix_enc_md_2.drop(columns=[\"loan_status\"], axis=1, inplace=False)\n",
    "\n",
    "print(X)\n",
    "\n",
    "X_train, X_test, y_train, y_test = train_test_split(X, y,test_size=0.3, random_state=42, shuffle=False)\n",
    "\n",
    "X_train, y_train = smote_sampling(X_train, y_train)\n",
    "\n",
    "dTree = DecisionTreeClassifier( max_depth=4000, random_state=42, criterion=\"entropy\", max_features='sqrt', min_samples_leaf=1, min_samples_split=2)\n",
    "prediction = fit_and_predict(dTree, X_train, y_train, X_test)\n",
    "\n",
    "calculate_statistics(y_test, prediction)\n",
    "display_conf_matrix_graph(y_test, prediction)"
   ]
  },
  {
   "cell_type": "markdown",
   "id": "e58f5507",
   "metadata": {},
   "source": [
    "## Logistic Regression"
   ]
  },
  {
   "cell_type": "markdown",
   "id": "85cefd60",
   "metadata": {},
   "source": [
    "### Features : amount, duration and payments"
   ]
  },
  {
   "cell_type": "code",
   "execution_count": 108,
   "id": "0a6e3841",
   "metadata": {},
   "outputs": [
    {
     "name": "stdout",
     "output_type": "stream",
     "text": [
      "Accuracy: 0.494949494949495\n",
      "Precision: 0.8627450980392157\n",
      "Recall: 0.5057471264367817\n",
      "F1-Score: 0.6376811594202899\n"
     ]
    },
    {
     "data": {
      "image/png": "[encoded data removed]",
      "text/plain": [
       "<Figure size 640x480 with 2 Axes>"
      ]
     },
     "metadata": {},
     "output_type": "display_data"
    }
   ],
   "source": [
    "features = ['amount', 'duration', 'payments']\n",
    "X = loan[features]\n",
    "y = loan[\"status\"]\n",
    "\n",
    "X_train, X_test, y_train, y_test = split_data(X, y, 0.3)\n",
    "\n",
    "X_train, y_train = smote_sampling(X_train, y_train)\n",
    "\n",
    "logistic_regression = LogisticRegression()\n",
    "prediction = fit_and_predict(logistic_regression, X_train, y_train, X_test)\n",
    "\n",
    "calculate_statistics(y_test, prediction)\n",
    "display_conf_matrix_graph(y_test, prediction)"
   ]
  },
  {
   "cell_type": "markdown",
   "id": "a2f92ff6",
   "metadata": {},
   "source": [
    "### Features : merged data collumns names without string collumns that are not numerical"
   ]
  },
  {
   "cell_type": "code",
   "execution_count": 109,
   "id": "0cead261",
   "metadata": {},
   "outputs": [
    {
     "name": "stdout",
     "output_type": "stream",
     "text": [
      "Features:  ['loan_id', 'loan_amount', 'loan_duration', 'loan_payments', 'loan_year', 'client_id', 'birth_year', 'client_age', 'client_gender', 'account_frequency', 'account_year', 'region', 'ratio of urban inhabitants ', 'average salary ', 'criminal growth', 'unemploymant growth', 'enterpreuners ratio', 'trans_amount', 'trans_balance', 'trans_year', 'trans_month', 'trans_day', 'age on loan', 'account age at loan']\n"
     ]
    },
    {
     "ename": "ValueError",
     "evalue": "Found input variables with inconsistent numbers of samples: [9112, 99]",
     "output_type": "error",
     "traceback": [
      "\u001b[0;31m---------------------------------------------------------------------------\u001b[0m",
      "\u001b[0;31mValueError\u001b[0m                                Traceback (most recent call last)",
      "Cell \u001b[0;32mIn [109], line 13\u001b[0m\n\u001b[1;32m     10\u001b[0m dTree \u001b[39m=\u001b[39m LogisticRegression()\n\u001b[1;32m     11\u001b[0m X_train, X_test, y_train, y_test \u001b[39m=\u001b[39m train_test_split(X, y,test_size\u001b[39m=\u001b[39m\u001b[39m0.3\u001b[39m, random_state\u001b[39m=\u001b[39m\u001b[39m42\u001b[39m, shuffle\u001b[39m=\u001b[39m\u001b[39mFalse\u001b[39;00m)\n\u001b[0;32m---> 13\u001b[0m calculate_statistics(y_test, prediction)\n\u001b[1;32m     14\u001b[0m display_conf_matrix_graph(y_test, prediction)\n",
      "Cell \u001b[0;32mIn [102], line 2\u001b[0m, in \u001b[0;36mcalculate_statistics\u001b[0;34m(y_test, pred)\u001b[0m\n\u001b[1;32m      1\u001b[0m \u001b[39mdef\u001b[39;00m \u001b[39mcalculate_statistics\u001b[39m(y_test, pred):\n\u001b[0;32m----> 2\u001b[0m     accuracy \u001b[39m=\u001b[39m metrics\u001b[39m.\u001b[39;49maccuracy_score(y_test, pred)\n\u001b[1;32m      3\u001b[0m     precision \u001b[39m=\u001b[39m metrics\u001b[39m.\u001b[39mprecision_score(y_test, pred)\n\u001b[1;32m      4\u001b[0m     recall \u001b[39m=\u001b[39m metrics\u001b[39m.\u001b[39mrecall_score(y_test, pred)\n",
      "File \u001b[0;32m~/.local/lib/python3.10/site-packages/sklearn/metrics/_classification.py:211\u001b[0m, in \u001b[0;36maccuracy_score\u001b[0;34m(y_true, y_pred, normalize, sample_weight)\u001b[0m\n\u001b[1;32m    145\u001b[0m \u001b[39m\"\"\"Accuracy classification score.\u001b[39;00m\n\u001b[1;32m    146\u001b[0m \n\u001b[1;32m    147\u001b[0m \u001b[39mIn multilabel classification, this function computes subset accuracy:\u001b[39;00m\n\u001b[0;32m   (...)\u001b[0m\n\u001b[1;32m    207\u001b[0m \u001b[39m0.5\u001b[39;00m\n\u001b[1;32m    208\u001b[0m \u001b[39m\"\"\"\u001b[39;00m\n\u001b[1;32m    210\u001b[0m \u001b[39m# Compute accuracy for each possible representation\u001b[39;00m\n\u001b[0;32m--> 211\u001b[0m y_type, y_true, y_pred \u001b[39m=\u001b[39m _check_targets(y_true, y_pred)\n\u001b[1;32m    212\u001b[0m check_consistent_length(y_true, y_pred, sample_weight)\n\u001b[1;32m    213\u001b[0m \u001b[39mif\u001b[39;00m y_type\u001b[39m.\u001b[39mstartswith(\u001b[39m\"\u001b[39m\u001b[39mmultilabel\u001b[39m\u001b[39m\"\u001b[39m):\n",
      "File \u001b[0;32m~/.local/lib/python3.10/site-packages/sklearn/metrics/_classification.py:84\u001b[0m, in \u001b[0;36m_check_targets\u001b[0;34m(y_true, y_pred)\u001b[0m\n\u001b[1;32m     57\u001b[0m \u001b[39mdef\u001b[39;00m \u001b[39m_check_targets\u001b[39m(y_true, y_pred):\n\u001b[1;32m     58\u001b[0m     \u001b[39m\"\"\"Check that y_true and y_pred belong to the same classification task.\u001b[39;00m\n\u001b[1;32m     59\u001b[0m \n\u001b[1;32m     60\u001b[0m \u001b[39m    This converts multiclass or binary types to a common shape, and raises a\u001b[39;00m\n\u001b[0;32m   (...)\u001b[0m\n\u001b[1;32m     82\u001b[0m \u001b[39m    y_pred : array or indicator matrix\u001b[39;00m\n\u001b[1;32m     83\u001b[0m \u001b[39m    \"\"\"\u001b[39;00m\n\u001b[0;32m---> 84\u001b[0m     check_consistent_length(y_true, y_pred)\n\u001b[1;32m     85\u001b[0m     type_true \u001b[39m=\u001b[39m type_of_target(y_true, input_name\u001b[39m=\u001b[39m\u001b[39m\"\u001b[39m\u001b[39my_true\u001b[39m\u001b[39m\"\u001b[39m)\n\u001b[1;32m     86\u001b[0m     type_pred \u001b[39m=\u001b[39m type_of_target(y_pred, input_name\u001b[39m=\u001b[39m\u001b[39m\"\u001b[39m\u001b[39my_pred\u001b[39m\u001b[39m\"\u001b[39m)\n",
      "File \u001b[0;32m~/.local/lib/python3.10/site-packages/sklearn/utils/validation.py:387\u001b[0m, in \u001b[0;36mcheck_consistent_length\u001b[0;34m(*arrays)\u001b[0m\n\u001b[1;32m    385\u001b[0m uniques \u001b[39m=\u001b[39m np\u001b[39m.\u001b[39munique(lengths)\n\u001b[1;32m    386\u001b[0m \u001b[39mif\u001b[39;00m \u001b[39mlen\u001b[39m(uniques) \u001b[39m>\u001b[39m \u001b[39m1\u001b[39m:\n\u001b[0;32m--> 387\u001b[0m     \u001b[39mraise\u001b[39;00m \u001b[39mValueError\u001b[39;00m(\n\u001b[1;32m    388\u001b[0m         \u001b[39m\"\u001b[39m\u001b[39mFound input variables with inconsistent numbers of samples: \u001b[39m\u001b[39m%r\u001b[39;00m\u001b[39m\"\u001b[39m\n\u001b[1;32m    389\u001b[0m         \u001b[39m%\u001b[39m [\u001b[39mint\u001b[39m(l) \u001b[39mfor\u001b[39;00m l \u001b[39min\u001b[39;00m lengths]\n\u001b[1;32m    390\u001b[0m     )\n",
      "\u001b[0;31mValueError\u001b[0m: Found input variables with inconsistent numbers of samples: [9112, 99]"
     ]
    }
   ],
   "source": [
    "\n",
    "y = save_loan_status\n",
    "features = get_collumns_names\n",
    "print(\"Features: \", features)\n",
    "X = merged_data[features]\n",
    "\n",
    "X_train, X_test, y_train, y_test = split_data(X, y, 0.3)\n",
    "\n",
    "X_train, y_train = smote_sampling(X_train, y_train)\n",
    "\n",
    "dTree = LogisticRegression()\n",
    "X_train, X_test, y_train, y_test = train_test_split(X, y,test_size=0.3, random_state=42, shuffle=False)\n",
    "\n",
    "calculate_statistics(y_test, prediction)\n",
    "display_conf_matrix_graph(y_test, prediction)"
   ]
  },
  {
   "cell_type": "markdown",
   "id": "ddcf4691",
   "metadata": {},
   "source": [
    "### Features : ft_feature_matrix_enc_md_2 from preparation phase"
   ]
  },
  {
   "cell_type": "code",
   "execution_count": null,
   "id": "587c4d34",
   "metadata": {},
   "outputs": [
    {
     "name": "stderr",
     "output_type": "stream",
     "text": [
      "/tmp/ipykernel_395924/1164205892.py:5: FutureWarning: In a future version of pandas all arguments of DataFrame.dropna will be keyword-only.\n",
      "  ft_feature_matrix_enc_md_2 = ft_feature_matrix_enc_md_2.dropna(\"columns\", how=\"any\")\n"
     ]
    },
    {
     "name": "stdout",
     "output_type": "stream",
     "text": [
      "     loan_amount  loan_duration  loan_payments  loan_year  \\\n",
      "0       0.171345           0.00       0.823266        0.0   \n",
      "1       0.301732           0.50       0.457951        0.0   \n",
      "2       0.228857           1.00       0.191996        0.0   \n",
      "3       0.188979           0.50       0.279616        0.0   \n",
      "4       0.505623           1.00       0.454642        0.0   \n",
      "..           ...            ...            ...        ...   \n",
      "323     0.282344           0.75       0.311953        1.0   \n",
      "324     0.407108           1.00       0.361153        1.0   \n",
      "325     0.075056           0.75       0.066062        1.0   \n",
      "326     0.207737           0.50       0.309285        1.0   \n",
      "327     0.233221           0.25       0.541409        1.0   \n",
      "\n",
      "     account.account_frequency  account.account_year  account.COUNT(disp)  \\\n",
      "0                          1.0              0.000000                  0.0   \n",
      "1                          0.5              0.000000                  0.0   \n",
      "2                          0.5              0.000000                  0.0   \n",
      "3                          0.5              0.000000                  0.0   \n",
      "4                          1.0              0.000000                  0.0   \n",
      "..                         ...                   ...                  ...   \n",
      "323                        0.5              0.666667                  1.0   \n",
      "324                        0.5              0.666667                  0.0   \n",
      "325                        0.5              1.000000                  0.0   \n",
      "326                        0.5              0.666667                  0.0   \n",
      "327                        0.5              0.666667                  0.0   \n",
      "\n",
      "     account.NUM_UNIQUE(disp.type)  account.COUNT(loan)  \\\n",
      "0                              0.0                  0.0   \n",
      "1                              0.0                  0.0   \n",
      "2                              0.0                  0.0   \n",
      "3                              0.0                  0.0   \n",
      "4                              0.0                  0.0   \n",
      "..                             ...                  ...   \n",
      "323                            1.0                  0.0   \n",
      "324                            0.0                  0.0   \n",
      "325                            0.0                  0.0   \n",
      "326                            0.0                  0.0   \n",
      "327                            0.0                  0.0   \n",
      "\n",
      "     account.MAX(loan.loan_amount)  ...  \\\n",
      "0                         0.171345  ...   \n",
      "1                         0.301732  ...   \n",
      "2                         0.228857  ...   \n",
      "3                         0.188979  ...   \n",
      "4                         0.505623  ...   \n",
      "..                             ...  ...   \n",
      "323                       0.282344  ...   \n",
      "324                       0.407108  ...   \n",
      "325                       0.075056  ...   \n",
      "326                       0.207737  ...   \n",
      "327                       0.233221  ...   \n",
      "\n",
      "     account.MODE(disp.client.district.MODE(loan.WEEKDAY(loan_date))) = 3  \\\n",
      "0                                                  0.0                      \n",
      "1                                                  0.0                      \n",
      "2                                                  0.0                      \n",
      "3                                                  1.0                      \n",
      "4                                                  0.0                      \n",
      "..                                                 ...                      \n",
      "323                                                0.0                      \n",
      "324                                                1.0                      \n",
      "325                                                0.0                      \n",
      "326                                                0.0                      \n",
      "327                                                0.0                      \n",
      "\n",
      "     account.MODE(disp.client.district.MODE(loan.WEEKDAY(loan_date))) = 6  \\\n",
      "0                                                  0.0                      \n",
      "1                                                  1.0                      \n",
      "2                                                  0.0                      \n",
      "3                                                  0.0                      \n",
      "4                                                  0.0                      \n",
      "..                                                 ...                      \n",
      "323                                                0.0                      \n",
      "324                                                0.0                      \n",
      "325                                                0.0                      \n",
      "326                                                0.0                      \n",
      "327                                                0.0                      \n",
      "\n",
      "     account.MODE(disp.client.district.MODE(loan.WEEKDAY(loan_date))) = 5  \\\n",
      "0                                                  0.0                      \n",
      "1                                                  0.0                      \n",
      "2                                                  0.0                      \n",
      "3                                                  0.0                      \n",
      "4                                                  0.0                      \n",
      "..                                                 ...                      \n",
      "323                                                0.0                      \n",
      "324                                                0.0                      \n",
      "325                                                0.0                      \n",
      "326                                                0.0                      \n",
      "327                                                0.0                      \n",
      "\n",
      "     account.MODE(disp.client.district.MODE(loan.WEEKDAY(loan_date))) = 4  \\\n",
      "0                                                  0.0                      \n",
      "1                                                  0.0                      \n",
      "2                                                  0.0                      \n",
      "3                                                  0.0                      \n",
      "4                                                  0.0                      \n",
      "..                                                 ...                      \n",
      "323                                                0.0                      \n",
      "324                                                0.0                      \n",
      "325                                                0.0                      \n",
      "326                                                0.0                      \n",
      "327                                                0.0                      \n",
      "\n",
      "     account.MODE(disp.client.district.MODE(loan.WEEKDAY(loan_date))) is unknown  \\\n",
      "0                                                  0.0                             \n",
      "1                                                  0.0                             \n",
      "2                                                  0.0                             \n",
      "3                                                  0.0                             \n",
      "4                                                  0.0                             \n",
      "..                                                 ...                             \n",
      "323                                                0.0                             \n",
      "324                                                0.0                             \n",
      "325                                                0.0                             \n",
      "326                                                0.0                             \n",
      "327                                                0.0                             \n",
      "\n",
      "     account.MODE(disp.client.district.MODE(loan.YEAR(loan_date))) = 1994  \\\n",
      "0                                                  0.0                      \n",
      "1                                                  0.0                      \n",
      "2                                                  1.0                      \n",
      "3                                                  0.0                      \n",
      "4                                                  0.0                      \n",
      "..                                                 ...                      \n",
      "323                                                0.0                      \n",
      "324                                                0.0                      \n",
      "325                                                0.0                      \n",
      "326                                                0.0                      \n",
      "327                                                1.0                      \n",
      "\n",
      "     account.MODE(disp.client.district.MODE(loan.YEAR(loan_date))) = 1996  \\\n",
      "0                                                  0.0                      \n",
      "1                                                  0.0                      \n",
      "2                                                  0.0                      \n",
      "3                                                  1.0                      \n",
      "4                                                  0.0                      \n",
      "..                                                 ...                      \n",
      "323                                                0.0                      \n",
      "324                                                0.0                      \n",
      "325                                                1.0                      \n",
      "326                                                1.0                      \n",
      "327                                                0.0                      \n",
      "\n",
      "     account.MODE(disp.client.district.MODE(loan.YEAR(loan_date))) = 1995  \\\n",
      "0                                                  0.0                      \n",
      "1                                                  0.0                      \n",
      "2                                                  0.0                      \n",
      "3                                                  0.0                      \n",
      "4                                                  0.0                      \n",
      "..                                                 ...                      \n",
      "323                                                1.0                      \n",
      "324                                                1.0                      \n",
      "325                                                0.0                      \n",
      "326                                                0.0                      \n",
      "327                                                0.0                      \n",
      "\n",
      "     account.MODE(disp.client.district.MODE(loan.YEAR(loan_date))) = 1993  \\\n",
      "0                                                  1.0                      \n",
      "1                                                  1.0                      \n",
      "2                                                  0.0                      \n",
      "3                                                  0.0                      \n",
      "4                                                  1.0                      \n",
      "..                                                 ...                      \n",
      "323                                                0.0                      \n",
      "324                                                0.0                      \n",
      "325                                                0.0                      \n",
      "326                                                0.0                      \n",
      "327                                                0.0                      \n",
      "\n",
      "     account.MODE(disp.client.district.MODE(loan.YEAR(loan_date))) is unknown  \n",
      "0                                                  0.0                         \n",
      "1                                                  0.0                         \n",
      "2                                                  0.0                         \n",
      "3                                                  0.0                         \n",
      "4                                                  0.0                         \n",
      "..                                                 ...                         \n",
      "323                                                0.0                         \n",
      "324                                                0.0                         \n",
      "325                                                0.0                         \n",
      "326                                                0.0                         \n",
      "327                                                0.0                         \n",
      "\n",
      "[328 rows x 881 columns]\n",
      "Accuracy: 1.0\n",
      "Recall: 1.0\n",
      "F1-Score: 1.0\n"
     ]
    },
    {
     "data": {
      "image/png": "[encoded data removed]",
      "text/plain": [
       "<Figure size 640x480 with 2 Axes>"
      ]
     },
     "metadata": {},
     "output_type": "display_data"
    }
   ],
   "source": [
    "from sklearn.model_selection import train_test_split\n",
    "\n",
    "ft_feature_matrix_enc_md_2 = pd.read_csv(\"refined/ft_df_mms_md_2.csv\", sep=\";\", low_memory=False)\n",
    "# drop loan_status from features ( obviously )\n",
    "ft_feature_matrix_enc_md_2 = ft_feature_matrix_enc_md_2.dropna(\"columns\", how=\"any\")\n",
    "\n",
    "features = ft_feature_matrix_enc_md_2.columns\n",
    "features = features.dropna()\n",
    "\n",
    "y=ft_feature_matrix_enc_md_2[\"loan_status\"].copy()\n",
    "\n",
    "X = ft_feature_matrix_enc_md_2.drop(columns=[\"loan_status\"], axis=1, inplace=False)\n",
    "print(X)\n",
    "\n",
    "X_train, X_test, y_train, y_test = train_test_split(X, y,test_size=0.3, random_state=42, shuffle=False)\n",
    "\n",
    "X_train, y_train = smote_sampling(X_train, y_train)\n",
    "\n",
    "dTree = LogisticRegression()\n",
    "prediction = fit_and_predict(dTree, X_train, y_train, X_test)\n",
    "\n",
    "calculate_statistics(y_test, prediction)\n",
    "display_conf_matrix_graph(y_test, prediction)"
   ]
  },
  {
   "cell_type": "markdown",
   "id": "e5548fce",
   "metadata": {},
   "source": [
    "## Support Vector Machine - Linear"
   ]
  },
  {
   "cell_type": "markdown",
   "id": "34a5cd59",
   "metadata": {},
   "source": [
    "### Features : amount, duration and payments"
   ]
  },
  {
   "cell_type": "code",
   "execution_count": null,
   "id": "399651c4",
   "metadata": {},
   "outputs": [
    {
     "name": "stdout",
     "output_type": "stream",
     "text": [
      "Accuracy: 0.41414141414141414\n",
      "Precision: 0.8717948717948718\n",
      "Recall: 0.39080459770114945\n",
      "F1-Score: 0.5396825396825398\n"
     ]
    },
    {
     "data": {
      "image/png": "[encoded data removed]",
      "text/plain": [
       "<Figure size 432x288 with 2 Axes>"
      ]
     },
     "metadata": {
      "needs_background": "light"
     },
     "output_type": "display_data"
    }
   ],
   "source": [
    "from sklearn import svm\n",
    "features = ['amount', 'duration', 'payments']\n",
    "X = loan[features]\n",
    "y = loan[\"status\"]\n",
    "X= X.to_numpy()\n",
    "y = y.to_numpy()\n",
    "\n",
    "X_train, X_test, y_train, y_test = split_data(X, y, 0.3)\n",
    "\n",
    "X_train, y_train = smote_sampling(X_train, y_train)\n",
    "\n",
    "# Default values for C and gamma\n",
    "svm_linear = svm.SVC(kernel='linear')\n",
    "prediction = fit_and_predict(svm_linear, X_train, y_train, X_test)\n",
    "\n",
    "calculate_statistics(y_test, prediction)\n",
    "display_conf_matrix_graph(y_test, prediction)"
   ]
  },
  {
   "cell_type": "markdown",
   "id": "3bc3579a",
   "metadata": {},
   "source": [
    "### Features : ft_feature_matrix_enc_md_2 from preparation phase"
   ]
  },
  {
   "cell_type": "code",
   "execution_count": null,
   "id": "a468d3f0",
   "metadata": {},
   "outputs": [
    {
     "name": "stderr",
     "output_type": "stream",
     "text": [
      "/tmp/ipykernel_371223/1242646623.py:5: FutureWarning: In a future version of pandas all arguments of DataFrame.dropna will be keyword-only.\n",
      "  ft_feature_matrix_enc_md_2 = ft_feature_matrix_enc_md_2.dropna(\"columns\", how=\"all\")\n"
     ]
    },
    {
     "name": "stdout",
     "output_type": "stream",
     "text": [
      "     loan_amount  loan_duration  loan_payments  loan_year  \\\n",
      "0          96396             12           8033       1993   \n",
      "1         165960             36           4610       1993   \n",
      "2         127080             60           2118       1993   \n",
      "3         105804             36           2939       1993   \n",
      "4         274740             60           4579       1993   \n",
      "..           ...            ...            ...        ...   \n",
      "323       155616             48           3242       1996   \n",
      "324       222180             60           3703       1996   \n",
      "325        45024             48            938       1996   \n",
      "326       115812             36           3217       1996   \n",
      "327       129408             24           5392       1996   \n",
      "\n",
      "     account.account_frequency  account.account_year  account.COUNT(disp)  \\\n",
      "0                            2                  1993                    1   \n",
      "1                            1                  1993                    1   \n",
      "2                            1                  1993                    1   \n",
      "3                            1                  1993                    1   \n",
      "4                            2                  1993                    1   \n",
      "..                         ...                   ...                  ...   \n",
      "323                          1                  1995                    2   \n",
      "324                          1                  1995                    1   \n",
      "325                          1                  1996                    1   \n",
      "326                          1                  1995                    1   \n",
      "327                          1                  1995                    1   \n",
      "\n",
      "     account.NUM_UNIQUE(disp.type)  account.COUNT(loan)  \\\n",
      "0                                1                    1   \n",
      "1                                1                    1   \n",
      "2                                1                    1   \n",
      "3                                1                    1   \n",
      "4                                1                    1   \n",
      "..                             ...                  ...   \n",
      "323                              2                    1   \n",
      "324                              1                    1   \n",
      "325                              1                    1   \n",
      "326                              1                    1   \n",
      "327                              1                    1   \n",
      "\n",
      "     account.MAX(loan.loan_amount)  ...  account.WEEKDAY(account_date) = 2  \\\n",
      "0                          96396.0  ...                              False   \n",
      "1                         165960.0  ...                              False   \n",
      "2                         127080.0  ...                              False   \n",
      "3                         105804.0  ...                              False   \n",
      "4                         274740.0  ...                              False   \n",
      "..                             ...  ...                                ...   \n",
      "323                       155616.0  ...                              False   \n",
      "324                       222180.0  ...                               True   \n",
      "325                        45024.0  ...                              False   \n",
      "326                       115812.0  ...                              False   \n",
      "327                       129408.0  ...                              False   \n",
      "\n",
      "     account.WEEKDAY(account_date) = 4  account.WEEKDAY(account_date) = 3  \\\n",
      "0                                False                              False   \n",
      "1                                False                              False   \n",
      "2                                False                              False   \n",
      "3                                False                              False   \n",
      "4                                False                              False   \n",
      "..                                 ...                                ...   \n",
      "323                              False                              False   \n",
      "324                              False                              False   \n",
      "325                              False                              False   \n",
      "326                              False                              False   \n",
      "327                              False                              False   \n",
      "\n",
      "     account.WEEKDAY(account_date) = 1  \\\n",
      "0                                False   \n",
      "1                                False   \n",
      "2                                False   \n",
      "3                                False   \n",
      "4                                False   \n",
      "..                                 ...   \n",
      "323                              False   \n",
      "324                              False   \n",
      "325                               True   \n",
      "326                              False   \n",
      "327                              False   \n",
      "\n",
      "     account.WEEKDAY(account_date) is unknown  \\\n",
      "0                                       False   \n",
      "1                                       False   \n",
      "2                                       False   \n",
      "3                                       False   \n",
      "4                                       False   \n",
      "..                                        ...   \n",
      "323                                     False   \n",
      "324                                     False   \n",
      "325                                     False   \n",
      "326                                     False   \n",
      "327                                     False   \n",
      "\n",
      "     account.YEAR(account_date) = 1993  account.YEAR(account_date) = 1995  \\\n",
      "0                                 True                              False   \n",
      "1                                 True                              False   \n",
      "2                                 True                              False   \n",
      "3                                 True                              False   \n",
      "4                                 True                              False   \n",
      "..                                 ...                                ...   \n",
      "323                              False                               True   \n",
      "324                              False                               True   \n",
      "325                              False                              False   \n",
      "326                              False                               True   \n",
      "327                              False                               True   \n",
      "\n",
      "     account.YEAR(account_date) = 1994  account.YEAR(account_date) = 1996  \\\n",
      "0                                False                              False   \n",
      "1                                False                              False   \n",
      "2                                False                              False   \n",
      "3                                False                              False   \n",
      "4                                False                              False   \n",
      "..                                 ...                                ...   \n",
      "323                              False                              False   \n",
      "324                              False                              False   \n",
      "325                              False                               True   \n",
      "326                              False                              False   \n",
      "327                              False                              False   \n",
      "\n",
      "     account.YEAR(account_date) is unknown  \n",
      "0                                    False  \n",
      "1                                    False  \n",
      "2                                    False  \n",
      "3                                    False  \n",
      "4                                    False  \n",
      "..                                     ...  \n",
      "323                                  False  \n",
      "324                                  False  \n",
      "325                                  False  \n",
      "326                                  False  \n",
      "327                                  False  \n",
      "\n",
      "[328 rows x 177 columns]\n"
     ]
    },
    {
     "ename": "",
     "evalue": "",
     "output_type": "error",
     "traceback": [
      "\u001b[1;31mCanceled future for execute_request message before replies were done"
     ]
    }
   ],
   "source": [
    "from sklearn.model_selection import train_test_split\n",
    "from sklearn import svm\n",
    "ft_feature_matrix_enc_md_2 = pd.read_csv(\"refined/feature_matrix_enc_md_2.csv\", sep=\";\", low_memory=False)\n",
    "# drop loan_status from features ( obviously )\n",
    "ft_feature_matrix_enc_md_2 = ft_feature_matrix_enc_md_2.dropna(\"columns\", how=\"all\")\n",
    "\n",
    "features = ft_feature_matrix_enc_md_2.columns\n",
    "features = features.dropna()\n",
    "\n",
    "y=ft_feature_matrix_enc_md_2[\"loan_status\"].copy()\n",
    "\n",
    "X = ft_feature_matrix_enc_md_2.drop(columns=[\"loan_status\"], axis=1, inplace=False)\n",
    "print(X)\n",
    "\n",
    "X_train, X_test, y_train, y_test = train_test_split(X, y,test_size=0.3, random_state=42, shuffle=False)\n",
    "\n",
    "X_train, y_train = smote_sampling(X_train, y_train)\n",
    "\n",
    "svm_linear = svm.SVC(kernel='linear')\n",
    "prediction = fit_and_predict(svm_linear, X_train, y_train, X_test)\n",
    "\n",
    "calculate_statistics(y_test, prediction)\n",
    "display_conf_matrix_graph(y_test, prediction)"
   ]
  },
  {
   "cell_type": "markdown",
   "id": "0f4283b3",
   "metadata": {},
   "source": [
    "A good idea is to tunne C, Gamma and Kernel parameters ( and others) depending on the data and the chosen SVM model."
   ]
  },
  {
   "cell_type": "markdown",
   "id": "9c12ff8e",
   "metadata": {},
   "source": [
    "### Features : merged data collumns names without string collumns that are not numerical"
   ]
  },
  {
   "cell_type": "code",
   "execution_count": null,
   "id": "b4109a15",
   "metadata": {},
   "outputs": [],
   "source": [
    "y = save_loan_status\n",
    "features = get_collumns_names\n",
    "print(\"Features: \", features)\n",
    "X = merged_data[features]\n",
    "X= X.to_numpy()\n",
    "y = y.to_numpy()\n",
    "X_train, X_test, y_train, y_test = split_data(X, y, 0.3)\n",
    "\n",
    "X_train, y_train = smote_sampling(X_train, y_train)\n",
    "\n",
    "# Default values for SVM linear parameters\n",
    "svm_linear = svm.SVC(kernel=\"linear\")\n",
    "prediction = fit_and_predict(svm_linear, X_train, y_train, X_test)\n",
    "\n",
    "calculate_statistics(y_test, prediction)\n",
    "display_conf_matrix_graph(y_test, prediction)"
   ]
  },
  {
   "cell_type": "markdown",
   "id": "13d836e7",
   "metadata": {},
   "source": [
    "## Support Vector Machine - Non Linear"
   ]
  },
  {
   "cell_type": "markdown",
   "id": "461d41bd",
   "metadata": {},
   "source": [
    "### Features : amount, duration and payments"
   ]
  },
  {
   "cell_type": "code",
   "execution_count": null,
   "id": "6077f864",
   "metadata": {},
   "outputs": [],
   "source": [
    "features = ['amount', 'duration', 'payments']\n",
    "X = loan[features]\n",
    "y = loan[\"status\"]\n",
    "# Use numpy matrix to improve performance\n",
    "X= X.to_numpy()\n",
    "y = y.to_numpy()\n",
    "\n",
    "X_train, X_test, y_train, y_test = split_data(X, y, 0.3)\n",
    "\n",
    "X_train, y_train = smote_sampling(X_train, y_train)\n",
    "\n",
    "# Default values for SVM non-linear parameters\n",
    "svm_non_linear = svm.SVC(kernel=\"rbf\")\n",
    "prediction = fit_and_predict(svm_non_linear, X_train, y_train, X_test)\n",
    "\n",
    "calculate_statistics(y_test, prediction)\n",
    "display_conf_matrix_graph(y_test, prediction)"
   ]
  },
  {
   "cell_type": "markdown",
   "id": "2c83cf33",
   "metadata": {},
   "source": [
    "What is happening with the data? Why the model is not working?"
   ]
  },
  {
   "cell_type": "markdown",
   "id": "b3504a4f",
   "metadata": {},
   "source": [
    "### Features : merged data collumns names without string collumns that are not numerical"
   ]
  },
  {
   "cell_type": "code",
   "execution_count": null,
   "id": "77131a67",
   "metadata": {},
   "outputs": [],
   "source": [
    "y = save_loan_status\n",
    "features = get_collumns_names\n",
    "print(\"Features: \", features)\n",
    "X = merged_data[features]\n",
    "X= X.to_numpy()\n",
    "y = y.to_numpy()\n",
    "X_train, X_test, y_train, y_test = split_data(X, y, 0.3)\n",
    "\n",
    "X_train, y_train = smote_sampling(X_train, y_train)\n",
    "\n",
    "# Default values for SVM non-linear parameters\n",
    "svm_non_linear = svm.SVC(kernel=\"rbf\")\n",
    "prediction = fit_and_predict(svm_non_linear, X_train, y_train, X_test)\n",
    "\n",
    "calculate_statistics(y_test, prediction)\n",
    "display_conf_matrix_graph(y_test, prediction)"
   ]
  },
  {
   "cell_type": "markdown",
   "id": "21c7725a",
   "metadata": {},
   "source": [
    "We need parameters tuning and better feature selection, data preparation and or data understanding.\n",
    "Check on all models what is the positive and negative class and the confusion matrix not random ! Data sorted by date of loan ascending order. ( See this )\n",
    "Experimentar várias estratégias de sampling, como por exemplo, undersampling, oversampling, SMOTE, etc.\n",
    "Validatin after test, not before. ( See this ) ?!!?\n",
    "Featuring enginnering, feature selection !!!! ( See this )\n",
    "Descriptive modeling : clustering, PCA, etc. ( See this )\n",
    "No fundo: passar por todos os passos das teóricas de data mining, e ver o que se pode fazer para melhorar os resultados. ( See this )\n",
    "Tests with different models, and different parameters. ( See this )\n",
    "Tests need to be about loans in the future comparing with the data training !!!!\n",
    "New feature: loan amount / duration\n",
    "New feature: loan amount / payments\n",
    "New feature: loan amount / payments / duration\n",
    "New feature: number of clients with the same account with loan\n",
    "New feature: try to calculate \"taxa de esforço\" ou algo parecido\n",
    "New feature : get month balance, calculate the average and compare with the loan month payment -> sum the value of the loan payment\n",
    "Maybe delete the type of transaction !!!\n",
    "-> See the formulas used by banks !!!\n",
    "See account_frequency: meaning and maybe changing to numerical values"
   ]
  },
  {
   "cell_type": "markdown",
   "id": "89c6e347",
   "metadata": {},
   "source": []
  },
  {
   "cell_type": "code",
   "execution_count": null,
   "id": "8a6f8732",
   "metadata": {},
   "outputs": [
    {
     "name": "stderr",
     "output_type": "stream",
     "text": [
      "/tmp/ipykernel_395924/3601622644.py:7: FutureWarning: In a future version of pandas all arguments of DataFrame.dropna will be keyword-only.\n",
      "  ft_feature_matrix_enc_md_2 = ft_feature_matrix_enc_md_2.dropna(\"columns\", how=\"any\")\n"
     ]
    },
    {
     "name": "stdout",
     "output_type": "stream",
     "text": [
      "     loan_amount  loan_duration  loan_payments  loan_year  \\\n",
      "0      -0.141304           -1.0       1.173919       -1.0   \n",
      "1       0.392686            0.0       0.206697       -1.0   \n",
      "2       0.094234            1.0      -0.497457       -1.0   \n",
      "3      -0.069086            0.0      -0.265470       -1.0   \n",
      "4       1.227708            1.0       0.197937       -1.0   \n",
      "..           ...            ...            ...        ...   \n",
      "323     0.313283            0.5      -0.179853        0.5   \n",
      "324     0.824245            1.0      -0.049590        0.5   \n",
      "325    -0.535648            0.5      -0.830884        0.5   \n",
      "326     0.007738            0.0      -0.186917        0.5   \n",
      "327     0.112104           -0.5       0.427663        0.5   \n",
      "\n",
      "     account.account_frequency  account.account_year  account_id = 11362  \\\n",
      "0                          1.0                  -0.5                 0.0   \n",
      "1                          0.0                  -0.5                 0.0   \n",
      "2                          0.0                  -0.5                 0.0   \n",
      "3                          0.0                  -0.5                 0.0   \n",
      "4                          1.0                  -0.5                 0.0   \n",
      "..                         ...                   ...                 ...   \n",
      "323                        0.0                   0.5                 0.0   \n",
      "324                        0.0                   0.5                 0.0   \n",
      "325                        0.0                   1.0                 0.0   \n",
      "326                        0.0                   0.5                 0.0   \n",
      "327                        0.0                   0.5                 1.0   \n",
      "\n",
      "     account_id = 11359  account_id = 11349  account_id = 11265  ...  \\\n",
      "0                   0.0                 0.0                 0.0  ...   \n",
      "1                   0.0                 0.0                 0.0  ...   \n",
      "2                   0.0                 0.0                 0.0  ...   \n",
      "3                   0.0                 0.0                 0.0  ...   \n",
      "4                   0.0                 0.0                 0.0  ...   \n",
      "..                  ...                 ...                 ...  ...   \n",
      "323                 0.0                 0.0                 0.0  ...   \n",
      "324                 0.0                 0.0                 0.0  ...   \n",
      "325                 0.0                 0.0                 0.0  ...   \n",
      "326                 0.0                 0.0                 0.0  ...   \n",
      "327                 0.0                 0.0                 0.0  ...   \n",
      "\n",
      "     account.account_district_id = 64  account.account_district_id = 74  \\\n",
      "0                                 0.0                               0.0   \n",
      "1                                 0.0                               0.0   \n",
      "2                                 0.0                               0.0   \n",
      "3                                 0.0                               0.0   \n",
      "4                                 0.0                               0.0   \n",
      "..                                ...                               ...   \n",
      "323                               0.0                               0.0   \n",
      "324                               0.0                               0.0   \n",
      "325                               0.0                               0.0   \n",
      "326                               0.0                               0.0   \n",
      "327                               0.0                               0.0   \n",
      "\n",
      "     account.account_district_id = 72  account.account_district_id = 70  \\\n",
      "0                                 0.0                               0.0   \n",
      "1                                 0.0                               0.0   \n",
      "2                                 0.0                               0.0   \n",
      "3                                 0.0                               0.0   \n",
      "4                                 0.0                               0.0   \n",
      "..                                ...                               ...   \n",
      "323                               1.0                               0.0   \n",
      "324                               0.0                               0.0   \n",
      "325                               0.0                               1.0   \n",
      "326                               0.0                               0.0   \n",
      "327                               0.0                               0.0   \n",
      "\n",
      "     account.account_district_id = 54  account.account_district_id = 52  \\\n",
      "0                                 0.0                               0.0   \n",
      "1                                 0.0                               0.0   \n",
      "2                                 0.0                               0.0   \n",
      "3                                 0.0                               0.0   \n",
      "4                                 0.0                               0.0   \n",
      "..                                ...                               ...   \n",
      "323                               0.0                               0.0   \n",
      "324                               0.0                               0.0   \n",
      "325                               0.0                               0.0   \n",
      "326                               0.0                               0.0   \n",
      "327                               0.0                               0.0   \n",
      "\n",
      "     account.account_district_id = 38  account.account_district_id = 31  \\\n",
      "0                                 0.0                               0.0   \n",
      "1                                 0.0                               0.0   \n",
      "2                                 0.0                               0.0   \n",
      "3                                 0.0                               0.0   \n",
      "4                                 0.0                               0.0   \n",
      "..                                ...                               ...   \n",
      "323                               0.0                               0.0   \n",
      "324                               0.0                               0.0   \n",
      "325                               0.0                               0.0   \n",
      "326                               0.0                               0.0   \n",
      "327                               0.0                               0.0   \n",
      "\n",
      "     account.account_district_id = 11  account.account_district_id is unknown  \n",
      "0                                 0.0                                     0.0  \n",
      "1                                 0.0                                     0.0  \n",
      "2                                 0.0                                     0.0  \n",
      "3                                 0.0                                     0.0  \n",
      "4                                 0.0                                    -1.0  \n",
      "..                                ...                                     ...  \n",
      "323                               0.0                                    -1.0  \n",
      "324                               0.0                                     0.0  \n",
      "325                               0.0                                    -1.0  \n",
      "326                               0.0                                     0.0  \n",
      "327                               0.0                                     0.0  \n",
      "\n",
      "[328 rows x 63 columns]\n"
     ]
    },
    {
     "ename": "ValueError",
     "evalue": "pos_label=1 is not a valid label. It should be one of [-1.0, 0.0]",
     "output_type": "error",
     "traceback": [
      "\u001b[0;31m---------------------------------------------------------------------------\u001b[0m",
      "\u001b[0;31mValueError\u001b[0m                                Traceback (most recent call last)",
      "Cell \u001b[0;32mIn [72], line 23\u001b[0m\n\u001b[1;32m     20\u001b[0m model\u001b[39m=\u001b[39m KNeighborsClassifier(n_neighbors\u001b[39m=\u001b[39m\u001b[39m1\u001b[39m)\n\u001b[1;32m     21\u001b[0m prediction \u001b[39m=\u001b[39m fit_and_predict(model, X_train, y_train, X_test)\n\u001b[0;32m---> 23\u001b[0m calculate_statistics(y_test, prediction)\n\u001b[1;32m     24\u001b[0m display_conf_matrix_graph(y_test, prediction)\n",
      "Cell \u001b[0;32mIn [45], line 4\u001b[0m, in \u001b[0;36mcalculate_statistics\u001b[0;34m(y_test, pred)\u001b[0m\n\u001b[1;32m      2\u001b[0m accuracy \u001b[39m=\u001b[39m metrics\u001b[39m.\u001b[39maccuracy_score(y_test, pred)\n\u001b[1;32m      3\u001b[0m \u001b[39m#precision = metrics.precision_score(y_test, pred)\u001b[39;00m\n\u001b[0;32m----> 4\u001b[0m recall \u001b[39m=\u001b[39m metrics\u001b[39m.\u001b[39;49mrecall_score(y_test, pred)\n\u001b[1;32m      5\u001b[0m f1_score1 \u001b[39m=\u001b[39m metrics\u001b[39m.\u001b[39mf1_score(y_test, pred)\n\u001b[1;32m      8\u001b[0m \u001b[39mprint\u001b[39m(\u001b[39mf\u001b[39m\u001b[39m\"\u001b[39m\u001b[39mAccuracy: \u001b[39m\u001b[39m{\u001b[39;00maccuracy\u001b[39m}\u001b[39;00m\u001b[39m\"\u001b[39m)\n",
      "File \u001b[0;32m~/.local/lib/python3.10/site-packages/sklearn/metrics/_classification.py:1920\u001b[0m, in \u001b[0;36mrecall_score\u001b[0;34m(y_true, y_pred, labels, pos_label, average, sample_weight, zero_division)\u001b[0m\n\u001b[1;32m   1789\u001b[0m \u001b[39mdef\u001b[39;00m \u001b[39mrecall_score\u001b[39m(\n\u001b[1;32m   1790\u001b[0m     y_true,\n\u001b[1;32m   1791\u001b[0m     y_pred,\n\u001b[0;32m   (...)\u001b[0m\n\u001b[1;32m   1797\u001b[0m     zero_division\u001b[39m=\u001b[39m\u001b[39m\"\u001b[39m\u001b[39mwarn\u001b[39m\u001b[39m\"\u001b[39m,\n\u001b[1;32m   1798\u001b[0m ):\n\u001b[1;32m   1799\u001b[0m     \u001b[39m\"\"\"Compute the recall.\u001b[39;00m\n\u001b[1;32m   1800\u001b[0m \n\u001b[1;32m   1801\u001b[0m \u001b[39m    The recall is the ratio ``tp / (tp + fn)`` where ``tp`` is the number of\u001b[39;00m\n\u001b[0;32m   (...)\u001b[0m\n\u001b[1;32m   1918\u001b[0m \u001b[39m    array([1. , 1. , 0.5])\u001b[39;00m\n\u001b[1;32m   1919\u001b[0m \u001b[39m    \"\"\"\u001b[39;00m\n\u001b[0;32m-> 1920\u001b[0m     _, r, _, _ \u001b[39m=\u001b[39m precision_recall_fscore_support(\n\u001b[1;32m   1921\u001b[0m         y_true,\n\u001b[1;32m   1922\u001b[0m         y_pred,\n\u001b[1;32m   1923\u001b[0m         labels\u001b[39m=\u001b[39;49mlabels,\n\u001b[1;32m   1924\u001b[0m         pos_label\u001b[39m=\u001b[39;49mpos_label,\n\u001b[1;32m   1925\u001b[0m         average\u001b[39m=\u001b[39;49maverage,\n\u001b[1;32m   1926\u001b[0m         warn_for\u001b[39m=\u001b[39;49m(\u001b[39m\"\u001b[39;49m\u001b[39mrecall\u001b[39;49m\u001b[39m\"\u001b[39;49m,),\n\u001b[1;32m   1927\u001b[0m         sample_weight\u001b[39m=\u001b[39;49msample_weight,\n\u001b[1;32m   1928\u001b[0m         zero_division\u001b[39m=\u001b[39;49mzero_division,\n\u001b[1;32m   1929\u001b[0m     )\n\u001b[1;32m   1930\u001b[0m     \u001b[39mreturn\u001b[39;00m r\n",
      "File \u001b[0;32m~/.local/lib/python3.10/site-packages/sklearn/metrics/_classification.py:1563\u001b[0m, in \u001b[0;36mprecision_recall_fscore_support\u001b[0;34m(y_true, y_pred, beta, labels, pos_label, average, warn_for, sample_weight, zero_division)\u001b[0m\n\u001b[1;32m   1561\u001b[0m \u001b[39mif\u001b[39;00m beta \u001b[39m<\u001b[39m \u001b[39m0\u001b[39m:\n\u001b[1;32m   1562\u001b[0m     \u001b[39mraise\u001b[39;00m \u001b[39mValueError\u001b[39;00m(\u001b[39m\"\u001b[39m\u001b[39mbeta should be >=0 in the F-beta score\u001b[39m\u001b[39m\"\u001b[39m)\n\u001b[0;32m-> 1563\u001b[0m labels \u001b[39m=\u001b[39m _check_set_wise_labels(y_true, y_pred, average, labels, pos_label)\n\u001b[1;32m   1565\u001b[0m \u001b[39m# Calculate tp_sum, pred_sum, true_sum ###\u001b[39;00m\n\u001b[1;32m   1566\u001b[0m samplewise \u001b[39m=\u001b[39m average \u001b[39m==\u001b[39m \u001b[39m\"\u001b[39m\u001b[39msamples\u001b[39m\u001b[39m\"\u001b[39m\n",
      "File \u001b[0;32m~/.local/lib/python3.10/site-packages/sklearn/metrics/_classification.py:1372\u001b[0m, in \u001b[0;36m_check_set_wise_labels\u001b[0;34m(y_true, y_pred, average, labels, pos_label)\u001b[0m\n\u001b[1;32m   1370\u001b[0m     \u001b[39mif\u001b[39;00m pos_label \u001b[39mnot\u001b[39;00m \u001b[39min\u001b[39;00m present_labels:\n\u001b[1;32m   1371\u001b[0m         \u001b[39mif\u001b[39;00m \u001b[39mlen\u001b[39m(present_labels) \u001b[39m>\u001b[39m\u001b[39m=\u001b[39m \u001b[39m2\u001b[39m:\n\u001b[0;32m-> 1372\u001b[0m             \u001b[39mraise\u001b[39;00m \u001b[39mValueError\u001b[39;00m(\n\u001b[1;32m   1373\u001b[0m                 \u001b[39mf\u001b[39m\u001b[39m\"\u001b[39m\u001b[39mpos_label=\u001b[39m\u001b[39m{\u001b[39;00mpos_label\u001b[39m}\u001b[39;00m\u001b[39m is not a valid label. It \u001b[39m\u001b[39m\"\u001b[39m\n\u001b[1;32m   1374\u001b[0m                 \u001b[39mf\u001b[39m\u001b[39m\"\u001b[39m\u001b[39mshould be one of \u001b[39m\u001b[39m{\u001b[39;00mpresent_labels\u001b[39m}\u001b[39;00m\u001b[39m\"\u001b[39m\n\u001b[1;32m   1375\u001b[0m             )\n\u001b[1;32m   1376\u001b[0m     labels \u001b[39m=\u001b[39m [pos_label]\n\u001b[1;32m   1377\u001b[0m \u001b[39melse\u001b[39;00m:\n",
      "\u001b[0;31mValueError\u001b[0m: pos_label=1 is not a valid label. It should be one of [-1.0, 0.0]"
     ]
    }
   ],
   "source": [
    "from catboost import CatBoostRegressor\n",
    "from sklearn.neighbors import KNeighborsClassifier\n",
    "from sklearn.model_selection import train_test_split\n",
    "from sklearn import svm\n",
    "ft_feature_matrix_enc_md_2 = pd.read_csv(\"refined/ft_df_mms_md_2.csv\", sep=\";\", low_memory=False)\n",
    "# drop loan_status from features ( obviously )\n",
    "ft_feature_matrix_enc_md_2 = ft_feature_matrix_enc_md_2.dropna(\"columns\", how=\"any\")\n",
    "\n",
    "features = ft_feature_matrix_enc_md_2.columns\n",
    "features = features.dropna()\n",
    "\n",
    "y=ft_feature_matrix_enc_md_2[\"loan_status\"].copy()\n",
    "\n",
    "X = ft_feature_matrix_enc_md_2.drop(columns=[\"loan_status\"], axis=1, inplace=False)\n",
    "print(X)\n",
    "\n",
    "X_train, X_test, y_train, y_test = train_test_split(X, y,test_size=0.3, random_state=42, shuffle=False)\n",
    "\n",
    "X_train, y_train = smote_sampling(X_train, y_train)\n",
    "model= KNeighborsClassifier(n_neighbors=1)\n",
    "prediction = fit_and_predict(model, X_train, y_train, X_test)\n",
    "\n",
    "calculate_statistics(y_test, prediction)\n",
    "display_conf_matrix_graph(y_test, prediction)"
   ]
  }
 ],
 "metadata": {
  "kernelspec": {
   "display_name": "Python 3 (ipykernel)",
   "language": "python",
   "name": "python3"
  },
  "language_info": {
   "codemirror_mode": {
    "name": "ipython",
    "version": 3
   },
   "file_extension": ".py",
   "mimetype": "text/x-python",
   "name": "python",
   "nbconvert_exporter": "python",
   "pygments_lexer": "ipython3",
   "version": "3.10.6"
  },
  "vscode": {
   "interpreter": {
    "hash": "916dbcbb3f70747c44a77c7bcd40155683ae19c65e1c03b4aa3499c5328201f1"
   }
  }
 },
 "nbformat": 4,
 "nbformat_minor": 5
}
