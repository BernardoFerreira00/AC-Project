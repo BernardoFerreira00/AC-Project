{
 "cells": [
  {
   "cell_type": "markdown",
   "id": "36e94a22",
   "metadata": {},
   "source": [
    "# Import Data"
   ]
  },
  {
   "cell_type": "code",
   "execution_count": 1,
   "id": "44c3730b",
   "metadata": {},
   "outputs": [
    {
     "name": "stdout",
     "output_type": "stream",
     "text": [
      "(30373, 29)\n"
     ]
    }
   ],
   "source": [
    "import pandas as pd\n",
    "from sklearn import tree\n",
    "from sklearn.tree import DecisionTreeClassifier\n",
    "from sklearn.linear_model import LogisticRegression\n",
    "\n",
    "from imblearn.over_sampling import SMOTE\n",
    "\n",
    "from sklearn.model_selection import train_test_split, StratifiedKFold\n",
    "from sklearn import metrics\n",
    "import matplotlib.pyplot as plt\n",
    "import sys\n",
    "from sqlalchemy import create_engine\n",
    "from sklearn.metrics import confusion_matrix\n",
    "import matplotlib.pyplot as plt\n",
    "\n",
    "import numpy as np \n",
    "\n",
    "\n",
    "account = pd.read_csv(\"data/account.csv\", sep=\";\")\n",
    "card = pd.read_csv(\"data/card_dev.csv\", sep=\";\")\n",
    "client = pd.read_csv(\"data/client.csv\", sep=\";\")\n",
    "disposition = pd.read_csv(\"data/disp.csv\", sep=\";\")\n",
    "demograph = pd.read_csv(\"data/district.csv\",sep=\";\")\n",
    "loan = pd.read_csv(\"data/loan_dev.csv\", sep=\";\")\n",
    "transactions = pd.read_csv(\"data/trans_dev.csv\",sep=\";\", low_memory=False)\n",
    "merged_data = pd.read_csv(\"refined/final_data.csv\", sep=\";\")\n",
    "\n",
    "print(merged_data.shape)"
   ]
  },
  {
   "cell_type": "markdown",
   "id": "4889b501",
   "metadata": {},
   "source": [
    "# Split Data"
   ]
  },
  {
   "cell_type": "code",
   "execution_count": 2,
   "id": "682d9c68",
   "metadata": {},
   "outputs": [],
   "source": [
    "def split_data(X, y, test_size):\n",
    "    return train_test_split(X, y, test_size=0.3, random_state=42, shuffle=False)"
   ]
  },
  {
   "cell_type": "markdown",
   "id": "514d0714",
   "metadata": {},
   "source": [
    "# Sampling"
   ]
  },
  {
   "cell_type": "code",
   "execution_count": 3,
   "id": "8c93c364",
   "metadata": {},
   "outputs": [],
   "source": [
    "def smote_sampling(X_train, y_train):\n",
    "    sm = SMOTE(random_state=42)\n",
    "    return sm.fit_resample(X_train, y_train)"
   ]
  },
  {
   "cell_type": "markdown",
   "id": "febdb626",
   "metadata": {},
   "source": [
    "# Fit and Predict"
   ]
  },
  {
   "cell_type": "code",
   "execution_count": 4,
   "id": "1181e28e",
   "metadata": {},
   "outputs": [],
   "source": [
    "def fit_and_predict(model, X_train, y_train, X_test):\n",
    "    model = model.fit(X_train, y_train)\n",
    "    prediction = model.predict(X_test)\n",
    "\n",
    "    return prediction"
   ]
  },
  {
   "cell_type": "markdown",
   "id": "da86368f",
   "metadata": {},
   "source": [
    "# Calculate Statistics"
   ]
  },
  {
   "cell_type": "code",
   "execution_count": 5,
   "id": "77b26a87",
   "metadata": {},
   "outputs": [],
   "source": [
    "def calculate_statistics(y_test, pred):\n",
    "    accuracy = metrics.accuracy_score(y_test, pred)\n",
    "    precision = metrics.precision_score(y_test, pred)\n",
    "    recall = metrics.recall_score(y_test, pred)\n",
    "    f1_score1 = metrics.f1_score(y_test, pred)\n",
    "    auc = metrics.roc_auc_score(y_test, pred)\n",
    "    log_loss = metrics.log_loss(y_test, pred)\n",
    "    \n",
    "    print(f\"Accuracy: {accuracy}\")\n",
    "    print(f\"Precision: {precision}\")\n",
    "    print(f\"Recall: {recall}\")\n",
    "    print(f\"F1-Score: {f1_score1}\")\n",
    "    print(f\"AUC: {auc}\")\n",
    "    print(f\"Log Loss: {log_loss}\")\n",
    "    "
   ]
  },
  {
   "cell_type": "markdown",
   "id": "06753f35",
   "metadata": {},
   "source": [
    "# Confusion Matrix"
   ]
  },
  {
   "cell_type": "code",
   "execution_count": 6,
   "id": "306d6989",
   "metadata": {},
   "outputs": [],
   "source": [
    "def display_conf_matrix_graph(y_test, pred):\n",
    "    conf_matrix = confusion_matrix(y_test, pred)\n",
    "    \n",
    "    cm_display = metrics.ConfusionMatrixDisplay(confusion_matrix = conf_matrix, display_labels = [\"Not Paid\", \"Paid\"])\n",
    "    cm_display.plot()"
   ]
  },
  {
   "cell_type": "markdown",
   "id": "ab35e63c",
   "metadata": {},
   "source": []
  },
  {
   "cell_type": "markdown",
   "id": "8550f7b7",
   "metadata": {},
   "source": [
    "# Aplication of a models"
   ]
  },
  {
   "cell_type": "markdown",
   "id": "ef4093a4",
   "metadata": {},
   "source": [
    "## Decision Tree"
   ]
  },
  {
   "cell_type": "markdown",
   "id": "13835c69",
   "metadata": {},
   "source": [
    "### Features : amount, duration and payments\n"
   ]
  },
  {
   "cell_type": "code",
   "execution_count": 7,
   "id": "fb7da822",
   "metadata": {},
   "outputs": [
    {
     "name": "stdout",
     "output_type": "stream",
     "text": [
      "Accuracy: 0.7070707070707071\n",
      "Precision: 0.9027777777777778\n",
      "Recall: 0.7471264367816092\n",
      "F1-Score: 0.8176100628930817\n",
      "AUC: 0.5818965517241379\n",
      "Log Loss: 10.117475885196171\n"
     ]
    },
    {
     "data": {
      "image/png": "[encoded data removed]",
      "text/plain": [
       "<Figure size 640x480 with 2 Axes>"
      ]
     },
     "metadata": {},
     "output_type": "display_data"
    }
   ],
   "source": [
    "\n",
    "features = ['amount', 'duration', 'payments']\n",
    "X = loan[features]\n",
    "y = loan[\"status\"]\n",
    "\n",
    "X_train, X_test, y_train, y_test = split_data(X, y, 0.3)\n",
    "\n",
    "X_train, y_train = smote_sampling(X_train, y_train)\n",
    "\n",
    "dTree = DecisionTreeClassifier()\n",
    "prediction = fit_and_predict(dTree, X_train, y_train, X_test)\n",
    "\n",
    "calculate_statistics(y_test, prediction)\n",
    "display_conf_matrix_graph(y_test, prediction)"
   ]
  },
  {
   "cell_type": "markdown",
   "id": "450681d8",
   "metadata": {},
   "source": [
    "### Features : merged data collumns names without string collumns that are not numerical"
   ]
  },
  {
   "cell_type": "markdown",
   "id": "3a8e1437",
   "metadata": {},
   "source": [
    "#### Merged Data"
   ]
  },
  {
   "cell_type": "code",
   "execution_count": 8,
   "id": "643b86e5",
   "metadata": {},
   "outputs": [
    {
     "name": "stdout",
     "output_type": "stream",
     "text": [
      "['loan_id', 'loan_amount', 'loan_duration', 'loan_payments', 'loan_year', 'client_id', 'birth_year', 'client_age', 'client_gender', 'account_frequency', 'account_year', 'region', 'ratio of urban inhabitants ', 'average salary ', 'criminal growth', 'unemploymant growth', 'enterpreuners ratio', 'trans_amount', 'trans_balance', 'trans_year', 'trans_month', 'trans_day', 'age on loan', 'account age at loan']\n"
     ]
    }
   ],
   "source": [
    "\n",
    "# exclude non-numeric columns\n",
    "merged_data = merged_data.select_dtypes(exclude=['object'])\n",
    "get_collumns_names = list(merged_data)\n",
    "# drop loan_status \n",
    "for index in range(len(get_collumns_names)):\n",
    "    if(get_collumns_names[index] == 'loan_status'):\n",
    "        del get_collumns_names[index]\n",
    "        break\n",
    "print(get_collumns_names)\n",
    "merged_data\n",
    "save_loan_status = merged_data['loan_status']"
   ]
  },
  {
   "cell_type": "code",
   "execution_count": 9,
   "id": "b8f6bc31",
   "metadata": {},
   "outputs": [
    {
     "name": "stdout",
     "output_type": "stream",
     "text": [
      "Features:  ['loan_id', 'loan_amount', 'loan_duration', 'loan_payments', 'loan_year', 'client_id', 'birth_year', 'client_age', 'client_gender', 'account_frequency', 'account_year', 'region', 'ratio of urban inhabitants ', 'average salary ', 'criminal growth', 'unemploymant growth', 'enterpreuners ratio', 'trans_amount', 'trans_balance', 'trans_year', 'trans_month', 'trans_day', 'age on loan', 'account age at loan']\n",
      "Accuracy: 0.6965539947322212\n",
      "Precision: 0.9304479878511769\n",
      "Recall: 0.7264643111216504\n",
      "F1-Score: 0.8158998601771089\n",
      "AUC: 0.5254740434664299\n",
      "Log Loss: 10.480693914349327\n"
     ]
    },
    {
     "data": {
      "image/png": "[encoded data removed]",
      "text/plain": [
       "<Figure size 640x480 with 2 Axes>"
      ]
     },
     "metadata": {},
     "output_type": "display_data"
    }
   ],
   "source": [
    "\n",
    "y = merged_data[\"loan_status\"]\n",
    "# drop loan_status from features ( obviously )\n",
    "merged_data.drop(columns=[\"loan_status\"], axis=1, inplace=True)\n",
    "\n",
    "features = get_collumns_names\n",
    "print(\"Features: \", features)\n",
    "X = merged_data[features]\n",
    "\n",
    "X_train, X_test, y_train, y_test = split_data(X, y, 0.3)\n",
    "\n",
    "X_train, y_train = smote_sampling(X_train, y_train)\n",
    "\n",
    "dTree = DecisionTreeClassifier()\n",
    "prediction = fit_and_predict(dTree, X_train, y_train, X_test)\n",
    "\n",
    "calculate_statistics(y_test, prediction)\n",
    "display_conf_matrix_graph(y_test, prediction)"
   ]
  },
  {
   "cell_type": "markdown",
   "id": "7032a8ba",
   "metadata": {},
   "source": [
    "We need to separate date birth day in 3 columns: day, month and year. \n",
    "We need to transform the categorical data in numerical data ( all ?!?)\n",
    "Do this on data preparation and use refined data on data understanding.\n",
    "The merged data, need to be sorted by date of loan ascending order. ( See this )"
   ]
  },
  {
   "cell_type": "markdown",
   "id": "bdb7b511",
   "metadata": {},
   "source": [
    "### Features : ft_feature_matrix_enc_md_2 from preparation phase"
   ]
  },
  {
   "cell_type": "code",
   "execution_count": 10,
   "id": "9f1cad9b",
   "metadata": {},
   "outputs": [
    {
     "name": "stdout",
     "output_type": "stream",
     "text": [
      "     account.NUM_UNIQUE(transaction.trans_operation)  loan_status  \\\n",
      "0                                                0.0            0   \n",
      "1                                                0.6            1   \n",
      "2                                                0.8            1   \n",
      "3                                                0.8            1   \n",
      "4                                                0.8            1   \n",
      "..                                               ...          ...   \n",
      "323                                              0.6            1   \n",
      "324                                              0.4            0   \n",
      "325                                              0.6            1   \n",
      "326                                              0.4            1   \n",
      "327                                              0.6            1   \n",
      "\n",
      "     account.SKEW(transaction.trans_day)  account.MEAN(transaction.trans_day)  \\\n",
      "0                               0.655008                             0.608479   \n",
      "1                               0.685658                             0.379411   \n",
      "2                               0.810894                             0.283139   \n",
      "3                               0.552780                             0.573776   \n",
      "4                               0.867554                             0.467591   \n",
      "..                                   ...                                  ...   \n",
      "323                             0.689544                             0.449786   \n",
      "324                             0.424733                             0.675216   \n",
      "325                             0.655653                             0.432227   \n",
      "326                             0.641555                             0.438409   \n",
      "327                             0.938463                             0.077083   \n",
      "\n",
      "     account.SUM(disp.client.district.MIN(account.account_year))  \\\n",
      "0                                                  0.0             \n",
      "1                                                  0.0             \n",
      "2                                                  0.0             \n",
      "3                                                  0.0             \n",
      "4                                                  0.0             \n",
      "..                                                 ...             \n",
      "323                                                1.0             \n",
      "324                                                0.0             \n",
      "325                                                0.0             \n",
      "326                                                0.0             \n",
      "327                                                0.0             \n",
      "\n",
      "     account.MODE(disp.client.MODE(disp.type)) = DISPONENT  \\\n",
      "0                                                  0.0       \n",
      "1                                                  0.0       \n",
      "2                                                  0.0       \n",
      "3                                                  0.0       \n",
      "4                                                  0.0       \n",
      "..                                                 ...       \n",
      "323                                                1.0       \n",
      "324                                                0.0       \n",
      "325                                                0.0       \n",
      "326                                                0.0       \n",
      "327                                                0.0       \n",
      "\n",
      "     account.MODE(disp.client.MODE(disp.type)) = OWNER  \\\n",
      "0                                                  1.0   \n",
      "1                                                  1.0   \n",
      "2                                                  1.0   \n",
      "3                                                  1.0   \n",
      "4                                                  1.0   \n",
      "..                                                 ...   \n",
      "323                                                0.0   \n",
      "324                                                1.0   \n",
      "325                                                1.0   \n",
      "326                                                1.0   \n",
      "327                                                1.0   \n",
      "\n",
      "     account.SUM(disp.client.district.MEAN(client.NUM_UNIQUE(disp.type)))  \\\n",
      "0                                                  0.0                      \n",
      "1                                                  0.0                      \n",
      "2                                                  0.0                      \n",
      "3                                                  0.0                      \n",
      "4                                                  0.0                      \n",
      "..                                                 ...                      \n",
      "323                                                1.0                      \n",
      "324                                                0.0                      \n",
      "325                                                0.0                      \n",
      "326                                                0.0                      \n",
      "327                                                0.0                      \n",
      "\n",
      "     account.NUM_UNIQUE(disp.type)  \\\n",
      "0                              0.0   \n",
      "1                              0.0   \n",
      "2                              0.0   \n",
      "3                              0.0   \n",
      "4                              0.0   \n",
      "..                             ...   \n",
      "323                            1.0   \n",
      "324                            0.0   \n",
      "325                            0.0   \n",
      "326                            0.0   \n",
      "327                            0.0   \n",
      "\n",
      "     account.SUM(disp.client.district.NUM_UNIQUE(account.disp.type))  ...  \\\n",
      "0                                                  0.0                ...   \n",
      "1                                                  0.0                ...   \n",
      "2                                                  0.0                ...   \n",
      "3                                                  0.0                ...   \n",
      "4                                                  0.0                ...   \n",
      "..                                                 ...                ...   \n",
      "323                                                1.0                ...   \n",
      "324                                                0.0                ...   \n",
      "325                                                0.0                ...   \n",
      "326                                                0.0                ...   \n",
      "327                                                0.0                ...   \n",
      "\n",
      "     account.SUM(disp.client.district.MAX(account.account_year))  \\\n",
      "0                                                  0.0             \n",
      "1                                                  0.0             \n",
      "2                                                  0.0             \n",
      "3                                                  0.0             \n",
      "4                                                  0.0             \n",
      "..                                                 ...             \n",
      "323                                                1.0             \n",
      "324                                                0.0             \n",
      "325                                                0.0             \n",
      "326                                                0.0             \n",
      "327                                                0.0             \n",
      "\n",
      "     account.SUM(disp.client.COUNT(disp))  \\\n",
      "0                                     0.0   \n",
      "1                                     0.0   \n",
      "2                                     0.0   \n",
      "3                                     0.0   \n",
      "4                                     0.0   \n",
      "..                                    ...   \n",
      "323                                   1.0   \n",
      "324                                   0.0   \n",
      "325                                   0.0   \n",
      "326                                   0.0   \n",
      "327                                   0.0   \n",
      "\n",
      "     account.SUM(disp.client.district.NUM_UNIQUE(client.disp.type))  \\\n",
      "0                                                  0.0                \n",
      "1                                                  0.0                \n",
      "2                                                  0.0                \n",
      "3                                                  0.0                \n",
      "4                                                  0.0                \n",
      "..                                                 ...                \n",
      "323                                                1.0                \n",
      "324                                                0.0                \n",
      "325                                                0.0                \n",
      "326                                                0.0                \n",
      "327                                                0.0                \n",
      "\n",
      "     account.SUM(disp.client.district.MAX(client.client_gender))  \\\n",
      "0                                                  0.0             \n",
      "1                                                  0.0             \n",
      "2                                                  0.0             \n",
      "3                                                  0.0             \n",
      "4                                                  0.0             \n",
      "..                                                 ...             \n",
      "323                                                1.0             \n",
      "324                                                0.0             \n",
      "325                                                0.0             \n",
      "326                                                0.0             \n",
      "327                                                0.0             \n",
      "\n",
      "     account.NUM_UNIQUE(disp.client.YEAR(client_birth_number))  \\\n",
      "0                                                  0.0           \n",
      "1                                                  0.0           \n",
      "2                                                  0.0           \n",
      "3                                                  0.0           \n",
      "4                                                  0.0           \n",
      "..                                                 ...           \n",
      "323                                                1.0           \n",
      "324                                                0.0           \n",
      "325                                                0.0           \n",
      "326                                                0.0           \n",
      "327                                                0.0           \n",
      "\n",
      "     account.NUM_UNIQUE(disp.client.DAY(client_birth_number))  \\\n",
      "0                                                  0.0          \n",
      "1                                                  0.0          \n",
      "2                                                  0.0          \n",
      "3                                                  0.0          \n",
      "4                                                  0.0          \n",
      "..                                                 ...          \n",
      "323                                                0.0          \n",
      "324                                                0.0          \n",
      "325                                                0.0          \n",
      "326                                                0.0          \n",
      "327                                                0.0          \n",
      "\n",
      "     account.NUM_UNIQUE(disp.client.MONTH(client_birth_number))  \\\n",
      "0                                                  0.0            \n",
      "1                                                  0.0            \n",
      "2                                                  0.0            \n",
      "3                                                  0.0            \n",
      "4                                                  0.0            \n",
      "..                                                 ...            \n",
      "323                                                1.0            \n",
      "324                                                0.0            \n",
      "325                                                0.0            \n",
      "326                                                0.0            \n",
      "327                                                0.0            \n",
      "\n",
      "     account.SUM(disp.client.district.MAX(client.client_age))  \\\n",
      "0                                             0.078125          \n",
      "1                                             0.085938          \n",
      "2                                             0.070312          \n",
      "3                                             0.117188          \n",
      "4                                             0.078125          \n",
      "..                                                 ...          \n",
      "323                                           0.890625          \n",
      "324                                           0.039062          \n",
      "325                                           0.078125          \n",
      "326                                           0.078125          \n",
      "327                                           0.093750          \n",
      "\n",
      "     account.SUM(disp.client.district.MAX(account.account_frequency))  \\\n",
      "0                                             0.333333                  \n",
      "1                                             0.333333                  \n",
      "2                                             0.333333                  \n",
      "3                                             0.333333                  \n",
      "4                                             0.333333                  \n",
      "..                                                 ...                  \n",
      "323                                           1.000000                  \n",
      "324                                           0.333333                  \n",
      "325                                           0.333333                  \n",
      "326                                           0.333333                  \n",
      "327                                           0.333333                  \n",
      "\n",
      "     account.NUM_UNIQUE(disp.client.WEEKDAY(client_birth_number))  \n",
      "0                                                  0.0             \n",
      "1                                                  0.0             \n",
      "2                                                  0.0             \n",
      "3                                                  0.0             \n",
      "4                                                  0.0             \n",
      "..                                                 ...             \n",
      "323                                                1.0             \n",
      "324                                                0.0             \n",
      "325                                                0.0             \n",
      "326                                                0.0             \n",
      "327                                                0.0             \n",
      "\n",
      "[328 rows x 32 columns]\n"
     ]
    }
   ],
   "source": [
    "\n",
    "from sklearn.model_selection import train_test_split\n",
    "import xgboost as xgb\n",
    "from sklearn.metrics import roc_auc_score\n",
    "ft_feature_matrix_enc_md_2 = pd.read_csv(\"refined/ft_df_mms_md_2.csv\", sep=\";\", low_memory=False)\n",
    "# drop loan_status from features ( obviously )\n",
    "#ft_feature_matrix_enc_md_2 = ft_feature_matrix_enc_md_2.dropna(axis=\"columns\", how=\"any\")\n",
    "print(ft_feature_matrix_enc_md_2)"
   ]
  },
  {
   "cell_type": "code",
   "execution_count": 11,
   "id": "86ca31e1",
   "metadata": {},
   "outputs": [
    {
     "name": "stdout",
     "output_type": "stream",
     "text": [
      "X: \n",
      "\n",
      " (328, 31)\n"
     ]
    }
   ],
   "source": [
    "\n",
    "features = ft_feature_matrix_enc_md_2.columns\n",
    "features = features.dropna()\n",
    "\n",
    "y=ft_feature_matrix_enc_md_2[\"loan_status\"].copy()\n",
    "#print(y)\n",
    "X = ft_feature_matrix_enc_md_2.drop(columns=[\"loan_status\"], axis=1, inplace=False)\n",
    "\n",
    "\n",
    "\n",
    "#X.drop(columns=[\"loand_id\"], axis=1, inplace=True)\n",
    "\n",
    "print(\"X: \\n\\n\" ,X.shape)\n"
   ]
  },
  {
   "cell_type": "code",
   "execution_count": 12,
   "id": "378883dc",
   "metadata": {},
   "outputs": [
    {
     "name": "stdout",
     "output_type": "stream",
     "text": [
      "229    1\n",
      "230    0\n",
      "231    1\n",
      "232    0\n",
      "233    1\n",
      "      ..\n",
      "323    1\n",
      "324    0\n",
      "325    1\n",
      "326    1\n",
      "327    1\n",
      "Name: loan_status, Length: 99, dtype: int64\n",
      "0.6163793103448276\n",
      "Accuracy: 0.7676767676767676\n",
      "Precision: 0.9102564102564102\n",
      "Recall: 0.8160919540229885\n",
      "F1-Score: 0.8606060606060606\n",
      "AUC: 0.6163793103448276\n",
      "Log Loss: 8.02421670974704\n",
      "\n",
      "XGBClassifier(base_score=0.5, booster='gbtree', callbacks=None,\n",
      "              colsample_bylevel=1, colsample_bynode=1, colsample_bytree=1,\n",
      "              early_stopping_rounds=None, enable_categorical=False,\n",
      "              eval_metric=None, feature_types=None, gamma=0, gpu_id=-1,\n",
      "              grow_policy='depthwise', importance_type=None,\n",
      "              interaction_constraints='', learning_rate=0.300000012,\n",
      "              max_bin=256, max_cat_threshold=64, max_cat_to_onehot=4,\n",
      "              max_delta_step=0, max_depth=6, max_leaves=0, min_child_weight=1,\n",
      "              missing=nan, monotone_constraints='()', n_estimators=100,\n",
      "              n_jobs=0, num_parallel_tree=1, predictor='auto', random_state=0, ...)\n",
      "XgBoost:\n",
      " \n",
      "              precision    recall  f1-score   support\n",
      "\n",
      "           0       0.19      0.33      0.24        12\n",
      "           1       0.90      0.80      0.85        87\n",
      "\n",
      "    accuracy                           0.75        99\n",
      "   macro avg       0.54      0.57      0.55        99\n",
      "weighted avg       0.81      0.75      0.78        99\n",
      "\n",
      "[[ 4  8]\n",
      " [17 70]]\n",
      "Accuracy: 0.7474747474747475\n",
      "Precision: 0.8974358974358975\n",
      "Recall: 0.8045977011494253\n",
      "F1-Score: 0.8484848484848485\n",
      "AUC: 0.5689655172413793\n",
      "Log Loss: 8.721977844971804\n"
     ]
    },
    {
     "data": {
      "image/png": "[encoded data removed]",
      "text/plain": [
       "<Figure size 640x480 with 2 Axes>"
      ]
     },
     "metadata": {},
     "output_type": "display_data"
    }
   ],
   "source": [
    "\n",
    "X_train, X_test, y_train, y_test = train_test_split(X, y,test_size=0.3, shuffle=False)\n",
    "\n",
    "X_train, y_train = smote_sampling(X_train, y_train)\n",
    "\n",
    "dTree = DecisionTreeClassifier( criterion=\"entropy\", max_features='sqrt', min_samples_leaf=1, min_samples_split=2)\n",
    "prediction = fit_and_predict(dTree, X_train, y_train, X_test)\n",
    "pred_prob1 = dTree.predict_proba(X_test)\n",
    "#print(pred_prob1)\n",
    "print(y_test)\n",
    "auc_score1 = roc_auc_score(y_test, pred_prob1[:,1])\n",
    "print(auc_score1)\n",
    "#calculate_statistics(y_test, prediction)\n",
    "display_conf_matrix_graph(y_test, prediction)\n",
    "calculate_statistics(y_test, prediction)\n",
    "\n",
    "\n",
    "#XgBoost decision trees\n",
    "\n",
    "xgBoost = xgb.XGBClassifier()\n",
    "\n",
    "xgBoost.fit(X_train, y_train)\n",
    "print()\n",
    "print(xgBoost)\n",
    "print(\"XgBoost:\\n \")\n",
    "expected_y  = y_test\n",
    "predicted_y = xgBoost.predict(X_test)\n",
    " \n",
    "print(metrics.classification_report(expected_y, predicted_y))\n",
    "print(metrics.confusion_matrix(expected_y, predicted_y))\n",
    "calculate_statistics(expected_y, predicted_y)"
   ]
  },
  {
   "cell_type": "markdown",
   "id": "55765392",
   "metadata": {},
   "source": [
    "# Using genetic algorithm to select best pipeline classificator"
   ]
  },
  {
   "cell_type": "code",
   "execution_count": 44,
   "id": "444ac9be",
   "metadata": {},
   "outputs": [
    {
     "name": "stdout",
     "output_type": "stream",
     "text": [
      "                                                                                  \n",
      "Generation 1 - Current best internal CV score: 0.845054945054945\n",
      "Optimization Progress:   2%|▏         | 202/10100 [01:30<4:27:09,  1.62s/pipeline]"
     ]
    }
   ],
   "source": [
    "\n",
    "from tpot import TPOTClassifier\n",
    "from sklearn.feature_selection import SelectPercentile, f_classif\n",
    "from sklearn.linear_model import SGDClassifier\n",
    "from sklearn.model_selection import train_test_split\n",
    "from tpot.export_utils import set_param_recursive\n",
    "\n",
    "\n",
    "X_train, X_test, y_train, y_test = train_test_split(X, y,\n",
    "                                                    train_size=0.70, test_size=0.30,shuffle=False)\n",
    "\n",
    "pipeline_optimizer = TPOTClassifier(generations=100, population_size=100, cv=5, random_state=42,\n",
    "                                 verbosity=2,warm_start=True,scoring='roc_auc',n_jobs=2,periodic_checkpoint_folder=\"refined/tpot_checkpoints\")\n",
    "\n",
    "pipeline_optimizer.fit(X_train, y_train)\n",
    "print(pipeline_optimizer.score(X_test, y_test))\n",
    "calculate_statistics(y_test, pipeline_optimizer.predict(X_test))\n",
    "pipeline_optimizer.export('tpot_exported_pipeline.py')\n",
    "\n",
    "\n",
    "#Best result from TPOT\n",
    "# from sklearn.pipeline import make_pipeline\n",
    "\n",
    "# exported_pipeline = make_pipeline(\n",
    "#     SelectPercentile(score_func=f_classif, percentile=43),\n",
    "#     SGDClassifier(alpha=0.001, eta0=1.0, fit_intercept=True, l1_ratio=0.5, learning_rate=\"constant\", loss=\"hinge\", penalty=\"elasticnet\", power_t=0.0)\n",
    "# )\n",
    "# # Fix random state for all the steps in exported pipeline\n",
    "# set_param_recursive(exported_pipeline.steps, 'random_state', 42)\n",
    "\n",
    "# exported_pipeline.fit(X_train, y_train)\n",
    "# results = exported_pipeline.predict(X_test)\n",
    "\n",
    "# calculate_statistics(y_test, results)\n",
    "# print(metrics.classification_report(expected_y, predicted_y))\n"
   ]
  },
  {
   "cell_type": "code",
   "execution_count": 42,
   "id": "f78c3c63",
   "metadata": {},
   "outputs": [
    {
     "name": "stdout",
     "output_type": "stream",
     "text": [
      "[[ 4  8]\n",
      " [17 70]]\n"
     ]
    }
   ],
   "source": [
    "\n",
    "print(metrics.confusion_matrix(expected_y, predicted_y))"
   ]
  },
  {
   "cell_type": "markdown",
   "id": "e58f5507",
   "metadata": {},
   "source": [
    "## Logistic Regression"
   ]
  },
  {
   "cell_type": "markdown",
   "id": "85cefd60",
   "metadata": {},
   "source": [
    "### Features : amount, duration and payments"
   ]
  },
  {
   "cell_type": "code",
   "execution_count": null,
   "id": "0a6e3841",
   "metadata": {},
   "outputs": [
    {
     "name": "stdout",
     "output_type": "stream",
     "text": [
      "Accuracy: 0.494949494949495\n",
      "Precision: 0.8627450980392157\n",
      "Recall: 0.5057471264367817\n",
      "F1-Score: 0.6376811594202899\n",
      "AUC: 0.46120689655172414\n",
      "Log Loss: 17.443882999268137\n"
     ]
    },
    {
     "data": {
      "image/png": "[encoded data removed]",
      "text/plain": [
       "<Figure size 640x480 with 2 Axes>"
      ]
     },
     "metadata": {},
     "output_type": "display_data"
    }
   ],
   "source": [
    "features = ['amount', 'duration', 'payments']\n",
    "X = loan[features]\n",
    "y = loan[\"status\"]\n",
    "\n",
    "X_train, X_test, y_train, y_test = split_data(X, y, 0.3)\n",
    "\n",
    "X_train, y_train = smote_sampling(X_train, y_train)\n",
    "\n",
    "logistic_regression = LogisticRegression()\n",
    "prediction = fit_and_predict(logistic_regression, X_train, y_train, X_test)\n",
    "\n",
    "calculate_statistics(y_test, prediction)\n",
    "display_conf_matrix_graph(y_test, prediction)"
   ]
  },
  {
   "cell_type": "markdown",
   "id": "a2f92ff6",
   "metadata": {},
   "source": [
    "### Features : merged data collumns names without string collumns that are not numerical"
   ]
  },
  {
   "cell_type": "code",
   "execution_count": null,
   "id": "0cead261",
   "metadata": {},
   "outputs": [
    {
     "name": "stdout",
     "output_type": "stream",
     "text": [
      "Features:  ['loan_id', 'loan_amount', 'loan_duration', 'loan_payments', 'loan_year', 'client_id', 'birth_year', 'client_age', 'client_gender', 'account_frequency', 'account_year', 'region', 'ratio of urban inhabitants ', 'average salary ', 'criminal growth', 'unemploymant growth', 'enterpreuners ratio', 'trans_amount', 'trans_balance', 'trans_year', 'trans_month', 'trans_day', 'age on loan', 'account age at loan']\n"
     ]
    },
    {
     "ename": "ValueError",
     "evalue": "Found input variables with inconsistent numbers of samples: [9112, 99]",
     "output_type": "error",
     "traceback": [
      "\u001b[0;31m---------------------------------------------------------------------------\u001b[0m",
      "\u001b[0;31mValueError\u001b[0m                                Traceback (most recent call last)",
      "Cell \u001b[0;32mIn [56], line 13\u001b[0m\n\u001b[1;32m     10\u001b[0m dTree \u001b[39m=\u001b[39m LogisticRegression()\n\u001b[1;32m     11\u001b[0m X_train, X_test, y_train, y_test \u001b[39m=\u001b[39m train_test_split(X, y,test_size\u001b[39m=\u001b[39m\u001b[39m0.3\u001b[39m, random_state\u001b[39m=\u001b[39m\u001b[39m42\u001b[39m, shuffle\u001b[39m=\u001b[39m\u001b[39mFalse\u001b[39;00m)\n\u001b[0;32m---> 13\u001b[0m calculate_statistics(y_test, prediction)\n\u001b[1;32m     14\u001b[0m display_conf_matrix_graph(y_test, prediction)\n",
      "Cell \u001b[0;32mIn [49], line 2\u001b[0m, in \u001b[0;36mcalculate_statistics\u001b[0;34m(y_test, pred)\u001b[0m\n\u001b[1;32m      1\u001b[0m \u001b[39mdef\u001b[39;00m \u001b[39mcalculate_statistics\u001b[39m(y_test, pred):\n\u001b[0;32m----> 2\u001b[0m     accuracy \u001b[39m=\u001b[39m metrics\u001b[39m.\u001b[39;49maccuracy_score(y_test, pred)\n\u001b[1;32m      3\u001b[0m     precision \u001b[39m=\u001b[39m metrics\u001b[39m.\u001b[39mprecision_score(y_test, pred)\n\u001b[1;32m      4\u001b[0m     recall \u001b[39m=\u001b[39m metrics\u001b[39m.\u001b[39mrecall_score(y_test, pred)\n",
      "File \u001b[0;32m~/.local/lib/python3.10/site-packages/sklearn/metrics/_classification.py:211\u001b[0m, in \u001b[0;36maccuracy_score\u001b[0;34m(y_true, y_pred, normalize, sample_weight)\u001b[0m\n\u001b[1;32m    145\u001b[0m \u001b[39m\"\"\"Accuracy classification score.\u001b[39;00m\n\u001b[1;32m    146\u001b[0m \n\u001b[1;32m    147\u001b[0m \u001b[39mIn multilabel classification, this function computes subset accuracy:\u001b[39;00m\n\u001b[0;32m   (...)\u001b[0m\n\u001b[1;32m    207\u001b[0m \u001b[39m0.5\u001b[39;00m\n\u001b[1;32m    208\u001b[0m \u001b[39m\"\"\"\u001b[39;00m\n\u001b[1;32m    210\u001b[0m \u001b[39m# Compute accuracy for each possible representation\u001b[39;00m\n\u001b[0;32m--> 211\u001b[0m y_type, y_true, y_pred \u001b[39m=\u001b[39m _check_targets(y_true, y_pred)\n\u001b[1;32m    212\u001b[0m check_consistent_length(y_true, y_pred, sample_weight)\n\u001b[1;32m    213\u001b[0m \u001b[39mif\u001b[39;00m y_type\u001b[39m.\u001b[39mstartswith(\u001b[39m\"\u001b[39m\u001b[39mmultilabel\u001b[39m\u001b[39m\"\u001b[39m):\n",
      "File \u001b[0;32m~/.local/lib/python3.10/site-packages/sklearn/metrics/_classification.py:84\u001b[0m, in \u001b[0;36m_check_targets\u001b[0;34m(y_true, y_pred)\u001b[0m\n\u001b[1;32m     57\u001b[0m \u001b[39mdef\u001b[39;00m \u001b[39m_check_targets\u001b[39m(y_true, y_pred):\n\u001b[1;32m     58\u001b[0m     \u001b[39m\"\"\"Check that y_true and y_pred belong to the same classification task.\u001b[39;00m\n\u001b[1;32m     59\u001b[0m \n\u001b[1;32m     60\u001b[0m \u001b[39m    This converts multiclass or binary types to a common shape, and raises a\u001b[39;00m\n\u001b[0;32m   (...)\u001b[0m\n\u001b[1;32m     82\u001b[0m \u001b[39m    y_pred : array or indicator matrix\u001b[39;00m\n\u001b[1;32m     83\u001b[0m \u001b[39m    \"\"\"\u001b[39;00m\n\u001b[0;32m---> 84\u001b[0m     check_consistent_length(y_true, y_pred)\n\u001b[1;32m     85\u001b[0m     type_true \u001b[39m=\u001b[39m type_of_target(y_true, input_name\u001b[39m=\u001b[39m\u001b[39m\"\u001b[39m\u001b[39my_true\u001b[39m\u001b[39m\"\u001b[39m)\n\u001b[1;32m     86\u001b[0m     type_pred \u001b[39m=\u001b[39m type_of_target(y_pred, input_name\u001b[39m=\u001b[39m\u001b[39m\"\u001b[39m\u001b[39my_pred\u001b[39m\u001b[39m\"\u001b[39m)\n",
      "File \u001b[0;32m~/.local/lib/python3.10/site-packages/sklearn/utils/validation.py:387\u001b[0m, in \u001b[0;36mcheck_consistent_length\u001b[0;34m(*arrays)\u001b[0m\n\u001b[1;32m    385\u001b[0m uniques \u001b[39m=\u001b[39m np\u001b[39m.\u001b[39munique(lengths)\n\u001b[1;32m    386\u001b[0m \u001b[39mif\u001b[39;00m \u001b[39mlen\u001b[39m(uniques) \u001b[39m>\u001b[39m \u001b[39m1\u001b[39m:\n\u001b[0;32m--> 387\u001b[0m     \u001b[39mraise\u001b[39;00m \u001b[39mValueError\u001b[39;00m(\n\u001b[1;32m    388\u001b[0m         \u001b[39m\"\u001b[39m\u001b[39mFound input variables with inconsistent numbers of samples: \u001b[39m\u001b[39m%r\u001b[39;00m\u001b[39m\"\u001b[39m\n\u001b[1;32m    389\u001b[0m         \u001b[39m%\u001b[39m [\u001b[39mint\u001b[39m(l) \u001b[39mfor\u001b[39;00m l \u001b[39min\u001b[39;00m lengths]\n\u001b[1;32m    390\u001b[0m     )\n",
      "\u001b[0;31mValueError\u001b[0m: Found input variables with inconsistent numbers of samples: [9112, 99]"
     ]
    }
   ],
   "source": [
    "\n",
    "y = save_loan_status\n",
    "features = get_collumns_names\n",
    "print(\"Features: \", features)\n",
    "X = merged_data[features]\n",
    "\n",
    "X_train, X_test, y_train, y_test = split_data(X, y, 0.3)\n",
    "\n",
    "X_train, y_train = smote_sampling(X_train, y_train)\n",
    "\n",
    "dTree = LogisticRegression()\n",
    "X_train, X_test, y_train, y_test = train_test_split(X, y,test_size=0.3, random_state=42, shuffle=False)\n",
    "\n",
    "calculate_statistics(y_test, prediction)\n",
    "display_conf_matrix_graph(y_test, prediction)"
   ]
  },
  {
   "cell_type": "markdown",
   "id": "ddcf4691",
   "metadata": {},
   "source": [
    "### Features : ft_feature_matrix_enc_md_2 from preparation phase"
   ]
  },
  {
   "cell_type": "code",
   "execution_count": 23,
   "id": "587c4d34",
   "metadata": {},
   "outputs": [
    {
     "name": "stderr",
     "output_type": "stream",
     "text": [
      "/tmp/ipykernel_116594/3004702232.py:5: FutureWarning: In a future version of pandas all arguments of DataFrame.dropna will be keyword-only.\n",
      "  ft_feature_matrix_enc_md_2 = ft_feature_matrix_enc_md_2.dropna(\"columns\", how=\"any\")\n"
     ]
    },
    {
     "name": "stdout",
     "output_type": "stream",
     "text": [
      "Accuracy: 0.8787878787878788\n",
      "Precision: 0.8787878787878788\n",
      "Recall: 1.0\n",
      "F1-Score: 0.9354838709677419\n",
      "AUC: 0.5\n",
      "Log Loss: 4.186615271798895\n"
     ]
    },
    {
     "data": {
      "image/png": "[encoded data removed]",
      "text/plain": [
       "<Figure size 640x480 with 2 Axes>"
      ]
     },
     "metadata": {},
     "output_type": "display_data"
    }
   ],
   "source": [
    "from sklearn.model_selection import train_test_split\n",
    "\n",
    "ft_feature_matrix_enc_md_2 = pd.read_csv(\"refined/ft_df_mms_md_2.csv\", sep=\";\", low_memory=False)\n",
    "# drop loan_status from features ( obviously )\n",
    "ft_feature_matrix_enc_md_2 = ft_feature_matrix_enc_md_2.dropna(\"columns\", how=\"any\")\n",
    "\n",
    "features = ft_feature_matrix_enc_md_2.columns\n",
    "features = features.dropna()\n",
    "\n",
    "y=ft_feature_matrix_enc_md_2[\"loan_status\"].copy()\n",
    "\n",
    "X = ft_feature_matrix_enc_md_2.drop(columns=[\"loan_status\"], axis=1, inplace=False)\n",
    "\n",
    "\n",
    "X_train, X_test, y_train, y_test = train_test_split(X, y,test_size=0.3, random_state=42, shuffle=False)\n",
    "\n",
    "#X_train, y_train = smote_sampling(X_train, y_train)\n",
    "\n",
    "dTree = LogisticRegression()\n",
    "prediction = fit_and_predict(dTree, X_train, y_train, X_test)\n",
    "\n",
    "calculate_statistics(y_test, prediction)\n",
    "display_conf_matrix_graph(y_test, prediction)"
   ]
  },
  {
   "cell_type": "markdown",
   "id": "e5548fce",
   "metadata": {},
   "source": [
    "## Support Vector Machine - Linear"
   ]
  },
  {
   "cell_type": "markdown",
   "id": "34a5cd59",
   "metadata": {},
   "source": [
    "### Features : amount, duration and payments"
   ]
  },
  {
   "cell_type": "code",
   "execution_count": null,
   "id": "399651c4",
   "metadata": {},
   "outputs": [
    {
     "ename": "KeyboardInterrupt",
     "evalue": "",
     "output_type": "error",
     "traceback": [
      "\u001b[0;31m---------------------------------------------------------------------------\u001b[0m",
      "\u001b[0;31mKeyboardInterrupt\u001b[0m                         Traceback (most recent call last)",
      "Cell \u001b[0;32mIn [21], line 14\u001b[0m\n\u001b[1;32m     12\u001b[0m \u001b[39m# Default values for C and gamma\u001b[39;00m\n\u001b[1;32m     13\u001b[0m svm_linear \u001b[39m=\u001b[39m svm\u001b[39m.\u001b[39mSVC(kernel\u001b[39m=\u001b[39m\u001b[39m'\u001b[39m\u001b[39mlinear\u001b[39m\u001b[39m'\u001b[39m)\n\u001b[0;32m---> 14\u001b[0m prediction \u001b[39m=\u001b[39m fit_and_predict(svm_linear, X_train, y_train, X_test)\n\u001b[1;32m     16\u001b[0m calculate_statistics(y_test, prediction)\n\u001b[1;32m     17\u001b[0m display_conf_matrix_graph(y_test, prediction)\n",
      "Cell \u001b[0;32mIn [4], line 2\u001b[0m, in \u001b[0;36mfit_and_predict\u001b[0;34m(model, X_train, y_train, X_test)\u001b[0m\n\u001b[1;32m      1\u001b[0m \u001b[39mdef\u001b[39;00m \u001b[39mfit_and_predict\u001b[39m(model, X_train, y_train, X_test):\n\u001b[0;32m----> 2\u001b[0m     model \u001b[39m=\u001b[39m model\u001b[39m.\u001b[39;49mfit(X_train, y_train)\n\u001b[1;32m      3\u001b[0m     prediction \u001b[39m=\u001b[39m model\u001b[39m.\u001b[39mpredict(X_test)\n\u001b[1;32m      5\u001b[0m     \u001b[39mreturn\u001b[39;00m prediction\n",
      "File \u001b[0;32m~/.local/lib/python3.10/site-packages/sklearn/svm/_base.py:251\u001b[0m, in \u001b[0;36mBaseLibSVM.fit\u001b[0;34m(self, X, y, sample_weight)\u001b[0m\n\u001b[1;32m    248\u001b[0m     \u001b[39mprint\u001b[39m(\u001b[39m\"\u001b[39m\u001b[39m[LibSVM]\u001b[39m\u001b[39m\"\u001b[39m, end\u001b[39m=\u001b[39m\u001b[39m\"\u001b[39m\u001b[39m\"\u001b[39m)\n\u001b[1;32m    250\u001b[0m seed \u001b[39m=\u001b[39m rnd\u001b[39m.\u001b[39mrandint(np\u001b[39m.\u001b[39miinfo(\u001b[39m\"\u001b[39m\u001b[39mi\u001b[39m\u001b[39m\"\u001b[39m)\u001b[39m.\u001b[39mmax)\n\u001b[0;32m--> 251\u001b[0m fit(X, y, sample_weight, solver_type, kernel, random_seed\u001b[39m=\u001b[39;49mseed)\n\u001b[1;32m    252\u001b[0m \u001b[39m# see comment on the other call to np.iinfo in this file\u001b[39;00m\n\u001b[1;32m    254\u001b[0m \u001b[39mself\u001b[39m\u001b[39m.\u001b[39mshape_fit_ \u001b[39m=\u001b[39m X\u001b[39m.\u001b[39mshape \u001b[39mif\u001b[39;00m \u001b[39mhasattr\u001b[39m(X, \u001b[39m\"\u001b[39m\u001b[39mshape\u001b[39m\u001b[39m\"\u001b[39m) \u001b[39melse\u001b[39;00m (n_samples,)\n",
      "File \u001b[0;32m~/.local/lib/python3.10/site-packages/sklearn/svm/_base.py:333\u001b[0m, in \u001b[0;36mBaseLibSVM._dense_fit\u001b[0;34m(self, X, y, sample_weight, solver_type, kernel, random_seed)\u001b[0m\n\u001b[1;32m    319\u001b[0m libsvm\u001b[39m.\u001b[39mset_verbosity_wrap(\u001b[39mself\u001b[39m\u001b[39m.\u001b[39mverbose)\n\u001b[1;32m    321\u001b[0m \u001b[39m# we don't pass **self.get_params() to allow subclasses to\u001b[39;00m\n\u001b[1;32m    322\u001b[0m \u001b[39m# add other parameters to __init__\u001b[39;00m\n\u001b[1;32m    323\u001b[0m (\n\u001b[1;32m    324\u001b[0m     \u001b[39mself\u001b[39m\u001b[39m.\u001b[39msupport_,\n\u001b[1;32m    325\u001b[0m     \u001b[39mself\u001b[39m\u001b[39m.\u001b[39msupport_vectors_,\n\u001b[1;32m    326\u001b[0m     \u001b[39mself\u001b[39m\u001b[39m.\u001b[39m_n_support,\n\u001b[1;32m    327\u001b[0m     \u001b[39mself\u001b[39m\u001b[39m.\u001b[39mdual_coef_,\n\u001b[1;32m    328\u001b[0m     \u001b[39mself\u001b[39m\u001b[39m.\u001b[39mintercept_,\n\u001b[1;32m    329\u001b[0m     \u001b[39mself\u001b[39m\u001b[39m.\u001b[39m_probA,\n\u001b[1;32m    330\u001b[0m     \u001b[39mself\u001b[39m\u001b[39m.\u001b[39m_probB,\n\u001b[1;32m    331\u001b[0m     \u001b[39mself\u001b[39m\u001b[39m.\u001b[39mfit_status_,\n\u001b[1;32m    332\u001b[0m     \u001b[39mself\u001b[39m\u001b[39m.\u001b[39m_num_iter,\n\u001b[0;32m--> 333\u001b[0m ) \u001b[39m=\u001b[39m libsvm\u001b[39m.\u001b[39;49mfit(\n\u001b[1;32m    334\u001b[0m     X,\n\u001b[1;32m    335\u001b[0m     y,\n\u001b[1;32m    336\u001b[0m     svm_type\u001b[39m=\u001b[39;49msolver_type,\n\u001b[1;32m    337\u001b[0m     sample_weight\u001b[39m=\u001b[39;49msample_weight,\n\u001b[1;32m    338\u001b[0m     class_weight\u001b[39m=\u001b[39;49m\u001b[39mself\u001b[39;49m\u001b[39m.\u001b[39;49mclass_weight_,\n\u001b[1;32m    339\u001b[0m     kernel\u001b[39m=\u001b[39;49mkernel,\n\u001b[1;32m    340\u001b[0m     C\u001b[39m=\u001b[39;49m\u001b[39mself\u001b[39;49m\u001b[39m.\u001b[39;49mC,\n\u001b[1;32m    341\u001b[0m     nu\u001b[39m=\u001b[39;49m\u001b[39mself\u001b[39;49m\u001b[39m.\u001b[39;49mnu,\n\u001b[1;32m    342\u001b[0m     probability\u001b[39m=\u001b[39;49m\u001b[39mself\u001b[39;49m\u001b[39m.\u001b[39;49mprobability,\n\u001b[1;32m    343\u001b[0m     degree\u001b[39m=\u001b[39;49m\u001b[39mself\u001b[39;49m\u001b[39m.\u001b[39;49mdegree,\n\u001b[1;32m    344\u001b[0m     shrinking\u001b[39m=\u001b[39;49m\u001b[39mself\u001b[39;49m\u001b[39m.\u001b[39;49mshrinking,\n\u001b[1;32m    345\u001b[0m     tol\u001b[39m=\u001b[39;49m\u001b[39mself\u001b[39;49m\u001b[39m.\u001b[39;49mtol,\n\u001b[1;32m    346\u001b[0m     cache_size\u001b[39m=\u001b[39;49m\u001b[39mself\u001b[39;49m\u001b[39m.\u001b[39;49mcache_size,\n\u001b[1;32m    347\u001b[0m     coef0\u001b[39m=\u001b[39;49m\u001b[39mself\u001b[39;49m\u001b[39m.\u001b[39;49mcoef0,\n\u001b[1;32m    348\u001b[0m     gamma\u001b[39m=\u001b[39;49m\u001b[39mself\u001b[39;49m\u001b[39m.\u001b[39;49m_gamma,\n\u001b[1;32m    349\u001b[0m     epsilon\u001b[39m=\u001b[39;49m\u001b[39mself\u001b[39;49m\u001b[39m.\u001b[39;49mepsilon,\n\u001b[1;32m    350\u001b[0m     max_iter\u001b[39m=\u001b[39;49m\u001b[39mself\u001b[39;49m\u001b[39m.\u001b[39;49mmax_iter,\n\u001b[1;32m    351\u001b[0m     random_seed\u001b[39m=\u001b[39;49mrandom_seed,\n\u001b[1;32m    352\u001b[0m )\n\u001b[1;32m    354\u001b[0m \u001b[39mself\u001b[39m\u001b[39m.\u001b[39m_warn_from_fit_status()\n",
      "\u001b[0;31mKeyboardInterrupt\u001b[0m: "
     ]
    }
   ],
   "source": [
    "from sklearn import svm\n",
    "features = ['amount', 'duration', 'payments']\n",
    "X = loan[features]\n",
    "y = loan[\"status\"]\n",
    "X= X.to_numpy()\n",
    "y = y.to_numpy()\n",
    "\n",
    "X_train, X_test, y_train, y_test = split_data(X, y, 0.3)\n",
    "\n",
    "X_train, y_train = smote_sampling(X_train, y_train)\n",
    "\n",
    "# Default values for C and gamma\n",
    "svm_linear = svm.SVC(kernel='linear')\n",
    "prediction = fit_and_predict(svm_linear, X_train, y_train, X_test)\n",
    "\n",
    "calculate_statistics(y_test, prediction)\n",
    "display_conf_matrix_graph(y_test, prediction)"
   ]
  },
  {
   "cell_type": "markdown",
   "id": "3bc3579a",
   "metadata": {},
   "source": [
    "### Features : ft_feature_matrix_enc_md_2 from preparation phase"
   ]
  },
  {
   "cell_type": "code",
   "execution_count": 39,
   "id": "a468d3f0",
   "metadata": {},
   "outputs": [
    {
     "name": "stderr",
     "output_type": "stream",
     "text": [
      "/tmp/ipykernel_116594/2487927185.py:5: FutureWarning: In a future version of pandas all arguments of DataFrame.dropna will be keyword-only.\n",
      "  ft_feature_matrix_enc_md_2 = ft_feature_matrix_enc_md_2.dropna(\"columns\", how=\"any\")\n"
     ]
    },
    {
     "name": "stdout",
     "output_type": "stream",
     "text": [
      "Accuracy: 0.7070707070707071\n",
      "Precision: 0.9833333333333333\n",
      "Recall: 0.6781609195402298\n",
      "F1-Score: 0.802721088435374\n",
      "AUC: 0.7974137931034482\n",
      "Log Loss: 10.117427424745859\n"
     ]
    },
    {
     "data": {
      "image/png": "[encoded data removed]",
      "text/plain": [
       "<Figure size 640x480 with 2 Axes>"
      ]
     },
     "metadata": {},
     "output_type": "display_data"
    }
   ],
   "source": [
    "from sklearn.model_selection import train_test_split\n",
    "from sklearn import svm\n",
    "ft_feature_matrix_enc_md_2 = pd.read_csv(\"refined/ft_df_mms_md_2.csv\", sep=\";\", low_memory=False)\n",
    "# drop loan_status from features ( obviously )\n",
    "ft_feature_matrix_enc_md_2 = ft_feature_matrix_enc_md_2.dropna(\"columns\", how=\"any\")\n",
    "\n",
    "features = ft_feature_matrix_enc_md_2.columns\n",
    "features = features.dropna()\n",
    "\n",
    "y=ft_feature_matrix_enc_md_2[\"loan_status\"].copy()\n",
    "\n",
    "X = ft_feature_matrix_enc_md_2.drop(columns=[\"loan_status\"], axis=1, inplace=False)\n",
    "#print(X)\n",
    "\n",
    "X_train, X_test, y_train, y_test = train_test_split(X, y,test_size=0.3, random_state=42, shuffle=False)\n",
    "\n",
    "X_train, y_train = smote_sampling(X_train, y_train)\n",
    "\n",
    "svm_linear = svm.SVC(kernel='rbf')\n",
    "prediction = fit_and_predict(svm_linear, X_train, y_train, X_test)\n",
    "\n",
    "calculate_statistics(y_test, prediction)\n",
    "display_conf_matrix_graph(y_test, prediction)"
   ]
  },
  {
   "cell_type": "markdown",
   "id": "0f4283b3",
   "metadata": {},
   "source": [
    "A good idea is to tunne C, Gamma and Kernel parameters ( and others) depending on the data and the chosen SVM model."
   ]
  },
  {
   "cell_type": "markdown",
   "id": "9c12ff8e",
   "metadata": {},
   "source": [
    "### Features : merged data collumns names without string collumns that are not numerical"
   ]
  },
  {
   "cell_type": "code",
   "execution_count": null,
   "id": "b4109a15",
   "metadata": {},
   "outputs": [],
   "source": [
    "y = save_loan_status\n",
    "features = get_collumns_names\n",
    "print(\"Features: \", features)\n",
    "X = merged_data[features]\n",
    "X= X.to_numpy()\n",
    "y = y.to_numpy()\n",
    "X_train, X_test, y_train, y_test = split_data(X, y, 0.3)\n",
    "\n",
    "X_train, y_train = smote_sampling(X_train, y_train)\n",
    "\n",
    "# Default values for SVM linear parameters\n",
    "svm_linear = svm.SVC(kernel=\"linear\")\n",
    "prediction = fit_and_predict(svm_linear, X_train, y_train, X_test)\n",
    "\n",
    "calculate_statistics(y_test, prediction)\n",
    "display_conf_matrix_graph(y_test, prediction)"
   ]
  },
  {
   "cell_type": "markdown",
   "id": "13d836e7",
   "metadata": {},
   "source": [
    "## Support Vector Machine - Non Linear"
   ]
  },
  {
   "cell_type": "markdown",
   "id": "461d41bd",
   "metadata": {},
   "source": [
    "### Features : amount, duration and payments"
   ]
  },
  {
   "cell_type": "code",
   "execution_count": null,
   "id": "6077f864",
   "metadata": {},
   "outputs": [],
   "source": [
    "features = ['amount', 'duration', 'payments']\n",
    "X = loan[features]\n",
    "y = loan[\"status\"]\n",
    "# Use numpy matrix to improve performance\n",
    "X= X.to_numpy()\n",
    "y = y.to_numpy()\n",
    "\n",
    "X_train, X_test, y_train, y_test = split_data(X, y, 0.3)\n",
    "\n",
    "X_train, y_train = smote_sampling(X_train, y_train)\n",
    "\n",
    "# Default values for SVM non-linear parameters\n",
    "svm_non_linear = svm.SVC(kernel=\"rbf\")\n",
    "prediction = fit_and_predict(svm_non_linear, X_train, y_train, X_test)\n",
    "\n",
    "calculate_statistics(y_test, prediction)\n",
    "display_conf_matrix_graph(y_test, prediction)"
   ]
  },
  {
   "cell_type": "markdown",
   "id": "2c83cf33",
   "metadata": {},
   "source": [
    "What is happening with the data? Why the model is not working?"
   ]
  },
  {
   "cell_type": "markdown",
   "id": "b3504a4f",
   "metadata": {},
   "source": [
    "### Features : merged data collumns names without string collumns that are not numerical"
   ]
  },
  {
   "cell_type": "code",
   "execution_count": null,
   "id": "77131a67",
   "metadata": {},
   "outputs": [],
   "source": [
    "y = save_loan_status\n",
    "features = get_collumns_names\n",
    "print(\"Features: \", features)\n",
    "X = merged_data[features]\n",
    "X= X.to_numpy()\n",
    "y = y.to_numpy()\n",
    "X_train, X_test, y_train, y_test = split_data(X, y, 0.3)\n",
    "\n",
    "X_train, y_train = smote_sampling(X_train, y_train)\n",
    "\n",
    "# Default values for SVM non-linear parameters\n",
    "svm_non_linear = svm.SVC(kernel=\"rbf\")\n",
    "prediction = fit_and_predict(svm_non_linear, X_train, y_train, X_test)\n",
    "\n",
    "calculate_statistics(y_test, prediction)\n",
    "display_conf_matrix_graph(y_test, prediction)"
   ]
  },
  {
   "cell_type": "markdown",
   "id": "21c7725a",
   "metadata": {},
   "source": [
    "We need parameters tuning and better feature selection, data preparation and or data understanding.\n",
    "Check on all models what is the positive and negative class and the confusion matrix not random ! Data sorted by date of loan ascending order. ( See this )\n",
    "Experimentar várias estratégias de sampling, como por exemplo, undersampling, oversampling, SMOTE, etc.\n",
    "Validatin after test, not before. ( See this ) ?!!?\n",
    "Featuring enginnering, feature selection !!!! ( See this )\n",
    "Descriptive modeling : clustering, PCA, etc. ( See this )\n",
    "No fundo: passar por todos os passos das teóricas de data mining, e ver o que se pode fazer para melhorar os resultados. ( See this )\n",
    "Tests with different models, and different parameters. ( See this )\n",
    "Tests need to be about loans in the future comparing with the data training !!!!\n",
    "New feature: loan amount / duration\n",
    "New feature: loan amount / payments\n",
    "New feature: loan amount / payments / duration\n",
    "New feature: number of clients with the same account with loan\n",
    "New feature: try to calculate \"taxa de esforço\" ou algo parecido\n",
    "New feature : get month balance, calculate the average and compare with the loan month payment -> sum the value of the loan payment\n",
    "Maybe delete the type of transaction !!!\n",
    "-> See the formulas used by banks !!!\n",
    "See account_frequency: meaning and maybe changing to numerical values"
   ]
  },
  {
   "cell_type": "markdown",
   "id": "89c6e347",
   "metadata": {},
   "source": []
  },
  {
   "cell_type": "code",
   "execution_count": null,
   "id": "8a6f8732",
   "metadata": {},
   "outputs": [
    {
     "name": "stderr",
     "output_type": "stream",
     "text": [
      "/tmp/ipykernel_93632/619107745.py:7: FutureWarning: In a future version of pandas all arguments of DataFrame.dropna will be keyword-only.\n",
      "  ft_feature_matrix_enc_md_2 = ft_feature_matrix_enc_md_2.dropna(\"columns\", how=\"any\")\n"
     ]
    },
    {
     "name": "stdout",
     "output_type": "stream",
     "text": [
      "     loan_id  account.MAX(loan.loan_status)  account.MEAN(loan.loan_status)  \\\n",
      "0       5314                            0.0                             0.0   \n",
      "1       5316                            1.0                             1.0   \n",
      "2       6863                            1.0                             1.0   \n",
      "3       5325                            1.0                             1.0   \n",
      "4       7240                            1.0                             1.0   \n",
      "..       ...                            ...                             ...   \n",
      "323     6818                            1.0                             1.0   \n",
      "324     5625                            0.0                             0.0   \n",
      "325     6805                            1.0                             1.0   \n",
      "326     7233                            1.0                             1.0   \n",
      "327     7308                            1.0                             1.0   \n",
      "\n",
      "     account.SUM(loan.loan_status)  account.MIN(loan.loan_status)  \\\n",
      "0                              0.0                            0.0   \n",
      "1                              1.0                            1.0   \n",
      "2                              1.0                            1.0   \n",
      "3                              1.0                            1.0   \n",
      "4                              1.0                            1.0   \n",
      "..                             ...                            ...   \n",
      "323                            1.0                            1.0   \n",
      "324                            0.0                            0.0   \n",
      "325                            1.0                            1.0   \n",
      "326                            1.0                            1.0   \n",
      "327                            1.0                            1.0   \n",
      "\n",
      "     account.district.MEAN(loan.loan_status)  \\\n",
      "0                                   0.500000   \n",
      "1                                   1.000000   \n",
      "2                                   1.000000   \n",
      "3                                   0.833333   \n",
      "4                                   0.847826   \n",
      "..                                       ...   \n",
      "323                                 0.888889   \n",
      "324                                 0.750000   \n",
      "325                                 0.888889   \n",
      "326                                 0.833333   \n",
      "327                                 0.666667   \n",
      "\n",
      "     account.SUM(disp.client.district.MEAN(loan.loan_status))  \\\n",
      "0                                             0.250000          \n",
      "1                                             0.500000          \n",
      "2                                             0.500000          \n",
      "3                                             0.500000          \n",
      "4                                             0.500000          \n",
      "..                                                 ...          \n",
      "323                                           0.888889          \n",
      "324                                           0.375000          \n",
      "325                                           0.444444          \n",
      "326                                           0.416667          \n",
      "327                                           0.333333          \n",
      "\n",
      "     account.NUM_UNIQUE(transaction.trans_operation)  \\\n",
      "0                                                0.0   \n",
      "1                                                0.6   \n",
      "2                                                0.8   \n",
      "3                                                0.8   \n",
      "4                                                0.8   \n",
      "..                                               ...   \n",
      "323                                              0.6   \n",
      "324                                              0.4   \n",
      "325                                              0.6   \n",
      "326                                              0.4   \n",
      "327                                              0.6   \n",
      "\n",
      "     account.SKEW(transaction.trans_day)  account.MEAN(transaction.trans_day)  \\\n",
      "0                               0.655008                             0.608479   \n",
      "1                               0.685658                             0.379411   \n",
      "2                               0.810894                             0.283139   \n",
      "3                               0.552780                             0.573776   \n",
      "4                               0.867554                             0.467591   \n",
      "..                                   ...                                  ...   \n",
      "323                             0.689544                             0.449786   \n",
      "324                             0.424733                             0.675216   \n",
      "325                             0.655653                             0.432227   \n",
      "326                             0.641555                             0.438409   \n",
      "327                             0.938463                             0.077083   \n",
      "\n",
      "     account.SUM(disp.client.district.MIN(loan.loan_status))  \\\n",
      "0                                                  0.0         \n",
      "1                                                  0.5         \n",
      "2                                                  0.5         \n",
      "3                                                  0.5         \n",
      "4                                                  0.5         \n",
      "..                                                 ...         \n",
      "323                                                0.0         \n",
      "324                                                0.0         \n",
      "325                                                0.0         \n",
      "326                                                0.0         \n",
      "327                                                0.0         \n",
      "\n",
      "     account.SUM(disp.client.district.MAX(loan.loan_status))  \\\n",
      "0                                                  0.5         \n",
      "1                                                  0.5         \n",
      "2                                                  0.5         \n",
      "3                                                  0.5         \n",
      "4                                                  0.5         \n",
      "..                                                 ...         \n",
      "323                                                1.0         \n",
      "324                                                0.5         \n",
      "325                                                0.5         \n",
      "326                                                0.5         \n",
      "327                                                0.5         \n",
      "\n",
      "     account.SUM(disp.client.district.MAX(client.client_age))  \n",
      "0                                             0.078125         \n",
      "1                                             0.085938         \n",
      "2                                             0.070312         \n",
      "3                                             0.117188         \n",
      "4                                             0.078125         \n",
      "..                                                 ...         \n",
      "323                                           0.890625         \n",
      "324                                           0.039062         \n",
      "325                                           0.078125         \n",
      "326                                           0.078125         \n",
      "327                                           0.093750         \n",
      "\n",
      "[328 rows x 13 columns]\n",
      "Accuracy: 0.6060606060606061\n",
      "Precision: 0.8636363636363636\n",
      "Recall: 0.6551724137931034\n",
      "F1-Score: 0.7450980392156864\n",
      "AUC: 0.4525862068965517\n",
      "Log Loss: 13.606257331094833\n"
     ]
    },
    {
     "data": {
      "image/png": "[encoded data removed]",
      "text/plain": [
       "<Figure size 640x480 with 2 Axes>"
      ]
     },
     "metadata": {},
     "output_type": "display_data"
    }
   ],
   "source": [
    "from catboost import CatBoostRegressor\n",
    "from sklearn.neighbors import KNeighborsClassifier\n",
    "from sklearn.model_selection import train_test_split\n",
    "from sklearn import svm\n",
    "ft_feature_matrix_enc_md_2 = pd.read_csv(\"refined/ft_df_mms_md_2.csv\", sep=\";\", low_memory=False)\n",
    "# drop loan_status from features ( obviously )\n",
    "ft_feature_matrix_enc_md_2 = ft_feature_matrix_enc_md_2.dropna(\"columns\", how=\"any\")\n",
    "\n",
    "features = ft_feature_matrix_enc_md_2.columns\n",
    "features = features.dropna()\n",
    "\n",
    "y=ft_feature_matrix_enc_md_2[\"loan_status\"].copy()\n",
    "\n",
    "X = ft_feature_matrix_enc_md_2.drop(columns=[\"loan_status\"], axis=1, inplace=False)\n",
    "print(X)\n",
    "\n",
    "X_train, X_test, y_train, y_test = train_test_split(X, y,test_size=0.3, random_state=42, shuffle=False)\n",
    "\n",
    "X_train, y_train = smote_sampling(X_train, y_train)\n",
    "model= KNeighborsClassifier(n_neighbors=1)\n",
    "prediction = fit_and_predict(model, X_train, y_train, X_test)\n",
    "\n",
    "calculate_statistics(y_test, prediction)\n",
    "display_conf_matrix_graph(y_test, prediction)"
   ]
  }
 ],
 "metadata": {
  "kernelspec": {
   "display_name": "Python 3 (ipykernel)",
   "language": "python",
   "name": "python3"
  },
  "language_info": {
   "codemirror_mode": {
    "name": "ipython",
    "version": 3
   },
   "file_extension": ".py",
   "mimetype": "text/x-python",
   "name": "python",
   "nbconvert_exporter": "python",
   "pygments_lexer": "ipython3",
   "version": "3.10.6"
  },
  "vscode": {
   "interpreter": {
    "hash": "916dbcbb3f70747c44a77c7bcd40155683ae19c65e1c03b4aa3499c5328201f1"
   }
  }
 },
 "nbformat": 4,
 "nbformat_minor": 5
}
