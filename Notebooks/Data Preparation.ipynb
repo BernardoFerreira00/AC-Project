{
 "cells": [
  {
   "cell_type": "code",
   "execution_count": 1,
   "id": "a33d33ad",
   "metadata": {},
   "outputs": [],
   "source": [
    "import pandas as pd\n",
    "import matplotlib.pyplot as plt\n",
    "import seaborn as sns\n",
    "\n",
    "import math as m\n",
    "\n",
    "\n",
    "account_df = pd.read_csv('../data/account.csv',sep=';')\n",
    "card_df = pd.read_csv('../data/card_dev.csv', sep=';')\n",
    "client_df = pd.read_csv('../data/client.csv',sep=';')\n",
    "disp_df = pd.read_csv('../data/disp.csv',sep=';')\n",
    "district_df = pd.read_csv('../data/district.csv',sep=';')\n",
    "loan_df = pd.read_csv('../data/loan_dev.csv', sep=';')\n",
    "trans_df = pd.read_csv(\"../data/trans_dev.csv\",sep=\";\", low_memory=False)"
   ]
  },
  {
   "cell_type": "markdown",
   "id": "7909c192",
   "metadata": {},
   "source": [
    "# Process Client"
   ]
  },
  {
   "cell_type": "code",
   "execution_count": 2,
   "id": "3aa39da5",
   "metadata": {},
   "outputs": [],
   "source": [
    "client_df['sex'] = client_df['birth_number'].apply(lambda x : 0 if int(str(x)[2:4]) < 50 else 1)"
   ]
  },
  {
   "cell_type": "markdown",
   "id": "dd86b888",
   "metadata": {},
   "source": [
    "# Process Account"
   ]
  },
  {
   "cell_type": "code",
   "execution_count": 3,
   "id": "b717a4f8",
   "metadata": {},
   "outputs": [],
   "source": [
    "month_frequency = [x for x in account_df['frequency'].unique()]\n",
    "account_df['frequency'] = account_df['frequency'].apply(lambda x : month_frequency.index(x))"
   ]
  },
  {
   "cell_type": "markdown",
   "id": "7ef1d67a",
   "metadata": {},
   "source": [
    "### Format Data"
   ]
  },
  {
   "cell_type": "code",
   "execution_count": 4,
   "id": "eb51a2a9",
   "metadata": {},
   "outputs": [
    {
     "data": {
      "text/html": [
       "<div>\n",
       "<style scoped>\n",
       "    .dataframe tbody tr th:only-of-type {\n",
       "        vertical-align: middle;\n",
       "    }\n",
       "\n",
       "    .dataframe tbody tr th {\n",
       "        vertical-align: top;\n",
       "    }\n",
       "\n",
       "    .dataframe thead th {\n",
       "        text-align: right;\n",
       "    }\n",
       "</style>\n",
       "<table border=\"1\" class=\"dataframe\">\n",
       "  <thead>\n",
       "    <tr style=\"text-align: right;\">\n",
       "      <th></th>\n",
       "      <th>account_id</th>\n",
       "      <th>district_id</th>\n",
       "      <th>frequency</th>\n",
       "      <th>date</th>\n",
       "    </tr>\n",
       "  </thead>\n",
       "  <tbody>\n",
       "    <tr>\n",
       "      <th>0</th>\n",
       "      <td>576</td>\n",
       "      <td>55</td>\n",
       "      <td>0</td>\n",
       "      <td>1993-01-01</td>\n",
       "    </tr>\n",
       "    <tr>\n",
       "      <th>1</th>\n",
       "      <td>3818</td>\n",
       "      <td>74</td>\n",
       "      <td>0</td>\n",
       "      <td>1993-01-01</td>\n",
       "    </tr>\n",
       "    <tr>\n",
       "      <th>2</th>\n",
       "      <td>704</td>\n",
       "      <td>55</td>\n",
       "      <td>0</td>\n",
       "      <td>1993-01-01</td>\n",
       "    </tr>\n",
       "    <tr>\n",
       "      <th>3</th>\n",
       "      <td>2378</td>\n",
       "      <td>16</td>\n",
       "      <td>0</td>\n",
       "      <td>1993-01-01</td>\n",
       "    </tr>\n",
       "    <tr>\n",
       "      <th>4</th>\n",
       "      <td>2632</td>\n",
       "      <td>24</td>\n",
       "      <td>0</td>\n",
       "      <td>1993-01-02</td>\n",
       "    </tr>\n",
       "  </tbody>\n",
       "</table>\n",
       "</div>"
      ],
      "text/plain": [
       "   account_id  district_id  frequency       date\n",
       "0         576           55          0 1993-01-01\n",
       "1        3818           74          0 1993-01-01\n",
       "2         704           55          0 1993-01-01\n",
       "3        2378           16          0 1993-01-01\n",
       "4        2632           24          0 1993-01-02"
      ]
     },
     "execution_count": 4,
     "metadata": {},
     "output_type": "execute_result"
    }
   ],
   "source": [
    "account_df['date'] = pd.to_datetime(account_df['date'], format = '%y%m%d', errors='coerce');\n",
    "account_df.head()"
   ]
  },
  {
   "cell_type": "markdown",
   "id": "5b8f4c0d",
   "metadata": {},
   "source": [
    "# Process Disp"
   ]
  },
  {
   "cell_type": "code",
   "execution_count": 5,
   "id": "09586dd4",
   "metadata": {},
   "outputs": [],
   "source": [
    "type_frequency = [x for x in disp_df['type'].unique()]\n",
    "disp_df['type'] = disp_df['type'].apply(lambda x : type_frequency.index(x)) "
   ]
  },
  {
   "cell_type": "markdown",
   "id": "b4bda461",
   "metadata": {},
   "source": [
    "# Process Card\n"
   ]
  },
  {
   "cell_type": "code",
   "execution_count": 6,
   "id": "1394fa81",
   "metadata": {},
   "outputs": [],
   "source": [
    "type_frequency = [x for x in card_df['type'].unique()]\n",
    "card_df['type'] = card_df['type'].apply(lambda x : type_frequency.index(x))"
   ]
  },
  {
   "cell_type": "markdown",
   "id": "d3a4810d",
   "metadata": {},
   "source": [
    "### Format Data"
   ]
  },
  {
   "cell_type": "code",
   "execution_count": 7,
   "id": "8ffea1db",
   "metadata": {},
   "outputs": [
    {
     "data": {
      "text/html": [
       "<div>\n",
       "<style scoped>\n",
       "    .dataframe tbody tr th:only-of-type {\n",
       "        vertical-align: middle;\n",
       "    }\n",
       "\n",
       "    .dataframe tbody tr th {\n",
       "        vertical-align: top;\n",
       "    }\n",
       "\n",
       "    .dataframe thead th {\n",
       "        text-align: right;\n",
       "    }\n",
       "</style>\n",
       "<table border=\"1\" class=\"dataframe\">\n",
       "  <thead>\n",
       "    <tr style=\"text-align: right;\">\n",
       "      <th></th>\n",
       "      <th>card_id</th>\n",
       "      <th>disp_id</th>\n",
       "      <th>type</th>\n",
       "      <th>issued</th>\n",
       "    </tr>\n",
       "  </thead>\n",
       "  <tbody>\n",
       "    <tr>\n",
       "      <th>0</th>\n",
       "      <td>1005</td>\n",
       "      <td>9285</td>\n",
       "      <td>0</td>\n",
       "      <td>1993-11-07</td>\n",
       "    </tr>\n",
       "    <tr>\n",
       "      <th>1</th>\n",
       "      <td>104</td>\n",
       "      <td>588</td>\n",
       "      <td>0</td>\n",
       "      <td>1994-01-19</td>\n",
       "    </tr>\n",
       "    <tr>\n",
       "      <th>2</th>\n",
       "      <td>747</td>\n",
       "      <td>4915</td>\n",
       "      <td>0</td>\n",
       "      <td>1994-02-05</td>\n",
       "    </tr>\n",
       "    <tr>\n",
       "      <th>3</th>\n",
       "      <td>70</td>\n",
       "      <td>439</td>\n",
       "      <td>0</td>\n",
       "      <td>1994-02-08</td>\n",
       "    </tr>\n",
       "    <tr>\n",
       "      <th>4</th>\n",
       "      <td>577</td>\n",
       "      <td>3687</td>\n",
       "      <td>0</td>\n",
       "      <td>1994-02-15</td>\n",
       "    </tr>\n",
       "  </tbody>\n",
       "</table>\n",
       "</div>"
      ],
      "text/plain": [
       "   card_id  disp_id  type     issued\n",
       "0     1005     9285     0 1993-11-07\n",
       "1      104      588     0 1994-01-19\n",
       "2      747     4915     0 1994-02-05\n",
       "3       70      439     0 1994-02-08\n",
       "4      577     3687     0 1994-02-15"
      ]
     },
     "execution_count": 7,
     "metadata": {},
     "output_type": "execute_result"
    }
   ],
   "source": [
    "card_df['issued'] = pd.to_datetime(card_df['issued'], format = '%y%m%d', errors='coerce');\n",
    "card_df.head()"
   ]
  },
  {
   "cell_type": "markdown",
   "id": "4a083346",
   "metadata": {},
   "source": [
    "# Process District"
   ]
  },
  {
   "cell_type": "markdown",
   "id": "68b0df17",
   "metadata": {},
   "source": [
    "### Clean Column Names"
   ]
  },
  {
   "cell_type": "code",
   "execution_count": 9,
   "id": "90b2dbde",
   "metadata": {},
   "outputs": [
    {
     "data": {
      "text/html": [
       "<div>\n",
       "<style scoped>\n",
       "    .dataframe tbody tr th:only-of-type {\n",
       "        vertical-align: middle;\n",
       "    }\n",
       "\n",
       "    .dataframe tbody tr th {\n",
       "        vertical-align: top;\n",
       "    }\n",
       "\n",
       "    .dataframe thead th {\n",
       "        text-align: right;\n",
       "    }\n",
       "</style>\n",
       "<table border=\"1\" class=\"dataframe\">\n",
       "  <thead>\n",
       "    <tr style=\"text-align: right;\">\n",
       "      <th></th>\n",
       "      <th>code</th>\n",
       "      <th>name</th>\n",
       "      <th>region</th>\n",
       "      <th>no. of inhabitants</th>\n",
       "      <th>no of municipalities with inhabitants &lt; 499</th>\n",
       "      <th>no. of municipalities with inhabitants 500-1999</th>\n",
       "      <th>no. of municipalities with inhabitants 2000-9999</th>\n",
       "      <th>no. of municipalities with inhabitants &gt;10000</th>\n",
       "      <th>no. of cities</th>\n",
       "      <th>ratio of urban inhabitants</th>\n",
       "      <th>average salary</th>\n",
       "      <th>unemploymant rate 95</th>\n",
       "      <th>unemploymant rate 96</th>\n",
       "      <th>no. of enterpreneurs per 1000 inhabitants</th>\n",
       "      <th>no. of commited crimes 95</th>\n",
       "      <th>no. of commited crimes 96</th>\n",
       "    </tr>\n",
       "  </thead>\n",
       "  <tbody>\n",
       "    <tr>\n",
       "      <th>0</th>\n",
       "      <td>1</td>\n",
       "      <td>Hl.m. Praha</td>\n",
       "      <td>Prague</td>\n",
       "      <td>1204953</td>\n",
       "      <td>0</td>\n",
       "      <td>0</td>\n",
       "      <td>0</td>\n",
       "      <td>1</td>\n",
       "      <td>1</td>\n",
       "      <td>100.0</td>\n",
       "      <td>12541</td>\n",
       "      <td>0.29</td>\n",
       "      <td>0.43</td>\n",
       "      <td>167</td>\n",
       "      <td>85677</td>\n",
       "      <td>99107</td>\n",
       "    </tr>\n",
       "    <tr>\n",
       "      <th>1</th>\n",
       "      <td>2</td>\n",
       "      <td>Benesov</td>\n",
       "      <td>central Bohemia</td>\n",
       "      <td>88884</td>\n",
       "      <td>80</td>\n",
       "      <td>26</td>\n",
       "      <td>6</td>\n",
       "      <td>2</td>\n",
       "      <td>5</td>\n",
       "      <td>46.7</td>\n",
       "      <td>8507</td>\n",
       "      <td>1.67</td>\n",
       "      <td>1.85</td>\n",
       "      <td>132</td>\n",
       "      <td>2159</td>\n",
       "      <td>2674</td>\n",
       "    </tr>\n",
       "    <tr>\n",
       "      <th>2</th>\n",
       "      <td>3</td>\n",
       "      <td>Beroun</td>\n",
       "      <td>central Bohemia</td>\n",
       "      <td>75232</td>\n",
       "      <td>55</td>\n",
       "      <td>26</td>\n",
       "      <td>4</td>\n",
       "      <td>1</td>\n",
       "      <td>5</td>\n",
       "      <td>41.7</td>\n",
       "      <td>8980</td>\n",
       "      <td>1.95</td>\n",
       "      <td>2.21</td>\n",
       "      <td>111</td>\n",
       "      <td>2824</td>\n",
       "      <td>2813</td>\n",
       "    </tr>\n",
       "    <tr>\n",
       "      <th>3</th>\n",
       "      <td>4</td>\n",
       "      <td>Kladno</td>\n",
       "      <td>central Bohemia</td>\n",
       "      <td>149893</td>\n",
       "      <td>63</td>\n",
       "      <td>29</td>\n",
       "      <td>6</td>\n",
       "      <td>2</td>\n",
       "      <td>6</td>\n",
       "      <td>67.4</td>\n",
       "      <td>9753</td>\n",
       "      <td>4.64</td>\n",
       "      <td>5.05</td>\n",
       "      <td>109</td>\n",
       "      <td>5244</td>\n",
       "      <td>5892</td>\n",
       "    </tr>\n",
       "    <tr>\n",
       "      <th>4</th>\n",
       "      <td>5</td>\n",
       "      <td>Kolin</td>\n",
       "      <td>central Bohemia</td>\n",
       "      <td>95616</td>\n",
       "      <td>65</td>\n",
       "      <td>30</td>\n",
       "      <td>4</td>\n",
       "      <td>1</td>\n",
       "      <td>6</td>\n",
       "      <td>51.4</td>\n",
       "      <td>9307</td>\n",
       "      <td>3.85</td>\n",
       "      <td>4.43</td>\n",
       "      <td>118</td>\n",
       "      <td>2616</td>\n",
       "      <td>3040</td>\n",
       "    </tr>\n",
       "  </tbody>\n",
       "</table>\n",
       "</div>"
      ],
      "text/plain": [
       "   code         name           region  no. of inhabitants  \\\n",
       "0     1  Hl.m. Praha           Prague             1204953   \n",
       "1     2      Benesov  central Bohemia               88884   \n",
       "2     3       Beroun  central Bohemia               75232   \n",
       "3     4       Kladno  central Bohemia              149893   \n",
       "4     5        Kolin  central Bohemia               95616   \n",
       "\n",
       "   no of municipalities with inhabitants < 499  \\\n",
       "0                                            0   \n",
       "1                                           80   \n",
       "2                                           55   \n",
       "3                                           63   \n",
       "4                                           65   \n",
       "\n",
       "   no. of municipalities with inhabitants 500-1999  \\\n",
       "0                                                0   \n",
       "1                                               26   \n",
       "2                                               26   \n",
       "3                                               29   \n",
       "4                                               30   \n",
       "\n",
       "   no. of municipalities with inhabitants 2000-9999  \\\n",
       "0                                                 0   \n",
       "1                                                 6   \n",
       "2                                                 4   \n",
       "3                                                 6   \n",
       "4                                                 4   \n",
       "\n",
       "   no. of municipalities with inhabitants >10000  no. of cities  \\\n",
       "0                                              1              1   \n",
       "1                                              2              5   \n",
       "2                                              1              5   \n",
       "3                                              2              6   \n",
       "4                                              1              6   \n",
       "\n",
       "   ratio of urban inhabitants  average salary unemploymant rate 95  \\\n",
       "0                       100.0           12541                 0.29   \n",
       "1                        46.7            8507                 1.67   \n",
       "2                        41.7            8980                 1.95   \n",
       "3                        67.4            9753                 4.64   \n",
       "4                        51.4            9307                 3.85   \n",
       "\n",
       "   unemploymant rate 96   no. of enterpreneurs per 1000 inhabitants  \\\n",
       "0                   0.43                                        167   \n",
       "1                   1.85                                        132   \n",
       "2                   2.21                                        111   \n",
       "3                   5.05                                        109   \n",
       "4                   4.43                                        118   \n",
       "\n",
       "  no. of commited crimes 95  no. of commited crimes 96  \n",
       "0                     85677                      99107  \n",
       "1                      2159                       2674  \n",
       "2                      2824                       2813  \n",
       "3                      5244                       5892  \n",
       "4                      2616                       3040  "
      ]
     },
     "execution_count": 9,
     "metadata": {},
     "output_type": "execute_result"
    }
   ],
   "source": [
    "district_df.rename(columns = {'code ':'code', 'name ':'name', \n",
    "                            'no. of municipalities with inhabitants < 499 ': 'no of municipalities with inhabitants < 499',\n",
    "                            'no. of municipalities with inhabitants 2000-9999 ': 'no. of municipalities with inhabitants 2000-9999', \n",
    "                            'no. of municipalities with inhabitants >10000 ': 'no. of municipalities with inhabitants >10000',\n",
    "                            'no. of cities ':'no. of cities', 'ratio of urban inhabitants ':'ratio of urban inhabitants',\n",
    "                            'average salary ':'average salary', \"unemploymant rate '95 \": \"unemploymant rate 95\",\n",
    "                            \"unemploymant rate '96 \": \"unemploymant rate 96 \", \n",
    "                            'no. of enterpreneurs per 1000 inhabitants ':'no. of enterpreneurs per 1000 inhabitants', \n",
    "                            \"no. of commited crimes '95 \":\"no. of commited crimes 95\",\n",
    "                           \"no. of commited crimes '96 \": \"no. of commited crimes 96\"}, inplace = True)\n",
    "\n",
    "district_df.head()"
   ]
  },
  {
   "cell_type": "markdown",
   "id": "f2ba74af",
   "metadata": {},
   "source": [
    "### Change column types"
   ]
  },
  {
   "cell_type": "code",
   "execution_count": 10,
   "id": "45711807",
   "metadata": {},
   "outputs": [
    {
     "data": {
      "text/plain": [
       "code                                                  int64\n",
       "name                                                 object\n",
       "region                                               object\n",
       "no. of inhabitants                                    int64\n",
       "no of municipalities with inhabitants < 499           int64\n",
       "no. of municipalities with inhabitants 500-1999       int64\n",
       "no. of municipalities with inhabitants 2000-9999      int64\n",
       "no. of municipalities with inhabitants >10000         int64\n",
       "no. of cities                                         int64\n",
       "ratio of urban inhabitants                          float64\n",
       "average salary                                        int64\n",
       "unemploymant rate 95                                float64\n",
       "unemploymant rate 96                                float64\n",
       "no. of enterpreneurs per 1000 inhabitants             int64\n",
       "no. of commited crimes 95                            object\n",
       "no. of commited crimes 96                             int64\n",
       "dtype: object"
      ]
     },
     "execution_count": 10,
     "metadata": {},
     "output_type": "execute_result"
    }
   ],
   "source": [
    "condition = district_df['no. of commited crimes 95'] != '?'\n",
    "meanNoCommitedCrimes95 = int(pd.to_numeric(district_df['no. of commited crimes 95'][condition]).mean())\n",
    "\n",
    "condition = district_df['no. of commited crimes 95'] == '?'\n",
    "district_df.loc[district_df['no. of commited crimes 95'] == '?', 'no. of commited crimes 95'] = meanNoCommitedCrimes95 \n",
    "\n",
    "district_df[[\"unemploymant rate 95\"]] = district_df[[\"unemploymant rate 95\"]].apply(pd.to_numeric, errors='coerce', axis=1)\n",
    "district_df.dtypes"
   ]
  },
  {
   "cell_type": "markdown",
   "id": "7bc61e39",
   "metadata": {},
   "source": [
    "# Process Trans"
   ]
  },
  {
   "cell_type": "markdown",
   "id": "da3b7408",
   "metadata": {},
   "source": [
    "### Clean Null values"
   ]
  },
  {
   "cell_type": "code",
   "execution_count": null,
   "id": "6c8ddb5a",
   "metadata": {},
   "outputs": [],
   "source": [
    "del trans_df['k_symbol']\n",
    "del trans_df['bank']\n",
    "\n",
    "trans_df.dtypes"
   ]
  },
  {
   "cell_type": "code",
   "execution_count": null,
   "id": "2a008d7e",
   "metadata": {},
   "outputs": [],
   "source": [
    "trans_df['date'] = pd.to_datetime(trans_df['date'], format = '%y%m%d', errors='coerce');\n",
    "trans_df.head()"
   ]
  }
 ],
 "metadata": {
  "kernelspec": {
   "display_name": "Python 3 (ipykernel)",
   "language": "python",
   "name": "python3"
  },
  "language_info": {
   "codemirror_mode": {
    "name": "ipython",
    "version": 3
   },
   "file_extension": ".py",
   "mimetype": "text/x-python",
   "name": "python",
   "nbconvert_exporter": "python",
   "pygments_lexer": "ipython3",
   "version": "3.9.12"
  }
 },
 "nbformat": 4,
 "nbformat_minor": 5
}
