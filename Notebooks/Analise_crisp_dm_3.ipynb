{
 "cells": [
  {
   "cell_type": "markdown",
   "id": "36e94a22",
   "metadata": {},
   "source": [
    "# Import Data"
   ]
  },
  {
   "cell_type": "code",
   "execution_count": 1,
   "id": "44c3730b",
   "metadata": {},
   "outputs": [
    {
     "name": "stdout",
     "output_type": "stream",
     "text": [
      "(24494, 41)\n"
     ]
    }
   ],
   "source": [
    "import pandas as pd\n",
    "from sklearn import tree\n",
    "from sklearn.tree import DecisionTreeClassifier\n",
    "from sklearn.linear_model import LogisticRegression\n",
    "\n",
    "from imblearn.over_sampling import SMOTE\n",
    "\n",
    "from sklearn.model_selection import train_test_split, StratifiedKFold\n",
    "from sklearn import metrics\n",
    "import matplotlib.pyplot as plt\n",
    "import sys\n",
    "from sqlalchemy import create_engine\n",
    "from sklearn.metrics import confusion_matrix\n",
    "import matplotlib.pyplot as plt\n",
    "\n",
    "import numpy as np \n",
    "\n",
    "\n",
    "account = pd.read_csv(\"data/account.csv\", sep=\";\")\n",
    "card = pd.read_csv(\"data/card_dev.csv\", sep=\";\")\n",
    "client = pd.read_csv(\"data/client.csv\", sep=\";\")\n",
    "disposition = pd.read_csv(\"data/disp.csv\", sep=\";\")\n",
    "demograph = pd.read_csv(\"data/district.csv\",sep=\";\")\n",
    "loan = pd.read_csv(\"data/loan_dev.csv\", sep=\";\")\n",
    "transactions = pd.read_csv(\"data/trans_dev.csv\",sep=\";\", low_memory=False)\n",
    "merged_data = pd.read_csv(\"refined/final_data.csv\", sep=\";\")\n",
    "\n",
    "print(merged_data.shape)"
   ]
  },
  {
   "cell_type": "markdown",
   "id": "4889b501",
   "metadata": {},
   "source": [
    "# Split Data"
   ]
  },
  {
   "cell_type": "code",
   "execution_count": 2,
   "id": "682d9c68",
   "metadata": {},
   "outputs": [],
   "source": [
    "def split_data(X, y, test_size):\n",
    "    return train_test_split(X, y, test_size=0.3, random_state=42, shuffle=False)"
   ]
  },
  {
   "cell_type": "markdown",
   "id": "514d0714",
   "metadata": {},
   "source": [
    "# Sampling"
   ]
  },
  {
   "cell_type": "code",
   "execution_count": 3,
   "id": "8c93c364",
   "metadata": {},
   "outputs": [],
   "source": [
    "def smote_sampling(X_train, y_train):\n",
    "    sm = SMOTE(random_state=42)\n",
    "    return sm.fit_resample(X_train, y_train)"
   ]
  },
  {
   "cell_type": "markdown",
   "id": "febdb626",
   "metadata": {},
   "source": [
    "# Fit and Predict"
   ]
  },
  {
   "cell_type": "code",
   "execution_count": 4,
   "id": "1181e28e",
   "metadata": {},
   "outputs": [],
   "source": [
    "def fit_and_predict(model, X_train, y_train, X_test):\n",
    "    model = model.fit(X_train, y_train)\n",
    "    prediction = model.predict(X_test)\n",
    "\n",
    "    return prediction"
   ]
  },
  {
   "cell_type": "markdown",
   "id": "da86368f",
   "metadata": {},
   "source": [
    "# Calculate Statistics"
   ]
  },
  {
   "cell_type": "code",
   "execution_count": 5,
   "id": "77b26a87",
   "metadata": {},
   "outputs": [],
   "source": [
    "def calculate_statistics(y_test, pred):\n",
    "    accuracy = metrics.accuracy_score(y_test, pred)\n",
    "    precision = metrics.precision_score(y_test, pred)\n",
    "    recall = metrics.recall_score(y_test, pred)\n",
    "    f1_score1 = metrics.f1_score(y_test, pred)\n",
    "    \n",
    "    \n",
    "    print(f\"Accuracy: {accuracy}\")\n",
    "    print(f\"Precision: {precision}\")\n",
    "    print(f\"Recall: {recall}\")\n",
    "    print(f\"F1-Score: {f1_score1}\")"
   ]
  },
  {
   "cell_type": "markdown",
   "id": "06753f35",
   "metadata": {},
   "source": [
    "# Confusion Matrix"
   ]
  },
  {
   "cell_type": "code",
   "execution_count": 6,
   "id": "306d6989",
   "metadata": {},
   "outputs": [],
   "source": [
    "def display_conf_matrix_graph(y_test, pred):\n",
    "    conf_matrix = confusion_matrix(y_test, pred)\n",
    "    \n",
    "    cm_display = metrics.ConfusionMatrixDisplay(confusion_matrix = conf_matrix, display_labels = [\"Not Paid\", \"Paid\"])\n",
    "    cm_display.plot()"
   ]
  },
  {
   "cell_type": "markdown",
   "id": "ab35e63c",
   "metadata": {},
   "source": []
  },
  {
   "cell_type": "markdown",
   "id": "8550f7b7",
   "metadata": {},
   "source": [
    "# Aplication of a models"
   ]
  },
  {
   "cell_type": "markdown",
   "id": "ef4093a4",
   "metadata": {},
   "source": [
    "## Decision Tree"
   ]
  },
  {
   "cell_type": "markdown",
   "id": "13835c69",
   "metadata": {},
   "source": [
    "### Features : amount, duration and payments\n"
   ]
  },
  {
   "cell_type": "code",
   "execution_count": 7,
   "id": "fb7da822",
   "metadata": {},
   "outputs": [
    {
     "name": "stdout",
     "output_type": "stream",
     "text": [
      "Accuracy: 0.7070707070707071\n",
      "Precision: 0.9027777777777778\n",
      "Recall: 0.7471264367816092\n",
      "F1-Score: 0.8176100628930817\n"
     ]
    },
    {
     "data": {
      "image/png": "[encoded data removed]",
      "text/plain": [
       "<Figure size 432x288 with 2 Axes>"
      ]
     },
     "metadata": {
      "needs_background": "light"
     },
     "output_type": "display_data"
    }
   ],
   "source": [
    "\n",
    "features = ['amount', 'duration', 'payments']\n",
    "X = loan[features]\n",
    "y = loan[\"status\"]\n",
    "\n",
    "X_train, X_test, y_train, y_test = split_data(X, y, 0.3)\n",
    "\n",
    "X_train, y_train = smote_sampling(X_train, y_train)\n",
    "\n",
    "dTree = DecisionTreeClassifier()\n",
    "prediction = fit_and_predict(dTree, X_train, y_train, X_test)\n",
    "\n",
    "calculate_statistics(y_test, prediction)\n",
    "display_conf_matrix_graph(y_test, prediction)"
   ]
  },
  {
   "cell_type": "markdown",
   "id": "450681d8",
   "metadata": {},
   "source": [
    "### Features : merged data collumns names without string collumns that are not numerical"
   ]
  },
  {
   "cell_type": "markdown",
   "id": "3a8e1437",
   "metadata": {},
   "source": [
    "#### Merged Data"
   ]
  },
  {
   "cell_type": "code",
   "execution_count": 8,
   "id": "643b86e5",
   "metadata": {},
   "outputs": [
    {
     "name": "stdout",
     "output_type": "stream",
     "text": [
      "['loan_id', 'account_id', 'loan_amount', 'loan_duration', 'loan_payments', 'loan_year', 'disp_id', 'client_id', 'client_district_id', 'birth_year', 'client_age', 'client_gender', 'district_id_x', 'account_frequency', 'account_year', 'district_id_y', 'region', 'no. of municipalities with inhabitants < 499 ', 'no. of municipalities with inhabitants 500-1999', 'no. of municipalities with inhabitants 2000-9999 ', 'no. of municipalities with inhabitants >10000 ', 'no. of cities ', 'ratio of urban inhabitants ', 'average salary ', 'criminal growth', 'unemploymant growth', 'enterpreuners ratio', 'trans_id', 'trans_amount', 'trans_balance', 'trans_year', 'age on loan', 'account age at loan']\n"
     ]
    }
   ],
   "source": [
    "merged_data.drop(columns=merged_data.columns[0], axis=1, inplace=True)\n",
    "# exclude non-numeric columns\n",
    "merged_data = merged_data.select_dtypes(exclude=['object'])\n",
    "get_collumns_names = list(merged_data)\n",
    "# drop loan_status \n",
    "for index in range(len(get_collumns_names)):\n",
    "    if(get_collumns_names[index] == 'loan_status'):\n",
    "        del get_collumns_names[index]\n",
    "        break\n",
    "print(get_collumns_names)\n",
    "merged_data\n",
    "save_loan_status = merged_data['loan_status']"
   ]
  },
  {
   "cell_type": "code",
   "execution_count": 9,
   "id": "b8f6bc31",
   "metadata": {},
   "outputs": [
    {
     "name": "stdout",
     "output_type": "stream",
     "text": [
      "Features:  ['loan_id', 'account_id', 'loan_amount', 'loan_duration', 'loan_payments', 'loan_year', 'disp_id', 'client_id', 'client_district_id', 'birth_year', 'client_age', 'client_gender', 'district_id_x', 'account_frequency', 'account_year', 'district_id_y', 'region', 'no. of municipalities with inhabitants < 499 ', 'no. of municipalities with inhabitants 500-1999', 'no. of municipalities with inhabitants 2000-9999 ', 'no. of municipalities with inhabitants >10000 ', 'no. of cities ', 'ratio of urban inhabitants ', 'average salary ', 'criminal growth', 'unemploymant growth', 'enterpreuners ratio', 'trans_id', 'trans_amount', 'trans_balance', 'trans_year', 'age on loan', 'account age at loan']\n",
      "Accuracy: 0.7588787590148319\n",
      "Precision: 0.9222065063649222\n",
      "Recall: 0.7965791081246182\n",
      "F1-Score: 0.8548017043592264\n"
     ]
    },
    {
     "data": {
      "image/png": "[encoded data removed]",
      "text/plain": [
       "<Figure size 432x288 with 2 Axes>"
      ]
     },
     "metadata": {
      "needs_background": "light"
     },
     "output_type": "display_data"
    }
   ],
   "source": [
    "\n",
    "y = merged_data[\"loan_status\"]\n",
    "# drop loan_status from features ( obviously )\n",
    "merged_data.drop(columns=[\"loan_status\"], axis=1, inplace=True)\n",
    "\n",
    "features = get_collumns_names\n",
    "print(\"Features: \", features)\n",
    "X = merged_data[features]\n",
    "\n",
    "X_train, X_test, y_train, y_test = split_data(X, y, 0.3)\n",
    "\n",
    "X_train, y_train = smote_sampling(X_train, y_train)\n",
    "\n",
    "dTree = DecisionTreeClassifier()\n",
    "prediction = fit_and_predict(dTree, X_train, y_train, X_test)\n",
    "\n",
    "calculate_statistics(y_test, prediction)\n",
    "display_conf_matrix_graph(y_test, prediction)"
   ]
  },
  {
   "cell_type": "markdown",
   "id": "7032a8ba",
   "metadata": {},
   "source": [
    "We need to separate date birth day in 3 columns: day, month and year. \n",
    "We need to transform the categorical data in numerical data ( all ?!?)\n",
    "Do this on data preparation and use refined data on data understanding.\n",
    "The merged data, need to be sorted by date of loan ascending order. ( See this )"
   ]
  },
  {
   "cell_type": "markdown",
   "id": "e58f5507",
   "metadata": {},
   "source": [
    "## Logistic Regression"
   ]
  },
  {
   "cell_type": "markdown",
   "id": "85cefd60",
   "metadata": {},
   "source": [
    "### Features : amount, duration and payments"
   ]
  },
  {
   "cell_type": "code",
   "execution_count": 10,
   "id": "0a6e3841",
   "metadata": {},
   "outputs": [
    {
     "name": "stdout",
     "output_type": "stream",
     "text": [
      "Accuracy: 0.494949494949495\n",
      "Precision: 0.8627450980392157\n",
      "Recall: 0.5057471264367817\n",
      "F1-Score: 0.6376811594202899\n"
     ]
    },
    {
     "data": {
      "image/png": "[encoded data removed]",
      "text/plain": [
       "<Figure size 432x288 with 2 Axes>"
      ]
     },
     "metadata": {
      "needs_background": "light"
     },
     "output_type": "display_data"
    }
   ],
   "source": [
    "features = ['amount', 'duration', 'payments']\n",
    "X = loan[features]\n",
    "y = loan[\"status\"]\n",
    "\n",
    "X_train, X_test, y_train, y_test = split_data(X, y, 0.3)\n",
    "\n",
    "X_train, y_train = smote_sampling(X_train, y_train)\n",
    "\n",
    "logistic_regression = LogisticRegression()\n",
    "prediction = fit_and_predict(logistic_regression, X_train, y_train, X_test)\n",
    "\n",
    "calculate_statistics(y_test, prediction)\n",
    "display_conf_matrix_graph(y_test, prediction)"
   ]
  },
  {
   "cell_type": "markdown",
   "id": "a2f92ff6",
   "metadata": {},
   "source": [
    "### Features : merged data collumns names without string collumns that are not numerical"
   ]
  },
  {
   "cell_type": "code",
   "execution_count": 11,
   "id": "0cead261",
   "metadata": {},
   "outputs": [
    {
     "name": "stdout",
     "output_type": "stream",
     "text": [
      "Features:  ['loan_id', 'account_id', 'loan_amount', 'loan_duration', 'loan_payments', 'loan_year', 'disp_id', 'client_id', 'client_district_id', 'birth_year', 'client_age', 'client_gender', 'district_id_x', 'account_frequency', 'account_year', 'district_id_y', 'region', 'no. of municipalities with inhabitants < 499 ', 'no. of municipalities with inhabitants 500-1999', 'no. of municipalities with inhabitants 2000-9999 ', 'no. of municipalities with inhabitants >10000 ', 'no. of cities ', 'ratio of urban inhabitants ', 'average salary ', 'criminal growth', 'unemploymant growth', 'enterpreuners ratio', 'trans_id', 'trans_amount', 'trans_balance', 'trans_year', 'age on loan', 'account age at loan']\n",
      "Accuracy: 0.7541162062865696\n",
      "Precision: 0.9190383595545342\n",
      "Recall: 0.7939828955406231\n",
      "F1-Score: 0.8519459238017205\n"
     ]
    },
    {
     "data": {
      "image/png": "[encoded data removed]",
      "text/plain": [
       "<Figure size 432x288 with 2 Axes>"
      ]
     },
     "metadata": {
      "needs_background": "light"
     },
     "output_type": "display_data"
    }
   ],
   "source": [
    "\n",
    "y = save_loan_status\n",
    "features = get_collumns_names\n",
    "print(\"Features: \", features)\n",
    "X = merged_data[features]\n",
    "\n",
    "X_train, X_test, y_train, y_test = split_data(X, y, 0.3)\n",
    "\n",
    "X_train, y_train = smote_sampling(X_train, y_train)\n",
    "\n",
    "dTree = DecisionTreeClassifier()\n",
    "prediction = fit_and_predict(dTree, X_train, y_train, X_test)\n",
    "\n",
    "calculate_statistics(y_test, prediction)\n",
    "display_conf_matrix_graph(y_test, prediction)"
   ]
  },
  {
   "cell_type": "markdown",
   "id": "e5548fce",
   "metadata": {},
   "source": [
    "## Support Vector Machine - Linear"
   ]
  },
  {
   "cell_type": "markdown",
   "id": "34a5cd59",
   "metadata": {},
   "source": [
    "### Features : amount, duration and payments"
   ]
  },
  {
   "cell_type": "code",
   "execution_count": 14,
   "id": "399651c4",
   "metadata": {},
   "outputs": [
    {
     "name": "stdout",
     "output_type": "stream",
     "text": [
      "Accuracy: 0.41414141414141414\n",
      "Precision: 0.8717948717948718\n",
      "Recall: 0.39080459770114945\n",
      "F1-Score: 0.5396825396825398\n"
     ]
    },
    {
     "data": {
      "image/png": "[encoded data removed]",
      "text/plain": [
       "<Figure size 432x288 with 2 Axes>"
      ]
     },
     "metadata": {
      "needs_background": "light"
     },
     "output_type": "display_data"
    }
   ],
   "source": [
    "from sklearn import svm\n",
    "features = ['amount', 'duration', 'payments']\n",
    "X = loan[features]\n",
    "y = loan[\"status\"]\n",
    "X= X.to_numpy()\n",
    "y = y.to_numpy()\n",
    "\n",
    "X_train, X_test, y_train, y_test = split_data(X, y, 0.3)\n",
    "\n",
    "X_train, y_train = smote_sampling(X_train, y_train)\n",
    "\n",
    "# Default values for C and gamma\n",
    "svm_linear = svm.SVC(kernel='linear')\n",
    "prediction = fit_and_predict(svm_linear, X_train, y_train, X_test)\n",
    "\n",
    "calculate_statistics(y_test, prediction)\n",
    "display_conf_matrix_graph(y_test, prediction)"
   ]
  },
  {
   "cell_type": "markdown",
   "id": "0f4283b3",
   "metadata": {},
   "source": [
    "A good idea is to tunne C, Gamma and Kernel parameters ( and others) depending on the data and the chosen SVM model."
   ]
  },
  {
   "cell_type": "markdown",
   "id": "9c12ff8e",
   "metadata": {},
   "source": [
    "### Features : merged data collumns names without string collumns that are not numerical"
   ]
  },
  {
   "cell_type": "code",
   "execution_count": null,
   "id": "b4109a15",
   "metadata": {},
   "outputs": [],
   "source": [
    "y = save_loan_status\n",
    "features = get_collumns_names\n",
    "print(\"Features: \", features)\n",
    "X = merged_data[features]\n",
    "X= X.to_numpy()\n",
    "y = y.to_numpy()\n",
    "X_train, X_test, y_train, y_test = split_data(X, y, 0.3)\n",
    "\n",
    "X_train, y_train = smote_sampling(X_train, y_train)\n",
    "\n",
    "# Default values for SVM linear parameters\n",
    "svm_linear = svm.SVC(kernel=\"linear\")\n",
    "prediction = fit_and_predict(svm_linear, X_train, y_train, X_test)\n",
    "\n",
    "calculate_statistics(y_test, prediction)\n",
    "display_conf_matrix_graph(y_test, prediction)"
   ]
  },
  {
   "cell_type": "markdown",
   "id": "13d836e7",
   "metadata": {},
   "source": [
    "## Support Vector Machine - Non Linear"
   ]
  },
  {
   "cell_type": "markdown",
   "id": "461d41bd",
   "metadata": {},
   "source": [
    "### Features : amount, duration and payments"
   ]
  },
  {
   "cell_type": "code",
   "execution_count": null,
   "id": "6077f864",
   "metadata": {},
   "outputs": [],
   "source": [
    "features = ['amount', 'duration', 'payments']\n",
    "X = loan[features]\n",
    "y = loan[\"status\"]\n",
    "# Use numpy matrix to improve performance\n",
    "X= X.to_numpy()\n",
    "y = y.to_numpy()\n",
    "\n",
    "X_train, X_test, y_train, y_test = split_data(X, y, 0.3)\n",
    "\n",
    "X_train, y_train = smote_sampling(X_train, y_train)\n",
    "\n",
    "# Default values for SVM non-linear parameters\n",
    "svm_non_linear = svm.SVC(kernel=\"rbf\")\n",
    "prediction = fit_and_predict(svm_non_linear, X_train, y_train, X_test)\n",
    "\n",
    "calculate_statistics(y_test, prediction)\n",
    "display_conf_matrix_graph(y_test, prediction)"
   ]
  },
  {
   "cell_type": "markdown",
   "id": "2c83cf33",
   "metadata": {},
   "source": [
    "What is happening with the data? Why the model is not working?"
   ]
  },
  {
   "cell_type": "markdown",
   "id": "b3504a4f",
   "metadata": {},
   "source": [
    "### Features : merged data collumns names without string collumns that are not numerical"
   ]
  },
  {
   "cell_type": "code",
   "execution_count": null,
   "id": "77131a67",
   "metadata": {},
   "outputs": [],
   "source": [
    "y = save_loan_status\n",
    "features = get_collumns_names\n",
    "print(\"Features: \", features)\n",
    "X = merged_data[features]\n",
    "X= X.to_numpy()\n",
    "y = y.to_numpy()\n",
    "X_train, X_test, y_train, y_test = split_data(X, y, 0.3)\n",
    "\n",
    "X_train, y_train = smote_sampling(X_train, y_train)\n",
    "\n",
    "# Default values for SVM non-linear parameters\n",
    "svm_non_linear = svm.SVC(kernel=\"rbf\")\n",
    "prediction = fit_and_predict(svm_non_linear, X_train, y_train, X_test)\n",
    "\n",
    "calculate_statistics(y_test, prediction)\n",
    "display_conf_matrix_graph(y_test, prediction)"
   ]
  },
  {
   "cell_type": "markdown",
   "id": "21c7725a",
   "metadata": {},
   "source": [
    "We need parameters tuning and better feature selection, data preparation and or data understanding.\n",
    "Check on all models what is the positive and negative class and the confusion matrix not random ! Data sorted by date of loan ascending order. ( See this )\n",
    "Experimentar várias estratégias de sampling, como por exemplo, undersampling, oversampling, SMOTE, etc.\n",
    "Validatin after test, not before. ( See this ) ?!!?\n",
    "Featuring enginnering, feature selection !!!! ( See this )\n",
    "Descriptive modeling : clustering, PCA, etc. ( See this )\n",
    "No fundo: passar por todos os passos das teóricas de data mining, e ver o que se pode fazer para melhorar os resultados. ( See this )\n",
    "Tests with different models, and different parameters. ( See this )\n",
    "Tests need to be about loans in the future comparing with the data training !!!!\n",
    "New feature: loan amount / duration\n",
    "New feature: loan amount / payments\n",
    "New feature: loan amount / payments / duration\n",
    "New feature: number of clients with the same account with loan\n",
    "New feature: try to calculate \"taxa de esforço\" ou algo parecido\n",
    "New feature : get month balance, calculate the average and compare with the loan month payment -> sum the value of the loan payment\n",
    "Maybe delete the type of transaction !!!\n",
    "-> See the formulas used by banks !!!\n",
    "See account_frequency: meaning and maybe changing to numerical values"
   ]
  }
 ],
 "metadata": {
  "kernelspec": {
   "display_name": "Python 3 (ipykernel)",
   "language": "python",
   "name": "python3"
  },
  "language_info": {
   "codemirror_mode": {
    "name": "ipython",
    "version": 3
   },
   "file_extension": ".py",
   "mimetype": "text/x-python",
   "name": "python",
   "nbconvert_exporter": "python",
   "pygments_lexer": "ipython3",
   "version": "3.9.12"
  },
  "vscode": {
   "interpreter": {
    "hash": "916dbcbb3f70747c44a77c7bcd40155683ae19c65e1c03b4aa3499c5328201f1"
   }
  }
 },
 "nbformat": 4,
 "nbformat_minor": 5
}
