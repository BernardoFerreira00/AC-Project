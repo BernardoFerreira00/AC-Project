{
 "cells": [
  {
   "cell_type": "markdown",
   "metadata": {},
   "source": [
    "# Importing data"
   ]
  },
  {
   "cell_type": "code",
   "execution_count": 1,
   "metadata": {},
   "outputs": [],
   "source": [
    "import pandas as pd\n",
    "import matplotlib as mpl\n",
    "import matplotlib.pyplot as plt\n",
    "import seaborn as sns\n",
    "from datetime import datetime\n",
<<<<<<< HEAD
    "import math as m\n",
    "\n",
=======
    "from sklearn import preprocessing\n",
    "\n",
    "label_encoder = preprocessing.LabelEncoder()\n",
>>>>>>> 4ccd3d5174c75f85657a421d74c1e9554631733c
    "\n",
    "account_df = pd.read_csv('data/account.csv',sep=';')\n",
    "card_df = pd.read_csv('data/card_dev.csv', sep=';')\n",
    "client_df = pd.read_csv('data/client.csv',sep=';')\n",
    "disp_df = pd.read_csv('data/disp.csv',sep=';')\n",
    "district_df = pd.read_csv('data/district.csv',sep=';')\n",
    "loan_df = pd.read_csv('data/loan_dev.csv', sep=';')\n",
    "trans_df = pd.read_csv(\"data/trans_dev.csv\",sep=\";\", low_memory=False)"
   ]
  },
  {
   "cell_type": "markdown",
   "metadata": {},
   "source": [
    "# Account Stats"
   ]
  },
  {
   "cell_type": "code",
   "execution_count": 2,
   "metadata": {},
   "outputs": [
    {
     "name": "stdout",
     "output_type": "stream",
     "text": [
<<<<<<< HEAD
      "   account_id  district_id account_frequency account_date\n",
      "0         576           55           monthly   1993-01-01\n",
      "1        3818           74           monthly   1993-01-01\n",
      "2         704           55           monthly   1993-01-01\n",
      "3        2378           16           monthly   1993-01-01\n",
      "4        2632           24           monthly   1993-01-02\n"
=======
      "   account_id  district_id  account_frequency account_date  account_year\n",
      "0         576           55                  1   1993-01-01          1993\n",
      "1        3818           74                  1   1993-01-01          1993\n",
      "2         704           55                  1   1993-01-01          1993\n",
      "3        2378           16                  1   1993-01-01          1993\n",
      "4        2632           24                  1   1993-01-02          1993\n"
>>>>>>> 4ccd3d5174c75f85657a421d74c1e9554631733c
     ]
    }
   ],
   "source": [
    "account_df.rename(columns={'frequency':'account_frequency'}, inplace=True)\n",
    "account_df.rename(columns={'date':'account_date'}, inplace=True)\n",
    "\n",
    "account_df.loc[account_df['account_frequency'] == 'monthly issuance', 'account_frequency'] = 'monthly'\n",
    "account_df.loc[account_df['account_frequency'] == 'weekly issuance', 'account_frequency'] = 'weekly'\n",
    "account_df.loc[account_df['account_frequency'] == 'issuance after transaction', 'account_frequency'] = 'after-transaction'\n",
<<<<<<< HEAD
    "account_df['account_date'] = pd.to_datetime(account_df['account_date'], format='%y%m%d')\n",
=======
    "\n",
    "#Frequency from text data to numerical\n",
    "account_df['account_frequency']= label_encoder.fit_transform(account_df['account_frequency'])\n",
    "\n",
    "\n",
    "account_df['account_date'] = pd.to_datetime(account_df['account_date'], format='%y%m%d')\n",
    "\n",
    "acount_date_year = []\n",
    "for i in account_df.index:\n",
    "    acount_date_year.append(account_df['account_date'][i].year)\n",
    "\n",
    "account_df['account_year'] = acount_date_year\n",
    "\n",
>>>>>>> 4ccd3d5174c75f85657a421d74c1e9554631733c
    "print(account_df.head())\n",
    "account_df.to_csv('refined/account.csv')"
   ]
  },
  {
   "cell_type": "markdown",
   "metadata": {},
   "source": [
    "# Client Processing\n"
   ]
  },
  {
   "cell_type": "code",
   "execution_count": 3,
   "metadata": {},
<<<<<<< HEAD
   "outputs": [],
=======
   "outputs": [
    {
     "name": "stdout",
     "output_type": "stream",
     "text": [
      "   client_id client_birth_number  client_district_id  birth_year\n",
      "0          1          1970-12-13                  18        1970\n",
      "1          2          1945-02-04                   1        1945\n",
      "2          3          1940-10-09                   1        1940\n",
      "3          4          1956-12-01                   5        1956\n",
      "4          5          1960-07-03                   5        1960\n"
     ]
    }
   ],
>>>>>>> 4ccd3d5174c75f85657a421d74c1e9554631733c
   "source": [
    "client_df.rename(columns={'district_id':'client_district_id'}, inplace=True)\n",
    "client_df.rename(columns={'birth_number':'client_birth_number'}, inplace=True)\n",
    "\n",
    "\n",
    "age = []\n",
    "gender = []\n",
    "birth = []\n",
    "get_birth_date = lambda x : pd.to_datetime('19'+str(x)[0:2] + str(x)[2:4] + str(x)[4:6])\n",
    "for x in client_df['client_birth_number']:\n",
    "    month = int(str(x)[2:4])\n",
    "    if month > 12:\n",
    "        gender.append('F')\n",
    "        x -= 5000\n",
    "    else:\n",
    "        gender.append('M')\n",
    "    \n",
    "    birth_date = get_birth_date(x)\n",
    "    birth.append(birth_date)\n",
    "    age.append((datetime.now() - birth_date).days // 365)\n",
    "\n",
    "client_df['client_birth_number'] = birth\n",
<<<<<<< HEAD
=======
    "\n",
    "birth_year = []\n",
    "for i in client_df.index:\n",
    "    birth_year.append(client_df['client_birth_number'][i].year)\n",
    "\n",
    "client_df['birth_year'] = birth_year\n",
    "    \n",
    "print(client_df.head())\n",
    "\n",
>>>>>>> 4ccd3d5174c75f85657a421d74c1e9554631733c
    "client_df['client_age'] = age\n",
    "client_df['client_gender'] = gender\n",
    "\n",
    "\n",
<<<<<<< HEAD
    "\n",
=======
    "client_df['client_gender']= label_encoder.fit_transform(client_df['client_gender'])\n",
>>>>>>> 4ccd3d5174c75f85657a421d74c1e9554631733c
    "\n",
    "client_df.to_csv('refined/client.csv')"
   ]
  },
  {
   "cell_type": "markdown",
   "metadata": {},
   "source": [
    "# Disposition Processing"
   ]
  },
  {
   "cell_type": "code",
   "execution_count": 4,
   "metadata": {},
   "outputs": [],
   "source": [
    "disp_df = disp_df.loc[disp_df.type == \"OWNER\"]\n",
    "disp_df.drop(columns=['type'], inplace=True)\n",
    "disp_df.rename(columns={'type':'disp_type'}, inplace=True)\n",
    "disp_df.to_csv('refined/disposition.csv')"
   ]
  },
  {
   "cell_type": "markdown",
   "metadata": {},
   "source": [
    "# Transaction Processing"
   ]
  },
  {
   "cell_type": "code",
   "execution_count": 5,
   "metadata": {},
   "outputs": [
    {
     "name": "stdout",
     "output_type": "stream",
     "text": [
      "   trans_id  account_id trans_date trans_type               trans_operation  \\\n",
      "0   1548749        5270 1993-01-13     credit                credit in cash   \n",
      "1   1548750        5270 1993-01-14     credit  collection from another bank   \n",
      "2   3393738       11265 1993-01-14     credit                credit in cash   \n",
      "3   3122924       10364 1993-01-17     credit                credit in cash   \n",
      "4   1121963        3834 1993-01-19     credit                credit in cash   \n",
      "\n",
<<<<<<< HEAD
      "   trans_amount  trans_balance  \n",
      "0         800.0          800.0  \n",
      "1       44749.0        45549.0  \n",
      "2        1000.0         1000.0  \n",
      "3        1100.0         1100.0  \n",
      "4         700.0          700.0  \n"
=======
      "   trans_amount  trans_balance  trans_year  \n",
      "0         800.0          800.0        1993  \n",
      "1       44749.0        45549.0        1993  \n",
      "2        1000.0         1000.0        1993  \n",
      "3        1100.0         1100.0        1993  \n",
      "4         700.0          700.0        1993  \n"
>>>>>>> 4ccd3d5174c75f85657a421d74c1e9554631733c
     ]
    }
   ],
   "source": [
    "trans_df.rename(columns={'date' : 'trans_date'}, inplace=True)\n",
    "trans_df.rename(columns={'type' : 'trans_type'}, inplace=True)\n",
    "trans_df.rename(columns={'operation' : 'trans_operation'}, inplace=True)\n",
    "trans_df.rename(columns={'amount' : 'trans_amount'}, inplace=True)\n",
    "trans_df.rename(columns={'balance' : 'trans_balance'}, inplace=True)\n",
    "trans_df.rename(columns={'k_symbol' : 'trans_k_symbol'}, inplace=True)\n",
    "trans_df.rename(columns={'bank' : 'trans_bank'}, inplace=True)\n",
    "trans_df.rename(columns={'account': 'trans_account'}, inplace=True)\n",
    "\n",
    "trans_df['trans_date'] = pd.to_datetime(trans_df['trans_date'], format='%y%m%d')\n",
    "\n",
<<<<<<< HEAD
=======
    "trans_date_year = []\n",
    "for i in trans_df.index:\n",
    "    trans_date_year.append(trans_df['trans_date'][i].year)\n",
    "\n",
    "trans_df['trans_year'] = trans_date_year\n",
    "\n",
>>>>>>> 4ccd3d5174c75f85657a421d74c1e9554631733c
    "#as colunas bank e account não são necessárias, trans_k_symbol têm muitos valores nulos\n",
    "trans_df.drop(['trans_bank', 'trans_account', 'trans_k_symbol'], axis=1, inplace=True)\n",
    "\n",
    "#withdrawal in cash para withdrawal\n",
    "trans_df.loc[trans_df[\"trans_type\"]==\"withdrawal in cash\",\"trans_type\"] = \"withdrawal\" \n",
    "#se for withdrawal, o ammount é negativo\n",
    "trans_df.loc[trans_df[\"trans_type\"]==\"withdrawal\",\"trans_amount\"] *= -1\n",
    "print(trans_df.head())\n",
    "\n",
    "\n",
<<<<<<< HEAD
    "\n",
=======
>>>>>>> 4ccd3d5174c75f85657a421d74c1e9554631733c
    "trans_df.to_csv('refined/transaction.csv')"
   ]
  },
  {
   "cell_type": "markdown",
   "metadata": {},
   "source": [
    "# Loan Processing"
   ]
  },
  {
   "cell_type": "code",
<<<<<<< HEAD
   "execution_count": 8,
=======
   "execution_count": 6,
>>>>>>> 4ccd3d5174c75f85657a421d74c1e9554631733c
   "metadata": {},
   "outputs": [],
   "source": [
    "\n",
    "loan_df.rename(columns={'date':'loan_date'}, inplace=True)\n",
    "loan_df.rename(columns={'amount':'loan_amount'}, inplace=True)\n",
    "loan_df.rename(columns={'duration':'loan_duration'}, inplace=True)\n",
    "loan_df.rename(columns={'payments':'loan_payments'}, inplace=True)\n",
    "loan_df.rename(columns={'status':'loan_status'}, inplace=True)\n",
    "loan_df.loc[loan_df[\"loan_status\"]== -1,\"loan_status\"] *= 0\n",
    "\n",
<<<<<<< HEAD
    "loan_df['loan_date'] = pd.to_datetime(loan_df['loan_date'], format='%y%m%d')"
   ]
  },
  {
   "cell_type": "code",
   "execution_count": 20,
   "metadata": {},
   "outputs": [],
   "source": [
    "amount_duration = []\n",
    "for i in loan_df.index:\n",
    "    amount_duration.append(loan_df['loan_amount']/loan_df['loan_duration'])\n",
    "\n",
    "loan_df['amount_duration'] = amount_duration"
   ]
  },
  {
   "cell_type": "code",
   "execution_count": 22,
   "metadata": {},
   "outputs": [
    {
     "data": {
      "text/html": [
       "<div>\n",
       "<style scoped>\n",
       "    .dataframe tbody tr th:only-of-type {\n",
       "        vertical-align: middle;\n",
       "    }\n",
       "\n",
       "    .dataframe tbody tr th {\n",
       "        vertical-align: top;\n",
       "    }\n",
       "\n",
       "    .dataframe thead th {\n",
       "        text-align: right;\n",
       "    }\n",
       "</style>\n",
       "<table border=\"1\" class=\"dataframe\">\n",
       "  <thead>\n",
       "    <tr style=\"text-align: right;\">\n",
       "      <th></th>\n",
       "      <th>loan_id</th>\n",
       "      <th>account_id</th>\n",
       "      <th>loan_date</th>\n",
       "      <th>loan_amount</th>\n",
       "      <th>loan_duration</th>\n",
       "      <th>loan_payments</th>\n",
       "      <th>loan_status</th>\n",
       "      <th>amount_duration</th>\n",
       "    </tr>\n",
       "  </thead>\n",
       "  <tbody>\n",
       "    <tr>\n",
       "      <th>0</th>\n",
       "      <td>5314</td>\n",
       "      <td>1787</td>\n",
       "      <td>1993-07-05</td>\n",
       "      <td>96396</td>\n",
       "      <td>12</td>\n",
       "      <td>8033</td>\n",
       "      <td>0</td>\n",
       "      <td>0      8033\n",
       "1      4610\n",
       "2      2118\n",
       "3      293...</td>\n",
       "    </tr>\n",
       "    <tr>\n",
       "      <th>1</th>\n",
       "      <td>5316</td>\n",
       "      <td>1801</td>\n",
       "      <td>1993-07-11</td>\n",
       "      <td>165960</td>\n",
       "      <td>36</td>\n",
       "      <td>4610</td>\n",
       "      <td>1</td>\n",
       "      <td>0      8033\n",
       "1      4610\n",
       "2      2118\n",
       "3      293...</td>\n",
       "    </tr>\n",
       "    <tr>\n",
       "      <th>2</th>\n",
       "      <td>6863</td>\n",
       "      <td>9188</td>\n",
       "      <td>1993-07-28</td>\n",
       "      <td>127080</td>\n",
       "      <td>60</td>\n",
       "      <td>2118</td>\n",
       "      <td>1</td>\n",
       "      <td>0      8033\n",
       "1      4610\n",
       "2      2118\n",
       "3      293...</td>\n",
       "    </tr>\n",
       "    <tr>\n",
       "      <th>3</th>\n",
       "      <td>5325</td>\n",
       "      <td>1843</td>\n",
       "      <td>1993-08-03</td>\n",
       "      <td>105804</td>\n",
       "      <td>36</td>\n",
       "      <td>2939</td>\n",
       "      <td>1</td>\n",
       "      <td>0      8033\n",
       "1      4610\n",
       "2      2118\n",
       "3      293...</td>\n",
       "    </tr>\n",
       "    <tr>\n",
       "      <th>4</th>\n",
       "      <td>7240</td>\n",
       "      <td>11013</td>\n",
       "      <td>1993-09-06</td>\n",
       "      <td>274740</td>\n",
       "      <td>60</td>\n",
       "      <td>4579</td>\n",
       "      <td>1</td>\n",
       "      <td>0      8033\n",
       "1      4610\n",
       "2      2118\n",
       "3      293...</td>\n",
       "    </tr>\n",
       "  </tbody>\n",
       "</table>\n",
       "</div>"
      ],
      "text/plain": [
       "   loan_id  account_id  loan_date  loan_amount  loan_duration  loan_payments  \\\n",
       "0     5314        1787 1993-07-05        96396             12           8033   \n",
       "1     5316        1801 1993-07-11       165960             36           4610   \n",
       "2     6863        9188 1993-07-28       127080             60           2118   \n",
       "3     5325        1843 1993-08-03       105804             36           2939   \n",
       "4     7240       11013 1993-09-06       274740             60           4579   \n",
       "\n",
       "   loan_status                                    amount_duration  \n",
       "0            0  0      8033\n",
       "1      4610\n",
       "2      2118\n",
       "3      293...  \n",
       "1            1  0      8033\n",
       "1      4610\n",
       "2      2118\n",
       "3      293...  \n",
       "2            1  0      8033\n",
       "1      4610\n",
       "2      2118\n",
       "3      293...  \n",
       "3            1  0      8033\n",
       "1      4610\n",
       "2      2118\n",
       "3      293...  \n",
       "4            1  0      8033\n",
       "1      4610\n",
       "2      2118\n",
       "3      293...  "
      ]
     },
     "execution_count": 22,
     "metadata": {},
     "output_type": "execute_result"
    }
   ],
   "source": [
    "loan_df.to_csv('refined/loan.csv')\n",
    "loan_df.head()"
=======
    "loan_df['loan_date'] = pd.to_datetime(loan_df['loan_date'], format='%y%m%d')\n",
    "\n",
    "loan_date_year = []\n",
    "for i in loan_df.index:\n",
    "    loan_date_year.append(loan_df['loan_date'][i].year)\n",
    "loan_df['loan_year'] = loan_date_year\n",
    "\n",
    "loan_df.to_csv('refined/loan.csv')"
>>>>>>> 4ccd3d5174c75f85657a421d74c1e9554631733c
   ]
  },
  {
   "cell_type": "markdown",
   "metadata": {},
   "source": [
    "# Credit Card Processing"
   ]
  },
  {
   "cell_type": "code",
<<<<<<< HEAD
   "execution_count": 55,
=======
   "execution_count": 7,
>>>>>>> 4ccd3d5174c75f85657a421d74c1e9554631733c
   "metadata": {},
   "outputs": [],
   "source": [
    "card_df.rename(columns={'type' : 'card_type'}, inplace=True)\n",
    "card_df.rename(columns={'issued' : 'card_issued'}, inplace=True)\n",
<<<<<<< HEAD
=======
    "\n",
    "\n",
    "card_df['card_issued'] = pd.to_datetime(card_df['card_issued'], format='%y%m%d')\n",
    "\n",
    "issued_year = []\n",
    "for i in card_df.index:\n",
    "    issued_year.append(card_df['card_issued'][i].year)\n",
    "card_df['car_issued_year'] = issued_year\n",
    "\n",
    "\n",
>>>>>>> 4ccd3d5174c75f85657a421d74c1e9554631733c
    "card_df.to_csv('refined/card.csv')"
   ]
  },
  {
   "cell_type": "markdown",
   "metadata": {},
   "source": [
    "# District (demograph) Processing"
   ]
  },
  {
   "cell_type": "code",
<<<<<<< HEAD
   "execution_count": 56,
   "metadata": {},
   "outputs": [
    {
     "name": "stderr",
     "output_type": "stream",
     "text": [
      "/tmp/ipykernel_14705/3896087929.py:23: FutureWarning: The default value of numeric_only in DataFrame.corr is deprecated. In a future version, it will default to False. Select only valid columns or specify the value of numeric_only to silence this warning.\n",
      "  corr = district_df.corr()\n"
     ]
    },
    {
     "data": {
      "image/png": "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",
      "text/plain": [
       "<Figure size 640x480 with 2 Axes>"
      ]
     },
     "metadata": {},
=======
   "execution_count": 8,
   "metadata": {},
   "outputs": [
    {
     "data": {
      "image/png": "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\n",
      "text/plain": [
       "<Figure size 432x288 with 2 Axes>"
      ]
     },
     "metadata": {
      "needs_background": "light"
     },
>>>>>>> 4ccd3d5174c75f85657a421d74c1e9554631733c
     "output_type": "display_data"
    }
   ],
   "source": [
    "district_df.rename(columns={'code ' : 'district_id'}, inplace=True)\n",
    "district_df[\"unemploymant rate '95 \"] = pd.to_numeric(district_df[\"unemploymant rate '95 \"], errors='coerce')\n",
    "#filling NA values with mean\n",
    "district_df[\"unemploymant rate '95 \"].fillna(district_df[\"unemploymant rate '95 \"].mean(), inplace=True)\n",
    "\n",
    "district_df[\"no. of commited crimes '95 \"] = pd.to_numeric(district_df[\"no. of commited crimes '95 \"], errors='coerce')\n",
    "#filling NA values with mean\n",
    "district_df[\"no. of commited crimes '95 \"].fillna(district_df[\"no. of commited crimes '95 \"].mean(), inplace=True)\n",
    "\n",
    "#growths\n",
    "district_df[\"criminal growth\"] = (district_df[\"no. of commited crimes '96 \"] - district_df[\"no. of commited crimes '95 \"]) / district_df[\"no. of inhabitants\"]\n",
    "district_df['unemploymant growth'] = district_df[\"unemploymant rate '96 \"] - district_df[\"unemploymant rate '95 \"]\n",
    "\n",
    "#simplifying ratios lmao\n",
    "district_df['enterpreuners ratio'] = district_df['no. of enterpreneurs per 1000 inhabitants '] / 1000\n",
    "district_df['ratio of urban inhabitants '] = district_df['ratio of urban inhabitants '] / 100\n",
    "\n",
<<<<<<< HEAD
=======
    "#Region attribute to numerical\n",
    "district_df['region']= label_encoder.fit_transform(district_df['region'])\n",
    "\n",
>>>>>>> 4ccd3d5174c75f85657a421d74c1e9554631733c
    "district_df.drop(columns=['name ', 'no. of enterpreneurs per 1000 inhabitants ', 'no. of inhabitants',\n",
    "        \"unemploymant rate '96 \", \"no. of commited crimes '96 \",\n",
    "        \"unemploymant rate '95 \", \"no. of commited crimes '95 \"], inplace=True)\n",
    "\n",
<<<<<<< HEAD
    "\n",
=======
>>>>>>> 4ccd3d5174c75f85657a421d74c1e9554631733c
    "corr = district_df.corr()\n",
    "sns.heatmap(corr);\n",
    "district_df.to_csv('refined/district.csv')"
   ]
  },
  {
   "cell_type": "markdown",
   "metadata": {},
   "source": [
    "# Merging"
   ]
  },
  {
   "cell_type": "code",
<<<<<<< HEAD
   "execution_count": 57,
=======
   "execution_count": 9,
>>>>>>> 4ccd3d5174c75f85657a421d74c1e9554631733c
   "metadata": {},
   "outputs": [],
   "source": [
    "refined_df = loan_df.merge(disp_df, on='account_id')\n",
    "refined_df = refined_df.merge(client_df, on='client_id')\n",
    "refined_df = refined_df.merge(account_df, on='account_id')\n",
    "refined_df = refined_df.merge(district_df, left_on='client_district_id', right_on='district_id')\n",
    "refined_df = refined_df.merge(trans_df, on='account_id')\n",
    "#refined_df = refined_df.merge(card_df, on='disp_id')\n",
    "get_age = lambda initial_date, cur_date: cur_date.year - initial_date.year - ((cur_date.month, cur_date.day) < (initial_date.month, initial_date.day))\n",
    "get_account_age = lambda initial_date,cur_date : (cur_date.year - initial_date.year) * 12 + cur_date.month - initial_date.month\n",
    "refined_df['age on loan'] = refined_df.apply(lambda row: get_age(row['client_birth_number'], row['loan_date']), axis=1)\n",
    "refined_df['account age at loan'] = refined_df.apply(lambda row: get_account_age(row['account_date'], row['loan_date']), axis=1)\n",
    "refined_df.drop(columns={\n",
    "    'account_id', 'disp_id', 'client_id', 'client_district_id', 'district_id_x', 'district_id_y', 'trans_id', 'client_birth_number', 'client_age', 'account_date',\n",
    "    'loan_date', 'trans_date', 'no. of municipalities with inhabitants < 499 ', 'no. of municipalities with inhabitants 500-1999', 'no. of municipalities with inhabitants 2000-9999 ',\n",
    "    'no. of municipalities with inhabitants >10000 ', 'no. of cities '\n",
    "})\n",
<<<<<<< HEAD
    "refined_df.to_csv('refined/final_data.csv',sep=';')"
=======
    "refined_df.to_csv('refined/final_data.csv',sep=';')\n",
    "\n",
    "\n",
    "\n"
>>>>>>> 4ccd3d5174c75f85657a421d74c1e9554631733c
   ]
  },
  {
   "cell_type": "code",
<<<<<<< HEAD
   "execution_count": 58,
=======
   "execution_count": 10,
>>>>>>> 4ccd3d5174c75f85657a421d74c1e9554631733c
   "metadata": {},
   "outputs": [
    {
     "data": {
      "text/html": [
       "<div>\n",
       "<style scoped>\n",
       "    .dataframe tbody tr th:only-of-type {\n",
       "        vertical-align: middle;\n",
       "    }\n",
       "\n",
       "    .dataframe tbody tr th {\n",
       "        vertical-align: top;\n",
       "    }\n",
       "\n",
       "    .dataframe thead th {\n",
       "        text-align: right;\n",
       "    }\n",
       "</style>\n",
       "<table border=\"1\" class=\"dataframe\">\n",
       "  <thead>\n",
       "    <tr style=\"text-align: right;\">\n",
       "      <th></th>\n",
       "      <th>loan_id</th>\n",
       "      <th>account_id</th>\n",
       "      <th>loan_date</th>\n",
       "      <th>loan_amount</th>\n",
       "      <th>loan_duration</th>\n",
       "      <th>loan_payments</th>\n",
       "      <th>loan_status</th>\n",
<<<<<<< HEAD
       "      <th>disp_id</th>\n",
       "      <th>client_id</th>\n",
       "      <th>client_birth_number</th>\n",
       "      <th>...</th>\n",
       "      <th>unemploymant growth</th>\n",
=======
       "      <th>loan_year</th>\n",
       "      <th>disp_id</th>\n",
       "      <th>client_id</th>\n",
       "      <th>...</th>\n",
>>>>>>> 4ccd3d5174c75f85657a421d74c1e9554631733c
       "      <th>enterpreuners ratio</th>\n",
       "      <th>trans_id</th>\n",
       "      <th>trans_date</th>\n",
       "      <th>trans_type</th>\n",
       "      <th>trans_operation</th>\n",
       "      <th>trans_amount</th>\n",
       "      <th>trans_balance</th>\n",
<<<<<<< HEAD
=======
       "      <th>trans_year</th>\n",
>>>>>>> 4ccd3d5174c75f85657a421d74c1e9554631733c
       "      <th>age on loan</th>\n",
       "      <th>account age at loan</th>\n",
       "    </tr>\n",
       "  </thead>\n",
       "  <tbody>\n",
       "    <tr>\n",
       "      <th>0</th>\n",
       "      <td>5314</td>\n",
       "      <td>1787</td>\n",
       "      <td>1993-07-05</td>\n",
       "      <td>96396</td>\n",
       "      <td>12</td>\n",
       "      <td>8033</td>\n",
       "      <td>0</td>\n",
<<<<<<< HEAD
       "      <td>2166</td>\n",
       "      <td>2166</td>\n",
       "      <td>1947-07-22</td>\n",
       "      <td>...</td>\n",
       "      <td>0.29</td>\n",
=======
       "      <td>1993</td>\n",
       "      <td>2166</td>\n",
       "      <td>2166</td>\n",
       "      <td>...</td>\n",
>>>>>>> 4ccd3d5174c75f85657a421d74c1e9554631733c
       "      <td>0.100</td>\n",
       "      <td>523621</td>\n",
       "      <td>1993-03-22</td>\n",
       "      <td>credit</td>\n",
       "      <td>credit in cash</td>\n",
       "      <td>1100.0</td>\n",
       "      <td>1100.0</td>\n",
<<<<<<< HEAD
=======
       "      <td>1993</td>\n",
>>>>>>> 4ccd3d5174c75f85657a421d74c1e9554631733c
       "      <td>45</td>\n",
       "      <td>4</td>\n",
       "    </tr>\n",
       "    <tr>\n",
       "      <th>1</th>\n",
       "      <td>5314</td>\n",
       "      <td>1787</td>\n",
       "      <td>1993-07-05</td>\n",
       "      <td>96396</td>\n",
       "      <td>12</td>\n",
       "      <td>8033</td>\n",
       "      <td>0</td>\n",
<<<<<<< HEAD
       "      <td>2166</td>\n",
       "      <td>2166</td>\n",
       "      <td>1947-07-22</td>\n",
       "      <td>...</td>\n",
       "      <td>0.29</td>\n",
=======
       "      <td>1993</td>\n",
       "      <td>2166</td>\n",
       "      <td>2166</td>\n",
       "      <td>...</td>\n",
>>>>>>> 4ccd3d5174c75f85657a421d74c1e9554631733c
       "      <td>0.100</td>\n",
       "      <td>524054</td>\n",
       "      <td>1993-04-21</td>\n",
       "      <td>credit</td>\n",
       "      <td>credit in cash</td>\n",
       "      <td>9900.0</td>\n",
       "      <td>11000.0</td>\n",
<<<<<<< HEAD
=======
       "      <td>1993</td>\n",
>>>>>>> 4ccd3d5174c75f85657a421d74c1e9554631733c
       "      <td>45</td>\n",
       "      <td>4</td>\n",
       "    </tr>\n",
       "    <tr>\n",
       "      <th>2</th>\n",
       "      <td>5314</td>\n",
       "      <td>1787</td>\n",
       "      <td>1993-07-05</td>\n",
       "      <td>96396</td>\n",
       "      <td>12</td>\n",
       "      <td>8033</td>\n",
       "      <td>0</td>\n",
<<<<<<< HEAD
       "      <td>2166</td>\n",
       "      <td>2166</td>\n",
       "      <td>1947-07-22</td>\n",
       "      <td>...</td>\n",
       "      <td>0.29</td>\n",
=======
       "      <td>1993</td>\n",
       "      <td>2166</td>\n",
       "      <td>2166</td>\n",
       "      <td>...</td>\n",
>>>>>>> 4ccd3d5174c75f85657a421d74c1e9554631733c
       "      <td>0.100</td>\n",
       "      <td>524055</td>\n",
       "      <td>1993-05-21</td>\n",
       "      <td>credit</td>\n",
       "      <td>credit in cash</td>\n",
       "      <td>5800.0</td>\n",
       "      <td>16800.0</td>\n",
<<<<<<< HEAD
=======
       "      <td>1993</td>\n",
>>>>>>> 4ccd3d5174c75f85657a421d74c1e9554631733c
       "      <td>45</td>\n",
       "      <td>4</td>\n",
       "    </tr>\n",
       "    <tr>\n",
       "      <th>3</th>\n",
       "      <td>5314</td>\n",
       "      <td>1787</td>\n",
       "      <td>1993-07-05</td>\n",
       "      <td>96396</td>\n",
       "      <td>12</td>\n",
       "      <td>8033</td>\n",
       "      <td>0</td>\n",
<<<<<<< HEAD
       "      <td>2166</td>\n",
       "      <td>2166</td>\n",
       "      <td>1947-07-22</td>\n",
       "      <td>...</td>\n",
       "      <td>0.29</td>\n",
=======
       "      <td>1993</td>\n",
       "      <td>2166</td>\n",
       "      <td>2166</td>\n",
       "      <td>...</td>\n",
>>>>>>> 4ccd3d5174c75f85657a421d74c1e9554631733c
       "      <td>0.100</td>\n",
       "      <td>524056</td>\n",
       "      <td>1993-06-20</td>\n",
       "      <td>credit</td>\n",
       "      <td>credit in cash</td>\n",
       "      <td>3300.0</td>\n",
       "      <td>20100.0</td>\n",
<<<<<<< HEAD
=======
       "      <td>1993</td>\n",
>>>>>>> 4ccd3d5174c75f85657a421d74c1e9554631733c
       "      <td>45</td>\n",
       "      <td>4</td>\n",
       "    </tr>\n",
       "    <tr>\n",
       "      <th>4</th>\n",
       "      <td>5316</td>\n",
       "      <td>1801</td>\n",
       "      <td>1993-07-11</td>\n",
       "      <td>165960</td>\n",
       "      <td>36</td>\n",
       "      <td>4610</td>\n",
       "      <td>1</td>\n",
<<<<<<< HEAD
       "      <td>2181</td>\n",
       "      <td>2181</td>\n",
       "      <td>1968-07-22</td>\n",
       "      <td>...</td>\n",
       "      <td>0.52</td>\n",
=======
       "      <td>1993</td>\n",
       "      <td>2181</td>\n",
       "      <td>2181</td>\n",
       "      <td>...</td>\n",
>>>>>>> 4ccd3d5174c75f85657a421d74c1e9554631733c
       "      <td>0.117</td>\n",
       "      <td>527445</td>\n",
       "      <td>1993-02-13</td>\n",
       "      <td>credit</td>\n",
       "      <td>credit in cash</td>\n",
       "      <td>700.0</td>\n",
       "      <td>700.0</td>\n",
<<<<<<< HEAD
=======
       "      <td>1993</td>\n",
>>>>>>> 4ccd3d5174c75f85657a421d74c1e9554631733c
       "      <td>24</td>\n",
       "      <td>5</td>\n",
       "    </tr>\n",
       "    <tr>\n",
       "      <th>...</th>\n",
       "      <td>...</td>\n",
       "      <td>...</td>\n",
       "      <td>...</td>\n",
       "      <td>...</td>\n",
       "      <td>...</td>\n",
       "      <td>...</td>\n",
       "      <td>...</td>\n",
       "      <td>...</td>\n",
       "      <td>...</td>\n",
       "      <td>...</td>\n",
       "      <td>...</td>\n",
       "      <td>...</td>\n",
       "      <td>...</td>\n",
       "      <td>...</td>\n",
       "      <td>...</td>\n",
       "      <td>...</td>\n",
       "      <td>...</td>\n",
       "      <td>...</td>\n",
       "      <td>...</td>\n",
       "      <td>...</td>\n",
       "      <td>...</td>\n",
       "    </tr>\n",
       "    <tr>\n",
       "      <th>24489</th>\n",
       "      <td>6015</td>\n",
       "      <td>5001</td>\n",
       "      <td>1996-11-09</td>\n",
       "      <td>110112</td>\n",
       "      <td>24</td>\n",
       "      <td>4588</td>\n",
       "      <td>1</td>\n",
<<<<<<< HEAD
       "      <td>6042</td>\n",
       "      <td>6042</td>\n",
       "      <td>1963-10-12</td>\n",
       "      <td>...</td>\n",
       "      <td>1.03</td>\n",
=======
       "      <td>1996</td>\n",
       "      <td>6042</td>\n",
       "      <td>6042</td>\n",
       "      <td>...</td>\n",
>>>>>>> 4ccd3d5174c75f85657a421d74c1e9554631733c
       "      <td>0.099</td>\n",
       "      <td>1468125</td>\n",
       "      <td>1996-10-28</td>\n",
       "      <td>credit</td>\n",
       "      <td>credit in cash</td>\n",
       "      <td>40890.0</td>\n",
       "      <td>122647.9</td>\n",
<<<<<<< HEAD
=======
       "      <td>1996</td>\n",
>>>>>>> 4ccd3d5174c75f85657a421d74c1e9554631733c
       "      <td>33</td>\n",
       "      <td>11</td>\n",
       "    </tr>\n",
       "    <tr>\n",
       "      <th>24490</th>\n",
       "      <td>6015</td>\n",
       "      <td>5001</td>\n",
       "      <td>1996-11-09</td>\n",
       "      <td>110112</td>\n",
       "      <td>24</td>\n",
       "      <td>4588</td>\n",
       "      <td>1</td>\n",
<<<<<<< HEAD
       "      <td>6042</td>\n",
       "      <td>6042</td>\n",
       "      <td>1963-10-12</td>\n",
       "      <td>...</td>\n",
       "      <td>1.03</td>\n",
=======
       "      <td>1996</td>\n",
       "      <td>6042</td>\n",
       "      <td>6042</td>\n",
       "      <td>...</td>\n",
>>>>>>> 4ccd3d5174c75f85657a421d74c1e9554631733c
       "      <td>0.099</td>\n",
       "      <td>3668246</td>\n",
       "      <td>1996-10-31</td>\n",
       "      <td>credit</td>\n",
       "      <td>NaN</td>\n",
       "      <td>299.9</td>\n",
       "      <td>102247.7</td>\n",
<<<<<<< HEAD
=======
       "      <td>1996</td>\n",
>>>>>>> 4ccd3d5174c75f85657a421d74c1e9554631733c
       "      <td>33</td>\n",
       "      <td>11</td>\n",
       "    </tr>\n",
       "    <tr>\n",
       "      <th>24491</th>\n",
       "      <td>6015</td>\n",
       "      <td>5001</td>\n",
       "      <td>1996-11-09</td>\n",
       "      <td>110112</td>\n",
       "      <td>24</td>\n",
       "      <td>4588</td>\n",
       "      <td>1</td>\n",
<<<<<<< HEAD
       "      <td>6042</td>\n",
       "      <td>6042</td>\n",
       "      <td>1963-10-12</td>\n",
       "      <td>...</td>\n",
       "      <td>1.03</td>\n",
=======
       "      <td>1996</td>\n",
       "      <td>6042</td>\n",
       "      <td>6042</td>\n",
       "      <td>...</td>\n",
>>>>>>> 4ccd3d5174c75f85657a421d74c1e9554631733c
       "      <td>0.099</td>\n",
       "      <td>1468352</td>\n",
       "      <td>1996-10-31</td>\n",
       "      <td>withdrawal</td>\n",
       "      <td>withdrawal in cash</td>\n",
       "      <td>-14.6</td>\n",
       "      <td>102233.1</td>\n",
<<<<<<< HEAD
=======
       "      <td>1996</td>\n",
>>>>>>> 4ccd3d5174c75f85657a421d74c1e9554631733c
       "      <td>33</td>\n",
       "      <td>11</td>\n",
       "    </tr>\n",
       "    <tr>\n",
       "      <th>24492</th>\n",
       "      <td>6015</td>\n",
       "      <td>5001</td>\n",
       "      <td>1996-11-09</td>\n",
       "      <td>110112</td>\n",
       "      <td>24</td>\n",
       "      <td>4588</td>\n",
       "      <td>1</td>\n",
<<<<<<< HEAD
       "      <td>6042</td>\n",
       "      <td>6042</td>\n",
       "      <td>1963-10-12</td>\n",
       "      <td>...</td>\n",
       "      <td>1.03</td>\n",
=======
       "      <td>1996</td>\n",
       "      <td>6042</td>\n",
       "      <td>6042</td>\n",
       "      <td>...</td>\n",
>>>>>>> 4ccd3d5174c75f85657a421d74c1e9554631733c
       "      <td>0.099</td>\n",
       "      <td>1468396</td>\n",
       "      <td>1996-11-02</td>\n",
       "      <td>withdrawal</td>\n",
       "      <td>withdrawal in cash</td>\n",
       "      <td>-28800.0</td>\n",
       "      <td>106858.1</td>\n",
<<<<<<< HEAD
=======
       "      <td>1996</td>\n",
>>>>>>> 4ccd3d5174c75f85657a421d74c1e9554631733c
       "      <td>33</td>\n",
       "      <td>11</td>\n",
       "    </tr>\n",
       "    <tr>\n",
       "      <th>24493</th>\n",
       "      <td>6015</td>\n",
       "      <td>5001</td>\n",
       "      <td>1996-11-09</td>\n",
       "      <td>110112</td>\n",
       "      <td>24</td>\n",
       "      <td>4588</td>\n",
       "      <td>1</td>\n",
<<<<<<< HEAD
       "      <td>6042</td>\n",
       "      <td>6042</td>\n",
       "      <td>1963-10-12</td>\n",
       "      <td>...</td>\n",
       "      <td>1.03</td>\n",
=======
       "      <td>1996</td>\n",
       "      <td>6042</td>\n",
       "      <td>6042</td>\n",
       "      <td>...</td>\n",
>>>>>>> 4ccd3d5174c75f85657a421d74c1e9554631733c
       "      <td>0.099</td>\n",
       "      <td>1468134</td>\n",
       "      <td>1996-11-02</td>\n",
       "      <td>credit</td>\n",
       "      <td>credit in cash</td>\n",
       "      <td>33425.0</td>\n",
       "      <td>135658.1</td>\n",
<<<<<<< HEAD
=======
       "      <td>1996</td>\n",
>>>>>>> 4ccd3d5174c75f85657a421d74c1e9554631733c
       "      <td>33</td>\n",
       "      <td>11</td>\n",
       "    </tr>\n",
       "  </tbody>\n",
       "</table>\n",
<<<<<<< HEAD
       "<p>24494 rows × 36 columns</p>\n",
=======
       "<p>24494 rows × 40 columns</p>\n",
>>>>>>> 4ccd3d5174c75f85657a421d74c1e9554631733c
       "</div>"
      ],
      "text/plain": [
       "       loan_id  account_id  loan_date  loan_amount  loan_duration  \\\n",
       "0         5314        1787 1993-07-05        96396             12   \n",
       "1         5314        1787 1993-07-05        96396             12   \n",
       "2         5314        1787 1993-07-05        96396             12   \n",
       "3         5314        1787 1993-07-05        96396             12   \n",
       "4         5316        1801 1993-07-11       165960             36   \n",
       "...        ...         ...        ...          ...            ...   \n",
       "24489     6015        5001 1996-11-09       110112             24   \n",
       "24490     6015        5001 1996-11-09       110112             24   \n",
       "24491     6015        5001 1996-11-09       110112             24   \n",
       "24492     6015        5001 1996-11-09       110112             24   \n",
       "24493     6015        5001 1996-11-09       110112             24   \n",
       "\n",
<<<<<<< HEAD
       "       loan_payments  loan_status  disp_id  client_id client_birth_number  \\\n",
       "0               8033            0     2166       2166          1947-07-22   \n",
       "1               8033            0     2166       2166          1947-07-22   \n",
       "2               8033            0     2166       2166          1947-07-22   \n",
       "3               8033            0     2166       2166          1947-07-22   \n",
       "4               4610            1     2181       2181          1968-07-22   \n",
       "...              ...          ...      ...        ...                 ...   \n",
       "24489           4588            1     6042       6042          1963-10-12   \n",
       "24490           4588            1     6042       6042          1963-10-12   \n",
       "24491           4588            1     6042       6042          1963-10-12   \n",
       "24492           4588            1     6042       6042          1963-10-12   \n",
       "24493           4588            1     6042       6042          1963-10-12   \n",
       "\n",
       "       ...  unemploymant growth  enterpreuners ratio trans_id  trans_date  \\\n",
       "0      ...                 0.29                0.100   523621  1993-03-22   \n",
       "1      ...                 0.29                0.100   524054  1993-04-21   \n",
       "2      ...                 0.29                0.100   524055  1993-05-21   \n",
       "3      ...                 0.29                0.100   524056  1993-06-20   \n",
       "4      ...                 0.52                0.117   527445  1993-02-13   \n",
       "...    ...                  ...                  ...      ...         ...   \n",
       "24489  ...                 1.03                0.099  1468125  1996-10-28   \n",
       "24490  ...                 1.03                0.099  3668246  1996-10-31   \n",
       "24491  ...                 1.03                0.099  1468352  1996-10-31   \n",
       "24492  ...                 1.03                0.099  1468396  1996-11-02   \n",
       "24493  ...                 1.03                0.099  1468134  1996-11-02   \n",
       "\n",
       "       trans_type     trans_operation  trans_amount trans_balance  \\\n",
       "0          credit      credit in cash        1100.0        1100.0   \n",
       "1          credit      credit in cash        9900.0       11000.0   \n",
       "2          credit      credit in cash        5800.0       16800.0   \n",
       "3          credit      credit in cash        3300.0       20100.0   \n",
       "4          credit      credit in cash         700.0         700.0   \n",
       "...           ...                 ...           ...           ...   \n",
       "24489      credit      credit in cash       40890.0      122647.9   \n",
       "24490      credit                 NaN         299.9      102247.7   \n",
       "24491  withdrawal  withdrawal in cash         -14.6      102233.1   \n",
       "24492  withdrawal  withdrawal in cash      -28800.0      106858.1   \n",
       "24493      credit      credit in cash       33425.0      135658.1   \n",
=======
       "       loan_payments  loan_status  loan_year  disp_id  client_id  ...  \\\n",
       "0               8033            0       1993     2166       2166  ...   \n",
       "1               8033            0       1993     2166       2166  ...   \n",
       "2               8033            0       1993     2166       2166  ...   \n",
       "3               8033            0       1993     2166       2166  ...   \n",
       "4               4610            1       1993     2181       2181  ...   \n",
       "...              ...          ...        ...      ...        ...  ...   \n",
       "24489           4588            1       1996     6042       6042  ...   \n",
       "24490           4588            1       1996     6042       6042  ...   \n",
       "24491           4588            1       1996     6042       6042  ...   \n",
       "24492           4588            1       1996     6042       6042  ...   \n",
       "24493           4588            1       1996     6042       6042  ...   \n",
       "\n",
       "      enterpreuners ratio  trans_id  trans_date  trans_type  \\\n",
       "0                   0.100    523621  1993-03-22      credit   \n",
       "1                   0.100    524054  1993-04-21      credit   \n",
       "2                   0.100    524055  1993-05-21      credit   \n",
       "3                   0.100    524056  1993-06-20      credit   \n",
       "4                   0.117    527445  1993-02-13      credit   \n",
       "...                   ...       ...         ...         ...   \n",
       "24489               0.099   1468125  1996-10-28      credit   \n",
       "24490               0.099   3668246  1996-10-31      credit   \n",
       "24491               0.099   1468352  1996-10-31  withdrawal   \n",
       "24492               0.099   1468396  1996-11-02  withdrawal   \n",
       "24493               0.099   1468134  1996-11-02      credit   \n",
       "\n",
       "          trans_operation  trans_amount  trans_balance trans_year  \\\n",
       "0          credit in cash        1100.0         1100.0       1993   \n",
       "1          credit in cash        9900.0        11000.0       1993   \n",
       "2          credit in cash        5800.0        16800.0       1993   \n",
       "3          credit in cash        3300.0        20100.0       1993   \n",
       "4          credit in cash         700.0          700.0       1993   \n",
       "...                   ...           ...            ...        ...   \n",
       "24489      credit in cash       40890.0       122647.9       1996   \n",
       "24490                 NaN         299.9       102247.7       1996   \n",
       "24491  withdrawal in cash         -14.6       102233.1       1996   \n",
       "24492  withdrawal in cash      -28800.0       106858.1       1996   \n",
       "24493      credit in cash       33425.0       135658.1       1996   \n",
>>>>>>> 4ccd3d5174c75f85657a421d74c1e9554631733c
       "\n",
       "       age on loan  account age at loan  \n",
       "0               45                    4  \n",
       "1               45                    4  \n",
       "2               45                    4  \n",
       "3               45                    4  \n",
       "4               24                    5  \n",
       "...            ...                  ...  \n",
       "24489           33                   11  \n",
       "24490           33                   11  \n",
       "24491           33                   11  \n",
       "24492           33                   11  \n",
       "24493           33                   11  \n",
       "\n",
<<<<<<< HEAD
       "[24494 rows x 36 columns]"
      ]
     },
     "execution_count": 58,
=======
       "[24494 rows x 40 columns]"
      ]
     },
     "execution_count": 10,
>>>>>>> 4ccd3d5174c75f85657a421d74c1e9554631733c
     "metadata": {},
     "output_type": "execute_result"
    }
   ],
   "source": [
    "refined_df"
   ]
  },
  {
   "cell_type": "code",
<<<<<<< HEAD
   "execution_count": 60,
=======
   "execution_count": 11,
>>>>>>> 4ccd3d5174c75f85657a421d74c1e9554631733c
   "metadata": {},
   "outputs": [
    {
     "name": "stdout",
     "output_type": "stream",
     "text": [
      "Number of null values: \n",
      " loan_id                                                 0\n",
      "account_id                                              0\n",
      "loan_date                                               0\n",
      "loan_amount                                             0\n",
      "loan_duration                                           0\n",
      "loan_payments                                           0\n",
      "loan_status                                             0\n",
<<<<<<< HEAD
=======
      "loan_year                                               0\n",
>>>>>>> 4ccd3d5174c75f85657a421d74c1e9554631733c
      "disp_id                                                 0\n",
      "client_id                                               0\n",
      "client_birth_number                                     0\n",
      "client_district_id                                      0\n",
      "client_age                                              0\n",
      "client_gender                                           0\n",
      "district_id_x                                           0\n",
      "account_frequency                                       0\n",
      "account_date                                            0\n",
      "district_id_y                                           0\n",
      "region                                                  0\n",
      "no. of municipalities with inhabitants < 499            0\n",
      "no. of municipalities with inhabitants 500-1999         0\n",
      "no. of municipalities with inhabitants 2000-9999        0\n",
      "no. of municipalities with inhabitants >10000           0\n",
      "no. of cities                                           0\n",
      "ratio of urban inhabitants                              0\n",
      "average salary                                          0\n",
      "criminal growth                                         0\n",
      "unemploymant growth                                     0\n",
      "enterpreuners ratio                                     0\n",
      "trans_id                                                0\n",
      "trans_date                                              0\n",
      "trans_type                                              0\n",
      "trans_operation                                      4331\n",
      "trans_amount                                            0\n",
      "trans_balance                                           0\n",
<<<<<<< HEAD
=======
      "trans_year                                              0\n",
>>>>>>> 4ccd3d5174c75f85657a421d74c1e9554631733c
      "age on loan                                             0\n",
      "account age at loan                                     0\n",
      "dtype: int64\n",
      "\n"
     ]
    }
   ],
   "source": [
    "import data_understanding_utils as du\n",
    "du.info_data(refined_df,\"isnull\",\"\")"
   ]
  }
 ],
 "metadata": {
  "kernelspec": {
   "display_name": "Python 3 (ipykernel)",
   "language": "python",
   "name": "python3"
  },
  "language_info": {
   "codemirror_mode": {
    "name": "ipython",
    "version": 3
   },
   "file_extension": ".py",
   "mimetype": "text/x-python",
   "name": "python",
   "nbconvert_exporter": "python",
   "pygments_lexer": "ipython3",
   "version": "3.9.12"
  },
  "vscode": {
   "interpreter": {
    "hash": "916dbcbb3f70747c44a77c7bcd40155683ae19c65e1c03b4aa3499c5328201f1"
   }
  }
 },
 "nbformat": 4,
 "nbformat_minor": 2
}
