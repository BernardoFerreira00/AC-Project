{
 "cells": [
  {
   "cell_type": "code",
   "execution_count": 2,
   "id": "a33d33ad",
   "metadata": {},
   "outputs": [],
   "source": [
    "import pandas as pd\n",
    "import matplotlib.pyplot as plt\n",
    "import seaborn as sns\n",
    "\n",
    "import math as m\n",
    "\n",
    "\n",
    "account_df = pd.read_csv('../data/account.csv',sep=';')\n",
    "card_df = pd.read_csv('../data/card_dev.csv', sep=';')\n",
    "client_df = pd.read_csv('../data/client.csv',sep=';')\n",
    "disp_df = pd.read_csv('../data/disp.csv',sep=';')\n",
    "district_df = pd.read_csv('../data/district.csv',sep=';')\n",
    "loan_df = pd.read_csv('../data/loan_dev.csv', sep=';')\n",
    "trans_df = pd.read_csv(\"../data/trans_dev.csv\",sep=\";\", low_memory=False)"
   ]
  },
  {
   "cell_type": "markdown",
   "id": "7909c192",
   "metadata": {},
   "source": [
    "# Process Client"
   ]
  },
  {
   "cell_type": "code",
   "execution_count": 3,
   "id": "3aa39da5",
   "metadata": {},
   "outputs": [],
   "source": [
    "client_df['sex'] = client_df['birth_number'].apply(lambda x : 0 if int(str(x)[2:4]) < 50 else 1)"
   ]
  },
  {
   "cell_type": "markdown",
   "id": "dd86b888",
   "metadata": {},
   "source": [
    "# Process Account"
   ]
  },
  {
   "cell_type": "code",
   "execution_count": 4,
   "id": "b717a4f8",
   "metadata": {},
   "outputs": [],
   "source": [
    "month_frequency = [x for x in account_df['frequency'].unique()]\n",
    "account_df['frequency'] = account_df['frequency'].apply(lambda x : month_frequency.index(x))"
   ]
  },
  {
   "cell_type": "markdown",
   "id": "03401187",
   "metadata": {},
   "source": [
    "### Format Data"
   ]
  },
  {
   "cell_type": "code",
   "execution_count": null,
   "id": "f259ef71",
   "metadata": {},
   "outputs": [],
   "source": [
    "account_df['date'] = pd.to_datetime(account_df['date'], format = '%y%m%d', errors='coerce');\n",
    "account_df.head()"
   ]
  },
  {
   "cell_type": "markdown",
   "id": "5b8f4c0d",
   "metadata": {},
   "source": [
    "# Process Disp"
   ]
  },
  {
   "cell_type": "code",
   "execution_count": 5,
   "id": "09586dd4",
   "metadata": {},
   "outputs": [],
   "source": [
    "type_frequency = [x for x in disp_df['type'].unique()]\n",
    "disp_df['type'] = disp_df['type'].apply(lambda x : type_frequency.index(x)) "
   ]
  },
  {
   "cell_type": "markdown",
   "id": "b4bda461",
   "metadata": {},
   "source": [
    "# Process Card\n"
   ]
  },
  {
   "cell_type": "code",
   "execution_count": 6,
   "id": "1394fa81",
   "metadata": {},
   "outputs": [],
   "source": [
    "type_frequency = [x for x in card_df['type'].unique()]\n",
    "card_df['type'] = card_df['type'].apply(lambda x : type_frequency.index(x))"
   ]
  },
  {
   "cell_type": "code",
   "execution_count": null,
   "id": "ad48ce6b",
   "metadata": {},
   "outputs": [],
   "source": [
    "card_df['issued'] = pd.to_datetime(card_df['issued'], format = '%y%m%d', errors='coerce');\n",
    "card_df.head()"
   ]
  },
  {
   "cell_type": "markdown",
   "id": "42f23363",
   "metadata": {},
   "source": [
    "# Process District"
   ]
  },
  {
   "cell_type": "markdown",
   "id": "7c767741",
   "metadata": {},
   "source": [
    "### Change column types"
   ]
  },
  {
   "cell_type": "code",
   "execution_count": null,
   "id": "75acb1e4",
   "metadata": {},
   "outputs": [],
   "source": [
    "condition = district_df['no. of commited crimes 95'] != '?'\n",
    "meanNoCommitedCrimes95 = int(pd.to_numeric(district_df['no. of commited crimes 95'][condition]).mean())\n",
    "\n",
    "condition = district_df['no. of commited crimes 95'] == '?'\n",
    "district_df.loc[district_df['no. of commited crimes 95'] == '?', 'no. of commited crimes 95'] = meanNoCommitedCrimes95 \n",
    "\n",
    "district_df[[\"unemploymant rate 95\"]] = district_df[[\"unemploymant rate 95\"]].apply(pd.to_numeric, errors='coerce', axis=1)\n",
    "district_df.dtypes"
   ]
  },
  {
   "cell_type": "markdown",
   "id": "f3da6b6e",
   "metadata": {},
   "source": [
    "### Clean Column Names"
   ]
  },
  {
   "cell_type": "code",
   "execution_count": null,
   "id": "0d13c24d",
   "metadata": {},
   "outputs": [],
   "source": [
    "district_df.rename(columns = {'code ':'code', 'name ':'name', \n",
    "                            'no. of municipalities with inhabitants < 499 ': 'no of municipalities with inhabitants < 499',\n",
    "                            'no. of municipalities with inhabitants 2000-9999 ': 'no. of municipalities with inhabitants 2000-9999', \n",
    "                            'no. of municipalities with inhabitants >10000 ': 'no. of municipalities with inhabitants >10000',\n",
    "                            'no. of cities ':'no. of cities', 'ratio of urban inhabitants ':'ratio of urban inhabitants',\n",
    "                            'average salary ':'average salary', \"unemploymant rate '95 \": \"unemploymant rate 95\",\n",
    "                            \"unemploymant rate '96 \": \"unemploymant rate 96 \", \n",
    "                            'no. of enterpreneurs per 1000 inhabitants ':'no. of enterpreneurs per 1000 inhabitants', \n",
    "                            \"no. of commited crimes '95 \":\"no. of commited crimes 95\",\n",
    "                           \"no. of commited crimes '96 \": \"no. of commited crimes 96\"}, inplace = True)\n",
    "\n",
    "district_df.head()"
   ]
  },
  {
   "cell_type": "markdown",
   "id": "ce952595",
   "metadata": {},
   "source": [
    "# Process Trans"
   ]
  },
  {
   "cell_type": "markdown",
   "id": "e35d2684",
   "metadata": {},
   "source": [
    "### Clean Null values"
   ]
  },
  {
   "cell_type": "code",
   "execution_count": null,
   "id": "61260a74",
   "metadata": {},
   "outputs": [],
   "source": [
    "del trans_df['k_symbol']\n",
    "del trans_df['bank']\n",
    "\n",
    "trans_df.dtypes"
   ]
  },
  {
   "cell_type": "code",
   "execution_count": null,
   "id": "51361df2",
   "metadata": {},
   "outputs": [],
   "source": [
    "trans_df['date'] = pd.to_datetime(trans_df['date'], format = '%y%m%d', errors='coerce');\n",
    "trans_df.head()"
   ]
  },
  {
   "cell_type": "markdown",
   "id": "ea5e4ae2",
   "metadata": {},
   "source": [
    "# Date Format"
   ]
  },
  {
   "cell_type": "code",
   "execution_count": 7,
   "id": "622e464f",
   "metadata": {},
   "outputs": [
    {
     "data": {
      "text/html": [
       "<div>\n",
       "<style scoped>\n",
       "    .dataframe tbody tr th:only-of-type {\n",
       "        vertical-align: middle;\n",
       "    }\n",
       "\n",
       "    .dataframe tbody tr th {\n",
       "        vertical-align: top;\n",
       "    }\n",
       "\n",
       "    .dataframe thead th {\n",
       "        text-align: right;\n",
       "    }\n",
       "</style>\n",
       "<table border=\"1\" class=\"dataframe\">\n",
       "  <thead>\n",
       "    <tr style=\"text-align: right;\">\n",
       "      <th></th>\n",
       "      <th>account_id</th>\n",
       "      <th>district_id</th>\n",
       "      <th>frequency</th>\n",
       "      <th>date</th>\n",
       "    </tr>\n",
       "  </thead>\n",
       "  <tbody>\n",
       "    <tr>\n",
       "      <th>0</th>\n",
       "      <td>576</td>\n",
       "      <td>55</td>\n",
       "      <td>0</td>\n",
       "      <td>1993-01-01</td>\n",
       "    </tr>\n",
       "    <tr>\n",
       "      <th>1</th>\n",
       "      <td>3818</td>\n",
       "      <td>74</td>\n",
       "      <td>0</td>\n",
       "      <td>1993-01-01</td>\n",
       "    </tr>\n",
       "    <tr>\n",
       "      <th>2</th>\n",
       "      <td>704</td>\n",
       "      <td>55</td>\n",
       "      <td>0</td>\n",
       "      <td>1993-01-01</td>\n",
       "    </tr>\n",
       "    <tr>\n",
       "      <th>3</th>\n",
       "      <td>2378</td>\n",
       "      <td>16</td>\n",
       "      <td>0</td>\n",
       "      <td>1993-01-01</td>\n",
       "    </tr>\n",
       "    <tr>\n",
       "      <th>4</th>\n",
       "      <td>2632</td>\n",
       "      <td>24</td>\n",
       "      <td>0</td>\n",
       "      <td>1993-01-02</td>\n",
       "    </tr>\n",
       "  </tbody>\n",
       "</table>\n",
       "</div>"
      ],
      "text/plain": [
       "   account_id  district_id  frequency       date\n",
       "0         576           55          0 1993-01-01\n",
       "1        3818           74          0 1993-01-01\n",
       "2         704           55          0 1993-01-01\n",
       "3        2378           16          0 1993-01-01\n",
       "4        2632           24          0 1993-01-02"
      ]
     },
     "execution_count": 7,
     "metadata": {},
     "output_type": "execute_result"
    }
   ],
   "source": [
    "account_df['date'] = pd.to_datetime(account_df['date'], format = '%y%m%d', errors='coerce');\n",
    "account_df.head()"
   ]
  },
  {
   "cell_type": "code",
   "execution_count": 8,
   "id": "4ea141c9",
   "metadata": {},
   "outputs": [
    {
     "data": {
      "text/html": [
       "<div>\n",
       "<style scoped>\n",
       "    .dataframe tbody tr th:only-of-type {\n",
       "        vertical-align: middle;\n",
       "    }\n",
       "\n",
       "    .dataframe tbody tr th {\n",
       "        vertical-align: top;\n",
       "    }\n",
       "\n",
       "    .dataframe thead th {\n",
       "        text-align: right;\n",
       "    }\n",
       "</style>\n",
       "<table border=\"1\" class=\"dataframe\">\n",
       "  <thead>\n",
       "    <tr style=\"text-align: right;\">\n",
       "      <th></th>\n",
       "      <th>card_id</th>\n",
       "      <th>disp_id</th>\n",
       "      <th>type</th>\n",
       "      <th>issued</th>\n",
       "      <th>date</th>\n",
       "    </tr>\n",
       "  </thead>\n",
       "  <tbody>\n",
       "    <tr>\n",
       "      <th>0</th>\n",
       "      <td>1005</td>\n",
       "      <td>9285</td>\n",
       "      <td>0</td>\n",
       "      <td>931107</td>\n",
       "      <td>1993-11-07</td>\n",
       "    </tr>\n",
       "    <tr>\n",
       "      <th>1</th>\n",
       "      <td>104</td>\n",
       "      <td>588</td>\n",
       "      <td>0</td>\n",
       "      <td>940119</td>\n",
       "      <td>1994-01-19</td>\n",
       "    </tr>\n",
       "    <tr>\n",
       "      <th>2</th>\n",
       "      <td>747</td>\n",
       "      <td>4915</td>\n",
       "      <td>0</td>\n",
       "      <td>940205</td>\n",
       "      <td>1994-02-05</td>\n",
       "    </tr>\n",
       "    <tr>\n",
       "      <th>3</th>\n",
       "      <td>70</td>\n",
       "      <td>439</td>\n",
       "      <td>0</td>\n",
       "      <td>940208</td>\n",
       "      <td>1994-02-08</td>\n",
       "    </tr>\n",
       "    <tr>\n",
       "      <th>4</th>\n",
       "      <td>577</td>\n",
       "      <td>3687</td>\n",
       "      <td>0</td>\n",
       "      <td>940215</td>\n",
       "      <td>1994-02-15</td>\n",
       "    </tr>\n",
       "  </tbody>\n",
       "</table>\n",
       "</div>"
      ],
      "text/plain": [
       "   card_id  disp_id  type  issued       date\n",
       "0     1005     9285     0  931107 1993-11-07\n",
       "1      104      588     0  940119 1994-01-19\n",
       "2      747     4915     0  940205 1994-02-05\n",
       "3       70      439     0  940208 1994-02-08\n",
       "4      577     3687     0  940215 1994-02-15"
      ]
     },
     "execution_count": 8,
     "metadata": {},
     "output_type": "execute_result"
    }
   ],
   "source": [
    "card_df['issued'] = pd.to_datetime(card_df['issued'], format = '%y%m%d', errors='coerce');\n",
    "card_df.head()"
   ]
  },
  {
   "cell_type": "code",
   "execution_count": 21,
   "id": "81dca591",
   "metadata": {},
   "outputs": [
    {
     "data": {
      "text/html": [
       "<div>\n",
       "<style scoped>\n",
       "    .dataframe tbody tr th:only-of-type {\n",
       "        vertical-align: middle;\n",
       "    }\n",
       "\n",
       "    .dataframe tbody tr th {\n",
       "        vertical-align: top;\n",
       "    }\n",
       "\n",
       "    .dataframe thead th {\n",
       "        text-align: right;\n",
       "    }\n",
       "</style>\n",
       "<table border=\"1\" class=\"dataframe\">\n",
       "  <thead>\n",
       "    <tr style=\"text-align: right;\">\n",
       "      <th></th>\n",
       "      <th>trans_id</th>\n",
       "      <th>account_id</th>\n",
       "      <th>date</th>\n",
       "      <th>type</th>\n",
       "      <th>operation</th>\n",
       "      <th>amount</th>\n",
       "      <th>balance</th>\n",
       "      <th>k_symbol</th>\n",
       "      <th>bank</th>\n",
       "      <th>account</th>\n",
       "    </tr>\n",
       "  </thead>\n",
       "  <tbody>\n",
       "    <tr>\n",
       "      <th>0</th>\n",
       "      <td>1548749</td>\n",
       "      <td>5270</td>\n",
       "      <td>1993-01-13</td>\n",
       "      <td>credit</td>\n",
       "      <td>credit in cash</td>\n",
       "      <td>800.0</td>\n",
       "      <td>800.0</td>\n",
       "      <td>NaN</td>\n",
       "      <td>NaN</td>\n",
       "      <td>NaN</td>\n",
       "    </tr>\n",
       "    <tr>\n",
       "      <th>1</th>\n",
       "      <td>1548750</td>\n",
       "      <td>5270</td>\n",
       "      <td>1993-01-14</td>\n",
       "      <td>credit</td>\n",
       "      <td>collection from another bank</td>\n",
       "      <td>44749.0</td>\n",
       "      <td>45549.0</td>\n",
       "      <td>NaN</td>\n",
       "      <td>IJ</td>\n",
       "      <td>80269753.0</td>\n",
       "    </tr>\n",
       "    <tr>\n",
       "      <th>2</th>\n",
       "      <td>3393738</td>\n",
       "      <td>11265</td>\n",
       "      <td>1993-01-14</td>\n",
       "      <td>credit</td>\n",
       "      <td>credit in cash</td>\n",
       "      <td>1000.0</td>\n",
       "      <td>1000.0</td>\n",
       "      <td>NaN</td>\n",
       "      <td>NaN</td>\n",
       "      <td>NaN</td>\n",
       "    </tr>\n",
       "    <tr>\n",
       "      <th>3</th>\n",
       "      <td>3122924</td>\n",
       "      <td>10364</td>\n",
       "      <td>1993-01-17</td>\n",
       "      <td>credit</td>\n",
       "      <td>credit in cash</td>\n",
       "      <td>1100.0</td>\n",
       "      <td>1100.0</td>\n",
       "      <td>NaN</td>\n",
       "      <td>NaN</td>\n",
       "      <td>NaN</td>\n",
       "    </tr>\n",
       "    <tr>\n",
       "      <th>4</th>\n",
       "      <td>1121963</td>\n",
       "      <td>3834</td>\n",
       "      <td>1993-01-19</td>\n",
       "      <td>credit</td>\n",
       "      <td>credit in cash</td>\n",
       "      <td>700.0</td>\n",
       "      <td>700.0</td>\n",
       "      <td>NaN</td>\n",
       "      <td>NaN</td>\n",
       "      <td>NaN</td>\n",
       "    </tr>\n",
       "  </tbody>\n",
       "</table>\n",
       "</div>"
      ],
      "text/plain": [
       "   trans_id  account_id       date    type                     operation  \\\n",
       "0   1548749        5270 1993-01-13  credit                credit in cash   \n",
       "1   1548750        5270 1993-01-14  credit  collection from another bank   \n",
       "2   3393738       11265 1993-01-14  credit                credit in cash   \n",
       "3   3122924       10364 1993-01-17  credit                credit in cash   \n",
       "4   1121963        3834 1993-01-19  credit                credit in cash   \n",
       "\n",
       "    amount  balance k_symbol bank     account  \n",
       "0    800.0    800.0      NaN  NaN         NaN  \n",
       "1  44749.0  45549.0      NaN   IJ  80269753.0  \n",
       "2   1000.0   1000.0      NaN  NaN         NaN  \n",
       "3   1100.0   1100.0      NaN  NaN         NaN  \n",
       "4    700.0    700.0      NaN  NaN         NaN  "
      ]
     },
     "execution_count": 21,
     "metadata": {},
     "output_type": "execute_result"
    }
   ],
   "source": [
    "trans_df['date'] = pd.to_datetime(trans_df['date'], format = '%y%m%d', errors='coerce');\n",
    "trans_df.head()"
   ]
  }
 ],
 "metadata": {
  "kernelspec": {
   "display_name": "Python 3 (ipykernel)",
   "language": "python",
   "name": "python3"
  },
  "language_info": {
   "codemirror_mode": {
    "name": "ipython",
    "version": 3
   },
   "file_extension": ".py",
   "mimetype": "text/x-python",
   "name": "python",
   "nbconvert_exporter": "python",
   "pygments_lexer": "ipython3",
   "version": "3.9.12"
  }
 },
 "nbformat": 4,
 "nbformat_minor": 5
}
