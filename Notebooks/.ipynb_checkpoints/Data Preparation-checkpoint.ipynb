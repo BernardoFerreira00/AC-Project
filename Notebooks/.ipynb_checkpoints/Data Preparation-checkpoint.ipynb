{
 "cells": [
  {
   "cell_type": "code",
   "execution_count": 2,
   "id": "a33d33ad",
   "metadata": {},
   "outputs": [
    {
     "ename": "FileNotFoundError",
     "evalue": "[Errno 2] No such file or directory: '../data/account.csv'",
     "output_type": "error",
     "traceback": [
      "\u001b[0;31m---------------------------------------------------------------------------\u001b[0m",
      "\u001b[0;31mFileNotFoundError\u001b[0m                         Traceback (most recent call last)",
      "Cell \u001b[0;32mIn [2], line 8\u001b[0m\n\u001b[1;32m      3\u001b[0m \u001b[39mimport\u001b[39;00m \u001b[39mseaborn\u001b[39;00m \u001b[39mas\u001b[39;00m \u001b[39msns\u001b[39;00m\n\u001b[1;32m      5\u001b[0m \u001b[39mimport\u001b[39;00m \u001b[39mmath\u001b[39;00m \u001b[39mas\u001b[39;00m \u001b[39mm\u001b[39;00m\n\u001b[0;32m----> 8\u001b[0m account_df \u001b[39m=\u001b[39m pd\u001b[39m.\u001b[39;49mread_csv(\u001b[39m'\u001b[39;49m\u001b[39m../data/account.csv\u001b[39;49m\u001b[39m'\u001b[39;49m,sep\u001b[39m=\u001b[39;49m\u001b[39m'\u001b[39;49m\u001b[39m;\u001b[39;49m\u001b[39m'\u001b[39;49m)\n\u001b[1;32m      9\u001b[0m card_df \u001b[39m=\u001b[39m pd\u001b[39m.\u001b[39mread_csv(\u001b[39m'\u001b[39m\u001b[39m../data/card_dev.csv\u001b[39m\u001b[39m'\u001b[39m, sep\u001b[39m=\u001b[39m\u001b[39m'\u001b[39m\u001b[39m;\u001b[39m\u001b[39m'\u001b[39m)\n\u001b[1;32m     10\u001b[0m client_df \u001b[39m=\u001b[39m pd\u001b[39m.\u001b[39mread_csv(\u001b[39m'\u001b[39m\u001b[39m../data/client.csv\u001b[39m\u001b[39m'\u001b[39m,sep\u001b[39m=\u001b[39m\u001b[39m'\u001b[39m\u001b[39m;\u001b[39m\u001b[39m'\u001b[39m)\n",
      "File \u001b[0;32m~/.local/lib/python3.10/site-packages/pandas/util/_decorators.py:211\u001b[0m, in \u001b[0;36mdeprecate_kwarg.<locals>._deprecate_kwarg.<locals>.wrapper\u001b[0;34m(*args, **kwargs)\u001b[0m\n\u001b[1;32m    209\u001b[0m     \u001b[39melse\u001b[39;00m:\n\u001b[1;32m    210\u001b[0m         kwargs[new_arg_name] \u001b[39m=\u001b[39m new_arg_value\n\u001b[0;32m--> 211\u001b[0m \u001b[39mreturn\u001b[39;00m func(\u001b[39m*\u001b[39;49margs, \u001b[39m*\u001b[39;49m\u001b[39m*\u001b[39;49mkwargs)\n",
      "File \u001b[0;32m~/.local/lib/python3.10/site-packages/pandas/util/_decorators.py:331\u001b[0m, in \u001b[0;36mdeprecate_nonkeyword_arguments.<locals>.decorate.<locals>.wrapper\u001b[0;34m(*args, **kwargs)\u001b[0m\n\u001b[1;32m    325\u001b[0m \u001b[39mif\u001b[39;00m \u001b[39mlen\u001b[39m(args) \u001b[39m>\u001b[39m num_allow_args:\n\u001b[1;32m    326\u001b[0m     warnings\u001b[39m.\u001b[39mwarn(\n\u001b[1;32m    327\u001b[0m         msg\u001b[39m.\u001b[39mformat(arguments\u001b[39m=\u001b[39m_format_argument_list(allow_args)),\n\u001b[1;32m    328\u001b[0m         \u001b[39mFutureWarning\u001b[39;00m,\n\u001b[1;32m    329\u001b[0m         stacklevel\u001b[39m=\u001b[39mfind_stack_level(),\n\u001b[1;32m    330\u001b[0m     )\n\u001b[0;32m--> 331\u001b[0m \u001b[39mreturn\u001b[39;00m func(\u001b[39m*\u001b[39;49margs, \u001b[39m*\u001b[39;49m\u001b[39m*\u001b[39;49mkwargs)\n",
      "File \u001b[0;32m~/.local/lib/python3.10/site-packages/pandas/io/parsers/readers.py:950\u001b[0m, in \u001b[0;36mread_csv\u001b[0;34m(filepath_or_buffer, sep, delimiter, header, names, index_col, usecols, squeeze, prefix, mangle_dupe_cols, dtype, engine, converters, true_values, false_values, skipinitialspace, skiprows, skipfooter, nrows, na_values, keep_default_na, na_filter, verbose, skip_blank_lines, parse_dates, infer_datetime_format, keep_date_col, date_parser, dayfirst, cache_dates, iterator, chunksize, compression, thousands, decimal, lineterminator, quotechar, quoting, doublequote, escapechar, comment, encoding, encoding_errors, dialect, error_bad_lines, warn_bad_lines, on_bad_lines, delim_whitespace, low_memory, memory_map, float_precision, storage_options)\u001b[0m\n\u001b[1;32m    935\u001b[0m kwds_defaults \u001b[39m=\u001b[39m _refine_defaults_read(\n\u001b[1;32m    936\u001b[0m     dialect,\n\u001b[1;32m    937\u001b[0m     delimiter,\n\u001b[0;32m   (...)\u001b[0m\n\u001b[1;32m    946\u001b[0m     defaults\u001b[39m=\u001b[39m{\u001b[39m\"\u001b[39m\u001b[39mdelimiter\u001b[39m\u001b[39m\"\u001b[39m: \u001b[39m\"\u001b[39m\u001b[39m,\u001b[39m\u001b[39m\"\u001b[39m},\n\u001b[1;32m    947\u001b[0m )\n\u001b[1;32m    948\u001b[0m kwds\u001b[39m.\u001b[39mupdate(kwds_defaults)\n\u001b[0;32m--> 950\u001b[0m \u001b[39mreturn\u001b[39;00m _read(filepath_or_buffer, kwds)\n",
      "File \u001b[0;32m~/.local/lib/python3.10/site-packages/pandas/io/parsers/readers.py:605\u001b[0m, in \u001b[0;36m_read\u001b[0;34m(filepath_or_buffer, kwds)\u001b[0m\n\u001b[1;32m    602\u001b[0m _validate_names(kwds\u001b[39m.\u001b[39mget(\u001b[39m\"\u001b[39m\u001b[39mnames\u001b[39m\u001b[39m\"\u001b[39m, \u001b[39mNone\u001b[39;00m))\n\u001b[1;32m    604\u001b[0m \u001b[39m# Create the parser.\u001b[39;00m\n\u001b[0;32m--> 605\u001b[0m parser \u001b[39m=\u001b[39m TextFileReader(filepath_or_buffer, \u001b[39m*\u001b[39;49m\u001b[39m*\u001b[39;49mkwds)\n\u001b[1;32m    607\u001b[0m \u001b[39mif\u001b[39;00m chunksize \u001b[39mor\u001b[39;00m iterator:\n\u001b[1;32m    608\u001b[0m     \u001b[39mreturn\u001b[39;00m parser\n",
      "File \u001b[0;32m~/.local/lib/python3.10/site-packages/pandas/io/parsers/readers.py:1442\u001b[0m, in \u001b[0;36mTextFileReader.__init__\u001b[0;34m(self, f, engine, **kwds)\u001b[0m\n\u001b[1;32m   1439\u001b[0m     \u001b[39mself\u001b[39m\u001b[39m.\u001b[39moptions[\u001b[39m\"\u001b[39m\u001b[39mhas_index_names\u001b[39m\u001b[39m\"\u001b[39m] \u001b[39m=\u001b[39m kwds[\u001b[39m\"\u001b[39m\u001b[39mhas_index_names\u001b[39m\u001b[39m\"\u001b[39m]\n\u001b[1;32m   1441\u001b[0m \u001b[39mself\u001b[39m\u001b[39m.\u001b[39mhandles: IOHandles \u001b[39m|\u001b[39m \u001b[39mNone\u001b[39;00m \u001b[39m=\u001b[39m \u001b[39mNone\u001b[39;00m\n\u001b[0;32m-> 1442\u001b[0m \u001b[39mself\u001b[39m\u001b[39m.\u001b[39m_engine \u001b[39m=\u001b[39m \u001b[39mself\u001b[39;49m\u001b[39m.\u001b[39;49m_make_engine(f, \u001b[39mself\u001b[39;49m\u001b[39m.\u001b[39;49mengine)\n",
      "File \u001b[0;32m~/.local/lib/python3.10/site-packages/pandas/io/parsers/readers.py:1735\u001b[0m, in \u001b[0;36mTextFileReader._make_engine\u001b[0;34m(self, f, engine)\u001b[0m\n\u001b[1;32m   1733\u001b[0m     \u001b[39mif\u001b[39;00m \u001b[39m\"\u001b[39m\u001b[39mb\u001b[39m\u001b[39m\"\u001b[39m \u001b[39mnot\u001b[39;00m \u001b[39min\u001b[39;00m mode:\n\u001b[1;32m   1734\u001b[0m         mode \u001b[39m+\u001b[39m\u001b[39m=\u001b[39m \u001b[39m\"\u001b[39m\u001b[39mb\u001b[39m\u001b[39m\"\u001b[39m\n\u001b[0;32m-> 1735\u001b[0m \u001b[39mself\u001b[39m\u001b[39m.\u001b[39mhandles \u001b[39m=\u001b[39m get_handle(\n\u001b[1;32m   1736\u001b[0m     f,\n\u001b[1;32m   1737\u001b[0m     mode,\n\u001b[1;32m   1738\u001b[0m     encoding\u001b[39m=\u001b[39;49m\u001b[39mself\u001b[39;49m\u001b[39m.\u001b[39;49moptions\u001b[39m.\u001b[39;49mget(\u001b[39m\"\u001b[39;49m\u001b[39mencoding\u001b[39;49m\u001b[39m\"\u001b[39;49m, \u001b[39mNone\u001b[39;49;00m),\n\u001b[1;32m   1739\u001b[0m     compression\u001b[39m=\u001b[39;49m\u001b[39mself\u001b[39;49m\u001b[39m.\u001b[39;49moptions\u001b[39m.\u001b[39;49mget(\u001b[39m\"\u001b[39;49m\u001b[39mcompression\u001b[39;49m\u001b[39m\"\u001b[39;49m, \u001b[39mNone\u001b[39;49;00m),\n\u001b[1;32m   1740\u001b[0m     memory_map\u001b[39m=\u001b[39;49m\u001b[39mself\u001b[39;49m\u001b[39m.\u001b[39;49moptions\u001b[39m.\u001b[39;49mget(\u001b[39m\"\u001b[39;49m\u001b[39mmemory_map\u001b[39;49m\u001b[39m\"\u001b[39;49m, \u001b[39mFalse\u001b[39;49;00m),\n\u001b[1;32m   1741\u001b[0m     is_text\u001b[39m=\u001b[39;49mis_text,\n\u001b[1;32m   1742\u001b[0m     errors\u001b[39m=\u001b[39;49m\u001b[39mself\u001b[39;49m\u001b[39m.\u001b[39;49moptions\u001b[39m.\u001b[39;49mget(\u001b[39m\"\u001b[39;49m\u001b[39mencoding_errors\u001b[39;49m\u001b[39m\"\u001b[39;49m, \u001b[39m\"\u001b[39;49m\u001b[39mstrict\u001b[39;49m\u001b[39m\"\u001b[39;49m),\n\u001b[1;32m   1743\u001b[0m     storage_options\u001b[39m=\u001b[39;49m\u001b[39mself\u001b[39;49m\u001b[39m.\u001b[39;49moptions\u001b[39m.\u001b[39;49mget(\u001b[39m\"\u001b[39;49m\u001b[39mstorage_options\u001b[39;49m\u001b[39m\"\u001b[39;49m, \u001b[39mNone\u001b[39;49;00m),\n\u001b[1;32m   1744\u001b[0m )\n\u001b[1;32m   1745\u001b[0m \u001b[39massert\u001b[39;00m \u001b[39mself\u001b[39m\u001b[39m.\u001b[39mhandles \u001b[39mis\u001b[39;00m \u001b[39mnot\u001b[39;00m \u001b[39mNone\u001b[39;00m\n\u001b[1;32m   1746\u001b[0m f \u001b[39m=\u001b[39m \u001b[39mself\u001b[39m\u001b[39m.\u001b[39mhandles\u001b[39m.\u001b[39mhandle\n",
      "File \u001b[0;32m~/.local/lib/python3.10/site-packages/pandas/io/common.py:856\u001b[0m, in \u001b[0;36mget_handle\u001b[0;34m(path_or_buf, mode, encoding, compression, memory_map, is_text, errors, storage_options)\u001b[0m\n\u001b[1;32m    851\u001b[0m \u001b[39melif\u001b[39;00m \u001b[39misinstance\u001b[39m(handle, \u001b[39mstr\u001b[39m):\n\u001b[1;32m    852\u001b[0m     \u001b[39m# Check whether the filename is to be opened in binary mode.\u001b[39;00m\n\u001b[1;32m    853\u001b[0m     \u001b[39m# Binary mode does not support 'encoding' and 'newline'.\u001b[39;00m\n\u001b[1;32m    854\u001b[0m     \u001b[39mif\u001b[39;00m ioargs\u001b[39m.\u001b[39mencoding \u001b[39mand\u001b[39;00m \u001b[39m\"\u001b[39m\u001b[39mb\u001b[39m\u001b[39m\"\u001b[39m \u001b[39mnot\u001b[39;00m \u001b[39min\u001b[39;00m ioargs\u001b[39m.\u001b[39mmode:\n\u001b[1;32m    855\u001b[0m         \u001b[39m# Encoding\u001b[39;00m\n\u001b[0;32m--> 856\u001b[0m         handle \u001b[39m=\u001b[39m \u001b[39mopen\u001b[39;49m(\n\u001b[1;32m    857\u001b[0m             handle,\n\u001b[1;32m    858\u001b[0m             ioargs\u001b[39m.\u001b[39;49mmode,\n\u001b[1;32m    859\u001b[0m             encoding\u001b[39m=\u001b[39;49mioargs\u001b[39m.\u001b[39;49mencoding,\n\u001b[1;32m    860\u001b[0m             errors\u001b[39m=\u001b[39;49merrors,\n\u001b[1;32m    861\u001b[0m             newline\u001b[39m=\u001b[39;49m\u001b[39m\"\u001b[39;49m\u001b[39m\"\u001b[39;49m,\n\u001b[1;32m    862\u001b[0m         )\n\u001b[1;32m    863\u001b[0m     \u001b[39melse\u001b[39;00m:\n\u001b[1;32m    864\u001b[0m         \u001b[39m# Binary mode\u001b[39;00m\n\u001b[1;32m    865\u001b[0m         handle \u001b[39m=\u001b[39m \u001b[39mopen\u001b[39m(handle, ioargs\u001b[39m.\u001b[39mmode)\n",
      "\u001b[0;31mFileNotFoundError\u001b[0m: [Errno 2] No such file or directory: '../data/account.csv'"
     ]
    }
   ],
   "source": [
    "import pandas as pd\n",
    "import matplotlib.pyplot as plt\n",
    "import seaborn as sns\n",
    "\n",
    "import math as m\n",
    "\n",
    "\n",
    "account_df = pd.read_csv('../data/account.csv',sep=';')\n",
    "card_df = pd.read_csv('../data/card_dev.csv', sep=';')\n",
    "client_df = pd.read_csv('../data/client.csv',sep=';')\n",
    "disp_df = pd.read_csv('../data/disp.csv',sep=';')\n",
    "district_df = pd.read_csv('../data/district.csv',sep=';')\n",
    "loan_df = pd.read_csv('../data/loan_dev.csv', sep=';')\n",
    "trans_df = pd.read_csv(\"../data/trans_dev.csv\",sep=\";\", low_memory=False)"
   ]
  },
  {
   "cell_type": "markdown",
   "id": "7909c192",
   "metadata": {},
   "source": [
    "# Process Client"
   ]
  },
  {
   "cell_type": "code",
   "execution_count": 3,
   "id": "3aa39da5",
   "metadata": {},
   "outputs": [],
   "source": [
    "client_df['sex'] = client_df['birth_number'].apply(lambda x : 0 if int(str(x)[2:4]) < 50 else 1)"
   ]
  },
  {
   "cell_type": "markdown",
   "id": "dd86b888",
   "metadata": {},
   "source": [
    "# Process Account"
   ]
  },
  {
   "cell_type": "code",
   "execution_count": 4,
   "id": "b717a4f8",
   "metadata": {},
   "outputs": [],
   "source": [
    "month_frequency = [x for x in account_df['frequency'].unique()]\n",
    "account_df['frequency'] = account_df['frequency'].apply(lambda x : month_frequency.index(x))"
   ]
  },
  {
   "cell_type": "markdown",
   "id": "03401187",
   "metadata": {},
   "source": [
    "### Format Data"
   ]
  },
  {
   "cell_type": "code",
   "execution_count": null,
   "id": "f259ef71",
   "metadata": {},
   "outputs": [],
   "source": [
    "account_df['date'] = pd.to_datetime(account_df['date'], format = '%y%m%d', errors='coerce');\n",
    "account_df.head()"
   ]
  },
  {
   "cell_type": "markdown",
   "id": "5b8f4c0d",
   "metadata": {},
   "source": [
    "# Process Disp"
   ]
  },
  {
   "cell_type": "code",
   "execution_count": 5,
   "id": "09586dd4",
   "metadata": {},
   "outputs": [],
   "source": [
    "type_frequency = [x for x in disp_df['type'].unique()]\n",
    "disp_df['type'] = disp_df['type'].apply(lambda x : type_frequency.index(x)) "
   ]
  },
  {
   "cell_type": "markdown",
   "id": "b4bda461",
   "metadata": {},
   "source": [
    "# Process Card\n"
   ]
  },
  {
   "cell_type": "code",
   "execution_count": 6,
   "id": "1394fa81",
   "metadata": {},
   "outputs": [],
   "source": [
    "type_frequency = [x for x in card_df['type'].unique()]\n",
    "card_df['type'] = card_df['type'].apply(lambda x : type_frequency.index(x))"
   ]
  },
  {
   "cell_type": "code",
   "execution_count": null,
   "id": "ad48ce6b",
   "metadata": {},
   "outputs": [],
   "source": [
    "card_df['issued'] = pd.to_datetime(card_df['issued'], format = '%y%m%d', errors='coerce');\n",
    "card_df.head()"
   ]
  },
  {
   "cell_type": "markdown",
   "id": "42f23363",
   "metadata": {},
   "source": [
    "# Process District"
   ]
  },
  {
   "cell_type": "markdown",
   "id": "7c767741",
   "metadata": {},
   "source": [
    "### Change column types"
   ]
  },
  {
   "cell_type": "code",
   "execution_count": null,
   "id": "75acb1e4",
   "metadata": {},
   "outputs": [],
   "source": [
    "condition = district_df['no. of commited crimes 95'] != '?'\n",
    "meanNoCommitedCrimes95 = int(pd.to_numeric(district_df['no. of commited crimes 95'][condition]).mean())\n",
    "\n",
    "condition = district_df['no. of commited crimes 95'] == '?'\n",
    "district_df.loc[district_df['no. of commited crimes 95'] == '?', 'no. of commited crimes 95'] = meanNoCommitedCrimes95 \n",
    "\n",
    "district_df[[\"unemploymant rate 95\"]] = district_df[[\"unemploymant rate 95\"]].apply(pd.to_numeric, errors='coerce', axis=1)\n",
    "district_df.dtypes"
   ]
  },
  {
   "cell_type": "markdown",
   "id": "f3da6b6e",
   "metadata": {},
   "source": [
    "### Clean Column Names"
   ]
  },
  {
   "cell_type": "code",
   "execution_count": 1,
   "id": "0d13c24d",
   "metadata": {},
   "outputs": [
    {
     "ename": "NameError",
     "evalue": "name 'district_df' is not defined",
     "output_type": "error",
     "traceback": [
      "\u001b[0;31m---------------------------------------------------------------------------\u001b[0m",
      "\u001b[0;31mNameError\u001b[0m                                 Traceback (most recent call last)",
      "Cell \u001b[0;32mIn [1], line 1\u001b[0m\n\u001b[0;32m----> 1\u001b[0m district_df\u001b[39m.\u001b[39mrename(columns \u001b[39m=\u001b[39m {\u001b[39m'\u001b[39m\u001b[39mcode \u001b[39m\u001b[39m'\u001b[39m:\u001b[39m'\u001b[39m\u001b[39mcode\u001b[39m\u001b[39m'\u001b[39m, \u001b[39m'\u001b[39m\u001b[39mname \u001b[39m\u001b[39m'\u001b[39m:\u001b[39m'\u001b[39m\u001b[39mname\u001b[39m\u001b[39m'\u001b[39m, \n\u001b[1;32m      2\u001b[0m                             \u001b[39m'\u001b[39m\u001b[39mno. of municipalities with inhabitants < 499 \u001b[39m\u001b[39m'\u001b[39m: \u001b[39m'\u001b[39m\u001b[39mno of municipalities with inhabitants < 499\u001b[39m\u001b[39m'\u001b[39m,\n\u001b[1;32m      3\u001b[0m                             \u001b[39m'\u001b[39m\u001b[39mno. of municipalities with inhabitants 2000-9999 \u001b[39m\u001b[39m'\u001b[39m: \u001b[39m'\u001b[39m\u001b[39mno. of municipalities with inhabitants 2000-9999\u001b[39m\u001b[39m'\u001b[39m, \n\u001b[1;32m      4\u001b[0m                             \u001b[39m'\u001b[39m\u001b[39mno. of municipalities with inhabitants >10000 \u001b[39m\u001b[39m'\u001b[39m: \u001b[39m'\u001b[39m\u001b[39mno. of municipalities with inhabitants >10000\u001b[39m\u001b[39m'\u001b[39m,\n\u001b[1;32m      5\u001b[0m                             \u001b[39m'\u001b[39m\u001b[39mno. of cities \u001b[39m\u001b[39m'\u001b[39m:\u001b[39m'\u001b[39m\u001b[39mno. of cities\u001b[39m\u001b[39m'\u001b[39m, \u001b[39m'\u001b[39m\u001b[39mratio of urban inhabitants \u001b[39m\u001b[39m'\u001b[39m:\u001b[39m'\u001b[39m\u001b[39mratio of urban inhabitants\u001b[39m\u001b[39m'\u001b[39m,\n\u001b[1;32m      6\u001b[0m                             \u001b[39m'\u001b[39m\u001b[39maverage salary \u001b[39m\u001b[39m'\u001b[39m:\u001b[39m'\u001b[39m\u001b[39maverage salary\u001b[39m\u001b[39m'\u001b[39m, \u001b[39m\"\u001b[39m\u001b[39munemploymant rate \u001b[39m\u001b[39m'\u001b[39m\u001b[39m95 \u001b[39m\u001b[39m\"\u001b[39m: \u001b[39m\"\u001b[39m\u001b[39munemploymant rate 95\u001b[39m\u001b[39m\"\u001b[39m,\n\u001b[1;32m      7\u001b[0m                             \u001b[39m\"\u001b[39m\u001b[39munemploymant rate \u001b[39m\u001b[39m'\u001b[39m\u001b[39m96 \u001b[39m\u001b[39m\"\u001b[39m: \u001b[39m\"\u001b[39m\u001b[39munemploymant rate 96 \u001b[39m\u001b[39m\"\u001b[39m, \n\u001b[1;32m      8\u001b[0m                             \u001b[39m'\u001b[39m\u001b[39mno. of enterpreneurs per 1000 inhabitants \u001b[39m\u001b[39m'\u001b[39m:\u001b[39m'\u001b[39m\u001b[39mno. of enterpreneurs per 1000 inhabitants\u001b[39m\u001b[39m'\u001b[39m, \n\u001b[1;32m      9\u001b[0m                             \u001b[39m\"\u001b[39m\u001b[39mno. of commited crimes \u001b[39m\u001b[39m'\u001b[39m\u001b[39m95 \u001b[39m\u001b[39m\"\u001b[39m:\u001b[39m\"\u001b[39m\u001b[39mno. of commited crimes 95\u001b[39m\u001b[39m\"\u001b[39m,\n\u001b[1;32m     10\u001b[0m                            \u001b[39m\"\u001b[39m\u001b[39mno. of commited crimes \u001b[39m\u001b[39m'\u001b[39m\u001b[39m96 \u001b[39m\u001b[39m\"\u001b[39m: \u001b[39m\"\u001b[39m\u001b[39mno. of commited crimes 96\u001b[39m\u001b[39m\"\u001b[39m}, inplace \u001b[39m=\u001b[39m \u001b[39mTrue\u001b[39;00m)\n\u001b[1;32m     12\u001b[0m district_df\u001b[39m.\u001b[39mhead()\n",
      "\u001b[0;31mNameError\u001b[0m: name 'district_df' is not defined"
     ]
    }
   ],
   "source": [
    "district_df.rename(columns = {'code ':'code', 'name ':'name', \n",
    "                            'no. of municipalities with inhabitants < 499 ': 'no of municipalities with inhabitants < 499',\n",
    "                            'no. of municipalities with inhabitants 2000-9999 ': 'no. of municipalities with inhabitants 2000-9999', \n",
    "                            'no. of municipalities with inhabitants >10000 ': 'no. of municipalities with inhabitants >10000',\n",
    "                            'no. of cities ':'no. of cities', 'ratio of urban inhabitants ':'ratio of urban inhabitants',\n",
    "                            'average salary ':'average salary', \"unemploymant rate '95 \": \"unemploymant rate 95\",\n",
    "                            \"unemploymant rate '96 \": \"unemploymant rate 96 \", \n",
    "                            'no. of enterpreneurs per 1000 inhabitants ':'no. of enterpreneurs per 1000 inhabitants', \n",
    "                            \"no. of commited crimes '95 \":\"no. of commited crimes 95\",\n",
    "                           \"no. of commited crimes '96 \": \"no. of commited crimes 96\"}, inplace = True)\n",
    "\n",
    "district_df.head()"
   ]
  },
  {
   "cell_type": "markdown",
   "id": "ce952595",
   "metadata": {},
   "source": [
    "# Process Trans"
   ]
  },
  {
   "cell_type": "markdown",
   "id": "e35d2684",
   "metadata": {},
   "source": [
    "### Clean Null values"
   ]
  },
  {
   "cell_type": "code",
   "execution_count": null,
   "id": "61260a74",
   "metadata": {},
   "outputs": [],
   "source": [
    "del trans_df['k_symbol']\n",
    "del trans_df['bank']\n",
    "\n",
    "trans_df.dtypes"
   ]
  },
  {
   "cell_type": "code",
   "execution_count": null,
   "id": "51361df2",
   "metadata": {},
   "outputs": [],
   "source": [
    "trans_df['date'] = pd.to_datetime(trans_df['date'], format = '%y%m%d', errors='coerce');\n",
    "trans_df.head()"
   ]
  },
  {
   "cell_type": "markdown",
   "id": "ea5e4ae2",
   "metadata": {},
   "source": [
    "# Date Format"
   ]
  },
  {
   "cell_type": "code",
   "execution_count": 7,
   "id": "622e464f",
   "metadata": {},
   "outputs": [
    {
     "data": {
      "text/html": [
       "<div>\n",
       "<style scoped>\n",
       "    .dataframe tbody tr th:only-of-type {\n",
       "        vertical-align: middle;\n",
       "    }\n",
       "\n",
       "    .dataframe tbody tr th {\n",
       "        vertical-align: top;\n",
       "    }\n",
       "\n",
       "    .dataframe thead th {\n",
       "        text-align: right;\n",
       "    }\n",
       "</style>\n",
       "<table border=\"1\" class=\"dataframe\">\n",
       "  <thead>\n",
       "    <tr style=\"text-align: right;\">\n",
       "      <th></th>\n",
       "      <th>account_id</th>\n",
       "      <th>district_id</th>\n",
       "      <th>frequency</th>\n",
       "      <th>date</th>\n",
       "    </tr>\n",
       "  </thead>\n",
       "  <tbody>\n",
       "    <tr>\n",
       "      <th>0</th>\n",
       "      <td>576</td>\n",
       "      <td>55</td>\n",
       "      <td>0</td>\n",
       "      <td>1993-01-01</td>\n",
       "    </tr>\n",
       "    <tr>\n",
       "      <th>1</th>\n",
       "      <td>3818</td>\n",
       "      <td>74</td>\n",
       "      <td>0</td>\n",
       "      <td>1993-01-01</td>\n",
       "    </tr>\n",
       "    <tr>\n",
       "      <th>2</th>\n",
       "      <td>704</td>\n",
       "      <td>55</td>\n",
       "      <td>0</td>\n",
       "      <td>1993-01-01</td>\n",
       "    </tr>\n",
       "    <tr>\n",
       "      <th>3</th>\n",
       "      <td>2378</td>\n",
       "      <td>16</td>\n",
       "      <td>0</td>\n",
       "      <td>1993-01-01</td>\n",
       "    </tr>\n",
       "    <tr>\n",
       "      <th>4</th>\n",
       "      <td>2632</td>\n",
       "      <td>24</td>\n",
       "      <td>0</td>\n",
       "      <td>1993-01-02</td>\n",
       "    </tr>\n",
       "  </tbody>\n",
       "</table>\n",
       "</div>"
      ],
      "text/plain": [
       "   account_id  district_id  frequency       date\n",
       "0         576           55          0 1993-01-01\n",
       "1        3818           74          0 1993-01-01\n",
       "2         704           55          0 1993-01-01\n",
       "3        2378           16          0 1993-01-01\n",
       "4        2632           24          0 1993-01-02"
      ]
     },
     "execution_count": 7,
     "metadata": {},
     "output_type": "execute_result"
    }
   ],
   "source": [
    "account_df['date'] = pd.to_datetime(account_df['date'], format = '%y%m%d', errors='coerce');\n",
    "account_df.head()"
   ]
  },
  {
   "cell_type": "code",
   "execution_count": 8,
   "id": "4ea141c9",
   "metadata": {},
   "outputs": [
    {
     "data": {
      "text/html": [
       "<div>\n",
       "<style scoped>\n",
       "    .dataframe tbody tr th:only-of-type {\n",
       "        vertical-align: middle;\n",
       "    }\n",
       "\n",
       "    .dataframe tbody tr th {\n",
       "        vertical-align: top;\n",
       "    }\n",
       "\n",
       "    .dataframe thead th {\n",
       "        text-align: right;\n",
       "    }\n",
       "</style>\n",
       "<table border=\"1\" class=\"dataframe\">\n",
       "  <thead>\n",
       "    <tr style=\"text-align: right;\">\n",
       "      <th></th>\n",
       "      <th>card_id</th>\n",
       "      <th>disp_id</th>\n",
       "      <th>type</th>\n",
       "      <th>issued</th>\n",
       "      <th>date</th>\n",
       "    </tr>\n",
       "  </thead>\n",
       "  <tbody>\n",
       "    <tr>\n",
       "      <th>0</th>\n",
       "      <td>1005</td>\n",
       "      <td>9285</td>\n",
       "      <td>0</td>\n",
       "      <td>931107</td>\n",
       "      <td>1993-11-07</td>\n",
       "    </tr>\n",
       "    <tr>\n",
       "      <th>1</th>\n",
       "      <td>104</td>\n",
       "      <td>588</td>\n",
       "      <td>0</td>\n",
       "      <td>940119</td>\n",
       "      <td>1994-01-19</td>\n",
       "    </tr>\n",
       "    <tr>\n",
       "      <th>2</th>\n",
       "      <td>747</td>\n",
       "      <td>4915</td>\n",
       "      <td>0</td>\n",
       "      <td>940205</td>\n",
       "      <td>1994-02-05</td>\n",
       "    </tr>\n",
       "    <tr>\n",
       "      <th>3</th>\n",
       "      <td>70</td>\n",
       "      <td>439</td>\n",
       "      <td>0</td>\n",
       "      <td>940208</td>\n",
       "      <td>1994-02-08</td>\n",
       "    </tr>\n",
       "    <tr>\n",
       "      <th>4</th>\n",
       "      <td>577</td>\n",
       "      <td>3687</td>\n",
       "      <td>0</td>\n",
       "      <td>940215</td>\n",
       "      <td>1994-02-15</td>\n",
       "    </tr>\n",
       "  </tbody>\n",
       "</table>\n",
       "</div>"
      ],
      "text/plain": [
       "   card_id  disp_id  type  issued       date\n",
       "0     1005     9285     0  931107 1993-11-07\n",
       "1      104      588     0  940119 1994-01-19\n",
       "2      747     4915     0  940205 1994-02-05\n",
       "3       70      439     0  940208 1994-02-08\n",
       "4      577     3687     0  940215 1994-02-15"
      ]
     },
     "execution_count": 8,
     "metadata": {},
     "output_type": "execute_result"
    }
   ],
   "source": [
    "card_df['issued'] = pd.to_datetime(card_df['issued'], format = '%y%m%d', errors='coerce');\n",
    "card_df.head()"
   ]
  },
  {
   "cell_type": "code",
   "execution_count": 21,
   "id": "81dca591",
   "metadata": {},
   "outputs": [
    {
     "data": {
      "text/html": [
       "<div>\n",
       "<style scoped>\n",
       "    .dataframe tbody tr th:only-of-type {\n",
       "        vertical-align: middle;\n",
       "    }\n",
       "\n",
       "    .dataframe tbody tr th {\n",
       "        vertical-align: top;\n",
       "    }\n",
       "\n",
       "    .dataframe thead th {\n",
       "        text-align: right;\n",
       "    }\n",
       "</style>\n",
       "<table border=\"1\" class=\"dataframe\">\n",
       "  <thead>\n",
       "    <tr style=\"text-align: right;\">\n",
       "      <th></th>\n",
       "      <th>trans_id</th>\n",
       "      <th>account_id</th>\n",
       "      <th>date</th>\n",
       "      <th>type</th>\n",
       "      <th>operation</th>\n",
       "      <th>amount</th>\n",
       "      <th>balance</th>\n",
       "      <th>k_symbol</th>\n",
       "      <th>bank</th>\n",
       "      <th>account</th>\n",
       "    </tr>\n",
       "  </thead>\n",
       "  <tbody>\n",
       "    <tr>\n",
       "      <th>0</th>\n",
       "      <td>1548749</td>\n",
       "      <td>5270</td>\n",
       "      <td>1993-01-13</td>\n",
       "      <td>credit</td>\n",
       "      <td>credit in cash</td>\n",
       "      <td>800.0</td>\n",
       "      <td>800.0</td>\n",
       "      <td>NaN</td>\n",
       "      <td>NaN</td>\n",
       "      <td>NaN</td>\n",
       "    </tr>\n",
       "    <tr>\n",
       "      <th>1</th>\n",
       "      <td>1548750</td>\n",
       "      <td>5270</td>\n",
       "      <td>1993-01-14</td>\n",
       "      <td>credit</td>\n",
       "      <td>collection from another bank</td>\n",
       "      <td>44749.0</td>\n",
       "      <td>45549.0</td>\n",
       "      <td>NaN</td>\n",
       "      <td>IJ</td>\n",
       "      <td>80269753.0</td>\n",
       "    </tr>\n",
       "    <tr>\n",
       "      <th>2</th>\n",
       "      <td>3393738</td>\n",
       "      <td>11265</td>\n",
       "      <td>1993-01-14</td>\n",
       "      <td>credit</td>\n",
       "      <td>credit in cash</td>\n",
       "      <td>1000.0</td>\n",
       "      <td>1000.0</td>\n",
       "      <td>NaN</td>\n",
       "      <td>NaN</td>\n",
       "      <td>NaN</td>\n",
       "    </tr>\n",
       "    <tr>\n",
       "      <th>3</th>\n",
       "      <td>3122924</td>\n",
       "      <td>10364</td>\n",
       "      <td>1993-01-17</td>\n",
       "      <td>credit</td>\n",
       "      <td>credit in cash</td>\n",
       "      <td>1100.0</td>\n",
       "      <td>1100.0</td>\n",
       "      <td>NaN</td>\n",
       "      <td>NaN</td>\n",
       "      <td>NaN</td>\n",
       "    </tr>\n",
       "    <tr>\n",
       "      <th>4</th>\n",
       "      <td>1121963</td>\n",
       "      <td>3834</td>\n",
       "      <td>1993-01-19</td>\n",
       "      <td>credit</td>\n",
       "      <td>credit in cash</td>\n",
       "      <td>700.0</td>\n",
       "      <td>700.0</td>\n",
       "      <td>NaN</td>\n",
       "      <td>NaN</td>\n",
       "      <td>NaN</td>\n",
       "    </tr>\n",
       "  </tbody>\n",
       "</table>\n",
       "</div>"
      ],
      "text/plain": [
       "   trans_id  account_id       date    type                     operation  \\\n",
       "0   1548749        5270 1993-01-13  credit                credit in cash   \n",
       "1   1548750        5270 1993-01-14  credit  collection from another bank   \n",
       "2   3393738       11265 1993-01-14  credit                credit in cash   \n",
       "3   3122924       10364 1993-01-17  credit                credit in cash   \n",
       "4   1121963        3834 1993-01-19  credit                credit in cash   \n",
       "\n",
       "    amount  balance k_symbol bank     account  \n",
       "0    800.0    800.0      NaN  NaN         NaN  \n",
       "1  44749.0  45549.0      NaN   IJ  80269753.0  \n",
       "2   1000.0   1000.0      NaN  NaN         NaN  \n",
       "3   1100.0   1100.0      NaN  NaN         NaN  \n",
       "4    700.0    700.0      NaN  NaN         NaN  "
      ]
     },
     "execution_count": 21,
     "metadata": {},
     "output_type": "execute_result"
    }
   ],
   "source": [
    "trans_df['date'] = pd.to_datetime(trans_df['date'], format = '%y%m%d', errors='coerce');\n",
    "trans_df.head()"
   ]
  }
 ],
 "metadata": {
  "kernelspec": {
   "display_name": "Python 3.10.6 64-bit",
   "language": "python",
   "name": "python3"
  },
  "language_info": {
   "codemirror_mode": {
    "name": "ipython",
    "version": 3
   },
   "file_extension": ".py",
   "mimetype": "text/x-python",
   "name": "python",
   "nbconvert_exporter": "python",
   "pygments_lexer": "ipython3",
   "version": "3.10.6"
  },
  "vscode": {
   "interpreter": {
    "hash": "916dbcbb3f70747c44a77c7bcd40155683ae19c65e1c03b4aa3499c5328201f1"
   }
  }
 },
 "nbformat": 4,
 "nbformat_minor": 5
}
