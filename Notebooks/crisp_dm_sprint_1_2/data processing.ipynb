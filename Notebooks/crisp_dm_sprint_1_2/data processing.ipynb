{
 "cells": [
  {
   "cell_type": "markdown",
   "metadata": {},
   "source": [
    "# Importing data"
   ]
  },
  {
   "cell_type": "code",
   "execution_count": 9,
   "metadata": {},
   "outputs": [],
   "source": [
    "import pandas as pd\n",
    "import matplotlib as mpl\n",
    "import matplotlib.pyplot as plt\n",
    "import seaborn as sns\n",
    "from datetime import datetime\n",
    "from sklearn import preprocessing\n",
    "\n",
    "label_encoder = preprocessing.LabelEncoder()\n",
    "\n",
    "account_df = pd.read_csv('data/account.csv',sep=';')\n",
    "card_df = pd.read_csv('data/card_dev.csv', sep=';')\n",
    "client_df = pd.read_csv('data/client.csv',sep=';')\n",
    "disp_df = pd.read_csv('data/disp.csv',sep=';')\n",
    "district_df = pd.read_csv('data/district.csv',sep=';')\n",
    "loan_df = pd.read_csv('data/loan_dev.csv', sep=';')\n",
    "trans_df = pd.read_csv(\"data/trans_dev.csv\",sep=\";\", low_memory=False)"
   ]
  },
  {
   "cell_type": "markdown",
   "metadata": {},
   "source": [
    "# Account Stats"
   ]
  },
  {
   "cell_type": "code",
   "execution_count": 10,
   "metadata": {},
   "outputs": [
    {
     "name": "stdout",
     "output_type": "stream",
     "text": [
      "   account_id  district_id  account_frequency account_date  account_year\n",
      "0         576           55                  1   1993-01-01          1993\n",
      "1        3818           74                  1   1993-01-01          1993\n",
      "2         704           55                  1   1993-01-01          1993\n",
      "3        2378           16                  1   1993-01-01          1993\n",
      "4        2632           24                  1   1993-01-02          1993\n"
     ]
    },
    {
     "ename": "OSError",
     "evalue": "Cannot save file into a non-existent directory: 'refined'",
     "output_type": "error",
     "traceback": [
      "\u001b[0;31m---------------------------------------------------------------------------\u001b[0m",
      "\u001b[0;31mOSError\u001b[0m                                   Traceback (most recent call last)",
      "Cell \u001b[0;32mIn [10], line 21\u001b[0m\n\u001b[1;32m     18\u001b[0m account_df[\u001b[39m'\u001b[39m\u001b[39maccount_year\u001b[39m\u001b[39m'\u001b[39m] \u001b[39m=\u001b[39m acount_date_year\n\u001b[1;32m     20\u001b[0m \u001b[39mprint\u001b[39m(account_df\u001b[39m.\u001b[39mhead())\n\u001b[0;32m---> 21\u001b[0m account_df\u001b[39m.\u001b[39;49mto_csv(\u001b[39m'\u001b[39;49m\u001b[39mrefined/account.csv\u001b[39;49m\u001b[39m'\u001b[39;49m)\n",
      "File \u001b[0;32m~/.local/lib/python3.10/site-packages/pandas/util/_decorators.py:211\u001b[0m, in \u001b[0;36mdeprecate_kwarg.<locals>._deprecate_kwarg.<locals>.wrapper\u001b[0;34m(*args, **kwargs)\u001b[0m\n\u001b[1;32m    209\u001b[0m     \u001b[39melse\u001b[39;00m:\n\u001b[1;32m    210\u001b[0m         kwargs[new_arg_name] \u001b[39m=\u001b[39m new_arg_value\n\u001b[0;32m--> 211\u001b[0m \u001b[39mreturn\u001b[39;00m func(\u001b[39m*\u001b[39;49margs, \u001b[39m*\u001b[39;49m\u001b[39m*\u001b[39;49mkwargs)\n",
      "File \u001b[0;32m~/.local/lib/python3.10/site-packages/pandas/core/generic.py:3720\u001b[0m, in \u001b[0;36mNDFrame.to_csv\u001b[0;34m(self, path_or_buf, sep, na_rep, float_format, columns, header, index, index_label, mode, encoding, compression, quoting, quotechar, lineterminator, chunksize, date_format, doublequote, escapechar, decimal, errors, storage_options)\u001b[0m\n\u001b[1;32m   3709\u001b[0m df \u001b[39m=\u001b[39m \u001b[39mself\u001b[39m \u001b[39mif\u001b[39;00m \u001b[39misinstance\u001b[39m(\u001b[39mself\u001b[39m, ABCDataFrame) \u001b[39melse\u001b[39;00m \u001b[39mself\u001b[39m\u001b[39m.\u001b[39mto_frame()\n\u001b[1;32m   3711\u001b[0m formatter \u001b[39m=\u001b[39m DataFrameFormatter(\n\u001b[1;32m   3712\u001b[0m     frame\u001b[39m=\u001b[39mdf,\n\u001b[1;32m   3713\u001b[0m     header\u001b[39m=\u001b[39mheader,\n\u001b[0;32m   (...)\u001b[0m\n\u001b[1;32m   3717\u001b[0m     decimal\u001b[39m=\u001b[39mdecimal,\n\u001b[1;32m   3718\u001b[0m )\n\u001b[0;32m-> 3720\u001b[0m \u001b[39mreturn\u001b[39;00m DataFrameRenderer(formatter)\u001b[39m.\u001b[39;49mto_csv(\n\u001b[1;32m   3721\u001b[0m     path_or_buf,\n\u001b[1;32m   3722\u001b[0m     lineterminator\u001b[39m=\u001b[39;49mlineterminator,\n\u001b[1;32m   3723\u001b[0m     sep\u001b[39m=\u001b[39;49msep,\n\u001b[1;32m   3724\u001b[0m     encoding\u001b[39m=\u001b[39;49mencoding,\n\u001b[1;32m   3725\u001b[0m     errors\u001b[39m=\u001b[39;49merrors,\n\u001b[1;32m   3726\u001b[0m     compression\u001b[39m=\u001b[39;49mcompression,\n\u001b[1;32m   3727\u001b[0m     quoting\u001b[39m=\u001b[39;49mquoting,\n\u001b[1;32m   3728\u001b[0m     columns\u001b[39m=\u001b[39;49mcolumns,\n\u001b[1;32m   3729\u001b[0m     index_label\u001b[39m=\u001b[39;49mindex_label,\n\u001b[1;32m   3730\u001b[0m     mode\u001b[39m=\u001b[39;49mmode,\n\u001b[1;32m   3731\u001b[0m     chunksize\u001b[39m=\u001b[39;49mchunksize,\n\u001b[1;32m   3732\u001b[0m     quotechar\u001b[39m=\u001b[39;49mquotechar,\n\u001b[1;32m   3733\u001b[0m     date_format\u001b[39m=\u001b[39;49mdate_format,\n\u001b[1;32m   3734\u001b[0m     doublequote\u001b[39m=\u001b[39;49mdoublequote,\n\u001b[1;32m   3735\u001b[0m     escapechar\u001b[39m=\u001b[39;49mescapechar,\n\u001b[1;32m   3736\u001b[0m     storage_options\u001b[39m=\u001b[39;49mstorage_options,\n\u001b[1;32m   3737\u001b[0m )\n",
      "File \u001b[0;32m~/.local/lib/python3.10/site-packages/pandas/util/_decorators.py:211\u001b[0m, in \u001b[0;36mdeprecate_kwarg.<locals>._deprecate_kwarg.<locals>.wrapper\u001b[0;34m(*args, **kwargs)\u001b[0m\n\u001b[1;32m    209\u001b[0m     \u001b[39melse\u001b[39;00m:\n\u001b[1;32m    210\u001b[0m         kwargs[new_arg_name] \u001b[39m=\u001b[39m new_arg_value\n\u001b[0;32m--> 211\u001b[0m \u001b[39mreturn\u001b[39;00m func(\u001b[39m*\u001b[39;49margs, \u001b[39m*\u001b[39;49m\u001b[39m*\u001b[39;49mkwargs)\n",
      "File \u001b[0;32m~/.local/lib/python3.10/site-packages/pandas/io/formats/format.py:1189\u001b[0m, in \u001b[0;36mDataFrameRenderer.to_csv\u001b[0;34m(self, path_or_buf, encoding, sep, columns, index_label, mode, compression, quoting, quotechar, lineterminator, chunksize, date_format, doublequote, escapechar, errors, storage_options)\u001b[0m\n\u001b[1;32m   1168\u001b[0m     created_buffer \u001b[39m=\u001b[39m \u001b[39mFalse\u001b[39;00m\n\u001b[1;32m   1170\u001b[0m csv_formatter \u001b[39m=\u001b[39m CSVFormatter(\n\u001b[1;32m   1171\u001b[0m     path_or_buf\u001b[39m=\u001b[39mpath_or_buf,\n\u001b[1;32m   1172\u001b[0m     lineterminator\u001b[39m=\u001b[39mlineterminator,\n\u001b[0;32m   (...)\u001b[0m\n\u001b[1;32m   1187\u001b[0m     formatter\u001b[39m=\u001b[39m\u001b[39mself\u001b[39m\u001b[39m.\u001b[39mfmt,\n\u001b[1;32m   1188\u001b[0m )\n\u001b[0;32m-> 1189\u001b[0m csv_formatter\u001b[39m.\u001b[39;49msave()\n\u001b[1;32m   1191\u001b[0m \u001b[39mif\u001b[39;00m created_buffer:\n\u001b[1;32m   1192\u001b[0m     \u001b[39massert\u001b[39;00m \u001b[39misinstance\u001b[39m(path_or_buf, StringIO)\n",
      "File \u001b[0;32m~/.local/lib/python3.10/site-packages/pandas/io/formats/csvs.py:241\u001b[0m, in \u001b[0;36mCSVFormatter.save\u001b[0;34m(self)\u001b[0m\n\u001b[1;32m    237\u001b[0m \u001b[39m\"\"\"\u001b[39;00m\n\u001b[1;32m    238\u001b[0m \u001b[39mCreate the writer & save.\u001b[39;00m\n\u001b[1;32m    239\u001b[0m \u001b[39m\"\"\"\u001b[39;00m\n\u001b[1;32m    240\u001b[0m \u001b[39m# apply compression and byte/text conversion\u001b[39;00m\n\u001b[0;32m--> 241\u001b[0m \u001b[39mwith\u001b[39;00m get_handle(\n\u001b[1;32m    242\u001b[0m     \u001b[39mself\u001b[39;49m\u001b[39m.\u001b[39;49mfilepath_or_buffer,\n\u001b[1;32m    243\u001b[0m     \u001b[39mself\u001b[39;49m\u001b[39m.\u001b[39;49mmode,\n\u001b[1;32m    244\u001b[0m     encoding\u001b[39m=\u001b[39;49m\u001b[39mself\u001b[39;49m\u001b[39m.\u001b[39;49mencoding,\n\u001b[1;32m    245\u001b[0m     errors\u001b[39m=\u001b[39;49m\u001b[39mself\u001b[39;49m\u001b[39m.\u001b[39;49merrors,\n\u001b[1;32m    246\u001b[0m     compression\u001b[39m=\u001b[39;49m\u001b[39mself\u001b[39;49m\u001b[39m.\u001b[39;49mcompression,\n\u001b[1;32m    247\u001b[0m     storage_options\u001b[39m=\u001b[39;49m\u001b[39mself\u001b[39;49m\u001b[39m.\u001b[39;49mstorage_options,\n\u001b[1;32m    248\u001b[0m ) \u001b[39mas\u001b[39;00m handles:\n\u001b[1;32m    249\u001b[0m \n\u001b[1;32m    250\u001b[0m     \u001b[39m# Note: self.encoding is irrelevant here\u001b[39;00m\n\u001b[1;32m    251\u001b[0m     \u001b[39mself\u001b[39m\u001b[39m.\u001b[39mwriter \u001b[39m=\u001b[39m csvlib\u001b[39m.\u001b[39mwriter(\n\u001b[1;32m    252\u001b[0m         handles\u001b[39m.\u001b[39mhandle,\n\u001b[1;32m    253\u001b[0m         lineterminator\u001b[39m=\u001b[39m\u001b[39mself\u001b[39m\u001b[39m.\u001b[39mlineterminator,\n\u001b[0;32m   (...)\u001b[0m\n\u001b[1;32m    258\u001b[0m         quotechar\u001b[39m=\u001b[39m\u001b[39mself\u001b[39m\u001b[39m.\u001b[39mquotechar,\n\u001b[1;32m    259\u001b[0m     )\n\u001b[1;32m    261\u001b[0m     \u001b[39mself\u001b[39m\u001b[39m.\u001b[39m_save()\n",
      "File \u001b[0;32m~/.local/lib/python3.10/site-packages/pandas/io/common.py:734\u001b[0m, in \u001b[0;36mget_handle\u001b[0;34m(path_or_buf, mode, encoding, compression, memory_map, is_text, errors, storage_options)\u001b[0m\n\u001b[1;32m    732\u001b[0m \u001b[39m# Only for write methods\u001b[39;00m\n\u001b[1;32m    733\u001b[0m \u001b[39mif\u001b[39;00m \u001b[39m\"\u001b[39m\u001b[39mr\u001b[39m\u001b[39m\"\u001b[39m \u001b[39mnot\u001b[39;00m \u001b[39min\u001b[39;00m mode \u001b[39mand\u001b[39;00m is_path:\n\u001b[0;32m--> 734\u001b[0m     check_parent_directory(\u001b[39mstr\u001b[39;49m(handle))\n\u001b[1;32m    736\u001b[0m \u001b[39mif\u001b[39;00m compression:\n\u001b[1;32m    737\u001b[0m     \u001b[39mif\u001b[39;00m compression \u001b[39m!=\u001b[39m \u001b[39m\"\u001b[39m\u001b[39mzstd\u001b[39m\u001b[39m\"\u001b[39m:\n\u001b[1;32m    738\u001b[0m         \u001b[39m# compression libraries do not like an explicit text-mode\u001b[39;00m\n",
      "File \u001b[0;32m~/.local/lib/python3.10/site-packages/pandas/io/common.py:597\u001b[0m, in \u001b[0;36mcheck_parent_directory\u001b[0;34m(path)\u001b[0m\n\u001b[1;32m    595\u001b[0m parent \u001b[39m=\u001b[39m Path(path)\u001b[39m.\u001b[39mparent\n\u001b[1;32m    596\u001b[0m \u001b[39mif\u001b[39;00m \u001b[39mnot\u001b[39;00m parent\u001b[39m.\u001b[39mis_dir():\n\u001b[0;32m--> 597\u001b[0m     \u001b[39mraise\u001b[39;00m \u001b[39mOSError\u001b[39;00m(\u001b[39mrf\u001b[39m\u001b[39m\"\u001b[39m\u001b[39mCannot save file into a non-existent directory: \u001b[39m\u001b[39m'\u001b[39m\u001b[39m{\u001b[39;00mparent\u001b[39m}\u001b[39;00m\u001b[39m'\u001b[39m\u001b[39m\"\u001b[39m)\n",
      "\u001b[0;31mOSError\u001b[0m: Cannot save file into a non-existent directory: 'refined'"
     ]
    }
   ],
   "source": [
    "account_df.rename(columns={'frequency':'account_frequency'}, inplace=True)\n",
    "account_df.rename(columns={'date':'account_date'}, inplace=True)\n",
    "\n",
    "account_df.loc[account_df['account_frequency'] == 'monthly issuance', 'account_frequency'] = 'monthly'\n",
    "account_df.loc[account_df['account_frequency'] == 'weekly issuance', 'account_frequency'] = 'weekly'\n",
    "account_df.loc[account_df['account_frequency'] == 'issuance after transaction', 'account_frequency'] = 'after-transaction'\n",
    "\n",
    "#Frequency from text data to numerical\n",
    "account_df['account_frequency']= label_encoder.fit_transform(account_df['account_frequency'])\n",
    "\n",
    "\n",
    "account_df['account_date'] = pd.to_datetime(account_df['account_date'], format='%y%m%d')\n",
    "\n",
    "acount_date_year = []\n",
    "for i in account_df.index:\n",
    "    acount_date_year.append(account_df['account_date'][i].year)\n",
    "\n",
    "account_df['account_year'] = acount_date_year\n",
    "\n",
    "print(account_df.head())\n",
    "account_df.to_csv('refined/account.csv')"
   ]
  },
  {
   "cell_type": "markdown",
   "metadata": {},
   "source": [
    "# Client Processing\n"
   ]
  },
  {
   "cell_type": "code",
   "execution_count": null,
   "metadata": {},
   "outputs": [],
   "source": [
    "client_df.rename(columns={'district_id':'client_district_id'}, inplace=True)\n",
    "client_df.rename(columns={'birth_number':'client_birth_number'}, inplace=True)\n",
    "\n",
    "\n",
    "age = []\n",
    "gender = []\n",
    "birth = []\n",
    "get_birth_date = lambda x : pd.to_datetime('19'+str(x)[0:2] + str(x)[2:4] + str(x)[4:6])\n",
    "for x in client_df['client_birth_number']:\n",
    "    month = int(str(x)[2:4])\n",
    "    if month > 12:\n",
    "        gender.append('F')\n",
    "        x -= 5000\n",
    "    else:\n",
    "        gender.append('M')\n",
    "    \n",
    "    birth_date = get_birth_date(x)\n",
    "    birth.append(birth_date)\n",
    "    age.append((datetime.now() - birth_date).days // 365)\n",
    "\n",
    "client_df['client_birth_number'] = birth\n",
    "\n",
    "birth_year = []\n",
    "for i in client_df.index:\n",
    "    birth_year.append(client_df['client_birth_number'][i].year)\n",
    "\n",
    "client_df['birth_year'] = birth_year\n",
    "    \n",
    "print(client_df.head())\n",
    "\n",
    "client_df['client_age'] = age\n",
    "client_df['client_gender'] = gender\n",
    "\n",
    "\n",
    "client_df['client_gender']= label_encoder.fit_transform(client_df['client_gender'])\n",
    "\n",
    "client_df.to_csv('refined/client.csv')"
   ]
  },
  {
   "cell_type": "markdown",
   "metadata": {},
   "source": [
    "# Disposition Processing"
   ]
  },
  {
   "cell_type": "code",
   "execution_count": null,
   "metadata": {},
   "outputs": [],
   "source": [
    "disp_df = disp_df.loc[disp_df.type == \"OWNER\"]\n",
    "disp_df.drop(columns=['type'], inplace=True)\n",
    "disp_df.rename(columns={'type':'disp_type'}, inplace=True)\n",
    "disp_df.to_csv('refined/disposition.csv')"
   ]
  },
  {
   "cell_type": "markdown",
   "metadata": {},
   "source": [
    "# Transaction Processing"
   ]
  },
  {
   "cell_type": "code",
   "execution_count": null,
   "metadata": {},
   "outputs": [],
   "source": [
    "trans_df.rename(columns={'date' : 'trans_date'}, inplace=True)\n",
    "trans_df.rename(columns={'type' : 'trans_type'}, inplace=True)\n",
    "trans_df.rename(columns={'operation' : 'trans_operation'}, inplace=True)\n",
    "trans_df.rename(columns={'amount' : 'trans_amount'}, inplace=True)\n",
    "trans_df.rename(columns={'balance' : 'trans_balance'}, inplace=True)\n",
    "trans_df.rename(columns={'k_symbol' : 'trans_k_symbol'}, inplace=True)\n",
    "trans_df.rename(columns={'bank' : 'trans_bank'}, inplace=True)\n",
    "trans_df.rename(columns={'account': 'trans_account'}, inplace=True)\n",
    "\n",
    "trans_df['trans_date'] = pd.to_datetime(trans_df['trans_date'], format='%y%m%d')\n",
    "\n",
    "trans_date_year = []\n",
    "for i in trans_df.index:\n",
    "    trans_date_year.append(trans_df['trans_date'][i].year)\n",
    "\n",
    "trans_df['trans_year'] = trans_date_year\n",
    "\n",
    "#as colunas bank e account não são necessárias, trans_k_symbol têm muitos valores nulos\n",
    "trans_df.drop(['trans_bank', 'trans_account', 'trans_k_symbol'], axis=1, inplace=True)\n",
    "\n",
    "#withdrawal in cash para withdrawal\n",
    "trans_df.loc[trans_df[\"trans_type\"]==\"withdrawal in cash\",\"trans_type\"] = \"withdrawal\" \n",
    "#se for withdrawal, o ammount é negativo\n",
    "trans_df.loc[trans_df[\"trans_type\"]==\"withdrawal\",\"trans_amount\"] *= -1\n",
    "print(trans_df.head())\n",
    "\n",
    "\n",
    "trans_df.to_csv('refined/transaction.csv')"
   ]
  },
  {
   "cell_type": "markdown",
   "metadata": {},
   "source": [
    "# Loan Processing"
   ]
  },
  {
   "cell_type": "code",
   "execution_count": null,
   "metadata": {},
   "outputs": [],
   "source": [
    "\n",
    "loan_df.rename(columns={'date':'loan_date'}, inplace=True)\n",
    "loan_df.rename(columns={'amount':'loan_amount'}, inplace=True)\n",
    "loan_df.rename(columns={'duration':'loan_duration'}, inplace=True)\n",
    "loan_df.rename(columns={'payments':'loan_payments'}, inplace=True)\n",
    "loan_df.rename(columns={'status':'loan_status'}, inplace=True)\n",
    "loan_df.loc[loan_df[\"loan_status\"]== -1,\"loan_status\"] *= 0\n",
    "\n",
    "loan_df['loan_date'] = pd.to_datetime(loan_df['loan_date'], format='%y%m%d')\n",
    "\n",
    "loan_date_year = []\n",
    "for i in loan_df.index:\n",
    "    loan_date_year.append(loan_df['loan_date'][i].year)\n",
    "loan_df['loan_year'] = loan_date_year\n",
    "\n",
    "loan_df.to_csv('refined/loan.csv')"
   ]
  },
  {
   "cell_type": "markdown",
   "metadata": {},
   "source": [
    "# Credit Card Processing"
   ]
  },
  {
   "cell_type": "code",
   "execution_count": null,
   "metadata": {},
   "outputs": [],
   "source": [
    "card_df.rename(columns={'type' : 'card_type'}, inplace=True)\n",
    "card_df.rename(columns={'issued' : 'card_issued'}, inplace=True)\n",
    "\n",
    "\n",
    "card_df['card_issued'] = pd.to_datetime(card_df['card_issued'], format='%y%m%d')\n",
    "\n",
    "issued_year = []\n",
    "for i in card_df.index:\n",
    "    issued_year.append(card_df['card_issued'][i].year)\n",
    "card_df['car_issued_year'] = issued_year\n",
    "\n",
    "\n",
    "card_df.to_csv('refined/card.csv')"
   ]
  },
  {
   "cell_type": "markdown",
   "metadata": {},
   "source": [
    "# District (demograph) Processing"
   ]
  },
  {
   "cell_type": "code",
   "execution_count": null,
   "metadata": {},
   "outputs": [],
   "source": [
    "district_df.rename(columns={'code ' : 'district_id'}, inplace=True)\n",
    "district_df[\"unemploymant rate '95 \"] = pd.to_numeric(district_df[\"unemploymant rate '95 \"], errors='coerce')\n",
    "#filling NA values with mean\n",
    "district_df[\"unemploymant rate '95 \"].fillna(district_df[\"unemploymant rate '95 \"].mean(), inplace=True)\n",
    "\n",
    "district_df[\"no. of commited crimes '95 \"] = pd.to_numeric(district_df[\"no. of commited crimes '95 \"], errors='coerce')\n",
    "#filling NA values with mean\n",
    "district_df[\"no. of commited crimes '95 \"].fillna(district_df[\"no. of commited crimes '95 \"].mean(), inplace=True)\n",
    "\n",
    "#growths\n",
    "district_df[\"criminal growth\"] = (district_df[\"no. of commited crimes '96 \"] - district_df[\"no. of commited crimes '95 \"]) / district_df[\"no. of inhabitants\"]\n",
    "district_df['unemploymant growth'] = district_df[\"unemploymant rate '96 \"] - district_df[\"unemploymant rate '95 \"]\n",
    "\n",
    "#simplifying ratios lmao\n",
    "district_df['enterpreuners ratio'] = district_df['no. of enterpreneurs per 1000 inhabitants '] / 1000\n",
    "district_df['ratio of urban inhabitants '] = district_df['ratio of urban inhabitants '] / 100\n",
    "\n",
    "#Region attribute to numerical\n",
    "district_df['region']= label_encoder.fit_transform(district_df['region'])\n",
    "\n",
    "district_df.drop(columns=['name ', 'no. of enterpreneurs per 1000 inhabitants ', 'no. of inhabitants',\n",
    "        \"unemploymant rate '96 \", \"no. of commited crimes '96 \",\n",
    "        \"unemploymant rate '95 \", \"no. of commited crimes '95 \"], inplace=True)\n",
    "\n",
    "corr = district_df.corr()\n",
    "sns.heatmap(corr);\n",
    "district_df.to_csv('refined/district.csv')"
   ]
  },
  {
   "cell_type": "markdown",
   "metadata": {},
   "source": [
    "# Merging"
   ]
  },
  {
   "cell_type": "code",
   "execution_count": null,
   "metadata": {},
   "outputs": [],
   "source": [
    "refined_df = loan_df.merge(disp_df, on='account_id')\n",
    "refined_df = refined_df.merge(client_df, on='client_id')\n",
    "refined_df = refined_df.merge(account_df, on='account_id')\n",
    "refined_df = refined_df.merge(district_df, left_on='client_district_id', right_on='district_id')\n",
    "refined_df = refined_df.merge(trans_df, on='account_id')\n",
    "#refined_df = refined_df.merge(card_df, on='disp_id')\n",
    "get_age = lambda initial_date, cur_date: cur_date.year - initial_date.year - ((cur_date.month, cur_date.day) < (initial_date.month, initial_date.day))\n",
    "get_account_age = lambda initial_date,cur_date : (cur_date.year - initial_date.year) * 12 + cur_date.month - initial_date.month\n",
    "refined_df['age on loan'] = refined_df.apply(lambda row: get_age(row['client_birth_number'], row['loan_date']), axis=1)\n",
    "refined_df['account age at loan'] = refined_df.apply(lambda row: get_account_age(row['account_date'], row['loan_date']), axis=1)\n",
    "refined_df.drop(columns={\n",
    "    'account_id', 'disp_id', 'client_id', 'client_district_id', 'district_id_x', 'district_id_y', 'trans_id', 'client_birth_number', 'client_age', 'account_date',\n",
    "    'loan_date', 'trans_date', 'no. of municipalities with inhabitants < 499 ', 'no. of municipalities with inhabitants 500-1999', 'no. of municipalities with inhabitants 2000-9999 ',\n",
    "    'no. of municipalities with inhabitants >10000 ', 'no. of cities '\n",
    "})\n",
    "refined_df.to_csv('refined/final_data.csv',sep=';')\n",
    "\n",
    "\n",
    "\n"
   ]
  },
  {
   "cell_type": "code",
   "execution_count": null,
   "metadata": {},
   "outputs": [],
   "source": [
    "refined_df"
   ]
  },
  {
   "cell_type": "code",
   "execution_count": null,
   "metadata": {},
   "outputs": [],
   "source": [
    "import data_understanding_utils as du\n",
    "du.info_data(refined_df,\"isnull\",\"\")"
   ]
  }
 ],
 "metadata": {
  "kernelspec": {
   "display_name": "Python 3 (ipykernel)",
   "language": "python",
   "name": "python3"
  },
  "language_info": {
   "codemirror_mode": {
    "name": "ipython",
    "version": 3
   },
   "file_extension": ".py",
   "mimetype": "text/x-python",
   "name": "python",
   "nbconvert_exporter": "python",
   "pygments_lexer": "ipython3",
   "version": "3.10.6"
  },
  "vscode": {
   "interpreter": {
    "hash": "916dbcbb3f70747c44a77c7bcd40155683ae19c65e1c03b4aa3499c5328201f1"
   }
  }
 },
 "nbformat": 4,
 "nbformat_minor": 2
}
