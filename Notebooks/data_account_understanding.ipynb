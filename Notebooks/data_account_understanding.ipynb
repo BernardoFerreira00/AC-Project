{
 "cells": [
  {
   "cell_type": "markdown",
   "metadata": {},
   "source": [
    "## Data account understanding"
   ]
  },
  {
   "cell_type": "code",
   "execution_count": 17,
   "metadata": {},
   "outputs": [
    {
     "data": {
      "text/html": [
       "<div>\n",
       "<style scoped>\n",
       "    .dataframe tbody tr th:only-of-type {\n",
       "        vertical-align: middle;\n",
       "    }\n",
       "\n",
       "    .dataframe tbody tr th {\n",
       "        vertical-align: top;\n",
       "    }\n",
       "\n",
       "    .dataframe thead th {\n",
       "        text-align: right;\n",
       "    }\n",
       "</style>\n",
       "<table border=\"1\" class=\"dataframe\">\n",
       "  <thead>\n",
       "    <tr style=\"text-align: right;\">\n",
       "      <th></th>\n",
       "      <th>account_id</th>\n",
       "      <th>district_id</th>\n",
       "      <th>frequency</th>\n",
       "      <th>date</th>\n",
       "    </tr>\n",
       "  </thead>\n",
       "  <tbody>\n",
       "    <tr>\n",
       "      <th>0</th>\n",
       "      <td>576</td>\n",
       "      <td>55</td>\n",
       "      <td>monthly issuance</td>\n",
       "      <td>930101</td>\n",
       "    </tr>\n",
       "    <tr>\n",
       "      <th>1</th>\n",
       "      <td>3818</td>\n",
       "      <td>74</td>\n",
       "      <td>monthly issuance</td>\n",
       "      <td>930101</td>\n",
       "    </tr>\n",
       "    <tr>\n",
       "      <th>2</th>\n",
       "      <td>704</td>\n",
       "      <td>55</td>\n",
       "      <td>monthly issuance</td>\n",
       "      <td>930101</td>\n",
       "    </tr>\n",
       "    <tr>\n",
       "      <th>3</th>\n",
       "      <td>2378</td>\n",
       "      <td>16</td>\n",
       "      <td>monthly issuance</td>\n",
       "      <td>930101</td>\n",
       "    </tr>\n",
       "    <tr>\n",
       "      <th>4</th>\n",
       "      <td>2632</td>\n",
       "      <td>24</td>\n",
       "      <td>monthly issuance</td>\n",
       "      <td>930102</td>\n",
       "    </tr>\n",
       "    <tr>\n",
       "      <th>...</th>\n",
       "      <td>...</td>\n",
       "      <td>...</td>\n",
       "      <td>...</td>\n",
       "      <td>...</td>\n",
       "    </tr>\n",
       "    <tr>\n",
       "      <th>4495</th>\n",
       "      <td>124</td>\n",
       "      <td>55</td>\n",
       "      <td>monthly issuance</td>\n",
       "      <td>971228</td>\n",
       "    </tr>\n",
       "    <tr>\n",
       "      <th>4496</th>\n",
       "      <td>3958</td>\n",
       "      <td>59</td>\n",
       "      <td>monthly issuance</td>\n",
       "      <td>971228</td>\n",
       "    </tr>\n",
       "    <tr>\n",
       "      <th>4497</th>\n",
       "      <td>777</td>\n",
       "      <td>30</td>\n",
       "      <td>monthly issuance</td>\n",
       "      <td>971228</td>\n",
       "    </tr>\n",
       "    <tr>\n",
       "      <th>4498</th>\n",
       "      <td>1573</td>\n",
       "      <td>63</td>\n",
       "      <td>monthly issuance</td>\n",
       "      <td>971229</td>\n",
       "    </tr>\n",
       "    <tr>\n",
       "      <th>4499</th>\n",
       "      <td>3276</td>\n",
       "      <td>1</td>\n",
       "      <td>monthly issuance</td>\n",
       "      <td>971229</td>\n",
       "    </tr>\n",
       "  </tbody>\n",
       "</table>\n",
       "<p>4500 rows × 4 columns</p>\n",
       "</div>"
      ],
      "text/plain": [
       "      account_id  district_id         frequency    date\n",
       "0            576           55  monthly issuance  930101\n",
       "1           3818           74  monthly issuance  930101\n",
       "2            704           55  monthly issuance  930101\n",
       "3           2378           16  monthly issuance  930101\n",
       "4           2632           24  monthly issuance  930102\n",
       "...          ...          ...               ...     ...\n",
       "4495         124           55  monthly issuance  971228\n",
       "4496        3958           59  monthly issuance  971228\n",
       "4497         777           30  monthly issuance  971228\n",
       "4498        1573           63  monthly issuance  971229\n",
       "4499        3276            1  monthly issuance  971229\n",
       "\n",
       "[4500 rows x 4 columns]"
      ]
     },
     "execution_count": 17,
     "metadata": {},
     "output_type": "execute_result"
    }
   ],
   "source": [
    "import pandas as pd\n",
    "import matplotlib.pyplot as plt\n",
    "import plotly.express as px\n",
    "import seaborn as sns\n",
    "import scipy\n",
    "import numpy as np\n",
    "import data_understanding_utils as du\n",
    "from IPython.core.interactiveshell import InteractiveShell\n",
    "InteractiveShell.ast_node_interactivity = \"all\"\n",
    "\n",
    "%matplotlib inline\n",
    "# not cut columns\n",
    "pd.set_option('display.max_columns',None)\n",
    "\n",
    "path= \"./data/\"\n",
    "account_data = pd.read_csv(path+\"account.csv\", sep=';')\n",
    "\n",
    "account_data"
   ]
  },
  {
   "cell_type": "markdown",
   "metadata": {},
   "source": [
    "### 2.2 Describe data\n",
    "\n"
   ]
  },
  {
   "cell_type": "code",
   "execution_count": 18,
   "metadata": {},
   "outputs": [
    {
     "name": "stdout",
     "output_type": "stream",
     "text": [
      "(4500, 4)\n",
      "\n",
      "   account_id  district_id         frequency    date\n",
      "0         576           55  monthly issuance  930101\n",
      "1        3818           74  monthly issuance  930101\n",
      "2         704           55  monthly issuance  930101\n",
      "3        2378           16  monthly issuance  930101\n",
      "4        2632           24  monthly issuance  930102\n",
      "\n"
     ]
    }
   ],
   "source": [
    "du.info_data(account_data,\"shape\",\"\")\n",
    "du.info_data(account_data,\"head\",\"\")"
   ]
  },
  {
   "cell_type": "markdown",
   "metadata": {},
   "source": [
    "#### Info about the dataset"
   ]
  },
  {
   "cell_type": "code",
   "execution_count": 19,
   "metadata": {},
   "outputs": [
    {
     "name": "stdout",
     "output_type": "stream",
     "text": [
      "<class 'pandas.core.frame.DataFrame'>\n",
      "RangeIndex: 4500 entries, 0 to 4499\n",
      "Data columns (total 4 columns):\n",
      " #   Column       Non-Null Count  Dtype \n",
      "---  ------       --------------  ----- \n",
      " 0   account_id   4500 non-null   int64 \n",
      " 1   district_id  4500 non-null   int64 \n",
      " 2   frequency    4500 non-null   object\n",
      " 3   date         4500 non-null   int64 \n",
      "dtypes: int64(3), object(1)\n",
      "memory usage: 140.8+ KB\n",
      "None\n",
      "\n"
     ]
    }
   ],
   "source": [
    "du.info_data(account_data,\"info\",\"\")"
   ]
  },
  {
   "cell_type": "code",
   "execution_count": 20,
   "metadata": {},
   "outputs": [
    {
     "name": "stdout",
     "output_type": "stream",
     "text": [
      "Number of null values: \n",
      " account_id     0\n",
      "district_id    0\n",
      "frequency      0\n",
      "date           0\n",
      "dtype: int64\n",
      "\n"
     ]
    }
   ],
   "source": [
    "du.info_data(account_data,\"isnull\",\"\")"
   ]
  },
  {
   "cell_type": "code",
   "execution_count": 21,
   "metadata": {},
   "outputs": [
    {
     "name": "stdout",
     "output_type": "stream",
     "text": [
      "No duplicates found in the data\n",
      "Duplicated rows on Disp: \n",
      "Empty DataFrame\n",
      "Columns: [account_id, district_id, frequency, date]\n",
      "Index: []\n",
      "Number of repeated values in Disp : Series([], dtype: int64)\n"
     ]
    }
   ],
   "source": [
    "res_duplicate = du.check_duplicates(account_data,\"Disp\",[\"account_id\"])"
   ]
  },
  {
   "cell_type": "markdown",
   "metadata": {},
   "source": [
    "No null values in the dataset or duplicate rows with the same account_id."
   ]
  },
  {
   "cell_type": "markdown",
   "metadata": {},
   "source": [
    "In the data preparation step, we need to create new features from the existing ones. For example to have the account age, maybe change how frequency atribute is represented and other usefull informations."
   ]
  },
  {
   "cell_type": "markdown",
   "metadata": {},
   "source": [
    "#### Statistical Summary"
   ]
  },
  {
   "cell_type": "code",
   "execution_count": 22,
   "metadata": {},
   "outputs": [
    {
     "name": "stdout",
     "output_type": "stream",
     "text": [
      "         account_id  district_id           date\n",
      "count   4500.000000  4500.000000    4500.000000\n",
      "mean    2786.067556    37.310444  951654.608667\n",
      "std     2313.811984    25.177217   14842.188377\n",
      "min        1.000000     1.000000  930101.000000\n",
      "25%     1182.750000    13.000000  931227.000000\n",
      "50%     2368.000000    38.000000  960102.000000\n",
      "75%     3552.250000    60.000000  961101.000000\n",
      "max    11382.000000    77.000000  971229.000000\n",
      "\n"
     ]
    }
   ],
   "source": [
    "du.info_data(account_data,\"describe\",\"\")\n"
   ]
  },
  {
   "cell_type": "markdown",
   "metadata": {},
   "source": [
    "### Data Summarization"
   ]
  },
  {
   "cell_type": "markdown",
   "metadata": {},
   "source": [
    "We will merge the data from account.csv with loan_dev.csv so we can have a better understanding of the data as a whole and for our business goals."
   ]
  },
  {
   "cell_type": "code",
   "execution_count": 24,
   "metadata": {},
   "outputs": [
    {
     "data": {
      "text/html": [
       "<div>\n",
       "<style scoped>\n",
       "    .dataframe tbody tr th:only-of-type {\n",
       "        vertical-align: middle;\n",
       "    }\n",
       "\n",
       "    .dataframe tbody tr th {\n",
       "        vertical-align: top;\n",
       "    }\n",
       "\n",
       "    .dataframe thead th {\n",
       "        text-align: right;\n",
       "    }\n",
       "</style>\n",
       "<table border=\"1\" class=\"dataframe\">\n",
       "  <thead>\n",
       "    <tr style=\"text-align: right;\">\n",
       "      <th></th>\n",
       "      <th>loan_id</th>\n",
       "      <th>account_id</th>\n",
       "      <th>date_x</th>\n",
       "      <th>amount</th>\n",
       "      <th>duration</th>\n",
       "      <th>payments</th>\n",
       "      <th>status</th>\n",
       "      <th>district_id</th>\n",
       "      <th>frequency</th>\n",
       "      <th>date_y</th>\n",
       "    </tr>\n",
       "  </thead>\n",
       "  <tbody>\n",
       "    <tr>\n",
       "      <th>0</th>\n",
       "      <td>5314</td>\n",
       "      <td>1787</td>\n",
       "      <td>930705</td>\n",
       "      <td>96396</td>\n",
       "      <td>12</td>\n",
       "      <td>8033</td>\n",
       "      <td>-1</td>\n",
       "      <td>30</td>\n",
       "      <td>weekly issuance</td>\n",
       "      <td>930322</td>\n",
       "    </tr>\n",
       "    <tr>\n",
       "      <th>1</th>\n",
       "      <td>5316</td>\n",
       "      <td>1801</td>\n",
       "      <td>930711</td>\n",
       "      <td>165960</td>\n",
       "      <td>36</td>\n",
       "      <td>4610</td>\n",
       "      <td>1</td>\n",
       "      <td>46</td>\n",
       "      <td>monthly issuance</td>\n",
       "      <td>930213</td>\n",
       "    </tr>\n",
       "    <tr>\n",
       "      <th>2</th>\n",
       "      <td>6863</td>\n",
       "      <td>9188</td>\n",
       "      <td>930728</td>\n",
       "      <td>127080</td>\n",
       "      <td>60</td>\n",
       "      <td>2118</td>\n",
       "      <td>1</td>\n",
       "      <td>45</td>\n",
       "      <td>monthly issuance</td>\n",
       "      <td>930208</td>\n",
       "    </tr>\n",
       "    <tr>\n",
       "      <th>3</th>\n",
       "      <td>5325</td>\n",
       "      <td>1843</td>\n",
       "      <td>930803</td>\n",
       "      <td>105804</td>\n",
       "      <td>36</td>\n",
       "      <td>2939</td>\n",
       "      <td>1</td>\n",
       "      <td>12</td>\n",
       "      <td>monthly issuance</td>\n",
       "      <td>930130</td>\n",
       "    </tr>\n",
       "    <tr>\n",
       "      <th>4</th>\n",
       "      <td>7240</td>\n",
       "      <td>11013</td>\n",
       "      <td>930906</td>\n",
       "      <td>274740</td>\n",
       "      <td>60</td>\n",
       "      <td>4579</td>\n",
       "      <td>1</td>\n",
       "      <td>1</td>\n",
       "      <td>weekly issuance</td>\n",
       "      <td>930214</td>\n",
       "    </tr>\n",
       "    <tr>\n",
       "      <th>...</th>\n",
       "      <td>...</td>\n",
       "      <td>...</td>\n",
       "      <td>...</td>\n",
       "      <td>...</td>\n",
       "      <td>...</td>\n",
       "      <td>...</td>\n",
       "      <td>...</td>\n",
       "      <td>...</td>\n",
       "      <td>...</td>\n",
       "      <td>...</td>\n",
       "    </tr>\n",
       "    <tr>\n",
       "      <th>323</th>\n",
       "      <td>6818</td>\n",
       "      <td>9030</td>\n",
       "      <td>961212</td>\n",
       "      <td>155616</td>\n",
       "      <td>48</td>\n",
       "      <td>3242</td>\n",
       "      <td>1</td>\n",
       "      <td>72</td>\n",
       "      <td>monthly issuance</td>\n",
       "      <td>950121</td>\n",
       "    </tr>\n",
       "    <tr>\n",
       "      <th>324</th>\n",
       "      <td>5625</td>\n",
       "      <td>3189</td>\n",
       "      <td>961215</td>\n",
       "      <td>222180</td>\n",
       "      <td>60</td>\n",
       "      <td>3703</td>\n",
       "      <td>-1</td>\n",
       "      <td>29</td>\n",
       "      <td>monthly issuance</td>\n",
       "      <td>951129</td>\n",
       "    </tr>\n",
       "    <tr>\n",
       "      <th>325</th>\n",
       "      <td>6805</td>\n",
       "      <td>8972</td>\n",
       "      <td>961221</td>\n",
       "      <td>45024</td>\n",
       "      <td>48</td>\n",
       "      <td>938</td>\n",
       "      <td>1</td>\n",
       "      <td>70</td>\n",
       "      <td>monthly issuance</td>\n",
       "      <td>960521</td>\n",
       "    </tr>\n",
       "    <tr>\n",
       "      <th>326</th>\n",
       "      <td>7233</td>\n",
       "      <td>10963</td>\n",
       "      <td>961225</td>\n",
       "      <td>115812</td>\n",
       "      <td>36</td>\n",
       "      <td>3217</td>\n",
       "      <td>1</td>\n",
       "      <td>16</td>\n",
       "      <td>monthly issuance</td>\n",
       "      <td>950520</td>\n",
       "    </tr>\n",
       "    <tr>\n",
       "      <th>327</th>\n",
       "      <td>7308</td>\n",
       "      <td>11362</td>\n",
       "      <td>961227</td>\n",
       "      <td>129408</td>\n",
       "      <td>24</td>\n",
       "      <td>5392</td>\n",
       "      <td>1</td>\n",
       "      <td>67</td>\n",
       "      <td>monthly issuance</td>\n",
       "      <td>951014</td>\n",
       "    </tr>\n",
       "  </tbody>\n",
       "</table>\n",
       "<p>328 rows × 10 columns</p>\n",
       "</div>"
      ],
      "text/plain": [
       "     loan_id  account_id  date_x  amount  duration  payments  status  \\\n",
       "0       5314        1787  930705   96396        12      8033      -1   \n",
       "1       5316        1801  930711  165960        36      4610       1   \n",
       "2       6863        9188  930728  127080        60      2118       1   \n",
       "3       5325        1843  930803  105804        36      2939       1   \n",
       "4       7240       11013  930906  274740        60      4579       1   \n",
       "..       ...         ...     ...     ...       ...       ...     ...   \n",
       "323     6818        9030  961212  155616        48      3242       1   \n",
       "324     5625        3189  961215  222180        60      3703      -1   \n",
       "325     6805        8972  961221   45024        48       938       1   \n",
       "326     7233       10963  961225  115812        36      3217       1   \n",
       "327     7308       11362  961227  129408        24      5392       1   \n",
       "\n",
       "     district_id         frequency  date_y  \n",
       "0             30   weekly issuance  930322  \n",
       "1             46  monthly issuance  930213  \n",
       "2             45  monthly issuance  930208  \n",
       "3             12  monthly issuance  930130  \n",
       "4              1   weekly issuance  930214  \n",
       "..           ...               ...     ...  \n",
       "323           72  monthly issuance  950121  \n",
       "324           29  monthly issuance  951129  \n",
       "325           70  monthly issuance  960521  \n",
       "326           16  monthly issuance  950520  \n",
       "327           67  monthly issuance  951014  \n",
       "\n",
       "[328 rows x 10 columns]"
      ]
     },
     "execution_count": 24,
     "metadata": {},
     "output_type": "execute_result"
    }
   ],
   "source": [
    "loans = pd.read_csv (path+\"loan_dev.csv\", sep=';')\n",
    "account_loans = pd.merge(loans, account_data ,on='account_id')\n",
    "account_loans"
   ]
  },
  {
   "cell_type": "markdown",
   "metadata": {},
   "source": [
    "In the data preparation we also need to change the names of the columns to make it easier to understand, for example, we can change the column name \"frequency\" to \"frequency_of_payments\" and \"date_x\" to \"date_loan\", or even create new variables to get a more understandable date loan or date account."
   ]
  },
  {
   "cell_type": "code",
   "execution_count": 25,
   "metadata": {},
   "outputs": [
    {
     "name": "stderr",
     "output_type": "stream",
     "text": [
      "/home/wolfcuanhamarws/Desktop/Faculdade/2023/AC/Project/AC-Project/Notebooks/data_understanding_utils.py:60: FutureWarning: The default value of numeric_only in DataFrame.corr is deprecated. In a future version, it will default to False. Select only valid columns or specify the value of numeric_only to silence this warning.\n",
      "  sns.heatmap(dataset.corr(), annot=True, cbar=True, cmap='coolwarm')\n"
     ]
    },
    {
     "data": {
      "image/png": "[encoded data removed]",
      "text/plain": [
       "<Figure size 1000x1000 with 2 Axes>"
      ]
     },
     "metadata": {},
     "output_type": "display_data"
    }
   ],
   "source": [
    "du.data_summarization(account_loans,\"correlation\")"
   ]
  },
  {
   "cell_type": "markdown",
   "metadata": {},
   "source": [
    "After chante variables , names etc: check correlation between variables date_x and date_y, and others we thing are important."
   ]
  },
  {
   "cell_type": "markdown",
   "metadata": {},
   "source": [
    "Compare the variables wit plots and other information"
   ]
  }
 ],
 "metadata": {
  "kernelspec": {
   "display_name": "Python 3.10.6 64-bit",
   "language": "python",
   "name": "python3"
  },
  "language_info": {
   "codemirror_mode": {
    "name": "ipython",
    "version": 3
   },
   "file_extension": ".py",
   "mimetype": "text/x-python",
   "name": "python",
   "nbconvert_exporter": "python",
   "pygments_lexer": "ipython3",
   "version": "3.10.6"
  },
  "orig_nbformat": 4,
  "vscode": {
   "interpreter": {
    "hash": "916dbcbb3f70747c44a77c7bcd40155683ae19c65e1c03b4aa3499c5328201f1"
   }
  }
 },
 "nbformat": 4,
 "nbformat_minor": 2
}
